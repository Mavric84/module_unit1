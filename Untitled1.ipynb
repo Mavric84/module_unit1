{
 "cells": [
  {
   "cell_type": "code",
   "execution_count": 1,
   "metadata": {},
   "outputs": [
    {
     "name": "stdout",
     "output_type": "stream",
     "text": [
      "Напишите что-нибудь хорошее: привет\n"
     ]
    },
    {
     "data": {
      "text/plain": [
       "'привет'"
      ]
     },
     "execution_count": 1,
     "metadata": {},
     "output_type": "execute_result"
    }
   ],
   "source": [
    "input ('Напишите что-нибудь хорошее: ')"
   ]
  },
  {
   "cell_type": "code",
   "execution_count": 3,
   "metadata": {},
   "outputs": [
    {
     "name": "stdout",
     "output_type": "stream",
     "text": [
      "Напишите что-нибудь хорошее: фц\n"
     ]
    },
    {
     "data": {
      "text/plain": [
       "'фц'"
      ]
     },
     "execution_count": 3,
     "metadata": {},
     "output_type": "execute_result"
    }
   ],
   "source": [
    "input ('Напишите что-нибудь хорошее: ')"
   ]
  },
  {
   "cell_type": "code",
   "execution_count": 5,
   "metadata": {},
   "outputs": [
    {
     "name": "stdout",
     "output_type": "stream",
     "text": [
      "как вас зовут?\n",
      "цфв\n"
     ]
    }
   ],
   "source": [
    "name = input('как вас зовут?\\n')"
   ]
  },
  {
   "cell_type": "code",
   "execution_count": 8,
   "metadata": {},
   "outputs": [
    {
     "name": "stdout",
     "output_type": "stream",
     "text": [
      "как вас зовут?\n",
      "фв\n",
      "Сегодня Вас зовут  фв\n"
     ]
    }
   ],
   "source": [
    "name = input('как вас зовут?\\n')\n",
    "print('Сегодня Вас зовут ', name)"
   ]
  },
  {
   "cell_type": "code",
   "execution_count": 9,
   "metadata": {},
   "outputs": [
    {
     "name": "stdout",
     "output_type": "stream",
     "text": [
      "как вас зовут?\n",
      "фцвфа\n",
      "Сегодня Вас зовут фцвфа\n"
     ]
    }
   ],
   "source": [
    "name = input('как вас зовут?\\n')\n",
    "print('Сегодня Вас зовут', name)"
   ]
  },
  {
   "cell_type": "code",
   "execution_count": 10,
   "metadata": {},
   "outputs": [
    {
     "name": "stdout",
     "output_type": "stream",
     "text": [
      "как вас зовут?\n",
      "Алексей\n",
      "Сегодня Вас зовут  Алексей\n"
     ]
    }
   ],
   "source": [
    "name = input('как вас зовут?\\n')\n",
    "print('Сегодня Вас зовут ',name)"
   ]
  },
  {
   "cell_type": "code",
   "execution_count": 11,
   "metadata": {},
   "outputs": [
    {
     "name": "stdout",
     "output_type": "stream",
     "text": [
      "как вас зовут?\n",
      "Алексей\n",
      "Сегодня Вас зовут Алексей\n"
     ]
    }
   ],
   "source": [
    "name = input('как вас зовут?\\n')\n",
    "print('Сегодня Вас зовут',name)"
   ]
  },
  {
   "cell_type": "code",
   "execution_count": 12,
   "metadata": {},
   "outputs": [
    {
     "name": "stdout",
     "output_type": "stream",
     "text": [
      "как вас зовут?\n",
      "adasd\n",
      "\"Сегодня Вас зовут adasd \"\n"
     ]
    }
   ],
   "source": [
    "name = input('как вас зовут?\\n')\n",
    "print('\"Сегодня Вас зовут',name,'\"')"
   ]
  },
  {
   "cell_type": "code",
   "execution_count": 13,
   "metadata": {},
   "outputs": [
    {
     "name": "stdout",
     "output_type": "stream",
     "text": [
      "как вас зовут?Fktrctq\n",
      "Сегодня Вас зовут Fktrctq\n"
     ]
    }
   ],
   "source": [
    "name = input('как вас зовут?')\n",
    "print('Сегодня Вас зовут',name)"
   ]
  },
  {
   "cell_type": "code",
   "execution_count": 14,
   "metadata": {},
   "outputs": [
    {
     "name": "stdout",
     "output_type": "stream",
     "text": [
      "как вас зовут?jhb\n",
      "Сегодня Вас зовут jhb \"\n"
     ]
    }
   ],
   "source": [
    "name = input('как вас зовут?')\n",
    "print('Сегодня Вас зовут',name,'\"')"
   ]
  },
  {
   "cell_type": "code",
   "execution_count": 15,
   "metadata": {},
   "outputs": [
    {
     "ename": "SyntaxError",
     "evalue": "invalid syntax (<ipython-input-15-109fd8177dd3>, line 2)",
     "output_type": "error",
     "traceback": [
      "\u001b[1;36m  File \u001b[1;32m\"<ipython-input-15-109fd8177dd3>\"\u001b[1;36m, line \u001b[1;32m2\u001b[0m\n\u001b[1;33m    print('Сегодня Вас зовут',name'\"')\u001b[0m\n\u001b[1;37m                                    ^\u001b[0m\n\u001b[1;31mSyntaxError\u001b[0m\u001b[1;31m:\u001b[0m invalid syntax\n"
     ]
    }
   ],
   "source": [
    "name = input('как вас зовут?')\n",
    "print('Сегодня Вас зовут',name'\"')"
   ]
  },
  {
   "cell_type": "code",
   "execution_count": 16,
   "metadata": {},
   "outputs": [
    {
     "name": "stdout",
     "output_type": "stream",
     "text": [
      "как вас зовут?hghv\n",
      "Сегодня Вас зовут &name \"\n"
     ]
    }
   ],
   "source": [
    "name = input('как вас зовут?')\n",
    "print('Сегодня Вас зовут &name \"')"
   ]
  },
  {
   "cell_type": "code",
   "execution_count": 21,
   "metadata": {},
   "outputs": [
    {
     "name": "stdout",
     "output_type": "stream",
     "text": [
      "как вас зовут?фцв\n",
      "\"Сегодня Вас зовут Алексей \"\n"
     ]
    }
   ],
   "source": [
    "name = input('как вас зовут?')\n",
    "name = 'Алексей'\n",
    "print('\"Сегодня Вас зовут '+ name+' \"')"
   ]
  },
  {
   "cell_type": "code",
   "execution_count": 28,
   "metadata": {},
   "outputs": [
    {
     "name": "stdout",
     "output_type": "stream",
     "text": [
      "HelloWorld!\n"
     ]
    }
   ],
   "source": [
    "print (\"Hello\"+\"World!\")"
   ]
  },
  {
   "cell_type": "code",
   "execution_count": 7,
   "metadata": {},
   "outputs": [
    {
     "name": "stdout",
     "output_type": "stream",
     "text": [
      "как вас зовут?\n",
      "фывфв\n",
      "Сегодня Вас зовут фывфв\n"
     ]
    }
   ],
   "source": [
    "name = input('как вас зовут?\\n')\n",
    "print('Сегодня Вас зовут', name)"
   ]
  },
  {
   "cell_type": "code",
   "execution_count": 16,
   "metadata": {},
   "outputs": [
    {
     "data": {
      "text/plain": [
       "13"
      ]
     },
     "execution_count": 16,
     "metadata": {},
     "output_type": "execute_result"
    }
   ],
   "source": [
    "word='Очаровательно'\n",
    "len(word)"
   ]
  },
  {
   "cell_type": "code",
   "execution_count": 18,
   "metadata": {},
   "outputs": [
    {
     "name": "stdout",
     "output_type": "stream",
     "text": [
      "13\n"
     ]
    }
   ],
   "source": [
    "word='Очаровательно'\n",
    "print(len(word))"
   ]
  },
  {
   "cell_type": "code",
   "execution_count": 20,
   "metadata": {},
   "outputs": [
    {
     "name": "stdout",
     "output_type": "stream",
     "text": [
      "2\n"
     ]
    }
   ],
   "source": [
    "a = 117\n",
    "b = 23\n",
    "print(a%b)"
   ]
  },
  {
   "cell_type": "code",
   "execution_count": 27,
   "metadata": {},
   "outputs": [
    {
     "name": "stdout",
     "output_type": "stream",
     "text": [
      "3.7797631496846193\n"
     ]
    }
   ],
   "source": [
    "a=12\n",
    "b=17\n",
    "c=25\n",
    "print((a+b+c)**(1/3))"
   ]
  },
  {
   "cell_type": "code",
   "execution_count": 31,
   "metadata": {},
   "outputs": [
    {
     "name": "stdout",
     "output_type": "stream",
     "text": [
      "113628013506.996\n"
     ]
    }
   ],
   "source": [
    "x=100500\n",
    "print(6.996+45*((x/2)**2)+2*x)"
   ]
  },
  {
   "cell_type": "code",
   "execution_count": 33,
   "metadata": {},
   "outputs": [
    {
     "name": "stdout",
     "output_type": "stream",
     "text": [
      "24.691358024691358\n"
     ]
    }
   ],
   "source": [
    "weight=80\n",
    "height = 1.8\n",
    "print(weight/1.8**2)"
   ]
  },
  {
   "cell_type": "code",
   "execution_count": 35,
   "metadata": {},
   "outputs": [
    {
     "name": "stdout",
     "output_type": "stream",
     "text": [
      "Вы ввели число, которое при умножении на 3 даёт 69\n"
     ]
    }
   ],
   "source": [
    "a=23\n",
    "print('Вы ввели число, которое при умножении на 3 даёт',a*3)"
   ]
  },
  {
   "cell_type": "code",
   "execution_count": 37,
   "metadata": {},
   "outputs": [
    {
     "ename": "TypeError",
     "evalue": "can't multiply sequence by non-int of type 'str'",
     "output_type": "error",
     "traceback": [
      "\u001b[1;31m---------------------------------------------------------------------------\u001b[0m",
      "\u001b[1;31mTypeError\u001b[0m                                 Traceback (most recent call last)",
      "\u001b[1;32m<ipython-input-37-2e9f1b1bc448>\u001b[0m in \u001b[0;36m<module>\u001b[1;34m\u001b[0m\n\u001b[0;32m      2\u001b[0m \u001b[0mstring_2\u001b[0m \u001b[1;33m=\u001b[0m \u001b[1;34m'Python <3'\u001b[0m\u001b[1;33m\u001b[0m\u001b[1;33m\u001b[0m\u001b[0m\n\u001b[0;32m      3\u001b[0m \u001b[0mstring_3\u001b[0m \u001b[1;33m=\u001b[0m \u001b[1;34m'qwerty'\u001b[0m\u001b[1;33m\u001b[0m\u001b[1;33m\u001b[0m\u001b[0m\n\u001b[1;32m----> 4\u001b[1;33m \u001b[0mprint\u001b[0m\u001b[1;33m(\u001b[0m\u001b[1;33m(\u001b[0m\u001b[0mstring_1\u001b[0m\u001b[1;33m*\u001b[0m\u001b[0mstring_2\u001b[0m\u001b[1;33m*\u001b[0m\u001b[0mstring_1\u001b[0m\u001b[1;33m)\u001b[0m\u001b[1;33m/\u001b[0m\u001b[1;36m3\u001b[0m\u001b[1;33m)\u001b[0m\u001b[1;33m\u001b[0m\u001b[1;33m\u001b[0m\u001b[0m\n\u001b[0m",
      "\u001b[1;31mTypeError\u001b[0m: can't multiply sequence by non-int of type 'str'"
     ]
    }
   ],
   "source": [
    "string_1 = 'Hello, world!'\n",
    "string_2 = 'Python <3'\n",
    "string_3 = 'qwerty'\n",
    "print((string_1*string_2*string_1)/3)"
   ]
  },
  {
   "cell_type": "code",
   "execution_count": 42,
   "metadata": {},
   "outputs": [
    {
     "ename": "ValueError",
     "evalue": "invalid literal for int() with base 10: 'Hello, world!'",
     "output_type": "error",
     "traceback": [
      "\u001b[1;31m---------------------------------------------------------------------------\u001b[0m",
      "\u001b[1;31mValueError\u001b[0m                                Traceback (most recent call last)",
      "\u001b[1;32m<ipython-input-42-33592c39ae32>\u001b[0m in \u001b[0;36m<module>\u001b[1;34m\u001b[0m\n\u001b[0;32m      1\u001b[0m \u001b[0mstring_1\u001b[0m \u001b[1;33m=\u001b[0m \u001b[1;34m'Hello, world!'\u001b[0m\u001b[1;33m\u001b[0m\u001b[1;33m\u001b[0m\u001b[0m\n\u001b[1;32m----> 2\u001b[1;33m \u001b[0mf\u001b[0m \u001b[1;33m=\u001b[0m \u001b[0mint\u001b[0m\u001b[1;33m(\u001b[0m\u001b[0mstring_1\u001b[0m\u001b[1;33m)\u001b[0m\u001b[1;33m\u001b[0m\u001b[1;33m\u001b[0m\u001b[0m\n\u001b[0m\u001b[0;32m      3\u001b[0m \u001b[0mprint\u001b[0m\u001b[1;33m(\u001b[0m\u001b[0mf\u001b[0m\u001b[1;33m)\u001b[0m\u001b[1;33m\u001b[0m\u001b[1;33m\u001b[0m\u001b[0m\n",
      "\u001b[1;31mValueError\u001b[0m: invalid literal for int() with base 10: 'Hello, world!'"
     ]
    }
   ],
   "source": [
    "string_1 = 'Hello, world!'\n",
    "f = int(string_1)\n",
    "print(f)"
   ]
  },
  {
   "cell_type": "code",
   "execution_count": 48,
   "metadata": {},
   "outputs": [
    {
     "name": "stdout",
     "output_type": "stream",
     "text": [
      "8.88748820522211\n"
     ]
    }
   ],
   "source": [
    "string_1 = 'Hello, world!'\n",
    "string_2 = 'Python <3'\n",
    "string_3 = 'qwerty'\n",
    "a=len(string_1)\n",
    "b=len(string_2)\n",
    "c=len(string_3)\n",
    "print((a*b*c)**(1/3))"
   ]
  },
  {
   "cell_type": "code",
   "execution_count": 50,
   "metadata": {},
   "outputs": [
    {
     "name": "stdout",
     "output_type": "stream",
     "text": [
      "Привет! 7 16807\n"
     ]
    }
   ],
   "source": [
    "string = 'Привет!'\n",
    "power = 5\n",
    "a=len(string)\n",
    "print(string, a, a**power)"
   ]
  },
  {
   "cell_type": "code",
   "execution_count": 53,
   "metadata": {},
   "outputs": [
    {
     "name": "stdout",
     "output_type": "stream",
     "text": [
      "Ого! Вы ввели редкое слово!\n"
     ]
    }
   ],
   "source": [
    "word = 'ОченьДлинноеСловоф'\n",
    "\n",
    "if 'ф' in word:\n",
    "    print('Ого! Вы ввели редкое слово!')\n",
    "else:\n",
    "    print('Эх, это не очень редкое слово...')"
   ]
  },
  {
   "cell_type": "code",
   "execution_count": 55,
   "metadata": {},
   "outputs": [
    {
     "ename": "TypeError",
     "evalue": "argument of type 'float' is not iterable",
     "output_type": "error",
     "traceback": [
      "\u001b[1;31m---------------------------------------------------------------------------\u001b[0m",
      "\u001b[1;31mTypeError\u001b[0m                                 Traceback (most recent call last)",
      "\u001b[1;32m<ipython-input-55-2b621fd923a3>\u001b[0m in \u001b[0;36m<module>\u001b[1;34m\u001b[0m\n\u001b[0;32m      1\u001b[0m \u001b[0mnumber\u001b[0m \u001b[1;33m=\u001b[0m \u001b[1;36m169\u001b[0m\u001b[1;33m\u001b[0m\u001b[1;33m\u001b[0m\u001b[0m\n\u001b[0;32m      2\u001b[0m \u001b[0ma\u001b[0m\u001b[1;33m=\u001b[0m\u001b[0mnumber\u001b[0m\u001b[1;33m**\u001b[0m\u001b[1;33m(\u001b[0m\u001b[1;36m1\u001b[0m\u001b[1;33m/\u001b[0m\u001b[1;36m2\u001b[0m\u001b[1;33m)\u001b[0m\u001b[1;33m\u001b[0m\u001b[1;33m\u001b[0m\u001b[0m\n\u001b[1;32m----> 3\u001b[1;33m \u001b[1;32mif\u001b[0m \u001b[1;34m'.'\u001b[0m \u001b[1;32min\u001b[0m \u001b[0ma\u001b[0m\u001b[1;33m:\u001b[0m\u001b[1;33m\u001b[0m\u001b[1;33m\u001b[0m\u001b[0m\n\u001b[0m\u001b[0;32m      4\u001b[0m     \u001b[0mprint\u001b[0m\u001b[1;33m(\u001b[0m\u001b[0ma\u001b[0m\u001b[1;33m)\u001b[0m\u001b[1;33m\u001b[0m\u001b[1;33m\u001b[0m\u001b[0m\n\u001b[0;32m      5\u001b[0m \u001b[1;32melse\u001b[0m\u001b[1;33m:\u001b[0m\u001b[1;33m\u001b[0m\u001b[1;33m\u001b[0m\u001b[0m\n",
      "\u001b[1;31mTypeError\u001b[0m: argument of type 'float' is not iterable"
     ]
    }
   ],
   "source": [
    "number = 169\n",
    "a=number**(1/2)\n",
    "if '.' in a:\n",
    "    print(a)\n",
    "else:\n",
    "    print('Квадратный корень из', number, '- не целое число')"
   ]
  },
  {
   "cell_type": "code",
   "execution_count": 63,
   "metadata": {},
   "outputs": [
    {
     "name": "stdout",
     "output_type": "stream",
     "text": [
      "Квадратный корень из 168 - не целое число\n"
     ]
    }
   ],
   "source": [
    "number = 168\n",
    "a=number**(1/2)\n",
    "if type(a)!=float:\n",
    "    print(a)\n",
    "else:\n",
    "    print('Квадратный корень из', number, '- не целое число')"
   ]
  },
  {
   "cell_type": "code",
   "execution_count": 67,
   "metadata": {},
   "outputs": [
    {
     "name": "stdout",
     "output_type": "stream",
     "text": [
      "ц\n"
     ]
    },
    {
     "ename": "ValueError",
     "evalue": "invalid literal for int() with base 10: 'ц'",
     "output_type": "error",
     "traceback": [
      "\u001b[1;31m---------------------------------------------------------------------------\u001b[0m",
      "\u001b[1;31mValueError\u001b[0m                                Traceback (most recent call last)",
      "\u001b[1;32m<ipython-input-67-370dba2cbf1d>\u001b[0m in \u001b[0;36m<module>\u001b[1;34m\u001b[0m\n\u001b[1;32m----> 1\u001b[1;33m \u001b[0mnumber\u001b[0m \u001b[1;33m=\u001b[0m \u001b[0mint\u001b[0m\u001b[1;33m(\u001b[0m\u001b[0minput\u001b[0m\u001b[1;33m(\u001b[0m\u001b[1;33m)\u001b[0m\u001b[1;33m)\u001b[0m\u001b[1;33m\u001b[0m\u001b[1;33m\u001b[0m\u001b[0m\n\u001b[0m\u001b[0;32m      2\u001b[0m \u001b[1;32mif\u001b[0m \u001b[0mnumber\u001b[0m \u001b[1;33m==\u001b[0m \u001b[1;36m1\u001b[0m\u001b[1;33m:\u001b[0m\u001b[1;33m\u001b[0m\u001b[1;33m\u001b[0m\u001b[0m\n\u001b[0;32m      3\u001b[0m     \u001b[0mprint\u001b[0m\u001b[1;33m(\u001b[0m\u001b[1;34m'понедельник'\u001b[0m\u001b[1;33m)\u001b[0m\u001b[1;33m\u001b[0m\u001b[1;33m\u001b[0m\u001b[0m\n\u001b[0;32m      4\u001b[0m \u001b[1;32melif\u001b[0m \u001b[0mnumber\u001b[0m \u001b[1;33m==\u001b[0m\u001b[1;36m2\u001b[0m\u001b[1;33m:\u001b[0m\u001b[1;33m\u001b[0m\u001b[1;33m\u001b[0m\u001b[0m\n\u001b[0;32m      5\u001b[0m     \u001b[0mprint\u001b[0m\u001b[1;33m(\u001b[0m\u001b[1;34m'вторник'\u001b[0m\u001b[1;33m)\u001b[0m\u001b[1;33m\u001b[0m\u001b[1;33m\u001b[0m\u001b[0m\n",
      "\u001b[1;31mValueError\u001b[0m: invalid literal for int() with base 10: 'ц'"
     ]
    }
   ],
   "source": [
    "number = int(input())\n",
    "if number == 1:\n",
    "    print('понедельник')\n",
    "elif number ==2:\n",
    "    print('вторник')\n",
    "elif number ==3:\n",
    "    print('среда')\n",
    "elif number ==4:\n",
    "    print('четверг')\n",
    "elif number ==5:\n",
    "    print('пятница')\n",
    "elif number ==6:\n",
    "    print('суббота')\n",
    "elif number ==7:\n",
    "    print('воскресенье')\n",
    "else:\n",
    "    print('нет такого дня')"
   ]
  },
  {
   "cell_type": "code",
   "execution_count": 73,
   "metadata": {},
   "outputs": [
    {
     "name": "stdout",
     "output_type": "stream",
     "text": [
      "wqde\n"
     ]
    },
    {
     "ename": "ValueError",
     "evalue": "could not convert string to float: 'wqde'",
     "output_type": "error",
     "traceback": [
      "\u001b[1;31m---------------------------------------------------------------------------\u001b[0m",
      "\u001b[1;31mValueError\u001b[0m                                Traceback (most recent call last)",
      "\u001b[1;32m<ipython-input-73-7b8eebf65260>\u001b[0m in \u001b[0;36m<module>\u001b[1;34m\u001b[0m\n\u001b[1;32m----> 1\u001b[1;33m \u001b[0mweight\u001b[0m \u001b[1;33m=\u001b[0m \u001b[0mfloat\u001b[0m\u001b[1;33m(\u001b[0m\u001b[0minput\u001b[0m\u001b[1;33m(\u001b[0m\u001b[1;33m)\u001b[0m\u001b[1;33m)\u001b[0m\u001b[1;33m\u001b[0m\u001b[1;33m\u001b[0m\u001b[0m\n\u001b[0m\u001b[0;32m      2\u001b[0m \u001b[0mheight\u001b[0m \u001b[1;33m=\u001b[0m \u001b[0mfloat\u001b[0m\u001b[1;33m(\u001b[0m\u001b[0minput\u001b[0m\u001b[1;33m(\u001b[0m\u001b[1;33m)\u001b[0m\u001b[1;33m)\u001b[0m\u001b[1;33m\u001b[0m\u001b[1;33m\u001b[0m\u001b[0m\n\u001b[0;32m      3\u001b[0m \u001b[1;31m#weight = 80\u001b[0m\u001b[1;33m\u001b[0m\u001b[1;33m\u001b[0m\u001b[1;33m\u001b[0m\u001b[0m\n\u001b[0;32m      4\u001b[0m \u001b[1;31m#height=1.8\u001b[0m\u001b[1;33m\u001b[0m\u001b[1;33m\u001b[0m\u001b[1;33m\u001b[0m\u001b[0m\n\u001b[0;32m      5\u001b[0m \u001b[0mimt\u001b[0m\u001b[1;33m=\u001b[0m\u001b[1;33m(\u001b[0m\u001b[0mweight\u001b[0m\u001b[1;33m/\u001b[0m\u001b[0mheight\u001b[0m\u001b[1;33m**\u001b[0m\u001b[1;36m2\u001b[0m\u001b[1;33m)\u001b[0m\u001b[1;33m\u001b[0m\u001b[1;33m\u001b[0m\u001b[0m\n",
      "\u001b[1;31mValueError\u001b[0m: could not convert string to float: 'wqde'"
     ]
    }
   ],
   "source": [
    "weight = float(input())\n",
    "height = float(input())\n",
    "#weight = 80\n",
    "#height=1.8\n",
    "imt=(weight/height**2)\n",
    "if imt > 24.99:\n",
    "    print('Избыточная масса тела')\n",
    "elif imt<18.5:\n",
    "    print('Недостаточная масса тела')\n",
    "else:\n",
    "    print('Норма')\n",
    "    "
   ]
  },
  {
   "cell_type": "code",
   "execution_count": 77,
   "metadata": {},
   "outputs": [
    {
     "name": "stdout",
     "output_type": "stream",
     "text": [
      "неудовлетворительно\n"
     ]
    }
   ],
   "source": [
    "mark = 3\n",
    "if mark < 4:\n",
    "    print('неудовлетворительно')\n",
    "elif mark==4 or mark==5:\n",
    "    print('удовлетворительно')"
   ]
  },
  {
   "cell_type": "code",
   "execution_count": 83,
   "metadata": {},
   "outputs": [
    {
     "name": "stdout",
     "output_type": "stream",
     "text": [
      "Сегодня твой выбор - ресторан!\n"
     ]
    }
   ],
   "source": [
    "balance = 5001\n",
    "if balance<=5000 and balance>2500:\n",
    "    print('Эх, только фастфуд.')\n",
    "elif balance>5000:\n",
    "    print('Сегодня твой выбор - ресторан!')\n",
    "else:\n",
    "    print('Придётся потерпеть!')"
   ]
  },
  {
   "cell_type": "code",
   "execution_count": 85,
   "metadata": {},
   "outputs": [
    {
     "data": {
      "text/plain": [
       "False"
      ]
     },
     "execution_count": 85,
     "metadata": {},
     "output_type": "execute_result"
    }
   ],
   "source": [
    "a = True \n",
    "b = False\n",
    "a and b or not a and not b\n"
   ]
  },
  {
   "cell_type": "code",
   "execution_count": 107,
   "metadata": {},
   "outputs": [
    {
     "name": "stdout",
     "output_type": "stream",
     "text": [
      "Ваша половинка нашлась!\n"
     ]
    }
   ],
   "source": [
    "height = 180\n",
    "weight = 79 \n",
    "color = 'красный'\n",
    "if height > 170 and weight <80 and color =='красный':\n",
    "    print('Ваша половинка нашлась!')\n",
    "    \n",
    "else:\n",
    "    print('Попробуем поискать ещё...')"
   ]
  },
  {
   "cell_type": "markdown",
   "metadata": {},
   "source": [
    "number = 347\n",
    "if number%2==0 or number%5==0 or number%173==0 or number%821==0:\n",
    "    print('Вова, это нужное число')\n",
    "else:\n",
    "    print('Вова, в этот раз ты не попал')\n"
   ]
  },
  {
   "cell_type": "code",
   "execution_count": 126,
   "metadata": {},
   "outputs": [
    {
     "name": "stdout",
     "output_type": "stream",
     "text": [
      "C++\n"
     ]
    }
   ],
   "source": [
    "fav_word = 'плюс'\n",
    "if fav_word=='рептилия' or fav_word=='питон' or fav_word=='змея':\n",
    "    print('Pyton')\n",
    "elif fav_word == 'плюс' or fav_word=='плюсы':\n",
    "    print('C++')\n",
    "elif fav_word == 'рубин' or fav_word=='кристалл':\n",
    "    print('Ruby')\n",
    "else:\n",
    "    print('Pyton2')"
   ]
  },
  {
   "cell_type": "code",
   "execution_count": 2,
   "metadata": {},
   "outputs": [
    {
     "name": "stdout",
     "output_type": "stream",
     "text": [
      "Преподаватель свободен.\n"
     ]
    }
   ],
   "source": [
    "hour = 18\n",
    "minute = 47\n",
    "if (hour >10 and minute>30) and (hour < 12 and minute != 00):\n",
    "    print('Преподаватель занят.')\n",
    "elif (hour >13 and minute>40) and (hour < 15 and minute > 00):\n",
    "    print('Преподаватель занят.')\n",
    "elif (hour >18 and minute>00) and (hour < 19 and minute > 30):\n",
    "    print('Преподаватель занят.')\n",
    "else:\n",
    "    print('Преподаватель свободен.')"
   ]
  },
  {
   "cell_type": "code",
   "execution_count": 18,
   "metadata": {},
   "outputs": [
    {
     "name": "stdout",
     "output_type": "stream",
     "text": [
      "0 п\n",
      "2 д\n",
      "4 и\n",
      "6 н\n",
      "8 к\n"
     ]
    }
   ],
   "source": [
    "word = 'подшипник'\n",
    "for i, letter in enumerate(word):\n",
    "    if (i%2==0):\n",
    "        print(i, letter)"
   ]
  },
  {
   "cell_type": "code",
   "execution_count": 22,
   "metadata": {},
   "outputs": [
    {
     "name": "stdout",
     "output_type": "stream",
     "text": [
      "2013 год невисокосный\n",
      "2014 год невисокосный\n",
      "2015 год невисокосный\n",
      "2016 год високосный\n",
      "2017 год невисокосный\n",
      "2018 год невисокосный\n",
      "2019 год невисокосный\n",
      "2020 год високосный\n"
     ]
    }
   ],
   "source": [
    "year_1 = 2013\n",
    "year_2 = 2020\n",
    "for year in range(year_1, (year_2+1)): # Условия для прохода по циклу\n",
    "    # Тело цикла\n",
    "    if year % 4 != 0 or (year % 100 == 0 and year % 400 != 0):\n",
    "        print(year, 'год невисокосный')\n",
    "    else:\n",
    "        print(year, 'год високосный')"
   ]
  },
  {
   "cell_type": "code",
   "execution_count": 28,
   "metadata": {},
   "outputs": [
    {
     "name": "stdout",
     "output_type": "stream",
     "text": [
      "и\n",
      "у\n",
      "а\n",
      "и\n",
      "а\n"
     ]
    }
   ],
   "source": [
    "word = 'Зимушка-зима'\n",
    "for i, ii in enumerate(word):\n",
    "    if (ii=='а' or ii=='о' or ii=='э' or ii=='е' or ii=='и' or ii=='ы' or ii=='у' or ii=='ё' or ii=='ю' or ii=='я'):\n",
    "        print(ii)"
   ]
  },
  {
   "cell_type": "code",
   "execution_count": 39,
   "metadata": {},
   "outputs": [
    {
     "name": "stdout",
     "output_type": "stream",
     "text": [
      "Буква range(1, 7) в этом имени - й\n",
      "Буква False в этом имени - й\n"
     ]
    }
   ],
   "source": [
    "name='Сергей'\n",
    "for i in range(1,7), letter in enumerate(name):\n",
    "    #Здесь i - номер итерации, а letter - символ номер i из строки 'Привет!'\n",
    "    print('Буква', i, 'в этом имени -', letter)"
   ]
  },
  {
   "cell_type": "code",
   "execution_count": 42,
   "metadata": {},
   "outputs": [
    {
     "name": "stdout",
     "output_type": "stream",
     "text": [
      "25\n",
      "27\n",
      "33\n",
      "35\n",
      "39\n",
      "45\n"
     ]
    }
   ],
   "source": [
    "num_1 = 25\n",
    "num_2 = 45\n",
    "for i in range(num_1, num_2+1):\n",
    "    if(i%2!=0):\n",
    "        if(i%3==0 or i%5==0):\n",
    "            print(i)"
   ]
  },
  {
   "cell_type": "code",
   "execution_count": 70,
   "metadata": {},
   "outputs": [],
   "source": [
    "fib1 = 1\n",
    "fib2 = 1   \n",
    "while i < 10- 2:\n",
    "    fib_sum = fib1 + fib2\n",
    "    fib1 = fib2\n",
    "    fib2 = fib_sum\n",
    "    i = i + 1\n",
    "    print(fib2)"
   ]
  },
  {
   "cell_type": "code",
   "execution_count": 76,
   "metadata": {},
   "outputs": [],
   "source": [
    "fib1 = 1\n",
    "fib2 = 1   \n",
    "while i < 100 - 2:\n",
    "    fib_sum = fib1 + fib2\n",
    "    fib1 = fib2\n",
    "    fib2 = fib_sum\n",
    "    i = i + 1\n",
    "    print(fib2)"
   ]
  },
  {
   "cell_type": "code",
   "execution_count": 80,
   "metadata": {},
   "outputs": [
    {
     "name": "stdout",
     "output_type": "stream",
     "text": [
      "Номер элемента ряда Фибоначчи: 10\n",
      "55\n"
     ]
    }
   ],
   "source": [
    "fib1 = 1\n",
    "fib2 = 1\n",
    " \n",
    "n = input(\"Номер элемента ряда Фибоначчи: \")\n",
    "n = int(n)\n",
    " \n",
    "i = 0\n",
    "while i < n - 2:\n",
    "    fib_sum = fib1 + fib2\n",
    "    fib1 = fib2\n",
    "    fib2 = fib_sum\n",
    "    i = i + 1\n",
    " \n",
    "print(fib2)"
   ]
  },
  {
   "cell_type": "code",
   "execution_count": 81,
   "metadata": {},
   "outputs": [
    {
     "name": "stdout",
     "output_type": "stream",
     "text": [
      "2\n",
      "1 1 \n"
     ]
    }
   ],
   "source": [
    "fib1 = fib2 = 1\n",
    " \n",
    "n = int(input())\n",
    " \n",
    "if n < 2:\n",
    "    quit()\n",
    " \n",
    "print(fib1, end=' ')\n",
    "print(fib2, end=' ')\n",
    "for i in range(2, n):\n",
    "    fib1, fib2 = fib2, fib1 + fib2\n",
    "    print(fib2, end=' ')\n",
    " \n",
    "print()"
   ]
  },
  {
   "cell_type": "code",
   "execution_count": 1,
   "metadata": {},
   "outputs": [
    {
     "name": "stdout",
     "output_type": "stream",
     "text": [
      "15 X 1 = 15\n",
      "15 X 2 = 30\n",
      "15 X 3 = 45\n",
      "15 X 4 = 60\n",
      "15 X 5 = 75\n",
      "15 X 6 = 90\n",
      "15 X 7 = 105\n",
      "15 X 8 = 120\n",
      "15 X 9 = 135\n",
      "15 X 10 = 150\n"
     ]
    }
   ],
   "source": [
    "number=15\n",
    "for i in range(1, 11):\n",
    "    print(number,'X',i,'=',number*i)"
   ]
  },
  {
   "cell_type": "code",
   "execution_count": 7,
   "metadata": {},
   "outputs": [],
   "source": [
    "for i in range(10, 1):\n",
    "    print(i)"
   ]
  },
  {
   "cell_type": "code",
   "execution_count": null,
   "metadata": {},
   "outputs": [],
   "source": []
  },
  {
   "cell_type": "code",
   "execution_count": 40,
   "metadata": {},
   "outputs": [
    {
     "name": "stdout",
     "output_type": "stream",
     "text": [
      "4\n"
     ]
    }
   ],
   "source": [
    "num_1 = 1812\n",
    "num_2 = 2500\n",
    "dlt=int()\n",
    "for i in range(1, 1812):\n",
    "    if (num_1%i==0 and num_2%i==0):\n",
    "        dlt = i\n",
    "    if (i==1811):\n",
    "        print(dlt)"
   ]
  },
  {
   "cell_type": "code",
   "execution_count": 46,
   "metadata": {},
   "outputs": [
    {
     "name": "stdout",
     "output_type": "stream",
     "text": [
      "Hallo!ll"
     ]
    }
   ],
   "source": [
    "print('Hallo!', end='ll')"
   ]
  },
  {
   "cell_type": "code",
   "execution_count": 68,
   "metadata": {},
   "outputs": [
    {
     "name": "stdout",
     "output_type": "stream",
     "text": [
      "стркция"
     ]
    }
   ],
   "source": [
    "string = 'абстракция'\n",
    "for char in string:\n",
    "    if (char=='а' or char=='б' or char=='в'):\n",
    "        continue\n",
    "    print(char, end='')"
   ]
  },
  {
   "cell_type": "code",
   "execution_count": 61,
   "metadata": {},
   "outputs": [
    {
     "name": "stdout",
     "output_type": "stream",
     "text": [
      "пдинк"
     ]
    }
   ],
   "source": [
    "word = 'подшипник'\n",
    "for i, letter in enumerate(word):\n",
    "    if (i%2==0):\n",
    "        print(letter, end='')"
   ]
  },
  {
   "cell_type": "code",
   "execution_count": 70,
   "metadata": {},
   "outputs": [
    {
     "name": "stdout",
     "output_type": "stream",
     "text": [
      "Heo word!"
     ]
    }
   ],
   "source": [
    "import time\n",
    " \n",
    " \n",
    "string = \"Hello world!\"\n",
    "for char in string:\n",
    "    if char=='l':\n",
    "        continue\n",
    "    print(char, end=\"\")\n",
    "     "
   ]
  },
  {
   "cell_type": "code",
   "execution_count": 27,
   "metadata": {},
   "outputs": [
    {
     "name": "stdout",
     "output_type": "stream",
     "text": [
      "стркция"
     ]
    }
   ],
   "source": [
    "string = 'абстракция'\n",
    "abv ='абв'\n",
    "for char in string:\n",
    "    if char in abv:\n",
    "        continue\n",
    "    print(char, end='')"
   ]
  },
  {
   "cell_type": "code",
   "execution_count": null,
   "metadata": {},
   "outputs": [],
   "source": []
  },
  {
   "cell_type": "code",
   "execution_count": 88,
   "metadata": {},
   "outputs": [
    {
     "name": "stdout",
     "output_type": "stream",
     "text": [
      "1\n",
      "Увы, это неправильный ответ\n",
      "1\n",
      "Увы, это неправильный ответ\n",
      "1\n",
      "Увы, это неправильный ответ\n",
      "1\n",
      "Увы, это неправильный ответ\n",
      "1\n",
      "Это безнадёжно!\n"
     ]
    }
   ],
   "source": [
    "string='Нет'\n",
    "for i in range(0, 5):\n",
    "    input()\n",
    "    if string == 'Да':\n",
    "        print('выпали')\n",
    "        break\n",
    "    elif string == 'Нет':\n",
    "        if i==4:\n",
    "            print ('Это безнадёжно!')\n",
    "            break\n",
    "        print('Увы, это неправильный ответ')\n",
    "   "
   ]
  },
  {
   "cell_type": "code",
   "execution_count": 5,
   "metadata": {},
   "outputs": [
    {
     "name": "stdout",
     "output_type": "stream",
     "text": [
      "Увы, это неправильный ответ\n",
      "Увы, это неправильный ответ\n",
      "Увы, это неправильный ответ\n",
      "Увы, это неправильный ответ\n",
      "Увы, это неправильный ответ\n",
      "Это безнадёжно!\n"
     ]
    }
   ],
   "source": [
    "string='Нет'\n",
    "for i in range(0, 6):\n",
    " #   string= input()\n",
    "  #  string = 'Нет'\n",
    "    if string == 'Да':\n",
    "        print('Это отлично!')\n",
    "        break\n",
    "    elif string == 'Нет':\n",
    "        if i==5:\n",
    "            print ('Это безнадёжно!')\n",
    "            break\n",
    "        print('Увы, это неправильный ответ')"
   ]
  },
  {
   "cell_type": "code",
   "execution_count": 18,
   "metadata": {},
   "outputs": [
    {
     "name": "stdout",
     "output_type": "stream",
     "text": [
      "Простое\n"
     ]
    }
   ],
   "source": [
    "number = 11\n",
    "if (number%2==0 or number%3==0 or number%5==0 or number%7==0):\n",
    "    print('Не является простым')\n",
    "else:\n",
    "    print('Простое')"
   ]
  },
  {
   "cell_type": "code",
   "execution_count": 1,
   "metadata": {},
   "outputs": [
    {
     "ename": "SyntaxError",
     "evalue": "invalid syntax (<ipython-input-1-95de3af62847>, line 8)",
     "output_type": "error",
     "traceback": [
      "\u001b[1;36m  File \u001b[1;32m\"<ipython-input-1-95de3af62847>\"\u001b[1;36m, line \u001b[1;32m8\u001b[0m\n\u001b[1;33m    if\u001b[0m\n\u001b[1;37m          ^\u001b[0m\n\u001b[1;31mSyntaxError\u001b[0m\u001b[1;31m:\u001b[0m invalid syntax\n"
     ]
    }
   ],
   "source": [
    "string = 'прелестная строка'\n",
    "#string = 'првтктктвфцццц'\n",
    "abv ='аоэеиыуёюя'\n",
    "for i in range (0, len(string), 2):\n",
    "    if string[i] in abv:\n",
    "        print('Строка мне не нравится!', i, string[i])\n",
    "        break\n",
    "if    \n",
    "\n",
    "#print('вышли')"
   ]
  },
  {
   "cell_type": "code",
   "execution_count": 5,
   "metadata": {},
   "outputs": [
    {
     "name": "stdout",
     "output_type": "stream",
     "text": [
      "19\n"
     ]
    }
   ],
   "source": [
    "Y = 170000\n",
    "Z = 1000000\n",
    "proc = 1.10\n",
    "year=0\n",
    "while Y<Z:\n",
    "    Y=Y*proc\n",
    "    year += 1\n",
    "else:\n",
    "    print(year)"
   ]
  },
  {
   "cell_type": "code",
   "execution_count": 1,
   "metadata": {},
   "outputs": [
    {
     "name": "stdout",
     "output_type": "stream",
     "text": [
      "Перевес 62 кг\n"
     ]
    }
   ],
   "source": [
    "weight = 77\n",
    "pipl=0\n",
    "wght=0\n",
    "while wght < 400:\n",
    "    wght=wght+weight\n",
    "    pipl+=1\n",
    "else:\n",
    "    print('Перевес', wght-400, 'кг')"
   ]
  },
  {
   "cell_type": "code",
   "execution_count": 25,
   "metadata": {},
   "outputs": [
    {
     "name": "stdout",
     "output_type": "stream",
     "text": [
      "7\n"
     ]
    }
   ],
   "source": [
    "current_health=500\n",
    "attack = 80\n",
    "i=0\n",
    "while current_health>0:\n",
    "    current_health=current_health-attack\n",
    "    i=i+1\n",
    "else:\n",
    "    print(i)"
   ]
  },
  {
   "cell_type": "code",
   "execution_count": 26,
   "metadata": {},
   "outputs": [
    {
     "name": "stdout",
     "output_type": "stream",
     "text": [
      "0\n"
     ]
    }
   ],
   "source": [
    "current_health=500\n",
    "attack=80\n",
    "i=0\n",
    "while current_health<500:\n",
    "    current_health=current_health+attack\n",
    "    i=i+1\n",
    "else:\n",
    "    print(i)"
   ]
  },
  {
   "cell_type": "code",
   "execution_count": 30,
   "metadata": {},
   "outputs": [
    {
     "name": "stdout",
     "output_type": "stream",
     "text": [
      "10000\n",
      "7200\n",
      "4400\n",
      "1600\n",
      "Слишком большие расходы\n"
     ]
    }
   ],
   "source": [
    "spent=2800\n",
    "balance=10000\n",
    "print(balance)\n",
    "while balance>0:\n",
    "    balance=balance-spent\n",
    "    if balance>0:\n",
    "        print(balance)\n",
    "else:\n",
    "    print('Слишком большие расходы')"
   ]
  },
  {
   "cell_type": "code",
   "execution_count": 33,
   "metadata": {},
   "outputs": [
    {
     "name": "stdout",
     "output_type": "stream",
     "text": [
      "20\n"
     ]
    }
   ],
   "source": [
    "volume=1000\n",
    "lit=0\n",
    "i=0\n",
    "while volume>0:\n",
    "    lit+=5\n",
    "    volume=volume-lit\n",
    "    i+=1\n",
    "else:\n",
    "    print(i)"
   ]
  },
  {
   "cell_type": "code",
   "execution_count": 40,
   "metadata": {},
   "outputs": [
    {
     "name": "stdout",
     "output_type": "stream",
     "text": [
      "1\n"
     ]
    }
   ],
   "source": [
    "a='привет'\n",
    "b='алеша'\n",
    "c=a+b\n",
    "print(1)\n"
   ]
  },
  {
   "cell_type": "code",
   "execution_count": 54,
   "metadata": {},
   "outputs": [
    {
     "data": {
      "text/plain": [
       "['голова', 'руки', 'ноги', 'глаза', 'уши', 'рот', 'нос', 'туловище']"
      ]
     },
     "execution_count": 54,
     "metadata": {},
     "output_type": "execute_result"
    }
   ],
   "source": [
    "body = ['голова', 'руки', 'ноги', 'глаза', 'уши', 'рот', 'нос', 'туловище']\n",
    "body[0:8]"
   ]
  },
  {
   "cell_type": "code",
   "execution_count": 57,
   "metadata": {},
   "outputs": [
    {
     "data": {
      "text/plain": [
       "list"
      ]
     },
     "execution_count": 57,
     "metadata": {},
     "output_type": "execute_result"
    }
   ],
   "source": [
    "my_list = list()\n",
    "type(my_list)"
   ]
  },
  {
   "cell_type": "code",
   "execution_count": 61,
   "metadata": {},
   "outputs": [
    {
     "data": {
      "text/plain": [
       "['Петров', 'Дятлов', 'Огурцов']"
      ]
     },
     "execution_count": 61,
     "metadata": {},
     "output_type": "execute_result"
    }
   ],
   "source": [
    "sparta = ['Иванов', 'Петров', 'Сидоров', 'Зайцев', 'Дятлов', \n",
    "          'Козлов', 'Лисичкин', 'Огурцов', 'Капустин', 'Арбузов']\n",
    "sparta[1:9:3]"
   ]
  },
  {
   "cell_type": "code",
   "execution_count": 75,
   "metadata": {},
   "outputs": [
    {
     "name": "stdout",
     "output_type": "stream",
     "text": [
      "банан\n"
     ]
    }
   ],
   "source": [
    "fruits = 'яблоко банан апельсин баклажан перец помидор арбуз ананас'.split()\n",
    "print(fruits[1])"
   ]
  },
  {
   "cell_type": "code",
   "execution_count": 80,
   "metadata": {},
   "outputs": [
    {
     "name": "stdout",
     "output_type": "stream",
     "text": [
      "яблоко\n",
      "яблоко\n",
      "['яблоко']\n",
      "банан\n",
      "банан\n",
      "['яблоко', 'банан']\n",
      "апельсин\n",
      "апельсин\n",
      "['яблоко', 'банан', 'апельсин']\n",
      "баклажан\n",
      "баклажан\n",
      "['яблоко', 'банан', 'апельсин', 'баклажан']\n",
      "перец\n",
      "перец\n",
      "['яблоко', 'банан', 'апельсин', 'баклажан', 'перец']\n",
      "помидор\n",
      "помидор\n",
      "['яблоко', 'банан', 'апельсин', 'баклажан', 'перец', 'помидор']\n",
      "арбуз\n",
      "арбуз\n",
      "['яблоко', 'банан', 'апельсин', 'баклажан', 'перец', 'помидор', 'арбуз']\n",
      "ананас\n",
      "ананас\n",
      "['яблоко', 'банан', 'апельсин', 'баклажан', 'перец', 'помидор', 'арбуз', 'ананас']\n"
     ]
    }
   ],
   "source": [
    "fruits = 'яблоко банан апельсин баклажан перец помидор арбуз ананас'.split()\n",
    "my_list = []\n",
    "for fruit in fruits:\n",
    "    print(fruit)\n",
    "    my_list.append(fruit)\n",
    "    print(fruit)\n",
    "    print(my_list)"
   ]
  },
  {
   "cell_type": "code",
   "execution_count": 86,
   "metadata": {},
   "outputs": [],
   "source": [
    "raw_list = ['переменные', 'циклы', 'условия', 'списки', 'словари', 'файлы', 'функции']\n",
    "my_list=[]\n",
    "for i in raw_list:\n",
    "    my_list.append(len(i))\n",
    "    #print(my_list)\n",
    "result=min(my_list)+max(my_list)"
   ]
  },
  {
   "cell_type": "code",
   "execution_count": 101,
   "metadata": {},
   "outputs": [
    {
     "name": "stdout",
     "output_type": "stream",
     "text": [
      "[4, 16, 20, 1633, 128, 3479, 781, 104, 5041, 28]\n",
      "5041\n"
     ]
    }
   ],
   "source": [
    "raw_list = [2, 8, 10, 23, 64, 49, 11, 52, 71, 14]\n",
    "x_min=min(raw_list)\n",
    "x_max=max(raw_list)\n",
    "my_list=[]\n",
    "for i in raw_list:\n",
    "    if i%2==0:\n",
    "        my_list.append(i*x_min)\n",
    "    else:\n",
    "         my_list.append(i*x_max)\n",
    "result = max(my_list)\n",
    "print(my_list)\n",
    "print(result)"
   ]
  },
  {
   "cell_type": "code",
   "execution_count": 105,
   "metadata": {},
   "outputs": [
    {
     "data": {
      "text/plain": [
       "[1,\n",
       " 1,\n",
       " 4,\n",
       " 1024,\n",
       " 9,\n",
       " 59049,\n",
       " 16,\n",
       " 1048576,\n",
       " 25,\n",
       " 9765625,\n",
       " 36,\n",
       " 60466176,\n",
       " 49,\n",
       " 282475249,\n",
       " 64,\n",
       " 1073741824,\n",
       " 81,\n",
       " 3486784401]"
      ]
     },
     "execution_count": 105,
     "metadata": {},
     "output_type": "execute_result"
    }
   ],
   "source": [
    "powers = [x**y for x in range(1, 10) for y in [2,10]]\n",
    "powers"
   ]
  },
  {
   "cell_type": "code",
   "execution_count": 107,
   "metadata": {},
   "outputs": [
    {
     "data": {
      "text/plain": [
       "['а', 'з', 'и', 'н', 'н', 'о', 'о', 'о', 'р', 'р', 'с', 'т', 'ф', 'х']"
      ]
     },
     "execution_count": 107,
     "metadata": {},
     "output_type": "execute_result"
    }
   ],
   "source": [
    "my_list = sorted([x for x in 'синхрофазотрон'])\n",
    "my_list"
   ]
  },
  {
   "cell_type": "code",
   "execution_count": 123,
   "metadata": {},
   "outputs": [
    {
     "ename": "SyntaxError",
     "evalue": "invalid syntax (<ipython-input-123-c14daa0bcf8e>, line 1)",
     "output_type": "error",
     "traceback": [
      "\u001b[1;36m  File \u001b[1;32m\"<ipython-input-123-c14daa0bcf8e>\"\u001b[1;36m, line \u001b[1;32m1\u001b[0m\n\u001b[1;33m    my_list = [x for y in range(90, 100) y=y+1]\u001b[0m\n\u001b[1;37m                                         ^\u001b[0m\n\u001b[1;31mSyntaxError\u001b[0m\u001b[1;31m:\u001b[0m invalid syntax\n"
     ]
    }
   ],
   "source": [
    "my_list = [x for y in range(90, 100) y=y+1]"
   ]
  },
  {
   "cell_type": "code",
   "execution_count": 124,
   "metadata": {},
   "outputs": [
    {
     "data": {
      "text/plain": [
       "[9, 10, 11, 12, 13, 14, 15, 16, 17, 18]"
      ]
     },
     "execution_count": 124,
     "metadata": {},
     "output_type": "execute_result"
    }
   ],
   "source": [
    "my_list = []\n",
    "for x in range(90, 100):\n",
    "    first_digit = x//10\n",
    "    last_digit = x%10\n",
    "    my_list.append(first_digit + last_digit)\n",
    "my_list"
   ]
  },
  {
   "cell_type": "code",
   "execution_count": 1,
   "metadata": {},
   "outputs": [],
   "source": [
    "phones = []\n",
    "phones.append('+79033923029')"
   ]
  },
  {
   "cell_type": "code",
   "execution_count": 3,
   "metadata": {},
   "outputs": [
    {
     "ename": "NameError",
     "evalue": "name 'request' is not defined",
     "output_type": "error",
     "traceback": [
      "\u001b[1;31m---------------------------------------------------------------------------\u001b[0m",
      "\u001b[1;31mNameError\u001b[0m                                 Traceback (most recent call last)",
      "\u001b[1;32m<ipython-input-3-9d7052efffa3>\u001b[0m in \u001b[0;36m<module>\u001b[1;34m\u001b[0m\n\u001b[0;32m      6\u001b[0m     \u001b[1;34m'Руслан Башаров'\u001b[0m\u001b[1;33m:\u001b[0m \u001b[1;34m'+79030598495'\u001b[0m\u001b[1;33m\u001b[0m\u001b[1;33m\u001b[0m\u001b[0m\n\u001b[0;32m      7\u001b[0m }\n\u001b[1;32m----> 8\u001b[1;33m \u001b[1;32mfor\u001b[0m \u001b[0mname\u001b[0m \u001b[1;32min\u001b[0m \u001b[0mrequest\u001b[0m\u001b[1;33m:\u001b[0m\u001b[1;33m\u001b[0m\u001b[1;33m\u001b[0m\u001b[0m\n\u001b[0m\u001b[0;32m      9\u001b[0m     \u001b[1;32mif\u001b[0m \u001b[0mname\u001b[0m \u001b[1;32min\u001b[0m \u001b[0memployee_base\u001b[0m\u001b[1;33m:\u001b[0m\u001b[1;33m\u001b[0m\u001b[1;33m\u001b[0m\u001b[0m\n\u001b[0;32m     10\u001b[0m         \u001b[0mprint\u001b[0m\u001b[1;33m(\u001b[0m\u001b[0memployee_base\u001b[0m\u001b[1;33m[\u001b[0m\u001b[0mname\u001b[0m\u001b[1;33m]\u001b[0m\u001b[1;33m)\u001b[0m\u001b[1;33m\u001b[0m\u001b[1;33m\u001b[0m\u001b[0m\n",
      "\u001b[1;31mNameError\u001b[0m: name 'request' is not defined"
     ]
    }
   ],
   "source": [
    "employee_base = {\n",
    "    'Мария Никитина': '+79033923029',\n",
    "    'Егор Савичев': '+78125849204',\n",
    "    'Александр Пахомов': '+79053049385',\n",
    "    'Алина Егорова': '+79265748370',\n",
    "    'Руслан Башаров': '+79030598495'\n",
    "}\n",
    "for name in request:\n",
    "    if name in employee_base:\n",
    "        print(employee_base[name])\n",
    "    else:\n",
    "        print('Неизвестный сотрудник')"
   ]
  },
  {
   "cell_type": "code",
   "execution_count": 35,
   "metadata": {},
   "outputs": [
    {
     "ename": "ValueError",
     "evalue": "too many values to unpack (expected 2)",
     "output_type": "error",
     "traceback": [
      "\u001b[1;31m---------------------------------------------------------------------------\u001b[0m",
      "\u001b[1;31mValueError\u001b[0m                                Traceback (most recent call last)",
      "\u001b[1;32m<ipython-input-35-9f689cbaf9b0>\u001b[0m in \u001b[0;36m<module>\u001b[1;34m\u001b[0m\n\u001b[0;32m      7\u001b[0m }\n\u001b[0;32m      8\u001b[0m \u001b[0mdraw_new\u001b[0m\u001b[1;33m=\u001b[0m\u001b[1;33m{\u001b[0m\u001b[1;33m}\u001b[0m\u001b[1;33m\u001b[0m\u001b[1;33m\u001b[0m\u001b[0m\n\u001b[1;32m----> 9\u001b[1;33m \u001b[1;32mfor\u001b[0m \u001b[0memployee\u001b[0m\u001b[1;33m,\u001b[0m \u001b[0mposition\u001b[0m \u001b[1;32min\u001b[0m \u001b[0mdraw_dict\u001b[0m\u001b[1;33m:\u001b[0m\u001b[1;33m\u001b[0m\u001b[1;33m\u001b[0m\u001b[0m\n\u001b[0m\u001b[0;32m     10\u001b[0m     \u001b[1;32mif\u001b[0m \u001b[0mdraw_dict\u001b[0m\u001b[1;33m[\u001b[0m\u001b[0mdict\u001b[0m\u001b[1;33m]\u001b[0m\u001b[1;33m==\u001b[0m\u001b[1;34m'A'\u001b[0m\u001b[1;33m:\u001b[0m\u001b[1;33m\u001b[0m\u001b[1;33m\u001b[0m\u001b[0m\n\u001b[0;32m     11\u001b[0m         \u001b[0mdraw_new\u001b[0m\u001b[1;33m[\u001b[0m\u001b[0mdict\u001b[0m\u001b[1;33m]\u001b[0m\u001b[1;33m=\u001b[0m\u001b[1;34m'A'\u001b[0m\u001b[1;33m\u001b[0m\u001b[1;33m\u001b[0m\u001b[0m\n",
      "\u001b[1;31mValueError\u001b[0m: too many values to unpack (expected 2)"
     ]
    }
   ],
   "source": [
    "draw_dict = {\n",
    "\t'Россия': 'A',\n",
    "\t'Португалия': 'B',\n",
    "\t'Франция': 'C',\n",
    "\t'Дания': 'C',\n",
    "\t'Египет': 'A'\n",
    "}\n",
    "draw_new={}\n",
    "for employee, position in draw_dict:\n",
    "    if draw_dict[dict]=='A':\n",
    "        draw_new[dict]='A'"
   ]
  },
  {
   "cell_type": "code",
   "execution_count": 81,
   "metadata": {},
   "outputs": [],
   "source": [
    "draw_dict = {\n",
    "\t'Россия': 'A',\n",
    "\t'Португалия': 'B',\n",
    "\t'Франция': 'C',\n",
    "\t'Дания': 'C',\n",
    "\t'Египет': 'A'\n",
    "}\n",
    "draw_new={}\n",
    "for employee, position in draw_dict.items():\n",
    "    if position:\n",
    "        draw_new[dict]='A'"
   ]
  },
  {
   "cell_type": "code",
   "execution_count": 46,
   "metadata": {},
   "outputs": [
    {
     "name": "stdout",
     "output_type": "stream",
     "text": [
      "{'2019-04-01': 2504, '2019-04-02': 4994, '2019-04-03': 6343}\n",
      "13841\n"
     ]
    }
   ],
   "source": [
    "pay={'2019-04-01':2504, '2019-04-02':4994, '2019-04-03':6343}\n",
    "print(pay)\n",
    "position2=0\n",
    "for employee, position in pay.items():\n",
    "    position2=position2+position\n",
    "print(position2)\n"
   ]
  },
  {
   "cell_type": "code",
   "execution_count": 54,
   "metadata": {},
   "outputs": [
    {
     "name": "stdout",
     "output_type": "stream",
     "text": [
      "100412\n",
      "Ботинки для горных лыж ATOMIC Hawx Prime 100\n",
      "9\n"
     ]
    }
   ],
   "source": [
    "csv_file = [\n",
    "    ['100412', 'Ботинки для горных лыж ATOMIC Hawx Prime 100', 9],\n",
    "    ['100728', 'Скейтборд Jdbug RT03', 32],\n",
    "    ['100732', 'Роллерсерф Razor RipStik Bright', 11],\n",
    "    ['100803', 'Ботинки для сноуборда DC Tucknee', 20],\n",
    "    ['100898', 'Шагомер Omron HJA-306', 2],\n",
    "    ['100934', 'Пульсометр Beurer PM62', 17],\n",
    "]\n",
    "for record in csv_file[0]:\n",
    "    print(record)"
   ]
  },
  {
   "cell_type": "code",
   "execution_count": 59,
   "metadata": {},
   "outputs": [
    {
     "name": "stdout",
     "output_type": "stream",
     "text": [
      "['100934', 'Пульсометр Beurer PM62', 17, ['100728', 'Скейтборд Jdbug RT03', 32], ['100732', 'Роллерсерф Razor RipStik Bright', 11], ['100803', 'Ботинки для сноуборда DC Tucknee', 20], ['100934', 'Пульсометр Beurer PM62', 17], ['100728', 'Скейтборд Jdbug RT03', 32], ['100732', 'Роллерсерф Razor RipStik Bright', 11], ['100803', 'Ботинки для сноуборда DC Tucknee', 20], ['100934', 'Пульсометр Beurer PM62', 17]]\n"
     ]
    }
   ],
   "source": [
    "csv_file = [\n",
    "    ['100412', 'Ботинки для горных лыж ATOMIC Hawx Prime 100', 9],\n",
    "    ['100728', 'Скейтборд Jdbug RT03', 32],\n",
    "    ['100732', 'Роллерсерф Razor RipStik Bright', 11],\n",
    "    ['100803', 'Ботинки для сноуборда DC Tucknee', 20],\n",
    "    ['100898', 'Шагомер Omron HJA-306', 2],\n",
    "    ['100934', 'Пульсометр Beurer PM62', 17],\n",
    "]\n",
    "for record in csv_file:\n",
    "    if record[2]>10:\n",
    "        csv_file_filtered.append(record)\n",
    "print(csv_file_filtered)\n",
    "    "
   ]
  },
  {
   "cell_type": "code",
   "execution_count": 60,
   "metadata": {},
   "outputs": [],
   "source": [
    "contacts = {'Борискин Владимир': {'tel': '5387','position': 'менеджер'},'Сомова Наталья': {'tel': '5443','position': 'разработчик'},}"
   ]
  },
  {
   "cell_type": "code",
   "execution_count": 114,
   "metadata": {},
   "outputs": [],
   "source": [
    "csv_dict = [\n",
    "    {'id': '100412', 'position': 'Ботинки для горных лыж ATOMIC Hawx Prime 100', 'count': 9},\n",
    "    {'id': '100728', 'position': 'Скейтборд Jdbug RT03', 'count': 32},\n",
    "    {'id': '100732', 'position': 'Роллерсерф Razor RipStik Bright', 'count': 11},\n",
    "    {'id': '100803', 'position': 'Ботинки для сноуборда DC Tucknee', 'count': 20},\n",
    "    {'id': '100898', 'position': 'Шагомер Omron HJA-306', 'count': 2},\n",
    "    {'id': '100934', 'position': 'Пульсометр Beurer PM62', 'count': 17},\n",
    "]\n",
    "csv_dict_boots=[]\n",
    "for i in csv_dict:\n",
    "  #  print(i['position'])\n",
    "    if 'Ботинки' in i['position']:\n",
    "  #      print(i['id'])\n",
    "        csv_dict_boots.append(i['id'])\n",
    "    #if 'ботинки' in "
   ]
  },
  {
   "cell_type": "code",
   "execution_count": 119,
   "metadata": {},
   "outputs": [
    {
     "name": "stdout",
     "output_type": "stream",
     "text": [
      "98\n"
     ]
    }
   ],
   "source": [
    "results = [\n",
    "\t{'cost': 153, 'source': 'vk'},\n",
    "\t{'cost': 98, 'source': 'yandex'},\n",
    "\t{'cost': 110, 'source': 'facebook'},\n",
    "]\n",
    "tempcst=0\n",
    "for i in results:\n",
    "    if tempcst>i['cost'] or tempcst==0:\n",
    "        tempcst=i['cost']\n",
    "print(tempcst)"
   ]
  },
  {
   "cell_type": "code",
   "execution_count": 121,
   "metadata": {},
   "outputs": [
    {
     "name": "stdout",
     "output_type": "stream",
     "text": [
      "5\n"
     ]
    }
   ],
   "source": [
    "defect_stats = [\n",
    "\t{'step number': 1, 'damage': 0.98},\n",
    "\t{'step number': 2, 'damage': 0.99},\n",
    "\t{'step number': 3, 'damage': 0.99},\n",
    "\t{'step number': 4, 'damage': 0.96},\n",
    "\t{'step number': 5, 'damage': 0.97},\n",
    "\t{'step number': 6, 'damage': 0.97},\n",
    "]\n",
    "i=1\n",
    "k=0\n",
    "while i>0.9:\n",
    "    i=i*defect_stats[k]['damage']\n",
    "    k+=1\n",
    "print(k)\n"
   ]
  },
  {
   "cell_type": "code",
   "execution_count": 138,
   "metadata": {},
   "outputs": [
    {
     "name": "stdout",
     "output_type": "stream",
     "text": [
      "AMD\n",
      "0.13121\n",
      "AUD\n",
      "45.5309\n",
      "INR\n",
      "0.929658\n",
      "MDL\n",
      "3.6930500000000004\n"
     ]
    },
    {
     "data": {
      "text/plain": [
       "0.13121"
      ]
     },
     "execution_count": 138,
     "metadata": {},
     "output_type": "execute_result"
    }
   ],
   "source": [
    "currency = {\n",
    "\t'AMD': {\n",
    "\t\t'Name': 'Армянских драмов',\n",
    "\t\t'Nominal': 100,\n",
    "\t\t'Value': 13.121\n",
    "\t},\n",
    "\n",
    "\t'AUD': {\n",
    "\t\t'Name': 'Австралийский доллар',\n",
    "\t\t'Nominal': 1,\n",
    "\t\t'Value': 45.5309\n",
    "\t},\n",
    "\n",
    "\t'INR': {\n",
    "\t\t'Name': 'Индийских рупий',\n",
    "\t\t'Nominal': 100,\n",
    "\t\t'Value': 92.9658\n",
    "\t},\n",
    "\n",
    "\t'MDL': {\n",
    "\t\t'Name': 'Молдавских леев',\n",
    "\t\t'Nominal': 10,\n",
    "\t\t'Value': 36.9305\n",
    "\t},\n",
    "}\n",
    "kurs=0\n",
    "kurs1=0\n",
    "kurs2=0\n",
    "kurstst=0\n",
    "spis=[]\n",
    "for i in currency:\n",
    "    print(i)\n",
    "    #kurs1=currency[i]['Value']\n",
    "   # kurs2=currency[i]['Nominal']\n",
    "    #kurs=kurs1/kurs2\n",
    "    kurstst=currency[i]['Value']/currency[i]['Nominal']\n",
    "    #print()\n",
    "    print(kurstst)\n",
    "    spis.append(kurstst)\n",
    "min(spis)"
   ]
  },
  {
   "cell_type": "code",
   "execution_count": 167,
   "metadata": {},
   "outputs": [
    {
     "name": "stdout",
     "output_type": "stream",
     "text": [
      "{'человек': 17}\n",
      "{'человек': 56, 'раков-отшельников': 1}\n",
      "{'человек': 88}\n",
      "{'человек': 56, 'русалок': 2, 'ядовитых жаб': 3, 'пиратов зомби': 2}\n",
      "225\n"
     ]
    }
   ],
   "source": [
    "bodycount = {\n",
    "\t'Проклятие Черной жемчужины': {\n",
    "\t\t'человек': 17\n",
    "\t}, \n",
    "\n",
    "\t'Сундук мертвеца': {\n",
    "\t\t'человек': 56,\n",
    "\t\t'раков-отшельников': 1\n",
    "\t},\n",
    "\n",
    "\t'На краю света': {\n",
    "\t\t'человек': 88\n",
    "\t},\n",
    "\n",
    "\t'На странных берегах': {\n",
    "\t\t'человек': 56,\n",
    "\t\t'русалок': 2,\n",
    "\t\t'ядовитых жаб': 3,\n",
    "\t\t'пиратов зомби': 2\n",
    "\t}\n",
    "}\n",
    "k1=int()\n",
    "for i in bodycount:\n",
    "    print(bodycount[i])\n",
    "    for k in bodycount[i].values():\n",
    "        k1+=k\n",
    "print(k1)"
   ]
  },
  {
   "cell_type": "code",
   "execution_count": 179,
   "metadata": {},
   "outputs": [
    {
     "data": {
      "text/plain": [
       "5"
      ]
     },
     "execution_count": 179,
     "metadata": {},
     "output_type": "execute_result"
    }
   ],
   "source": [
    "arrivals = {\n",
    "\t'Париж': {'время': '15:25', 'статус': 'ожидается', 'рейс': ['Аэрофлот']},\n",
    "\t'Пекин': {'время': '15:35', 'статус': 'опаздывает', 'рейс': ['China Southern Airlines', 'Россия']},\n",
    "\t'Лиссабон': {'время': '15:40', 'статус': 'ожидается', 'рейс': ['Nordwind', 'Аэрофлот']},\n",
    "}\n",
    "len(arrivals['Париж']['время'])"
   ]
  },
  {
   "cell_type": "code",
   "execution_count": 219,
   "metadata": {},
   "outputs": [
    {
     "name": "stdout",
     "output_type": "stream",
     "text": [
      "['page', 'page', 'page', 'datepicker', 'table', 'table', 'table', 'table', 'datepicker', 'datepicker', 'datepicker', 'datepicker', 'datepicker', 'page', 'page', 'page', 'page', 'page', 'page', 'page', 'page', 'page', 'page', 'page', 'page', 'page', 'page', 'page', 'page', 'page', 'page', 'page', 'page', 'report', 'report', 'report', 'report', 'page', 'report', 'page', 'page', 'page', 'table', 'table', 'table', 'table', 'page', 'page', 'page', 'page', 'page', 'page', 'page', 'page', 'page', 'page', 'page', 'page', 'report', 'page', 'page', 'page', 'page', 'page', 'report', 'page', 'page', 'page', 'page', 'page', 'page', 'page', 'page', 'page', 'page', 'page', 'page', 'page', 'datepicker', 'datepicker', 'datepicker', 'datepicker', 'datepicker', 'datepicker', 'datepicker', 'page', 'page', 'page', 'page', 'page', 'page', 'report', 'table', 'table', 'datepicker', 'datepicker', 'page', 'page', 'page', 'page', 'page', 'page', 'page', 'page', 'page', 'page', 'page']\n"
     ]
    }
   ],
   "source": [
    "import json\n",
    "with open('data.json', 'rb') as infile:\n",
    "    data = json.load(infile)\n",
    "type(data)\n",
    "data.keys()\n",
    "data['events_data']\n",
    "data_list=data['events_data']\n",
    "#print(data_list)\n",
    "#print(len(data_list))\n",
    "categories = []\n",
    "for item in data_list:\n",
    "   # print(item)\n",
    "    category = item['category']\n",
    "    categories.append(category)\n",
    "print (categories)\n"
   ]
  },
  {
   "cell_type": "code",
   "execution_count": 235,
   "metadata": {},
   "outputs": [
    {
     "name": "stdout",
     "output_type": "stream",
     "text": [
      "Counter({60459: 12, 27115: 11, 62602: 11, 56544: 8, 58113: 7, 18923: 5, 23207: 4, 52492: 3, 24500: 2, 53666: 2, 41737: 2, 62526: 1, 61944: 1, 62017: 1, 63120: 1, 59883: 1, 2913: 1, 62940: 1, 63149: 1, 45391: 1, 63019: 1, 15759: 1, 62007: 1, 62941: 1, 51009: 1, 62236: 1, 44682: 1, 39709: 1, 62144: 1, 25301: 1, 33645: 1, 62089: 1, 26705: 1, 1103: 1, 62439: 1, 44196: 1, 50149: 1, 57009: 1, 57207: 1, 32792: 1, 27323: 1, 58330: 1, 61245: 1, 19799: 1, 48128: 1, 57613: 1, 61244: 1, 53018: 1, 61078: 1, 20820: 1, 49700: 1})\n"
     ]
    }
   ],
   "source": [
    "import json\n",
    "with open('data.json', 'rb') as infile:\n",
    "    data = json.load(infile)\n",
    "type(data)\n",
    "data.keys()\n",
    "data['events_data']\n",
    "data_list=data['events_data']\n",
    "#print(data_list)\n",
    "#print(len(data_list))\n",
    "categories = []\n",
    "for item in data_list:\n",
    "   # print(item)\n",
    "    category = item['client_id']\n",
    "    categories.append(category)\n",
    "import collections\n",
    "c = collections.Counter()\n",
    "for category in categories:\n",
    "    c[category] += 1\n",
    "print (c)"
   ]
  },
  {
   "cell_type": "code",
   "execution_count": 273,
   "metadata": {},
   "outputs": [
    {
     "name": "stdout",
     "output_type": "stream",
     "text": [
      "[62602]\n",
      "[62602, 62602]\n",
      "[62602, 62602, 62602]\n",
      "[62602, 62602, 62602, 62602]\n",
      "[62602, 62602, 62602, 62602, 62602]\n",
      "[62602, 62602, 62602, 62602, 62602, 62602]\n",
      "[62602, 62602, 62602, 62602, 62602, 62602, 62602]\n",
      "[62602, 62602, 62602, 62602, 62602, 62602, 62602, 62602]\n",
      "[62602, 62602, 62602, 62602, 62602, 62602, 62602, 62602, 62602]\n",
      "9\n"
     ]
    }
   ],
   "source": [
    "import json\n",
    "with open('data.json', 'rb') as infile:\n",
    "    data = json.load(infile)\n",
    "type(data)\n",
    "data.keys()\n",
    "data['events_data']\n",
    "data_list=data['events_data']\n",
    "#print(data_list)\n",
    "cl_ids=[]\n",
    "for item in data_list:\n",
    "    #print(item)\n",
    "    #print(item['category'])\n",
    "    if item['category'] == 'page' and item['client_id']==62602 :\n",
    "        cl_id=item['client_id']\n",
    "        cl_ids.append(cl_id)\n",
    "        print(cl_ids)\n",
    "print(len(cl_ids))\n",
    "#c = collections.Counter()\n",
    "#for table_client in cl_ids:\n",
    "#    c[table_client] += 1\n",
    "#print (c[62602])\n",
    "    \n",
    "    \n",
    "    \n",
    "\n"
   ]
  },
  {
   "cell_type": "code",
   "execution_count": 280,
   "metadata": {},
   "outputs": [
    {
     "name": "stdout",
     "output_type": "stream",
     "text": [
      "[60459]\n",
      "[60459, 60459]\n",
      "[60459, 60459, 60459]\n",
      "[60459, 60459, 60459, 60459]\n",
      "[60459, 60459, 60459, 60459, 60459]\n",
      "[60459, 60459, 60459, 60459, 60459, 62602]\n",
      "[60459, 60459, 60459, 60459, 60459, 62602, 62602]\n",
      "[60459, 60459, 60459, 60459, 60459, 62602, 62602, 58113]\n",
      "[60459, 60459, 60459, 60459, 60459, 62602, 62602, 58113]\n",
      "3\n"
     ]
    }
   ],
   "source": [
    "import json\n",
    "with open('data.json', 'rb') as infile:\n",
    "    data = json.load(infile)\n",
    "type(data)\n",
    "data.keys()\n",
    "data['events_data']\n",
    "data_list=data['events_data']\n",
    "#print(data_list)\n",
    "cl_ids=[]\n",
    "for item in data_list:\n",
    "    #print(item)\n",
    "    #print(item['category'])\n",
    "    if item['category'] == 'report':\n",
    "        cl_id=item['client_id']\n",
    "        cl_ids.append(cl_id)\n",
    "        print(cl_ids)\n",
    "print(cl_ids)\n",
    "c = collections.Counter()\n",
    "for table_client in cl_ids:\n",
    "    c[table_client] += 1\n",
    "print (len(c))\n",
    "#c = collections.Counter()\n",
    "#for table_client in cl_ids:\n",
    "#    c[table_client] += 1\n",
    "#print (c[62602])"
   ]
  },
  {
   "cell_type": "code",
   "execution_count": 291,
   "metadata": {},
   "outputs": [
    {
     "name": "stdout",
     "output_type": "stream",
     "text": [
      "[60459, 60459, 60459, 60459, 60459, 62602, 62602, 58113]\n",
      "[58113, 60459, 60459, 60459, 60459, 60459, 62602, 62602]\n"
     ]
    }
   ],
   "source": [
    "import json\n",
    "with open('data.json', 'rb') as infile:\n",
    "    data = json.load(infile)\n",
    "type(data)\n",
    "data.keys()\n",
    "data['events_data']\n",
    "data_list=data['events_data']\n",
    "#print(data_list)\n",
    "cl_ids=[]\n",
    "for item in data_list:\n",
    "    #print(item)\n",
    "    #print(item['category'])\n",
    "    if item['category'] == 'report':\n",
    "        cl_id=item['client_id']\n",
    "        cl_ids.append(cl_id)\n",
    "print(cl_ids)\n",
    "cl_ids.sort()\n",
    "print(cl_ids)\n",
    "#c = collections.Counter()\n",
    "#for table_client in cl_ids:\n",
    "#    c[table_client] += 1\n",
    "#print (c[62602])"
   ]
  },
  {
   "cell_type": "code",
   "execution_count": 304,
   "metadata": {},
   "outputs": [
    {
     "ename": "TypeError",
     "evalue": "can only concatenate str (not \"int\") to str",
     "output_type": "error",
     "traceback": [
      "\u001b[1;31m---------------------------------------------------------------------------\u001b[0m",
      "\u001b[1;31mTypeError\u001b[0m                                 Traceback (most recent call last)",
      "\u001b[1;32m<ipython-input-304-f2c486c987b2>\u001b[0m in \u001b[0;36m<module>\u001b[1;34m\u001b[0m\n\u001b[0;32m      1\u001b[0m \u001b[0ma\u001b[0m\u001b[1;33m=\u001b[0m\u001b[1;34m'a1'\u001b[0m\u001b[1;33m\u001b[0m\u001b[1;33m\u001b[0m\u001b[0m\n\u001b[0;32m      2\u001b[0m \u001b[0mb\u001b[0m\u001b[1;33m=\u001b[0m\u001b[1;36m2\u001b[0m\u001b[1;33m\u001b[0m\u001b[1;33m\u001b[0m\u001b[0m\n\u001b[1;32m----> 3\u001b[1;33m \u001b[0mprint\u001b[0m\u001b[1;33m(\u001b[0m\u001b[0ma\u001b[0m\u001b[1;33m+\u001b[0m\u001b[0mb\u001b[0m\u001b[1;33m)\u001b[0m\u001b[1;33m\u001b[0m\u001b[1;33m\u001b[0m\u001b[0m\n\u001b[0m",
      "\u001b[1;31mTypeError\u001b[0m: can only concatenate str (not \"int\") to str"
     ]
    }
   ],
   "source": [
    "a='a1'\n",
    "b=2\n",
    "print(a+b)"
   ]
  },
  {
   "cell_type": "code",
   "execution_count": 311,
   "metadata": {},
   "outputs": [
    {
     "name": "stdout",
     "output_type": "stream",
     "text": [
      "каждый\n",
      ",\n",
      "охотник\n",
      "желает\n",
      "знать\n",
      "где\n",
      "сидит\n",
      "фазан\n"
     ]
    }
   ],
   "source": [
    "rainbow_list = 'каждый , охотник желает знать где сидит фазан'.split()\n",
    "for word in rainbow_list:\n",
    "    print(word)"
   ]
  },
  {
   "cell_type": "code",
   "execution_count": 351,
   "metadata": {},
   "outputs": [
    {
     "name": "stdout",
     "output_type": "stream",
     "text": [
      "устройство\n"
     ]
    }
   ],
   "source": [
    "proverb = 'Программисты - это устройства, преобразующие кофеин в код.'\n",
    "#for letter in proverb:\n",
    "print(proverb.split()[3][0:-2]+'о')"
   ]
  },
  {
   "cell_type": "code",
   "execution_count": 352,
   "metadata": {},
   "outputs": [
    {
     "name": "stdout",
     "output_type": "stream",
     "text": [
      "каждый\n",
      "охотник\n",
      "желает\n",
      "знать\n",
      "где\n",
      "сидит\n",
      "фазан\n"
     ]
    }
   ],
   "source": [
    "rainbow_list = 'каждый охотник желает знать где сидит фазан'.split()\n",
    "for word in rainbow_list:\n",
    "    print(word)"
   ]
  },
  {
   "cell_type": "code",
   "execution_count": 399,
   "metadata": {},
   "outputs": [
    {
     "name": "stdout",
     "output_type": "stream",
     "text": [
      "рПгоарммсиыт- э оту тсорсйвт,ап ербоарузщюеик фоие н вок.д"
     ]
    }
   ],
   "source": [
    "proverb = 'Программисты - это устройства, преобразующие кофеин в код.'\n",
    "wrd='П'\n",
    "for i, letter in enumerate(proverb):\n",
    "    if i%2==0:\n",
    "        wrd=proverb[i+1]\n",
    "    \n",
    "    else:\n",
    "        wrd=proverb[i-1]\n",
    "    print(wrd,end='')"
   ]
  },
  {
   "cell_type": "code",
   "execution_count": 412,
   "metadata": {},
   "outputs": [
    {
     "name": "stdout",
     "output_type": "stream",
     "text": [
      "рПгоарммсиыт- э оту тсорсйвт,ап ербоарузщюеик фоие н вок.д"
     ]
    }
   ],
   "source": [
    "proverb = 'Программисты - это устройства, преобразующие кофеин в код.'\n",
    "new_proverb =''\n",
    "for i, letter in enumerate(proverb):\n",
    "    if i%2==0:\n",
    "        new_proverb1 =proverb[i+1]\n",
    "    \n",
    "    else:\n",
    "        new_proverb1 =proverb[i-1]\n",
    "    new_proverb=print(new_proverb1,end='')\n"
   ]
  },
  {
   "cell_type": "code",
   "execution_count": 1,
   "metadata": {},
   "outputs": [
    {
     "name": "stdout",
     "output_type": "stream",
     "text": [
      "рПгоарммсиыт- э оту тсорсйвт,ап ербоарузщюеик фоие н вок.д\n"
     ]
    }
   ],
   "source": [
    "proverb = 'Программисты - это устройства, преобразующие кофеин в код.'\n",
    "new_proverb =''\n",
    "for i in range(0,len(proverb),2):\n",
    "    new_proverb+=(proverb[i+1]+proverb[i])\n",
    "print(new_proverb)"
   ]
  },
  {
   "cell_type": "code",
   "execution_count": 8,
   "metadata": {},
   "outputs": [
    {
     "name": "stdout",
     "output_type": "stream",
     "text": [
      "[123.987, 11.22, 6.02, 2.71, 3.14]\n"
     ]
    }
   ],
   "source": [
    "new_numbers = []\n",
    "for number in '3,14 2,71 6,02 11,22 123,987'.split():\n",
    "    new_numbers.append(float(number.replace(',', '.')))\n",
    "print(new_numbers[::-1])"
   ]
  },
  {
   "cell_type": "code",
   "execution_count": 15,
   "metadata": {},
   "outputs": [
    {
     "name": "stdout",
     "output_type": "stream",
     "text": [
      ": . , - ! ? [':', '.', ',', '-', '!', '?']\n",
      "Тяжёлая интернет:)зависимость :) это когда ты выходишь из интернета:) а он из тебя нет:)\n"
     ]
    }
   ],
   "source": [
    "string = 'Тяжёлая интернет-зависимость - это когда ты выходишь из интернета, а он из тебя нет.'\n",
    "a=': . , - ! ?'\n",
    "b=': . , - ! ?'.split()\n",
    "print(a, b)\n",
    "for i in b:\n",
    "    string = string.replace(i,':)')\n",
    "print(string)\n"
   ]
  },
  {
   "cell_type": "code",
   "execution_count": 1,
   "metadata": {},
   "outputs": [
    {
     "name": "stdout",
     "output_type": "stream",
     "text": [
      "С - согласная буква\n",
      "е - гласная буква\n",
      "в - согласная буква\n",
      "а - гласная буква\n",
      "с - согласная буква\n",
      "т - согласная буква\n",
      "и - гласная буква\n",
      "а - гласная буква\n",
      "н - согласная буква\n"
     ]
    }
   ],
   "source": [
    "name = 'Севастиан'\n",
    "gl = 'ёуеыаоэяию'\n",
    "for i in name:\n",
    "    if i.lower() in gl:\n",
    "        print(i,'- гласная буква')\n",
    "    else:\n",
    "        print(i,'- согласная буква')"
   ]
  },
  {
   "cell_type": "code",
   "execution_count": 17,
   "metadata": {},
   "outputs": [
    {
     "name": "stdout",
     "output_type": "stream",
     "text": [
      "красный\n",
      "оранжевый\n",
      "жёлтый\n",
      "зелёный\n",
      "голубой\n",
      "Есть синий!!!!!!!!!\n",
      "синий\n",
      "фиолетовый\n"
     ]
    }
   ],
   "source": [
    "rainbow_dict = {'каждый': 'красный', \n",
    "                'охотник': 'оранжевый', \n",
    "                'желает': 'жёлтый', \n",
    "                'знать': 'зелёный', \n",
    "                'где': 'голубой', \n",
    "                'сидит': 'синий', \n",
    "                'фазан': 'фиолетовый'}\n",
    "\n",
    "# Перебираем ключи\n",
    "for word in rainbow_dict.values():\n",
    "    if word == 'синий':\n",
    "        print('Есть синий!!!!!!!!!')\n",
    "    print(word)"
   ]
  },
  {
   "cell_type": "code",
   "execution_count": 22,
   "metadata": {},
   "outputs": [
    {
     "ename": "AttributeError",
     "evalue": "'dict' object has no attribute 'find'",
     "output_type": "error",
     "traceback": [
      "\u001b[1;31m---------------------------------------------------------------------------\u001b[0m",
      "\u001b[1;31mAttributeError\u001b[0m                            Traceback (most recent call last)",
      "\u001b[1;32m<ipython-input-22-f0a298f0d638>\u001b[0m in \u001b[0;36m<module>\u001b[1;34m\u001b[0m\n\u001b[0;32m      6\u001b[0m                 \u001b[1;34m'сидит'\u001b[0m\u001b[1;33m:\u001b[0m \u001b[1;34m'синий'\u001b[0m\u001b[1;33m,\u001b[0m\u001b[1;33m\u001b[0m\u001b[1;33m\u001b[0m\u001b[0m\n\u001b[0;32m      7\u001b[0m                 'фазан': 'фиолетовый'}\n\u001b[1;32m----> 8\u001b[1;33m \u001b[0mpos\u001b[0m \u001b[1;33m=\u001b[0m \u001b[0mrainbow_dict\u001b[0m\u001b[1;33m.\u001b[0m\u001b[0mfind\u001b[0m\u001b[1;33m(\u001b[0m\u001b[1;34m'Ж'\u001b[0m\u001b[1;33m)\u001b[0m\u001b[1;33m\u001b[0m\u001b[1;33m\u001b[0m\u001b[0m\n\u001b[0m\u001b[0;32m      9\u001b[0m \u001b[0mprint\u001b[0m\u001b[1;33m(\u001b[0m\u001b[0mpos\u001b[0m\u001b[1;33m)\u001b[0m\u001b[1;33m\u001b[0m\u001b[1;33m\u001b[0m\u001b[0m\n",
      "\u001b[1;31mAttributeError\u001b[0m: 'dict' object has no attribute 'find'"
     ]
    }
   ],
   "source": [
    "rainbow_dict = [rf;lsq j[jnybr ;tkftn pyfnm]\n",
    "pos = rainbow_dict.find('Ж')\n",
    "print(pos)"
   ]
  },
  {
   "cell_type": "code",
   "execution_count": null,
   "metadata": {},
   "outputs": [],
   "source": [
    "proverbs = ['Без труда не вытянешь и рыбку из пруда', \n",
    "            'Терпение и труд всё перетрут', \n",
    "            'Работа не волк - в лес не убежит', \n",
    "            'Чем труднее дело, тем выше честь', \n",
    "            'Учиться, учиться и учиться!']\n",
    "\n",
    "counter = 0\n",
    "for proverb in proverbs:\n",
    "    if 'труд' in proverb:\n",
    "        counter += 1\n",
    "print(counter)"
   ]
  },
  {
   "cell_type": "code",
   "execution_count": 94,
   "metadata": {},
   "outputs": [
    {
     "name": "stdout",
     "output_type": "stream",
     "text": [
      "18\n",
      "7\n",
      "-1\n"
     ]
    }
   ],
   "source": [
    "proverb = 'Хорошо написанная программа - это программа, написанная 2 раза'\n",
    "\n",
    "while True:\n",
    "    index = proverb.find('программа')\n",
    "    print(index)\n",
    "    if index == -1:\n",
    "        break\n",
    "    secret = proverb[:index].split()[-1]\n",
    "    proverb = proverb[index+9:]"
   ]
  },
  {
   "cell_type": "code",
   "execution_count": 62,
   "metadata": {},
   "outputs": [
    {
     "name": "stdout",
     "output_type": "stream",
     "text": [
      "4\n"
     ]
    }
   ],
   "source": [
    "test=[]\n",
    "import re\n",
    "text = 'Разработка языка Python была начата в конце 1980-х годов сотрудником голландского института CWI Гвидо ван Россумом. Для распределённой ОС Amoeba требовался расширяемый скриптовый язык, и Гвидо начал писать Python на досуге, позаимствовав некоторые наработки для языка ABC (Гвидо участвовал в разработке этого языка, ориентированного на обучение программированию). В феврале 1991 года Гвидо опубликовал исходный текст в группе новостей alt.sources. Название языка произошло вовсе не от вида пресмыкающихся. Автор назвал язык в честь популярного британского комедийного телешоу 1970-х \"Летающий цирк Монти Пайтона\".'\n",
    "pattern = re.compile('\\w+[а]\\D\\w[и]\\w+')\n",
    "test=pattern.findall(text)\n",
    "print(len(test))\n"
   ]
  },
  {
   "cell_type": "code",
   "execution_count": 2,
   "metadata": {},
   "outputs": [
    {
     "name": "stdout",
     "output_type": "stream",
     "text": [
      "22\n"
     ]
    }
   ],
   "source": [
    "test=[]\n",
    "import re\n",
    "text = 'Разработка языка Python была начата в конце 1980-х годов сотрудником голландского института CWI Гвидо ван Россумом. Для распределённой ОС Amoeba требовался расширяемый скриптовый язык, и Гвидо начал писать Python на досуге, позаимствовав некоторые наработки для языка ABC (Гвидо участвовал в разработке этого языка, ориентированного на обучение программированию). В феврале 1991 года Гвидо опубликовал исходный текст в группе новостей alt.sources. Название языка произошло вовсе не от вида пресмыкающихся. Автор назвал язык в честь популярного британского комедийного телешоу 1970-х \"Летающий цирк Монти Пайтона\".'\n",
    "pattern = re.compile('\\w+[йуеыаоэяию]\\s[цкнгшзхфвпрлджчсмтб]\\D')\n",
    "test=pattern.findall(text)\n",
    "print(len(test))\n"
   ]
  },
  {
   "cell_type": "code",
   "execution_count": 131,
   "metadata": {},
   "outputs": [
    {
     "name": "stdout",
     "output_type": "stream",
     "text": [
      "Мальчиков: 427, девочек: 118\n"
     ]
    }
   ],
   "source": [
    "f = open('StudentsPerformance.csv')\n",
    "males = 0\n",
    "females = 0\n",
    "for line in f:\n",
    "    #print(line.split(','))\n",
    "    if line.split(',')[2][1:8] == 'bachelo':\n",
    "        females += 1\n",
    "    elif line.split(',')[0][1:-1] == 'male':\n",
    "        males +=1\n",
    "print('Мальчиков: {}, девочек: {}'.format(males, females))\n",
    "        \n",
    "f.close()"
   ]
  },
  {
   "cell_type": "code",
   "execution_count": 316,
   "metadata": {},
   "outputs": [
    {
     "name": "stdout",
     "output_type": "stream",
     "text": [
      "['\"gender\"', '\"race/ethnicity\"', '\"parental level of education\"', '\"lunch\"', '\"test preparation course\"', '\"math score\"', '\"reading score\"', '\"writing score\"\\n']\n",
      "['\"female\"', '\"group B\"', '\"bachelor\\'s degree\"', '\"standard\"', '\"none\"', '\"72\"', '\"72\"', '\"74\"\\n']\n",
      "['\"female\"', '\"group C\"', '\"some college\"', '\"standard\"', '\"completed\"', '\"69\"', '\"90\"', '\"88\"\\n']\n",
      "['\"female\"', '\"group B\"', '\"master\\'s degree\"', '\"standard\"', '\"none\"', '\"90\"', '\"95\"', '\"93\"\\n']\n",
      "['\"male\"', '\"group A\"', '\"associate\\'s degree\"', '\"free/reduced\"', '\"none\"', '\"47\"', '\"57\"', '\"44\"\\n']\n",
      "['\"male\"', '\"group C\"', '\"some college\"', '\"standard\"', '\"none\"', '\"76\"', '\"78\"', '\"75\"\\n']\n",
      "['\"female\"', '\"group B\"', '\"associate\\'s degree\"', '\"standard\"', '\"none\"', '\"71\"', '\"83\"', '\"78\"\\n']\n",
      "['\"female\"', '\"group B\"', '\"some college\"', '\"standard\"', '\"completed\"', '\"88\"', '\"95\"', '\"92\"\\n']\n",
      "['\"male\"', '\"group B\"', '\"some college\"', '\"free/reduced\"', '\"none\"', '\"40\"', '\"43\"', '\"39\"\\n']\n",
      "['\"male\"', '\"group D\"', '\"high school\"', '\"free/reduced\"', '\"completed\"', '\"64\"', '\"64\"', '\"67\"\\n']\n",
      "['\"female\"', '\"group B\"', '\"high school\"', '\"free/reduced\"', '\"none\"', '\"38\"', '\"60\"', '\"50\"\\n']\n",
      "['\"male\"', '\"group C\"', '\"associate\\'s degree\"', '\"standard\"', '\"none\"', '\"58\"', '\"54\"', '\"52\"\\n']\n",
      "['\"male\"', '\"group D\"', '\"associate\\'s degree\"', '\"standard\"', '\"none\"', '\"40\"', '\"52\"', '\"43\"\\n']\n",
      "['\"female\"', '\"group B\"', '\"high school\"', '\"standard\"', '\"none\"', '\"65\"', '\"81\"', '\"73\"\\n']\n",
      "['\"male\"', '\"group A\"', '\"some college\"', '\"standard\"', '\"completed\"', '\"78\"', '\"72\"', '\"70\"\\n']\n",
      "['\"female\"', '\"group A\"', '\"master\\'s degree\"', '\"standard\"', '\"none\"', '\"50\"', '\"53\"', '\"58\"\\n']\n",
      "['\"female\"', '\"group C\"', '\"some high school\"', '\"standard\"', '\"none\"', '\"69\"', '\"75\"', '\"78\"\\n']\n",
      "['\"male\"', '\"group C\"', '\"high school\"', '\"standard\"', '\"none\"', '\"88\"', '\"89\"', '\"86\"\\n']\n",
      "['\"female\"', '\"group B\"', '\"some high school\"', '\"free/reduced\"', '\"none\"', '\"18\"', '\"32\"', '\"28\"\\n']\n",
      "['\"male\"', '\"group C\"', '\"master\\'s degree\"', '\"free/reduced\"', '\"completed\"', '\"46\"', '\"42\"', '\"46\"\\n']\n",
      "['\"female\"', '\"group C\"', '\"associate\\'s degree\"', '\"free/reduced\"', '\"none\"', '\"54\"', '\"58\"', '\"61\"\\n']\n",
      "['\"male\"', '\"group D\"', '\"high school\"', '\"standard\"', '\"none\"', '\"66\"', '\"69\"', '\"63\"\\n']\n",
      "['\"female\"', '\"group B\"', '\"some college\"', '\"free/reduced\"', '\"completed\"', '\"65\"', '\"75\"', '\"70\"\\n']\n",
      "['\"male\"', '\"group D\"', '\"some college\"', '\"standard\"', '\"none\"', '\"44\"', '\"54\"', '\"53\"\\n']\n",
      "['\"female\"', '\"group C\"', '\"some high school\"', '\"standard\"', '\"none\"', '\"69\"', '\"73\"', '\"73\"\\n']\n",
      "['\"male\"', '\"group D\"', '\"bachelor\\'s degree\"', '\"free/reduced\"', '\"completed\"', '\"74\"', '\"71\"', '\"80\"\\n']\n",
      "['\"male\"', '\"group A\"', '\"master\\'s degree\"', '\"free/reduced\"', '\"none\"', '\"73\"', '\"74\"', '\"72\"\\n']\n",
      "['\"male\"', '\"group B\"', '\"some college\"', '\"standard\"', '\"none\"', '\"69\"', '\"54\"', '\"55\"\\n']\n",
      "['\"female\"', '\"group C\"', '\"bachelor\\'s degree\"', '\"standard\"', '\"none\"', '\"67\"', '\"69\"', '\"75\"\\n']\n",
      "['\"male\"', '\"group C\"', '\"high school\"', '\"standard\"', '\"none\"', '\"70\"', '\"70\"', '\"65\"\\n']\n",
      "['\"female\"', '\"group D\"', '\"master\\'s degree\"', '\"standard\"', '\"none\"', '\"62\"', '\"70\"', '\"75\"\\n']\n",
      "['\"female\"', '\"group D\"', '\"some college\"', '\"standard\"', '\"none\"', '\"69\"', '\"74\"', '\"74\"\\n']\n",
      "['\"female\"', '\"group B\"', '\"some college\"', '\"standard\"', '\"none\"', '\"63\"', '\"65\"', '\"61\"\\n']\n",
      "['\"female\"', '\"group E\"', '\"master\\'s degree\"', '\"free/reduced\"', '\"none\"', '\"56\"', '\"72\"', '\"65\"\\n']\n",
      "['\"male\"', '\"group D\"', '\"some college\"', '\"standard\"', '\"none\"', '\"40\"', '\"42\"', '\"38\"\\n']\n",
      "['\"male\"', '\"group E\"', '\"some college\"', '\"standard\"', '\"none\"', '\"97\"', '\"87\"', '\"82\"\\n']\n",
      "['\"male\"', '\"group E\"', '\"associate\\'s degree\"', '\"standard\"', '\"completed\"', '\"81\"', '\"81\"', '\"79\"\\n']\n",
      "['\"female\"', '\"group D\"', '\"associate\\'s degree\"', '\"standard\"', '\"none\"', '\"74\"', '\"81\"', '\"83\"\\n']\n",
      "['\"female\"', '\"group D\"', '\"some high school\"', '\"free/reduced\"', '\"none\"', '\"50\"', '\"64\"', '\"59\"\\n']\n",
      "['\"female\"', '\"group D\"', '\"associate\\'s degree\"', '\"free/reduced\"', '\"completed\"', '\"75\"', '\"90\"', '\"88\"\\n']\n",
      "['\"male\"', '\"group B\"', '\"associate\\'s degree\"', '\"free/reduced\"', '\"none\"', '\"57\"', '\"56\"', '\"57\"\\n']\n",
      "['\"male\"', '\"group C\"', '\"associate\\'s degree\"', '\"free/reduced\"', '\"none\"', '\"55\"', '\"61\"', '\"54\"\\n']\n",
      "['\"female\"', '\"group C\"', '\"associate\\'s degree\"', '\"standard\"', '\"none\"', '\"58\"', '\"73\"', '\"68\"\\n']\n",
      "['\"female\"', '\"group B\"', '\"associate\\'s degree\"', '\"standard\"', '\"none\"', '\"53\"', '\"58\"', '\"65\"\\n']\n",
      "['\"male\"', '\"group B\"', '\"some college\"', '\"free/reduced\"', '\"completed\"', '\"59\"', '\"65\"', '\"66\"\\n']\n",
      "['\"female\"', '\"group E\"', '\"associate\\'s degree\"', '\"free/reduced\"', '\"none\"', '\"50\"', '\"56\"', '\"54\"\\n']\n",
      "['\"male\"', '\"group B\"', '\"associate\\'s degree\"', '\"standard\"', '\"none\"', '\"65\"', '\"54\"', '\"57\"\\n']\n",
      "['\"female\"', '\"group A\"', '\"associate\\'s degree\"', '\"standard\"', '\"completed\"', '\"55\"', '\"65\"', '\"62\"\\n']\n",
      "['\"female\"', '\"group C\"', '\"high school\"', '\"standard\"', '\"none\"', '\"66\"', '\"71\"', '\"76\"\\n']\n",
      "['\"female\"', '\"group D\"', '\"associate\\'s degree\"', '\"free/reduced\"', '\"completed\"', '\"57\"', '\"74\"', '\"76\"\\n']\n",
      "['\"male\"', '\"group C\"', '\"high school\"', '\"standard\"', '\"completed\"', '\"82\"', '\"84\"', '\"82\"\\n']\n",
      "['\"male\"', '\"group E\"', '\"some college\"', '\"standard\"', '\"none\"', '\"53\"', '\"55\"', '\"48\"\\n']\n",
      "['\"male\"', '\"group E\"', '\"associate\\'s degree\"', '\"free/reduced\"', '\"completed\"', '\"77\"', '\"69\"', '\"68\"\\n']\n",
      "['\"male\"', '\"group C\"', '\"some college\"', '\"standard\"', '\"none\"', '\"53\"', '\"44\"', '\"42\"\\n']\n",
      "['\"male\"', '\"group D\"', '\"high school\"', '\"standard\"', '\"none\"', '\"88\"', '\"78\"', '\"75\"\\n']\n",
      "['\"female\"', '\"group C\"', '\"some high school\"', '\"free/reduced\"', '\"completed\"', '\"71\"', '\"84\"', '\"87\"\\n']\n",
      "['\"female\"', '\"group C\"', '\"high school\"', '\"free/reduced\"', '\"none\"', '\"33\"', '\"41\"', '\"43\"\\n']\n",
      "['\"female\"', '\"group E\"', '\"associate\\'s degree\"', '\"standard\"', '\"completed\"', '\"82\"', '\"85\"', '\"86\"\\n']\n",
      "['\"male\"', '\"group D\"', '\"associate\\'s degree\"', '\"standard\"', '\"none\"', '\"52\"', '\"55\"', '\"49\"\\n']\n",
      "['\"male\"', '\"group D\"', '\"some college\"', '\"standard\"', '\"completed\"', '\"58\"', '\"59\"', '\"58\"\\n']\n",
      "['\"female\"', '\"group C\"', '\"some high school\"', '\"free/reduced\"', '\"none\"', '\"0\"', '\"17\"', '\"10\"\\n']\n",
      "['\"male\"', '\"group E\"', '\"bachelor\\'s degree\"', '\"free/reduced\"', '\"completed\"', '\"79\"', '\"74\"', '\"72\"\\n']\n",
      "['\"male\"', '\"group A\"', '\"some high school\"', '\"free/reduced\"', '\"none\"', '\"39\"', '\"39\"', '\"34\"\\n']\n",
      "['\"male\"', '\"group A\"', '\"associate\\'s degree\"', '\"free/reduced\"', '\"none\"', '\"62\"', '\"61\"', '\"55\"\\n']\n",
      "['\"female\"', '\"group C\"', '\"associate\\'s degree\"', '\"standard\"', '\"none\"', '\"69\"', '\"80\"', '\"71\"\\n']\n",
      "['\"female\"', '\"group D\"', '\"some high school\"', '\"standard\"', '\"none\"', '\"59\"', '\"58\"', '\"59\"\\n']\n",
      "['\"male\"', '\"group B\"', '\"some high school\"', '\"standard\"', '\"none\"', '\"67\"', '\"64\"', '\"61\"\\n']\n",
      "['\"male\"', '\"group D\"', '\"some high school\"', '\"free/reduced\"', '\"none\"', '\"45\"', '\"37\"', '\"37\"\\n']\n",
      "['\"female\"', '\"group C\"', '\"some college\"', '\"standard\"', '\"none\"', '\"60\"', '\"72\"', '\"74\"\\n']\n",
      "['\"male\"', '\"group B\"', '\"associate\\'s degree\"', '\"free/reduced\"', '\"none\"', '\"61\"', '\"58\"', '\"56\"\\n']\n",
      "['\"female\"', '\"group C\"', '\"associate\\'s degree\"', '\"standard\"', '\"none\"', '\"39\"', '\"64\"', '\"57\"\\n']\n",
      "['\"female\"', '\"group D\"', '\"some college\"', '\"free/reduced\"', '\"completed\"', '\"58\"', '\"63\"', '\"73\"\\n']\n",
      "['\"male\"', '\"group D\"', '\"some college\"', '\"standard\"', '\"completed\"', '\"63\"', '\"55\"', '\"63\"\\n']\n",
      "['\"female\"', '\"group A\"', '\"associate\\'s degree\"', '\"free/reduced\"', '\"none\"', '\"41\"', '\"51\"', '\"48\"\\n']\n",
      "['\"male\"', '\"group C\"', '\"some high school\"', '\"free/reduced\"', '\"none\"', '\"61\"', '\"57\"', '\"56\"\\n']\n",
      "['\"male\"', '\"group C\"', '\"some high school\"', '\"standard\"', '\"none\"', '\"49\"', '\"49\"', '\"41\"\\n']\n",
      "['\"male\"', '\"group B\"', '\"associate\\'s degree\"', '\"free/reduced\"', '\"none\"', '\"44\"', '\"41\"', '\"38\"\\n']\n",
      "['\"male\"', '\"group E\"', '\"some high school\"', '\"standard\"', '\"none\"', '\"30\"', '\"26\"', '\"22\"\\n']\n",
      "['\"male\"', '\"group A\"', '\"bachelor\\'s degree\"', '\"standard\"', '\"completed\"', '\"80\"', '\"78\"', '\"81\"\\n']\n",
      "['\"female\"', '\"group D\"', '\"some high school\"', '\"standard\"', '\"completed\"', '\"61\"', '\"74\"', '\"72\"\\n']\n",
      "['\"female\"', '\"group E\"', '\"master\\'s degree\"', '\"standard\"', '\"none\"', '\"62\"', '\"68\"', '\"68\"\\n']\n",
      "['\"female\"', '\"group B\"', '\"associate\\'s degree\"', '\"standard\"', '\"none\"', '\"47\"', '\"49\"', '\"50\"\\n']\n",
      "['\"male\"', '\"group B\"', '\"high school\"', '\"free/reduced\"', '\"none\"', '\"49\"', '\"45\"', '\"45\"\\n']\n",
      "['\"male\"', '\"group A\"', '\"some college\"', '\"free/reduced\"', '\"completed\"', '\"50\"', '\"47\"', '\"54\"\\n']\n",
      "['\"male\"', '\"group E\"', '\"associate\\'s degree\"', '\"standard\"', '\"none\"', '\"72\"', '\"64\"', '\"63\"\\n']\n",
      "['\"male\"', '\"group D\"', '\"high school\"', '\"free/reduced\"', '\"none\"', '\"42\"', '\"39\"', '\"34\"\\n']\n",
      "['\"female\"', '\"group C\"', '\"some college\"', '\"standard\"', '\"none\"', '\"73\"', '\"80\"', '\"82\"\\n']\n",
      "['\"female\"', '\"group C\"', '\"some college\"', '\"free/reduced\"', '\"none\"', '\"76\"', '\"83\"', '\"88\"\\n']\n",
      "['\"female\"', '\"group D\"', '\"associate\\'s degree\"', '\"standard\"', '\"none\"', '\"71\"', '\"71\"', '\"74\"\\n']\n",
      "['\"female\"', '\"group A\"', '\"some college\"', '\"standard\"', '\"none\"', '\"58\"', '\"70\"', '\"67\"\\n']\n",
      "['\"female\"', '\"group D\"', '\"some high school\"', '\"standard\"', '\"none\"', '\"73\"', '\"86\"', '\"82\"\\n']\n",
      "['\"female\"', '\"group C\"', '\"bachelor\\'s degree\"', '\"standard\"', '\"none\"', '\"65\"', '\"72\"', '\"74\"\\n']\n",
      "['\"male\"', '\"group C\"', '\"high school\"', '\"free/reduced\"', '\"none\"', '\"27\"', '\"34\"', '\"36\"\\n']\n",
      "['\"male\"', '\"group C\"', '\"high school\"', '\"standard\"', '\"none\"', '\"71\"', '\"79\"', '\"71\"\\n']\n",
      "['\"male\"', '\"group C\"', '\"associate\\'s degree\"', '\"free/reduced\"', '\"completed\"', '\"43\"', '\"45\"', '\"50\"\\n']\n",
      "['\"female\"', '\"group B\"', '\"some college\"', '\"standard\"', '\"none\"', '\"79\"', '\"86\"', '\"92\"\\n']\n",
      "['\"male\"', '\"group C\"', '\"associate\\'s degree\"', '\"free/reduced\"', '\"completed\"', '\"78\"', '\"81\"', '\"82\"\\n']\n",
      "['\"male\"', '\"group B\"', '\"some high school\"', '\"standard\"', '\"completed\"', '\"65\"', '\"66\"', '\"62\"\\n']\n",
      "['\"female\"', '\"group E\"', '\"some college\"', '\"standard\"', '\"completed\"', '\"63\"', '\"72\"', '\"70\"\\n']\n",
      "['\"female\"', '\"group D\"', '\"some college\"', '\"free/reduced\"', '\"none\"', '\"58\"', '\"67\"', '\"62\"\\n']\n",
      "['\"female\"', '\"group D\"', '\"bachelor\\'s degree\"', '\"standard\"', '\"none\"', '\"65\"', '\"67\"', '\"62\"\\n']\n",
      "['\"male\"', '\"group B\"', '\"some college\"', '\"standard\"', '\"none\"', '\"79\"', '\"67\"', '\"67\"\\n']\n",
      "['\"male\"', '\"group D\"', '\"bachelor\\'s degree\"', '\"standard\"', '\"completed\"', '\"68\"', '\"74\"', '\"74\"\\n']\n",
      "['\"female\"', '\"group D\"', '\"associate\\'s degree\"', '\"standard\"', '\"none\"', '\"85\"', '\"91\"', '\"89\"\\n']\n",
      "['\"male\"', '\"group B\"', '\"high school\"', '\"standard\"', '\"completed\"', '\"60\"', '\"44\"', '\"47\"\\n']\n",
      "['\"male\"', '\"group C\"', '\"some college\"', '\"standard\"', '\"completed\"', '\"98\"', '\"86\"', '\"90\"\\n']\n",
      "['\"female\"', '\"group C\"', '\"some college\"', '\"standard\"', '\"none\"', '\"58\"', '\"67\"', '\"72\"\\n']\n",
      "['\"female\"', '\"group D\"', '\"master\\'s degree\"', '\"standard\"', '\"none\"', '\"87\"', '\"100\"', '\"100\"\\n']\n",
      "['\"male\"', '\"group E\"', '\"associate\\'s degree\"', '\"standard\"', '\"completed\"', '\"66\"', '\"63\"', '\"64\"\\n']\n",
      "['\"female\"', '\"group B\"', '\"associate\\'s degree\"', '\"free/reduced\"', '\"none\"', '\"52\"', '\"76\"', '\"70\"\\n']\n",
      "['\"female\"', '\"group B\"', '\"some high school\"', '\"standard\"', '\"none\"', '\"70\"', '\"64\"', '\"72\"\\n']\n",
      "['\"female\"', '\"group D\"', '\"associate\\'s degree\"', '\"free/reduced\"', '\"completed\"', '\"77\"', '\"89\"', '\"98\"\\n']\n",
      "['\"male\"', '\"group C\"', '\"high school\"', '\"standard\"', '\"none\"', '\"62\"', '\"55\"', '\"49\"\\n']\n",
      "['\"male\"', '\"group A\"', '\"associate\\'s degree\"', '\"standard\"', '\"none\"', '\"54\"', '\"53\"', '\"47\"\\n']\n",
      "['\"female\"', '\"group D\"', '\"some college\"', '\"standard\"', '\"none\"', '\"51\"', '\"58\"', '\"54\"\\n']\n",
      "['\"female\"', '\"group E\"', '\"bachelor\\'s degree\"', '\"standard\"', '\"completed\"', '\"99\"', '\"100\"', '\"100\"\\n']\n",
      "['\"male\"', '\"group C\"', '\"high school\"', '\"standard\"', '\"none\"', '\"84\"', '\"77\"', '\"74\"\\n']\n",
      "['\"female\"', '\"group B\"', '\"bachelor\\'s degree\"', '\"free/reduced\"', '\"none\"', '\"75\"', '\"85\"', '\"82\"\\n']\n",
      "['\"female\"', '\"group D\"', '\"bachelor\\'s degree\"', '\"standard\"', '\"none\"', '\"78\"', '\"82\"', '\"79\"\\n']\n",
      "['\"female\"', '\"group D\"', '\"some high school\"', '\"standard\"', '\"none\"', '\"51\"', '\"63\"', '\"61\"\\n']\n",
      "['\"female\"', '\"group C\"', '\"some college\"', '\"standard\"', '\"none\"', '\"55\"', '\"69\"', '\"65\"\\n']\n",
      "['\"female\"', '\"group C\"', '\"bachelor\\'s degree\"', '\"standard\"', '\"completed\"', '\"79\"', '\"92\"', '\"89\"\\n']\n",
      "['\"male\"', '\"group B\"', '\"associate\\'s degree\"', '\"standard\"', '\"completed\"', '\"91\"', '\"89\"', '\"92\"\\n']\n",
      "['\"female\"', '\"group C\"', '\"some college\"', '\"standard\"', '\"completed\"', '\"88\"', '\"93\"', '\"93\"\\n']\n",
      "['\"male\"', '\"group D\"', '\"high school\"', '\"free/reduced\"', '\"none\"', '\"63\"', '\"57\"', '\"56\"\\n']\n",
      "['\"male\"', '\"group E\"', '\"some college\"', '\"standard\"', '\"none\"', '\"83\"', '\"80\"', '\"73\"\\n']\n",
      "['\"female\"', '\"group B\"', '\"high school\"', '\"standard\"', '\"none\"', '\"87\"', '\"95\"', '\"86\"\\n']\n",
      "['\"male\"', '\"group B\"', '\"some high school\"', '\"standard\"', '\"none\"', '\"72\"', '\"68\"', '\"67\"\\n']\n",
      "['\"male\"', '\"group D\"', '\"some college\"', '\"standard\"', '\"completed\"', '\"65\"', '\"77\"', '\"74\"\\n']\n",
      "['\"male\"', '\"group D\"', '\"master\\'s degree\"', '\"standard\"', '\"none\"', '\"82\"', '\"82\"', '\"74\"\\n']\n",
      "['\"female\"', '\"group A\"', '\"bachelor\\'s degree\"', '\"standard\"', '\"none\"', '\"51\"', '\"49\"', '\"51\"\\n']\n",
      "['\"male\"', '\"group D\"', '\"master\\'s degree\"', '\"standard\"', '\"none\"', '\"89\"', '\"84\"', '\"82\"\\n']\n",
      "['\"male\"', '\"group C\"', '\"some high school\"', '\"free/reduced\"', '\"completed\"', '\"53\"', '\"37\"', '\"40\"\\n']\n",
      "['\"male\"', '\"group E\"', '\"some college\"', '\"free/reduced\"', '\"completed\"', '\"87\"', '\"74\"', '\"70\"\\n']\n",
      "['\"female\"', '\"group C\"', '\"some college\"', '\"standard\"', '\"completed\"', '\"75\"', '\"81\"', '\"84\"\\n']\n",
      "['\"male\"', '\"group D\"', '\"bachelor\\'s degree\"', '\"free/reduced\"', '\"completed\"', '\"74\"', '\"79\"', '\"75\"\\n']\n",
      "['\"male\"', '\"group C\"', '\"bachelor\\'s degree\"', '\"standard\"', '\"none\"', '\"58\"', '\"55\"', '\"48\"\\n']\n",
      "['\"male\"', '\"group B\"', '\"some high school\"', '\"standard\"', '\"completed\"', '\"51\"', '\"54\"', '\"41\"\\n']\n",
      "['\"male\"', '\"group E\"', '\"high school\"', '\"standard\"', '\"none\"', '\"70\"', '\"55\"', '\"56\"\\n']\n",
      "['\"female\"', '\"group C\"', '\"associate\\'s degree\"', '\"standard\"', '\"none\"', '\"59\"', '\"66\"', '\"67\"\\n']\n",
      "['\"male\"', '\"group D\"', '\"some college\"', '\"standard\"', '\"completed\"', '\"71\"', '\"61\"', '\"69\"\\n']\n",
      "['\"female\"', '\"group D\"', '\"some high school\"', '\"standard\"', '\"none\"', '\"76\"', '\"72\"', '\"71\"\\n']\n",
      "['\"female\"', '\"group C\"', '\"some college\"', '\"free/reduced\"', '\"none\"', '\"59\"', '\"62\"', '\"64\"\\n']\n",
      "['\"female\"', '\"group E\"', '\"some college\"', '\"free/reduced\"', '\"completed\"', '\"42\"', '\"55\"', '\"54\"\\n']\n",
      "['\"male\"', '\"group A\"', '\"high school\"', '\"standard\"', '\"none\"', '\"57\"', '\"43\"', '\"47\"\\n']\n",
      "['\"male\"', '\"group D\"', '\"some college\"', '\"standard\"', '\"none\"', '\"88\"', '\"73\"', '\"78\"\\n']\n",
      "['\"female\"', '\"group C\"', '\"some college\"', '\"free/reduced\"', '\"none\"', '\"22\"', '\"39\"', '\"33\"\\n']\n",
      "['\"male\"', '\"group B\"', '\"some high school\"', '\"standard\"', '\"none\"', '\"88\"', '\"84\"', '\"75\"\\n']\n",
      "['\"male\"', '\"group C\"', '\"associate\\'s degree\"', '\"free/reduced\"', '\"none\"', '\"73\"', '\"68\"', '\"66\"\\n']\n",
      "['\"female\"', '\"group D\"', '\"bachelor\\'s degree\"', '\"standard\"', '\"completed\"', '\"68\"', '\"75\"', '\"81\"\\n']\n",
      "['\"male\"', '\"group E\"', '\"associate\\'s degree\"', '\"free/reduced\"', '\"completed\"', '\"100\"', '\"100\"', '\"93\"\\n']\n",
      "['\"male\"', '\"group A\"', '\"some high school\"', '\"standard\"', '\"completed\"', '\"62\"', '\"67\"', '\"69\"\\n']\n",
      "['\"male\"', '\"group A\"', '\"bachelor\\'s degree\"', '\"standard\"', '\"none\"', '\"77\"', '\"67\"', '\"68\"\\n']\n",
      "['\"female\"', '\"group B\"', '\"associate\\'s degree\"', '\"standard\"', '\"completed\"', '\"59\"', '\"70\"', '\"66\"\\n']\n",
      "['\"male\"', '\"group D\"', '\"bachelor\\'s degree\"', '\"standard\"', '\"none\"', '\"54\"', '\"49\"', '\"47\"\\n']\n",
      "['\"male\"', '\"group D\"', '\"some high school\"', '\"standard\"', '\"none\"', '\"62\"', '\"67\"', '\"61\"\\n']\n",
      "['\"female\"', '\"group C\"', '\"some college\"', '\"standard\"', '\"completed\"', '\"70\"', '\"89\"', '\"88\"\\n']\n",
      "['\"female\"', '\"group E\"', '\"high school\"', '\"free/reduced\"', '\"completed\"', '\"66\"', '\"74\"', '\"78\"\\n']\n",
      "['\"male\"', '\"group B\"', '\"some college\"', '\"free/reduced\"', '\"none\"', '\"60\"', '\"60\"', '\"60\"\\n']\n",
      "['\"female\"', '\"group B\"', '\"associate\\'s degree\"', '\"standard\"', '\"completed\"', '\"61\"', '\"86\"', '\"87\"\\n']\n",
      "['\"male\"', '\"group D\"', '\"associate\\'s degree\"', '\"free/reduced\"', '\"none\"', '\"66\"', '\"62\"', '\"64\"\\n']\n",
      "['\"male\"', '\"group B\"', '\"associate\\'s degree\"', '\"free/reduced\"', '\"completed\"', '\"82\"', '\"78\"', '\"74\"\\n']\n",
      "['\"female\"', '\"group E\"', '\"some college\"', '\"free/reduced\"', '\"completed\"', '\"75\"', '\"88\"', '\"85\"\\n']\n",
      "['\"male\"', '\"group B\"', '\"master\\'s degree\"', '\"free/reduced\"', '\"none\"', '\"49\"', '\"53\"', '\"52\"\\n']\n",
      "['\"male\"', '\"group C\"', '\"high school\"', '\"standard\"', '\"none\"', '\"52\"', '\"53\"', '\"49\"\\n']\n",
      "['\"female\"', '\"group E\"', '\"master\\'s degree\"', '\"standard\"', '\"none\"', '\"81\"', '\"92\"', '\"91\"\\n']\n",
      "['\"female\"', '\"group C\"', '\"bachelor\\'s degree\"', '\"standard\"', '\"completed\"', '\"96\"', '\"100\"', '\"100\"\\n']\n",
      "['\"male\"', '\"group C\"', '\"high school\"', '\"free/reduced\"', '\"completed\"', '\"53\"', '\"51\"', '\"51\"\\n']\n",
      "['\"female\"', '\"group B\"', '\"master\\'s degree\"', '\"free/reduced\"', '\"completed\"', '\"58\"', '\"76\"', '\"78\"\\n']\n",
      "['\"female\"', '\"group B\"', '\"high school\"', '\"standard\"', '\"completed\"', '\"68\"', '\"83\"', '\"78\"\\n']\n",
      "['\"female\"', '\"group C\"', '\"some college\"', '\"free/reduced\"', '\"completed\"', '\"67\"', '\"75\"', '\"70\"\\n']\n",
      "['\"male\"', '\"group A\"', '\"high school\"', '\"standard\"', '\"completed\"', '\"72\"', '\"73\"', '\"74\"\\n']\n",
      "['\"male\"', '\"group E\"', '\"some high school\"', '\"standard\"', '\"none\"', '\"94\"', '\"88\"', '\"78\"\\n']\n",
      "['\"female\"', '\"group D\"', '\"some college\"', '\"standard\"', '\"none\"', '\"79\"', '\"86\"', '\"81\"\\n']\n",
      "['\"female\"', '\"group C\"', '\"associate\\'s degree\"', '\"standard\"', '\"none\"', '\"63\"', '\"67\"', '\"70\"\\n']\n",
      "['\"female\"', '\"group C\"', '\"bachelor\\'s degree\"', '\"free/reduced\"', '\"completed\"', '\"43\"', '\"51\"', '\"54\"\\n']\n",
      "['\"female\"', '\"group C\"', '\"master\\'s degree\"', '\"standard\"', '\"completed\"', '\"81\"', '\"91\"', '\"87\"\\n']\n",
      "['\"female\"', '\"group B\"', '\"high school\"', '\"free/reduced\"', '\"completed\"', '\"46\"', '\"54\"', '\"58\"\\n']\n",
      "['\"female\"', '\"group C\"', '\"associate\\'s degree\"', '\"standard\"', '\"completed\"', '\"71\"', '\"77\"', '\"77\"\\n']\n",
      "['\"female\"', '\"group B\"', '\"master\\'s degree\"', '\"free/reduced\"', '\"completed\"', '\"52\"', '\"70\"', '\"62\"\\n']\n",
      "['\"female\"', '\"group D\"', '\"some high school\"', '\"standard\"', '\"completed\"', '\"97\"', '\"100\"', '\"100\"\\n']\n",
      "['\"male\"', '\"group C\"', '\"master\\'s degree\"', '\"free/reduced\"', '\"completed\"', '\"62\"', '\"68\"', '\"75\"\\n']\n",
      "['\"female\"', '\"group C\"', '\"some college\"', '\"free/reduced\"', '\"none\"', '\"46\"', '\"64\"', '\"66\"\\n']\n",
      "['\"female\"', '\"group E\"', '\"high school\"', '\"standard\"', '\"none\"', '\"50\"', '\"50\"', '\"47\"\\n']\n",
      "['\"female\"', '\"group D\"', '\"associate\\'s degree\"', '\"standard\"', '\"none\"', '\"65\"', '\"69\"', '\"70\"\\n']\n",
      "['\"male\"', '\"group C\"', '\"some high school\"', '\"free/reduced\"', '\"completed\"', '\"45\"', '\"52\"', '\"49\"\\n']\n",
      "['\"male\"', '\"group C\"', '\"associate\\'s degree\"', '\"free/reduced\"', '\"completed\"', '\"65\"', '\"67\"', '\"65\"\\n']\n",
      "['\"male\"', '\"group E\"', '\"high school\"', '\"standard\"', '\"none\"', '\"80\"', '\"76\"', '\"65\"\\n']\n",
      "['\"male\"', '\"group D\"', '\"some high school\"', '\"standard\"', '\"completed\"', '\"62\"', '\"66\"', '\"68\"\\n']\n",
      "['\"male\"', '\"group B\"', '\"some high school\"', '\"free/reduced\"', '\"none\"', '\"48\"', '\"52\"', '\"45\"\\n']\n",
      "['\"female\"', '\"group C\"', '\"bachelor\\'s degree\"', '\"standard\"', '\"none\"', '\"77\"', '\"88\"', '\"87\"\\n']\n",
      "['\"female\"', '\"group E\"', '\"associate\\'s degree\"', '\"standard\"', '\"none\"', '\"66\"', '\"65\"', '\"69\"\\n']\n",
      "['\"male\"', '\"group D\"', '\"some college\"', '\"standard\"', '\"completed\"', '\"76\"', '\"83\"', '\"79\"\\n']\n",
      "['\"female\"', '\"group B\"', '\"some high school\"', '\"standard\"', '\"none\"', '\"62\"', '\"64\"', '\"66\"\\n']\n",
      "['\"male\"', '\"group D\"', '\"some college\"', '\"standard\"', '\"completed\"', '\"77\"', '\"62\"', '\"62\"\\n']\n",
      "['\"female\"', '\"group C\"', '\"master\\'s degree\"', '\"standard\"', '\"completed\"', '\"69\"', '\"84\"', '\"85\"\\n']\n",
      "['\"male\"', '\"group D\"', '\"associate\\'s degree\"', '\"standard\"', '\"none\"', '\"61\"', '\"55\"', '\"52\"\\n']\n",
      "['\"male\"', '\"group C\"', '\"some high school\"', '\"free/reduced\"', '\"completed\"', '\"59\"', '\"69\"', '\"65\"\\n']\n",
      "['\"male\"', '\"group E\"', '\"high school\"', '\"free/reduced\"', '\"none\"', '\"55\"', '\"56\"', '\"51\"\\n']\n",
      "['\"female\"', '\"group B\"', '\"some college\"', '\"free/reduced\"', '\"none\"', '\"45\"', '\"53\"', '\"55\"\\n']\n",
      "['\"female\"', '\"group B\"', '\"bachelor\\'s degree\"', '\"free/reduced\"', '\"none\"', '\"78\"', '\"79\"', '\"76\"\\n']\n",
      "['\"female\"', '\"group C\"', '\"associate\\'s degree\"', '\"standard\"', '\"completed\"', '\"67\"', '\"84\"', '\"86\"\\n']\n",
      "['\"female\"', '\"group D\"', '\"some college\"', '\"free/reduced\"', '\"none\"', '\"65\"', '\"81\"', '\"77\"\\n']\n",
      "['\"male\"', '\"group C\"', '\"associate\\'s degree\"', '\"standard\"', '\"none\"', '\"69\"', '\"77\"', '\"69\"\\n']\n",
      "['\"female\"', '\"group B\"', '\"associate\\'s degree\"', '\"standard\"', '\"none\"', '\"57\"', '\"69\"', '\"68\"\\n']\n",
      "['\"male\"', '\"group C\"', '\"some college\"', '\"standard\"', '\"none\"', '\"59\"', '\"41\"', '\"42\"\\n']\n",
      "['\"male\"', '\"group D\"', '\"some high school\"', '\"standard\"', '\"completed\"', '\"74\"', '\"71\"', '\"78\"\\n']\n",
      "['\"male\"', '\"group E\"', '\"bachelor\\'s degree\"', '\"standard\"', '\"none\"', '\"82\"', '\"62\"', '\"62\"\\n']\n",
      "['\"male\"', '\"group E\"', '\"high school\"', '\"standard\"', '\"completed\"', '\"81\"', '\"80\"', '\"76\"\\n']\n",
      "['\"female\"', '\"group B\"', '\"some college\"', '\"free/reduced\"', '\"none\"', '\"74\"', '\"81\"', '\"76\"\\n']\n",
      "['\"female\"', '\"group B\"', '\"some college\"', '\"free/reduced\"', '\"none\"', '\"58\"', '\"61\"', '\"66\"\\n']\n",
      "['\"male\"', '\"group D\"', '\"some high school\"', '\"free/reduced\"', '\"completed\"', '\"80\"', '\"79\"', '\"79\"\\n']\n",
      "['\"male\"', '\"group C\"', '\"some college\"', '\"free/reduced\"', '\"none\"', '\"35\"', '\"28\"', '\"27\"\\n']\n",
      "['\"female\"', '\"group C\"', '\"high school\"', '\"free/reduced\"', '\"none\"', '\"42\"', '\"62\"', '\"60\"\\n']\n",
      "['\"male\"', '\"group C\"', '\"associate\\'s degree\"', '\"free/reduced\"', '\"completed\"', '\"60\"', '\"51\"', '\"56\"\\n']\n",
      "['\"male\"', '\"group E\"', '\"high school\"', '\"standard\"', '\"completed\"', '\"87\"', '\"91\"', '\"81\"\\n']\n",
      "['\"male\"', '\"group B\"', '\"some high school\"', '\"standard\"', '\"completed\"', '\"84\"', '\"83\"', '\"75\"\\n']\n",
      "['\"female\"', '\"group E\"', '\"associate\\'s degree\"', '\"free/reduced\"', '\"completed\"', '\"83\"', '\"86\"', '\"88\"\\n']\n",
      "['\"female\"', '\"group C\"', '\"high school\"', '\"free/reduced\"', '\"none\"', '\"34\"', '\"42\"', '\"39\"\\n']\n",
      "['\"male\"', '\"group B\"', '\"high school\"', '\"free/reduced\"', '\"none\"', '\"66\"', '\"77\"', '\"70\"\\n']\n",
      "['\"male\"', '\"group B\"', '\"some high school\"', '\"standard\"', '\"completed\"', '\"61\"', '\"56\"', '\"56\"\\n']\n",
      "['\"female\"', '\"group D\"', '\"high school\"', '\"standard\"', '\"completed\"', '\"56\"', '\"68\"', '\"74\"\\n']\n",
      "['\"male\"', '\"group B\"', '\"associate\\'s degree\"', '\"standard\"', '\"none\"', '\"87\"', '\"85\"', '\"73\"\\n']\n",
      "['\"female\"', '\"group C\"', '\"some high school\"', '\"free/reduced\"', '\"none\"', '\"55\"', '\"65\"', '\"62\"\\n']\n",
      "['\"male\"', '\"group D\"', '\"some high school\"', '\"standard\"', '\"none\"', '\"86\"', '\"80\"', '\"75\"\\n']\n",
      "['\"female\"', '\"group B\"', '\"associate\\'s degree\"', '\"standard\"', '\"completed\"', '\"52\"', '\"66\"', '\"73\"\\n']\n",
      "['\"female\"', '\"group E\"', '\"master\\'s degree\"', '\"free/reduced\"', '\"none\"', '\"45\"', '\"56\"', '\"54\"\\n']\n",
      "['\"female\"', '\"group C\"', '\"some college\"', '\"standard\"', '\"none\"', '\"72\"', '\"72\"', '\"71\"\\n']\n",
      "['\"male\"', '\"group D\"', '\"high school\"', '\"standard\"', '\"none\"', '\"57\"', '\"50\"', '\"54\"\\n']\n",
      "['\"male\"', '\"group A\"', '\"some high school\"', '\"free/reduced\"', '\"none\"', '\"68\"', '\"72\"', '\"64\"\\n']\n",
      "['\"female\"', '\"group C\"', '\"some college\"', '\"standard\"', '\"completed\"', '\"88\"', '\"95\"', '\"94\"\\n']\n",
      "['\"male\"', '\"group D\"', '\"some college\"', '\"standard\"', '\"none\"', '\"76\"', '\"64\"', '\"66\"\\n']\n",
      "['\"male\"', '\"group C\"', '\"associate\\'s degree\"', '\"standard\"', '\"none\"', '\"46\"', '\"43\"', '\"42\"\\n']\n",
      "['\"female\"', '\"group B\"', '\"bachelor\\'s degree\"', '\"standard\"', '\"none\"', '\"67\"', '\"86\"', '\"83\"\\n']\n",
      "['\"male\"', '\"group E\"', '\"some high school\"', '\"standard\"', '\"none\"', '\"92\"', '\"87\"', '\"78\"\\n']\n",
      "['\"male\"', '\"group C\"', '\"bachelor\\'s degree\"', '\"standard\"', '\"completed\"', '\"83\"', '\"82\"', '\"84\"\\n']\n",
      "['\"male\"', '\"group D\"', '\"associate\\'s degree\"', '\"standard\"', '\"none\"', '\"80\"', '\"75\"', '\"77\"\\n']\n",
      "['\"male\"', '\"group D\"', '\"bachelor\\'s degree\"', '\"free/reduced\"', '\"none\"', '\"63\"', '\"66\"', '\"67\"\\n']\n",
      "['\"female\"', '\"group D\"', '\"some high school\"', '\"standard\"', '\"completed\"', '\"64\"', '\"60\"', '\"74\"\\n']\n",
      "['\"male\"', '\"group B\"', '\"some college\"', '\"standard\"', '\"none\"', '\"54\"', '\"52\"', '\"51\"\\n']\n",
      "['\"male\"', '\"group C\"', '\"associate\\'s degree\"', '\"standard\"', '\"none\"', '\"84\"', '\"80\"', '\"80\"\\n']\n",
      "['\"male\"', '\"group D\"', '\"high school\"', '\"free/reduced\"', '\"completed\"', '\"73\"', '\"68\"', '\"66\"\\n']\n",
      "['\"female\"', '\"group E\"', '\"bachelor\\'s degree\"', '\"standard\"', '\"none\"', '\"80\"', '\"83\"', '\"83\"\\n']\n",
      "['\"female\"', '\"group D\"', '\"high school\"', '\"standard\"', '\"none\"', '\"56\"', '\"52\"', '\"55\"\\n']\n",
      "['\"male\"', '\"group E\"', '\"some college\"', '\"standard\"', '\"none\"', '\"59\"', '\"51\"', '\"43\"\\n']\n",
      "['\"male\"', '\"group D\"', '\"some high school\"', '\"standard\"', '\"none\"', '\"75\"', '\"74\"', '\"69\"\\n']\n",
      "['\"male\"', '\"group C\"', '\"associate\\'s degree\"', '\"standard\"', '\"none\"', '\"85\"', '\"76\"', '\"71\"\\n']\n",
      "['\"male\"', '\"group E\"', '\"associate\\'s degree\"', '\"standard\"', '\"none\"', '\"89\"', '\"76\"', '\"74\"\\n']\n",
      "['\"female\"', '\"group B\"', '\"high school\"', '\"standard\"', '\"completed\"', '\"58\"', '\"70\"', '\"68\"\\n']\n",
      "['\"female\"', '\"group B\"', '\"high school\"', '\"standard\"', '\"none\"', '\"65\"', '\"64\"', '\"62\"\\n']\n",
      "['\"male\"', '\"group C\"', '\"high school\"', '\"standard\"', '\"none\"', '\"68\"', '\"60\"', '\"53\"\\n']\n",
      "['\"male\"', '\"group A\"', '\"some high school\"', '\"standard\"', '\"completed\"', '\"47\"', '\"49\"', '\"49\"\\n']\n",
      "['\"female\"', '\"group D\"', '\"some college\"', '\"free/reduced\"', '\"none\"', '\"71\"', '\"83\"', '\"83\"\\n']\n",
      "['\"female\"', '\"group B\"', '\"some high school\"', '\"standard\"', '\"completed\"', '\"60\"', '\"70\"', '\"70\"\\n']\n",
      "['\"male\"', '\"group D\"', '\"master\\'s degree\"', '\"standard\"', '\"none\"', '\"80\"', '\"80\"', '\"72\"\\n']\n",
      "['\"male\"', '\"group D\"', '\"high school\"', '\"standard\"', '\"none\"', '\"54\"', '\"52\"', '\"52\"\\n']\n",
      "['\"female\"', '\"group E\"', '\"some college\"', '\"standard\"', '\"none\"', '\"62\"', '\"73\"', '\"70\"\\n']\n",
      "['\"female\"', '\"group C\"', '\"associate\\'s degree\"', '\"free/reduced\"', '\"none\"', '\"64\"', '\"73\"', '\"68\"\\n']\n",
      "['\"male\"', '\"group C\"', '\"associate\\'s degree\"', '\"standard\"', '\"completed\"', '\"78\"', '\"77\"', '\"77\"\\n']\n",
      "['\"female\"', '\"group B\"', '\"some college\"', '\"standard\"', '\"none\"', '\"70\"', '\"75\"', '\"78\"\\n']\n",
      "['\"female\"', '\"group C\"', '\"master\\'s degree\"', '\"free/reduced\"', '\"completed\"', '\"65\"', '\"81\"', '\"81\"\\n']\n",
      "['\"female\"', '\"group C\"', '\"some high school\"', '\"free/reduced\"', '\"completed\"', '\"64\"', '\"79\"', '\"77\"\\n']\n",
      "['\"male\"', '\"group C\"', '\"some college\"', '\"standard\"', '\"completed\"', '\"79\"', '\"79\"', '\"78\"\\n']\n",
      "['\"female\"', '\"group C\"', '\"some high school\"', '\"free/reduced\"', '\"none\"', '\"44\"', '\"50\"', '\"51\"\\n']\n",
      "['\"female\"', '\"group E\"', '\"high school\"', '\"standard\"', '\"none\"', '\"99\"', '\"93\"', '\"90\"\\n']\n",
      "['\"male\"', '\"group D\"', '\"high school\"', '\"standard\"', '\"none\"', '\"76\"', '\"73\"', '\"68\"\\n']\n",
      "['\"male\"', '\"group D\"', '\"some high school\"', '\"free/reduced\"', '\"none\"', '\"59\"', '\"42\"', '\"41\"\\n']\n",
      "['\"female\"', '\"group C\"', '\"bachelor\\'s degree\"', '\"standard\"', '\"none\"', '\"63\"', '\"75\"', '\"81\"\\n']\n",
      "['\"female\"', '\"group D\"', '\"high school\"', '\"standard\"', '\"none\"', '\"69\"', '\"72\"', '\"77\"\\n']\n",
      "['\"female\"', '\"group D\"', '\"associate\\'s degree\"', '\"standard\"', '\"completed\"', '\"88\"', '\"92\"', '\"95\"\\n']\n",
      "['\"female\"', '\"group E\"', '\"some college\"', '\"free/reduced\"', '\"none\"', '\"71\"', '\"76\"', '\"70\"\\n']\n",
      "['\"male\"', '\"group C\"', '\"bachelor\\'s degree\"', '\"standard\"', '\"none\"', '\"69\"', '\"63\"', '\"61\"\\n']\n",
      "['\"male\"', '\"group C\"', '\"some college\"', '\"standard\"', '\"none\"', '\"58\"', '\"49\"', '\"42\"\\n']\n",
      "['\"female\"', '\"group D\"', '\"associate\\'s degree\"', '\"free/reduced\"', '\"none\"', '\"47\"', '\"53\"', '\"58\"\\n']\n",
      "['\"female\"', '\"group D\"', '\"some college\"', '\"standard\"', '\"none\"', '\"65\"', '\"70\"', '\"71\"\\n']\n",
      "['\"male\"', '\"group B\"', '\"some college\"', '\"standard\"', '\"completed\"', '\"88\"', '\"85\"', '\"76\"\\n']\n",
      "['\"male\"', '\"group C\"', '\"bachelor\\'s degree\"', '\"standard\"', '\"none\"', '\"83\"', '\"78\"', '\"73\"\\n']\n",
      "['\"female\"', '\"group C\"', '\"some high school\"', '\"standard\"', '\"completed\"', '\"85\"', '\"92\"', '\"93\"\\n']\n",
      "['\"female\"', '\"group E\"', '\"high school\"', '\"standard\"', '\"completed\"', '\"59\"', '\"63\"', '\"75\"\\n']\n",
      "['\"female\"', '\"group C\"', '\"some high school\"', '\"free/reduced\"', '\"none\"', '\"65\"', '\"86\"', '\"80\"\\n']\n",
      "['\"male\"', '\"group B\"', '\"bachelor\\'s degree\"', '\"free/reduced\"', '\"none\"', '\"73\"', '\"56\"', '\"57\"\\n']\n",
      "['\"male\"', '\"group D\"', '\"high school\"', '\"standard\"', '\"none\"', '\"53\"', '\"52\"', '\"42\"\\n']\n",
      "['\"male\"', '\"group D\"', '\"high school\"', '\"standard\"', '\"none\"', '\"45\"', '\"48\"', '\"46\"\\n']\n",
      "['\"female\"', '\"group D\"', '\"bachelor\\'s degree\"', '\"free/reduced\"', '\"none\"', '\"73\"', '\"79\"', '\"84\"\\n']\n",
      "['\"female\"', '\"group D\"', '\"some college\"', '\"free/reduced\"', '\"completed\"', '\"70\"', '\"78\"', '\"78\"\\n']\n",
      "['\"female\"', '\"group B\"', '\"some high school\"', '\"standard\"', '\"none\"', '\"37\"', '\"46\"', '\"46\"\\n']\n",
      "['\"male\"', '\"group B\"', '\"associate\\'s degree\"', '\"standard\"', '\"completed\"', '\"81\"', '\"82\"', '\"82\"\\n']\n",
      "['\"male\"', '\"group E\"', '\"associate\\'s degree\"', '\"standard\"', '\"completed\"', '\"97\"', '\"82\"', '\"88\"\\n']\n",
      "['\"female\"', '\"group B\"', '\"some high school\"', '\"standard\"', '\"none\"', '\"67\"', '\"89\"', '\"82\"\\n']\n",
      "['\"male\"', '\"group B\"', '\"bachelor\\'s degree\"', '\"free/reduced\"', '\"none\"', '\"88\"', '\"75\"', '\"76\"\\n']\n",
      "['\"male\"', '\"group E\"', '\"some high school\"', '\"standard\"', '\"completed\"', '\"77\"', '\"76\"', '\"77\"\\n']\n",
      "['\"male\"', '\"group C\"', '\"associate\\'s degree\"', '\"standard\"', '\"none\"', '\"76\"', '\"70\"', '\"68\"\\n']\n",
      "['\"male\"', '\"group D\"', '\"some high school\"', '\"standard\"', '\"none\"', '\"86\"', '\"73\"', '\"70\"\\n']\n",
      "['\"male\"', '\"group C\"', '\"some high school\"', '\"standard\"', '\"completed\"', '\"63\"', '\"60\"', '\"57\"\\n']\n",
      "['\"female\"', '\"group E\"', '\"bachelor\\'s degree\"', '\"standard\"', '\"none\"', '\"65\"', '\"73\"', '\"75\"\\n']\n",
      "['\"male\"', '\"group D\"', '\"high school\"', '\"free/reduced\"', '\"completed\"', '\"78\"', '\"77\"', '\"80\"\\n']\n",
      "['\"male\"', '\"group B\"', '\"associate\\'s degree\"', '\"free/reduced\"', '\"none\"', '\"67\"', '\"62\"', '\"60\"\\n']\n",
      "['\"male\"', '\"group A\"', '\"some high school\"', '\"standard\"', '\"completed\"', '\"46\"', '\"41\"', '\"43\"\\n']\n",
      "['\"male\"', '\"group E\"', '\"associate\\'s degree\"', '\"standard\"', '\"completed\"', '\"71\"', '\"74\"', '\"68\"\\n']\n",
      "['\"male\"', '\"group C\"', '\"high school\"', '\"free/reduced\"', '\"completed\"', '\"40\"', '\"46\"', '\"50\"\\n']\n",
      "['\"male\"', '\"group D\"', '\"associate\\'s degree\"', '\"free/reduced\"', '\"none\"', '\"90\"', '\"87\"', '\"75\"\\n']\n",
      "['\"male\"', '\"group A\"', '\"some college\"', '\"free/reduced\"', '\"completed\"', '\"81\"', '\"78\"', '\"81\"\\n']\n",
      "['\"male\"', '\"group D\"', '\"some high school\"', '\"free/reduced\"', '\"none\"', '\"56\"', '\"54\"', '\"52\"\\n']\n",
      "['\"female\"', '\"group C\"', '\"associate\\'s degree\"', '\"standard\"', '\"completed\"', '\"67\"', '\"84\"', '\"81\"\\n']\n",
      "['\"male\"', '\"group B\"', '\"associate\\'s degree\"', '\"standard\"', '\"none\"', '\"80\"', '\"76\"', '\"64\"\\n']\n",
      "['\"female\"', '\"group C\"', '\"associate\\'s degree\"', '\"standard\"', '\"completed\"', '\"74\"', '\"75\"', '\"83\"\\n']\n",
      "['\"male\"', '\"group A\"', '\"some college\"', '\"standard\"', '\"none\"', '\"69\"', '\"67\"', '\"69\"\\n']\n",
      "['\"male\"', '\"group E\"', '\"some college\"', '\"standard\"', '\"completed\"', '\"99\"', '\"87\"', '\"81\"\\n']\n",
      "['\"male\"', '\"group C\"', '\"some high school\"', '\"standard\"', '\"none\"', '\"51\"', '\"52\"', '\"44\"\\n']\n",
      "['\"female\"', '\"group B\"', '\"associate\\'s degree\"', '\"free/reduced\"', '\"none\"', '\"53\"', '\"71\"', '\"67\"\\n']\n",
      "['\"female\"', '\"group D\"', '\"high school\"', '\"free/reduced\"', '\"none\"', '\"49\"', '\"57\"', '\"52\"\\n']\n",
      "['\"female\"', '\"group B\"', '\"associate\\'s degree\"', '\"standard\"', '\"none\"', '\"73\"', '\"76\"', '\"80\"\\n']\n",
      "['\"male\"', '\"group B\"', '\"bachelor\\'s degree\"', '\"standard\"', '\"none\"', '\"66\"', '\"60\"', '\"57\"\\n']\n",
      "['\"male\"', '\"group D\"', '\"bachelor\\'s degree\"', '\"standard\"', '\"completed\"', '\"67\"', '\"61\"', '\"68\"\\n']\n",
      "['\"female\"', '\"group C\"', '\"associate\\'s degree\"', '\"free/reduced\"', '\"completed\"', '\"68\"', '\"67\"', '\"69\"\\n']\n",
      "['\"female\"', '\"group C\"', '\"bachelor\\'s degree\"', '\"standard\"', '\"completed\"', '\"59\"', '\"64\"', '\"75\"\\n']\n",
      "['\"male\"', '\"group C\"', '\"high school\"', '\"standard\"', '\"none\"', '\"71\"', '\"66\"', '\"65\"\\n']\n",
      "['\"female\"', '\"group D\"', '\"master\\'s degree\"', '\"standard\"', '\"completed\"', '\"77\"', '\"82\"', '\"91\"\\n']\n",
      "['\"male\"', '\"group C\"', '\"associate\\'s degree\"', '\"standard\"', '\"none\"', '\"83\"', '\"72\"', '\"78\"\\n']\n",
      "['\"male\"', '\"group B\"', '\"bachelor\\'s degree\"', '\"standard\"', '\"none\"', '\"63\"', '\"71\"', '\"69\"\\n']\n",
      "['\"female\"', '\"group D\"', '\"associate\\'s degree\"', '\"free/reduced\"', '\"none\"', '\"56\"', '\"65\"', '\"63\"\\n']\n",
      "['\"female\"', '\"group C\"', '\"high school\"', '\"free/reduced\"', '\"completed\"', '\"67\"', '\"79\"', '\"84\"\\n']\n",
      "['\"female\"', '\"group E\"', '\"high school\"', '\"standard\"', '\"none\"', '\"75\"', '\"86\"', '\"79\"\\n']\n",
      "['\"female\"', '\"group C\"', '\"some college\"', '\"standard\"', '\"none\"', '\"71\"', '\"81\"', '\"80\"\\n']\n",
      "['\"female\"', '\"group C\"', '\"some high school\"', '\"free/reduced\"', '\"none\"', '\"43\"', '\"53\"', '\"53\"\\n']\n",
      "['\"female\"', '\"group C\"', '\"high school\"', '\"free/reduced\"', '\"none\"', '\"41\"', '\"46\"', '\"43\"\\n']\n",
      "['\"female\"', '\"group C\"', '\"some college\"', '\"standard\"', '\"none\"', '\"82\"', '\"90\"', '\"94\"\\n']\n",
      "['\"male\"', '\"group C\"', '\"some college\"', '\"standard\"', '\"none\"', '\"61\"', '\"61\"', '\"62\"\\n']\n",
      "['\"male\"', '\"group A\"', '\"some college\"', '\"free/reduced\"', '\"none\"', '\"28\"', '\"23\"', '\"19\"\\n']\n",
      "['\"male\"', '\"group C\"', '\"associate\\'s degree\"', '\"standard\"', '\"completed\"', '\"82\"', '\"75\"', '\"77\"\\n']\n",
      "['\"female\"', '\"group B\"', '\"some high school\"', '\"standard\"', '\"none\"', '\"41\"', '\"55\"', '\"51\"\\n']\n",
      "['\"male\"', '\"group C\"', '\"high school\"', '\"standard\"', '\"none\"', '\"71\"', '\"60\"', '\"61\"\\n']\n",
      "['\"male\"', '\"group C\"', '\"associate\\'s degree\"', '\"standard\"', '\"none\"', '\"47\"', '\"37\"', '\"35\"\\n']\n",
      "['\"male\"', '\"group E\"', '\"associate\\'s degree\"', '\"standard\"', '\"completed\"', '\"62\"', '\"56\"', '\"53\"\\n']\n",
      "['\"male\"', '\"group B\"', '\"associate\\'s degree\"', '\"standard\"', '\"none\"', '\"90\"', '\"78\"', '\"81\"\\n']\n",
      "['\"female\"', '\"group C\"', '\"bachelor\\'s degree\"', '\"standard\"', '\"none\"', '\"83\"', '\"93\"', '\"95\"\\n']\n",
      "['\"female\"', '\"group B\"', '\"some college\"', '\"free/reduced\"', '\"none\"', '\"61\"', '\"68\"', '\"66\"\\n']\n",
      "['\"male\"', '\"group D\"', '\"some high school\"', '\"standard\"', '\"completed\"', '\"76\"', '\"70\"', '\"69\"\\n']\n",
      "['\"male\"', '\"group C\"', '\"associate\\'s degree\"', '\"standard\"', '\"none\"', '\"49\"', '\"51\"', '\"43\"\\n']\n",
      "['\"female\"', '\"group B\"', '\"some high school\"', '\"free/reduced\"', '\"none\"', '\"24\"', '\"38\"', '\"27\"\\n']\n",
      "['\"female\"', '\"group D\"', '\"some high school\"', '\"free/reduced\"', '\"completed\"', '\"35\"', '\"55\"', '\"60\"\\n']\n",
      "['\"male\"', '\"group C\"', '\"high school\"', '\"free/reduced\"', '\"none\"', '\"58\"', '\"61\"', '\"52\"\\n']\n",
      "['\"female\"', '\"group C\"', '\"high school\"', '\"standard\"', '\"none\"', '\"61\"', '\"73\"', '\"63\"\\n']\n",
      "['\"female\"', '\"group B\"', '\"high school\"', '\"standard\"', '\"completed\"', '\"69\"', '\"76\"', '\"74\"\\n']\n",
      "['\"male\"', '\"group D\"', '\"associate\\'s degree\"', '\"standard\"', '\"completed\"', '\"67\"', '\"72\"', '\"67\"\\n']\n",
      "['\"male\"', '\"group D\"', '\"some college\"', '\"standard\"', '\"none\"', '\"79\"', '\"73\"', '\"67\"\\n']\n",
      "['\"female\"', '\"group C\"', '\"high school\"', '\"standard\"', '\"none\"', '\"72\"', '\"80\"', '\"75\"\\n']\n",
      "['\"male\"', '\"group B\"', '\"some college\"', '\"standard\"', '\"none\"', '\"62\"', '\"61\"', '\"57\"\\n']\n",
      "['\"female\"', '\"group C\"', '\"bachelor\\'s degree\"', '\"standard\"', '\"completed\"', '\"77\"', '\"94\"', '\"95\"\\n']\n",
      "['\"male\"', '\"group D\"', '\"high school\"', '\"free/reduced\"', '\"none\"', '\"75\"', '\"74\"', '\"66\"\\n']\n",
      "['\"male\"', '\"group E\"', '\"associate\\'s degree\"', '\"standard\"', '\"none\"', '\"87\"', '\"74\"', '\"76\"\\n']\n",
      "['\"female\"', '\"group B\"', '\"bachelor\\'s degree\"', '\"standard\"', '\"none\"', '\"52\"', '\"65\"', '\"69\"\\n']\n",
      "['\"male\"', '\"group E\"', '\"some college\"', '\"standard\"', '\"none\"', '\"66\"', '\"57\"', '\"52\"\\n']\n",
      "['\"female\"', '\"group C\"', '\"some college\"', '\"standard\"', '\"completed\"', '\"63\"', '\"78\"', '\"80\"\\n']\n",
      "['\"female\"', '\"group C\"', '\"associate\\'s degree\"', '\"standard\"', '\"none\"', '\"46\"', '\"58\"', '\"57\"\\n']\n",
      "['\"female\"', '\"group C\"', '\"some college\"', '\"standard\"', '\"none\"', '\"59\"', '\"71\"', '\"70\"\\n']\n",
      "['\"female\"', '\"group B\"', '\"bachelor\\'s degree\"', '\"standard\"', '\"none\"', '\"61\"', '\"72\"', '\"70\"\\n']\n",
      "['\"male\"', '\"group A\"', '\"associate\\'s degree\"', '\"standard\"', '\"none\"', '\"63\"', '\"61\"', '\"61\"\\n']\n",
      "['\"female\"', '\"group C\"', '\"some college\"', '\"free/reduced\"', '\"completed\"', '\"42\"', '\"66\"', '\"69\"\\n']\n",
      "['\"male\"', '\"group D\"', '\"some college\"', '\"free/reduced\"', '\"none\"', '\"59\"', '\"62\"', '\"61\"\\n']\n",
      "['\"female\"', '\"group D\"', '\"some college\"', '\"standard\"', '\"none\"', '\"80\"', '\"90\"', '\"89\"\\n']\n",
      "['\"female\"', '\"group B\"', '\"high school\"', '\"standard\"', '\"none\"', '\"58\"', '\"62\"', '\"59\"\\n']\n",
      "['\"male\"', '\"group B\"', '\"some high school\"', '\"standard\"', '\"completed\"', '\"85\"', '\"84\"', '\"78\"\\n']\n",
      "['\"female\"', '\"group C\"', '\"some college\"', '\"standard\"', '\"none\"', '\"52\"', '\"58\"', '\"58\"\\n']\n",
      "['\"female\"', '\"group D\"', '\"some high school\"', '\"free/reduced\"', '\"none\"', '\"27\"', '\"34\"', '\"32\"\\n']\n",
      "['\"male\"', '\"group C\"', '\"some college\"', '\"standard\"', '\"none\"', '\"59\"', '\"60\"', '\"58\"\\n']\n",
      "['\"male\"', '\"group A\"', '\"bachelor\\'s degree\"', '\"free/reduced\"', '\"completed\"', '\"49\"', '\"58\"', '\"60\"\\n']\n",
      "['\"male\"', '\"group C\"', '\"high school\"', '\"standard\"', '\"completed\"', '\"69\"', '\"58\"', '\"53\"\\n']\n",
      "['\"male\"', '\"group C\"', '\"bachelor\\'s degree\"', '\"free/reduced\"', '\"none\"', '\"61\"', '\"66\"', '\"61\"\\n']\n",
      "['\"female\"', '\"group A\"', '\"some high school\"', '\"free/reduced\"', '\"none\"', '\"44\"', '\"64\"', '\"58\"\\n']\n",
      "['\"female\"', '\"group D\"', '\"some high school\"', '\"standard\"', '\"none\"', '\"73\"', '\"84\"', '\"85\"\\n']\n",
      "['\"male\"', '\"group E\"', '\"some college\"', '\"standard\"', '\"none\"', '\"84\"', '\"77\"', '\"71\"\\n']\n",
      "['\"female\"', '\"group C\"', '\"some college\"', '\"free/reduced\"', '\"completed\"', '\"45\"', '\"73\"', '\"70\"\\n']\n",
      "['\"male\"', '\"group D\"', '\"some high school\"', '\"standard\"', '\"none\"', '\"74\"', '\"74\"', '\"72\"\\n']\n",
      "['\"female\"', '\"group D\"', '\"some college\"', '\"standard\"', '\"completed\"', '\"82\"', '\"97\"', '\"96\"\\n']\n",
      "['\"female\"', '\"group D\"', '\"bachelor\\'s degree\"', '\"standard\"', '\"none\"', '\"59\"', '\"70\"', '\"73\"\\n']\n",
      "['\"male\"', '\"group E\"', '\"associate\\'s degree\"', '\"free/reduced\"', '\"none\"', '\"46\"', '\"43\"', '\"41\"\\n']\n",
      "['\"female\"', '\"group D\"', '\"some high school\"', '\"standard\"', '\"none\"', '\"80\"', '\"90\"', '\"82\"\\n']\n",
      "['\"female\"', '\"group D\"', '\"master\\'s degree\"', '\"free/reduced\"', '\"completed\"', '\"85\"', '\"95\"', '\"100\"\\n']\n",
      "['\"female\"', '\"group A\"', '\"some high school\"', '\"standard\"', '\"none\"', '\"71\"', '\"83\"', '\"77\"\\n']\n",
      "['\"male\"', '\"group A\"', '\"bachelor\\'s degree\"', '\"standard\"', '\"none\"', '\"66\"', '\"64\"', '\"62\"\\n']\n",
      "['\"female\"', '\"group B\"', '\"associate\\'s degree\"', '\"standard\"', '\"none\"', '\"80\"', '\"86\"', '\"83\"\\n']\n",
      "['\"male\"', '\"group C\"', '\"associate\\'s degree\"', '\"standard\"', '\"completed\"', '\"87\"', '\"100\"', '\"95\"\\n']\n",
      "['\"male\"', '\"group C\"', '\"master\\'s degree\"', '\"free/reduced\"', '\"none\"', '\"79\"', '\"81\"', '\"71\"\\n']\n",
      "['\"female\"', '\"group E\"', '\"some high school\"', '\"free/reduced\"', '\"none\"', '\"38\"', '\"49\"', '\"45\"\\n']\n",
      "['\"female\"', '\"group A\"', '\"some high school\"', '\"free/reduced\"', '\"none\"', '\"38\"', '\"43\"', '\"43\"\\n']\n",
      "['\"female\"', '\"group E\"', '\"some college\"', '\"standard\"', '\"none\"', '\"67\"', '\"76\"', '\"75\"\\n']\n",
      "['\"female\"', '\"group E\"', '\"bachelor\\'s degree\"', '\"standard\"', '\"none\"', '\"64\"', '\"73\"', '\"70\"\\n']\n",
      "['\"female\"', '\"group C\"', '\"associate\\'s degree\"', '\"free/reduced\"', '\"none\"', '\"57\"', '\"78\"', '\"67\"\\n']\n",
      "['\"female\"', '\"group D\"', '\"high school\"', '\"standard\"', '\"none\"', '\"62\"', '\"64\"', '\"64\"\\n']\n",
      "['\"male\"', '\"group D\"', '\"master\\'s degree\"', '\"standard\"', '\"none\"', '\"73\"', '\"70\"', '\"75\"\\n']\n",
      "['\"male\"', '\"group E\"', '\"some high school\"', '\"free/reduced\"', '\"completed\"', '\"73\"', '\"67\"', '\"59\"\\n']\n",
      "['\"female\"', '\"group D\"', '\"some college\"', '\"standard\"', '\"none\"', '\"77\"', '\"68\"', '\"77\"\\n']\n",
      "['\"male\"', '\"group E\"', '\"some college\"', '\"standard\"', '\"none\"', '\"76\"', '\"67\"', '\"67\"\\n']\n",
      "['\"male\"', '\"group C\"', '\"associate\\'s degree\"', '\"standard\"', '\"completed\"', '\"57\"', '\"54\"', '\"56\"\\n']\n",
      "['\"female\"', '\"group C\"', '\"some high school\"', '\"standard\"', '\"completed\"', '\"65\"', '\"74\"', '\"77\"\\n']\n",
      "['\"male\"', '\"group A\"', '\"high school\"', '\"free/reduced\"', '\"none\"', '\"48\"', '\"45\"', '\"41\"\\n']\n",
      "['\"female\"', '\"group B\"', '\"high school\"', '\"free/reduced\"', '\"none\"', '\"50\"', '\"67\"', '\"63\"\\n']\n",
      "['\"female\"', '\"group C\"', '\"associate\\'s degree\"', '\"standard\"', '\"none\"', '\"85\"', '\"89\"', '\"95\"\\n']\n",
      "['\"male\"', '\"group B\"', '\"some high school\"', '\"standard\"', '\"none\"', '\"74\"', '\"63\"', '\"57\"\\n']\n",
      "['\"male\"', '\"group D\"', '\"some high school\"', '\"standard\"', '\"none\"', '\"60\"', '\"59\"', '\"54\"\\n']\n",
      "['\"female\"', '\"group C\"', '\"some high school\"', '\"standard\"', '\"completed\"', '\"59\"', '\"54\"', '\"67\"\\n']\n",
      "['\"male\"', '\"group A\"', '\"some college\"', '\"standard\"', '\"none\"', '\"53\"', '\"43\"', '\"43\"\\n']\n",
      "['\"female\"', '\"group A\"', '\"some college\"', '\"free/reduced\"', '\"none\"', '\"49\"', '\"65\"', '\"55\"\\n']\n",
      "['\"female\"', '\"group D\"', '\"high school\"', '\"standard\"', '\"completed\"', '\"88\"', '\"99\"', '\"100\"\\n']\n",
      "['\"female\"', '\"group C\"', '\"high school\"', '\"standard\"', '\"none\"', '\"54\"', '\"59\"', '\"62\"\\n']\n",
      "['\"female\"', '\"group C\"', '\"some high school\"', '\"standard\"', '\"none\"', '\"63\"', '\"73\"', '\"68\"\\n']\n",
      "['\"male\"', '\"group B\"', '\"associate\\'s degree\"', '\"standard\"', '\"completed\"', '\"65\"', '\"65\"', '\"63\"\\n']\n",
      "['\"female\"', '\"group B\"', '\"associate\\'s degree\"', '\"standard\"', '\"none\"', '\"82\"', '\"80\"', '\"77\"\\n']\n",
      "['\"female\"', '\"group D\"', '\"high school\"', '\"free/reduced\"', '\"completed\"', '\"52\"', '\"57\"', '\"56\"\\n']\n",
      "['\"male\"', '\"group D\"', '\"associate\\'s degree\"', '\"standard\"', '\"completed\"', '\"87\"', '\"84\"', '\"85\"\\n']\n",
      "['\"female\"', '\"group D\"', '\"master\\'s degree\"', '\"standard\"', '\"completed\"', '\"70\"', '\"71\"', '\"74\"\\n']\n",
      "['\"male\"', '\"group E\"', '\"some college\"', '\"standard\"', '\"completed\"', '\"84\"', '\"83\"', '\"78\"\\n']\n",
      "['\"male\"', '\"group D\"', '\"associate\\'s degree\"', '\"standard\"', '\"none\"', '\"71\"', '\"66\"', '\"60\"\\n']\n",
      "['\"male\"', '\"group B\"', '\"some high school\"', '\"standard\"', '\"completed\"', '\"63\"', '\"67\"', '\"67\"\\n']\n",
      "['\"female\"', '\"group C\"', '\"bachelor\\'s degree\"', '\"free/reduced\"', '\"completed\"', '\"51\"', '\"72\"', '\"79\"\\n']\n",
      "['\"male\"', '\"group E\"', '\"high school\"', '\"standard\"', '\"none\"', '\"84\"', '\"73\"', '\"69\"\\n']\n",
      "['\"male\"', '\"group C\"', '\"bachelor\\'s degree\"', '\"standard\"', '\"completed\"', '\"71\"', '\"74\"', '\"68\"\\n']\n",
      "['\"male\"', '\"group C\"', '\"associate\\'s degree\"', '\"standard\"', '\"none\"', '\"74\"', '\"73\"', '\"67\"\\n']\n",
      "['\"male\"', '\"group D\"', '\"some college\"', '\"standard\"', '\"none\"', '\"68\"', '\"59\"', '\"62\"\\n']\n",
      "['\"male\"', '\"group E\"', '\"high school\"', '\"free/reduced\"', '\"completed\"', '\"57\"', '\"56\"', '\"54\"\\n']\n",
      "['\"female\"', '\"group C\"', '\"associate\\'s degree\"', '\"free/reduced\"', '\"completed\"', '\"82\"', '\"93\"', '\"93\"\\n']\n",
      "['\"female\"', '\"group D\"', '\"high school\"', '\"standard\"', '\"completed\"', '\"57\"', '\"58\"', '\"64\"\\n']\n",
      "['\"female\"', '\"group D\"', '\"master\\'s degree\"', '\"free/reduced\"', '\"completed\"', '\"47\"', '\"58\"', '\"67\"\\n']\n",
      "['\"female\"', '\"group A\"', '\"some high school\"', '\"standard\"', '\"completed\"', '\"59\"', '\"85\"', '\"80\"\\n']\n",
      "['\"male\"', '\"group B\"', '\"some college\"', '\"free/reduced\"', '\"none\"', '\"41\"', '\"39\"', '\"34\"\\n']\n",
      "['\"female\"', '\"group C\"', '\"some college\"', '\"free/reduced\"', '\"none\"', '\"62\"', '\"67\"', '\"62\"\\n']\n",
      "['\"male\"', '\"group C\"', '\"bachelor\\'s degree\"', '\"standard\"', '\"none\"', '\"86\"', '\"83\"', '\"86\"\\n']\n",
      "['\"male\"', '\"group C\"', '\"some high school\"', '\"free/reduced\"', '\"none\"', '\"69\"', '\"71\"', '\"65\"\\n']\n",
      "['\"male\"', '\"group A\"', '\"some high school\"', '\"free/reduced\"', '\"none\"', '\"65\"', '\"59\"', '\"53\"\\n']\n",
      "['\"male\"', '\"group C\"', '\"some high school\"', '\"free/reduced\"', '\"none\"', '\"68\"', '\"63\"', '\"54\"\\n']\n",
      "['\"male\"', '\"group C\"', '\"associate\\'s degree\"', '\"free/reduced\"', '\"none\"', '\"64\"', '\"66\"', '\"59\"\\n']\n",
      "['\"female\"', '\"group C\"', '\"high school\"', '\"standard\"', '\"none\"', '\"61\"', '\"72\"', '\"70\"\\n']\n",
      "['\"male\"', '\"group C\"', '\"high school\"', '\"standard\"', '\"none\"', '\"61\"', '\"56\"', '\"55\"\\n']\n",
      "['\"female\"', '\"group A\"', '\"some high school\"', '\"free/reduced\"', '\"none\"', '\"47\"', '\"59\"', '\"50\"\\n']\n",
      "['\"male\"', '\"group C\"', '\"some high school\"', '\"standard\"', '\"none\"', '\"73\"', '\"66\"', '\"66\"\\n']\n",
      "['\"male\"', '\"group C\"', '\"some college\"', '\"free/reduced\"', '\"completed\"', '\"50\"', '\"48\"', '\"53\"\\n']\n",
      "['\"male\"', '\"group D\"', '\"associate\\'s degree\"', '\"standard\"', '\"none\"', '\"75\"', '\"68\"', '\"64\"\\n']\n",
      "['\"male\"', '\"group D\"', '\"associate\\'s degree\"', '\"free/reduced\"', '\"none\"', '\"75\"', '\"66\"', '\"73\"\\n']\n",
      "['\"male\"', '\"group C\"', '\"high school\"', '\"standard\"', '\"none\"', '\"70\"', '\"56\"', '\"51\"\\n']\n",
      "['\"male\"', '\"group D\"', '\"some high school\"', '\"standard\"', '\"completed\"', '\"89\"', '\"88\"', '\"82\"\\n']\n",
      "['\"female\"', '\"group C\"', '\"some college\"', '\"standard\"', '\"completed\"', '\"67\"', '\"81\"', '\"79\"\\n']\n",
      "['\"female\"', '\"group D\"', '\"high school\"', '\"standard\"', '\"none\"', '\"78\"', '\"81\"', '\"80\"\\n']\n",
      "['\"female\"', '\"group A\"', '\"some high school\"', '\"free/reduced\"', '\"none\"', '\"59\"', '\"73\"', '\"69\"\\n']\n",
      "['\"female\"', '\"group B\"', '\"associate\\'s degree\"', '\"standard\"', '\"none\"', '\"73\"', '\"83\"', '\"76\"\\n']\n",
      "['\"male\"', '\"group A\"', '\"some high school\"', '\"free/reduced\"', '\"none\"', '\"79\"', '\"82\"', '\"73\"\\n']\n",
      "['\"female\"', '\"group C\"', '\"some high school\"', '\"standard\"', '\"completed\"', '\"67\"', '\"74\"', '\"77\"\\n']\n",
      "['\"male\"', '\"group D\"', '\"some college\"', '\"free/reduced\"', '\"none\"', '\"69\"', '\"66\"', '\"60\"\\n']\n",
      "['\"male\"', '\"group C\"', '\"high school\"', '\"standard\"', '\"completed\"', '\"86\"', '\"81\"', '\"80\"\\n']\n",
      "['\"male\"', '\"group B\"', '\"high school\"', '\"standard\"', '\"none\"', '\"47\"', '\"46\"', '\"42\"\\n']\n",
      "['\"male\"', '\"group B\"', '\"associate\\'s degree\"', '\"standard\"', '\"none\"', '\"81\"', '\"73\"', '\"72\"\\n']\n",
      "['\"female\"', '\"group C\"', '\"some college\"', '\"free/reduced\"', '\"completed\"', '\"64\"', '\"85\"', '\"85\"\\n']\n",
      "['\"female\"', '\"group E\"', '\"some college\"', '\"standard\"', '\"none\"', '\"100\"', '\"92\"', '\"97\"\\n']\n",
      "['\"female\"', '\"group C\"', '\"associate\\'s degree\"', '\"free/reduced\"', '\"none\"', '\"65\"', '\"77\"', '\"74\"\\n']\n",
      "['\"male\"', '\"group C\"', '\"some college\"', '\"free/reduced\"', '\"none\"', '\"65\"', '\"58\"', '\"49\"\\n']\n",
      "['\"female\"', '\"group C\"', '\"associate\\'s degree\"', '\"free/reduced\"', '\"none\"', '\"53\"', '\"61\"', '\"62\"\\n']\n",
      "['\"male\"', '\"group C\"', '\"bachelor\\'s degree\"', '\"free/reduced\"', '\"none\"', '\"37\"', '\"56\"', '\"47\"\\n']\n",
      "['\"female\"', '\"group D\"', '\"bachelor\\'s degree\"', '\"standard\"', '\"none\"', '\"79\"', '\"89\"', '\"89\"\\n']\n",
      "['\"male\"', '\"group D\"', '\"associate\\'s degree\"', '\"free/reduced\"', '\"none\"', '\"53\"', '\"54\"', '\"48\"\\n']\n",
      "['\"female\"', '\"group E\"', '\"bachelor\\'s degree\"', '\"standard\"', '\"none\"', '\"100\"', '\"100\"', '\"100\"\\n']\n",
      "['\"male\"', '\"group B\"', '\"high school\"', '\"standard\"', '\"completed\"', '\"72\"', '\"65\"', '\"68\"\\n']\n",
      "['\"male\"', '\"group C\"', '\"bachelor\\'s degree\"', '\"free/reduced\"', '\"none\"', '\"53\"', '\"58\"', '\"55\"\\n']\n",
      "['\"male\"', '\"group B\"', '\"some college\"', '\"free/reduced\"', '\"none\"', '\"54\"', '\"54\"', '\"45\"\\n']\n",
      "['\"female\"', '\"group E\"', '\"some college\"', '\"standard\"', '\"none\"', '\"71\"', '\"70\"', '\"76\"\\n']\n",
      "['\"female\"', '\"group C\"', '\"some college\"', '\"free/reduced\"', '\"none\"', '\"77\"', '\"90\"', '\"91\"\\n']\n",
      "['\"male\"', '\"group A\"', '\"bachelor\\'s degree\"', '\"standard\"', '\"completed\"', '\"75\"', '\"58\"', '\"62\"\\n']\n",
      "['\"female\"', '\"group C\"', '\"some college\"', '\"standard\"', '\"none\"', '\"84\"', '\"87\"', '\"91\"\\n']\n",
      "['\"female\"', '\"group D\"', '\"associate\\'s degree\"', '\"free/reduced\"', '\"none\"', '\"26\"', '\"31\"', '\"38\"\\n']\n",
      "['\"male\"', '\"group A\"', '\"high school\"', '\"free/reduced\"', '\"completed\"', '\"72\"', '\"67\"', '\"65\"\\n']\n",
      "['\"female\"', '\"group A\"', '\"high school\"', '\"free/reduced\"', '\"completed\"', '\"77\"', '\"88\"', '\"85\"\\n']\n",
      "['\"male\"', '\"group C\"', '\"some college\"', '\"standard\"', '\"none\"', '\"91\"', '\"74\"', '\"76\"\\n']\n",
      "['\"female\"', '\"group C\"', '\"associate\\'s degree\"', '\"standard\"', '\"completed\"', '\"83\"', '\"85\"', '\"90\"\\n']\n",
      "['\"female\"', '\"group C\"', '\"high school\"', '\"standard\"', '\"none\"', '\"63\"', '\"69\"', '\"74\"\\n']\n",
      "['\"female\"', '\"group C\"', '\"associate\\'s degree\"', '\"standard\"', '\"completed\"', '\"68\"', '\"86\"', '\"84\"\\n']\n",
      "['\"female\"', '\"group D\"', '\"some high school\"', '\"standard\"', '\"none\"', '\"59\"', '\"67\"', '\"61\"\\n']\n",
      "['\"female\"', '\"group B\"', '\"associate\\'s degree\"', '\"standard\"', '\"completed\"', '\"90\"', '\"90\"', '\"91\"\\n']\n",
      "['\"female\"', '\"group D\"', '\"bachelor\\'s degree\"', '\"standard\"', '\"completed\"', '\"71\"', '\"76\"', '\"83\"\\n']\n",
      "['\"male\"', '\"group E\"', '\"bachelor\\'s degree\"', '\"standard\"', '\"completed\"', '\"76\"', '\"62\"', '\"66\"\\n']\n",
      "['\"male\"', '\"group D\"', '\"associate\\'s degree\"', '\"standard\"', '\"none\"', '\"80\"', '\"68\"', '\"72\"\\n']\n",
      "['\"female\"', '\"group D\"', '\"master\\'s degree\"', '\"standard\"', '\"none\"', '\"55\"', '\"64\"', '\"70\"\\n']\n",
      "['\"male\"', '\"group E\"', '\"associate\\'s degree\"', '\"standard\"', '\"none\"', '\"76\"', '\"71\"', '\"67\"\\n']\n",
      "['\"male\"', '\"group B\"', '\"high school\"', '\"standard\"', '\"completed\"', '\"73\"', '\"71\"', '\"68\"\\n']\n",
      "['\"female\"', '\"group D\"', '\"associate\\'s degree\"', '\"free/reduced\"', '\"none\"', '\"52\"', '\"59\"', '\"56\"\\n']\n",
      "['\"male\"', '\"group C\"', '\"some college\"', '\"free/reduced\"', '\"none\"', '\"68\"', '\"68\"', '\"61\"\\n']\n",
      "['\"male\"', '\"group A\"', '\"high school\"', '\"standard\"', '\"none\"', '\"59\"', '\"52\"', '\"46\"\\n']\n",
      "['\"female\"', '\"group B\"', '\"associate\\'s degree\"', '\"standard\"', '\"none\"', '\"49\"', '\"52\"', '\"54\"\\n']\n",
      "['\"male\"', '\"group C\"', '\"high school\"', '\"standard\"', '\"none\"', '\"70\"', '\"74\"', '\"71\"\\n']\n",
      "['\"male\"', '\"group D\"', '\"some college\"', '\"free/reduced\"', '\"none\"', '\"61\"', '\"47\"', '\"56\"\\n']\n",
      "['\"female\"', '\"group C\"', '\"associate\\'s degree\"', '\"free/reduced\"', '\"none\"', '\"60\"', '\"75\"', '\"74\"\\n']\n",
      "['\"male\"', '\"group B\"', '\"some high school\"', '\"standard\"', '\"completed\"', '\"64\"', '\"53\"', '\"57\"\\n']\n",
      "['\"male\"', '\"group A\"', '\"associate\\'s degree\"', '\"free/reduced\"', '\"completed\"', '\"79\"', '\"82\"', '\"82\"\\n']\n",
      "['\"female\"', '\"group A\"', '\"associate\\'s degree\"', '\"free/reduced\"', '\"none\"', '\"65\"', '\"85\"', '\"76\"\\n']\n",
      "['\"female\"', '\"group C\"', '\"associate\\'s degree\"', '\"standard\"', '\"none\"', '\"64\"', '\"64\"', '\"70\"\\n']\n",
      "['\"female\"', '\"group C\"', '\"some college\"', '\"standard\"', '\"none\"', '\"83\"', '\"83\"', '\"90\"\\n']\n",
      "['\"female\"', '\"group C\"', '\"bachelor\\'s degree\"', '\"standard\"', '\"none\"', '\"81\"', '\"88\"', '\"90\"\\n']\n",
      "['\"female\"', '\"group B\"', '\"high school\"', '\"standard\"', '\"none\"', '\"54\"', '\"64\"', '\"68\"\\n']\n",
      "['\"male\"', '\"group D\"', '\"high school\"', '\"standard\"', '\"completed\"', '\"68\"', '\"64\"', '\"66\"\\n']\n",
      "['\"female\"', '\"group C\"', '\"some college\"', '\"standard\"', '\"none\"', '\"54\"', '\"48\"', '\"52\"\\n']\n",
      "['\"female\"', '\"group D\"', '\"some college\"', '\"free/reduced\"', '\"completed\"', '\"59\"', '\"78\"', '\"76\"\\n']\n",
      "['\"female\"', '\"group B\"', '\"some high school\"', '\"standard\"', '\"none\"', '\"66\"', '\"69\"', '\"68\"\\n']\n",
      "['\"male\"', '\"group E\"', '\"some college\"', '\"standard\"', '\"none\"', '\"76\"', '\"71\"', '\"72\"\\n']\n",
      "['\"female\"', '\"group D\"', '\"master\\'s degree\"', '\"standard\"', '\"none\"', '\"74\"', '\"79\"', '\"82\"\\n']\n",
      "['\"female\"', '\"group B\"', '\"associate\\'s degree\"', '\"standard\"', '\"completed\"', '\"94\"', '\"87\"', '\"92\"\\n']\n",
      "['\"male\"', '\"group C\"', '\"some college\"', '\"free/reduced\"', '\"none\"', '\"63\"', '\"61\"', '\"54\"\\n']\n",
      "['\"female\"', '\"group E\"', '\"associate\\'s degree\"', '\"standard\"', '\"completed\"', '\"95\"', '\"89\"', '\"92\"\\n']\n",
      "['\"female\"', '\"group D\"', '\"master\\'s degree\"', '\"free/reduced\"', '\"none\"', '\"40\"', '\"59\"', '\"54\"\\n']\n",
      "['\"female\"', '\"group B\"', '\"some high school\"', '\"standard\"', '\"none\"', '\"82\"', '\"82\"', '\"80\"\\n']\n",
      "['\"male\"', '\"group A\"', '\"high school\"', '\"standard\"', '\"none\"', '\"68\"', '\"70\"', '\"66\"\\n']\n",
      "['\"male\"', '\"group B\"', '\"bachelor\\'s degree\"', '\"free/reduced\"', '\"none\"', '\"55\"', '\"59\"', '\"54\"\\n']\n",
      "['\"male\"', '\"group C\"', '\"master\\'s degree\"', '\"standard\"', '\"none\"', '\"79\"', '\"78\"', '\"77\"\\n']\n",
      "['\"female\"', '\"group C\"', '\"bachelor\\'s degree\"', '\"standard\"', '\"none\"', '\"86\"', '\"92\"', '\"87\"\\n']\n",
      "['\"male\"', '\"group D\"', '\"some college\"', '\"standard\"', '\"none\"', '\"76\"', '\"71\"', '\"73\"\\n']\n",
      "['\"male\"', '\"group A\"', '\"some high school\"', '\"standard\"', '\"none\"', '\"64\"', '\"50\"', '\"43\"\\n']\n",
      "['\"male\"', '\"group D\"', '\"some high school\"', '\"free/reduced\"', '\"none\"', '\"62\"', '\"49\"', '\"52\"\\n']\n",
      "['\"female\"', '\"group B\"', '\"some high school\"', '\"standard\"', '\"completed\"', '\"54\"', '\"61\"', '\"62\"\\n']\n",
      "['\"female\"', '\"group B\"', '\"master\\'s degree\"', '\"free/reduced\"', '\"completed\"', '\"77\"', '\"97\"', '\"94\"\\n']\n",
      "['\"female\"', '\"group C\"', '\"some high school\"', '\"standard\"', '\"completed\"', '\"76\"', '\"87\"', '\"85\"\\n']\n",
      "['\"female\"', '\"group D\"', '\"some college\"', '\"standard\"', '\"none\"', '\"74\"', '\"89\"', '\"84\"\\n']\n",
      "['\"female\"', '\"group E\"', '\"some college\"', '\"standard\"', '\"completed\"', '\"66\"', '\"74\"', '\"73\"\\n']\n",
      "['\"female\"', '\"group D\"', '\"some high school\"', '\"standard\"', '\"completed\"', '\"66\"', '\"78\"', '\"78\"\\n']\n",
      "['\"female\"', '\"group B\"', '\"high school\"', '\"free/reduced\"', '\"completed\"', '\"67\"', '\"78\"', '\"79\"\\n']\n",
      "['\"male\"', '\"group D\"', '\"some college\"', '\"standard\"', '\"none\"', '\"71\"', '\"49\"', '\"52\"\\n']\n",
      "['\"female\"', '\"group C\"', '\"associate\\'s degree\"', '\"standard\"', '\"none\"', '\"91\"', '\"86\"', '\"84\"\\n']\n",
      "['\"male\"', '\"group D\"', '\"bachelor\\'s degree\"', '\"standard\"', '\"none\"', '\"69\"', '\"58\"', '\"57\"\\n']\n",
      "['\"male\"', '\"group C\"', '\"master\\'s degree\"', '\"free/reduced\"', '\"none\"', '\"54\"', '\"59\"', '\"50\"\\n']\n",
      "['\"male\"', '\"group C\"', '\"high school\"', '\"standard\"', '\"completed\"', '\"53\"', '\"52\"', '\"49\"\\n']\n",
      "['\"male\"', '\"group E\"', '\"some college\"', '\"standard\"', '\"none\"', '\"68\"', '\"60\"', '\"59\"\\n']\n",
      "['\"male\"', '\"group C\"', '\"some high school\"', '\"free/reduced\"', '\"completed\"', '\"56\"', '\"61\"', '\"60\"\\n']\n",
      "['\"female\"', '\"group C\"', '\"high school\"', '\"free/reduced\"', '\"none\"', '\"36\"', '\"53\"', '\"43\"\\n']\n",
      "['\"female\"', '\"group D\"', '\"bachelor\\'s degree\"', '\"free/reduced\"', '\"none\"', '\"29\"', '\"41\"', '\"47\"\\n']\n",
      "['\"female\"', '\"group C\"', '\"associate\\'s degree\"', '\"standard\"', '\"none\"', '\"62\"', '\"74\"', '\"70\"\\n']\n",
      "['\"female\"', '\"group C\"', '\"associate\\'s degree\"', '\"standard\"', '\"completed\"', '\"68\"', '\"67\"', '\"73\"\\n']\n",
      "['\"female\"', '\"group C\"', '\"some high school\"', '\"standard\"', '\"none\"', '\"47\"', '\"54\"', '\"53\"\\n']\n",
      "['\"male\"', '\"group E\"', '\"associate\\'s degree\"', '\"standard\"', '\"completed\"', '\"62\"', '\"61\"', '\"58\"\\n']\n",
      "['\"female\"', '\"group E\"', '\"associate\\'s degree\"', '\"standard\"', '\"completed\"', '\"79\"', '\"88\"', '\"94\"\\n']\n",
      "['\"male\"', '\"group B\"', '\"high school\"', '\"standard\"', '\"completed\"', '\"73\"', '\"69\"', '\"68\"\\n']\n",
      "['\"female\"', '\"group C\"', '\"bachelor\\'s degree\"', '\"free/reduced\"', '\"completed\"', '\"66\"', '\"83\"', '\"83\"\\n']\n",
      "['\"male\"', '\"group C\"', '\"associate\\'s degree\"', '\"standard\"', '\"completed\"', '\"51\"', '\"60\"', '\"58\"\\n']\n",
      "['\"female\"', '\"group D\"', '\"high school\"', '\"standard\"', '\"none\"', '\"51\"', '\"66\"', '\"62\"\\n']\n",
      "['\"male\"', '\"group E\"', '\"bachelor\\'s degree\"', '\"standard\"', '\"completed\"', '\"85\"', '\"66\"', '\"71\"\\n']\n",
      "['\"male\"', '\"group A\"', '\"associate\\'s degree\"', '\"standard\"', '\"completed\"', '\"97\"', '\"92\"', '\"86\"\\n']\n",
      "['\"male\"', '\"group C\"', '\"high school\"', '\"standard\"', '\"completed\"', '\"75\"', '\"69\"', '\"68\"\\n']\n",
      "['\"male\"', '\"group D\"', '\"associate\\'s degree\"', '\"free/reduced\"', '\"completed\"', '\"79\"', '\"82\"', '\"80\"\\n']\n",
      "['\"female\"', '\"group C\"', '\"associate\\'s degree\"', '\"standard\"', '\"none\"', '\"81\"', '\"77\"', '\"79\"\\n']\n",
      "['\"female\"', '\"group D\"', '\"associate\\'s degree\"', '\"standard\"', '\"none\"', '\"82\"', '\"95\"', '\"89\"\\n']\n",
      "['\"female\"', '\"group D\"', '\"master\\'s degree\"', '\"standard\"', '\"none\"', '\"64\"', '\"63\"', '\"66\"\\n']\n",
      "['\"male\"', '\"group E\"', '\"some high school\"', '\"free/reduced\"', '\"completed\"', '\"78\"', '\"83\"', '\"80\"\\n']\n",
      "['\"female\"', '\"group A\"', '\"some high school\"', '\"standard\"', '\"completed\"', '\"92\"', '\"100\"', '\"97\"\\n']\n",
      "['\"male\"', '\"group C\"', '\"high school\"', '\"standard\"', '\"completed\"', '\"72\"', '\"67\"', '\"64\"\\n']\n",
      "['\"female\"', '\"group C\"', '\"high school\"', '\"free/reduced\"', '\"none\"', '\"62\"', '\"67\"', '\"64\"\\n']\n",
      "['\"male\"', '\"group C\"', '\"master\\'s degree\"', '\"standard\"', '\"none\"', '\"79\"', '\"72\"', '\"69\"\\n']\n",
      "['\"male\"', '\"group C\"', '\"some high school\"', '\"free/reduced\"', '\"none\"', '\"79\"', '\"76\"', '\"65\"\\n']\n",
      "['\"male\"', '\"group B\"', '\"bachelor\\'s degree\"', '\"free/reduced\"', '\"completed\"', '\"87\"', '\"90\"', '\"88\"\\n']\n",
      "['\"female\"', '\"group B\"', '\"associate\\'s degree\"', '\"standard\"', '\"none\"', '\"40\"', '\"48\"', '\"50\"\\n']\n",
      "['\"male\"', '\"group D\"', '\"some college\"', '\"free/reduced\"', '\"none\"', '\"77\"', '\"62\"', '\"64\"\\n']\n",
      "['\"male\"', '\"group E\"', '\"associate\\'s degree\"', '\"standard\"', '\"none\"', '\"53\"', '\"45\"', '\"40\"\\n']\n",
      "['\"female\"', '\"group C\"', '\"some college\"', '\"free/reduced\"', '\"none\"', '\"32\"', '\"39\"', '\"33\"\\n']\n",
      "['\"female\"', '\"group C\"', '\"associate\\'s degree\"', '\"standard\"', '\"completed\"', '\"55\"', '\"72\"', '\"79\"\\n']\n",
      "['\"male\"', '\"group C\"', '\"master\\'s degree\"', '\"free/reduced\"', '\"none\"', '\"61\"', '\"67\"', '\"66\"\\n']\n",
      "['\"female\"', '\"group B\"', '\"associate\\'s degree\"', '\"free/reduced\"', '\"none\"', '\"53\"', '\"70\"', '\"70\"\\n']\n",
      "['\"male\"', '\"group D\"', '\"some high school\"', '\"standard\"', '\"none\"', '\"73\"', '\"66\"', '\"62\"\\n']\n",
      "['\"female\"', '\"group D\"', '\"some college\"', '\"standard\"', '\"completed\"', '\"74\"', '\"75\"', '\"79\"\\n']\n",
      "['\"female\"', '\"group C\"', '\"some college\"', '\"standard\"', '\"none\"', '\"63\"', '\"74\"', '\"74\"\\n']\n",
      "['\"male\"', '\"group C\"', '\"bachelor\\'s degree\"', '\"standard\"', '\"completed\"', '\"96\"', '\"90\"', '\"92\"\\n']\n",
      "['\"female\"', '\"group D\"', '\"some college\"', '\"free/reduced\"', '\"completed\"', '\"63\"', '\"80\"', '\"80\"\\n']\n",
      "['\"male\"', '\"group B\"', '\"bachelor\\'s degree\"', '\"free/reduced\"', '\"none\"', '\"48\"', '\"51\"', '\"46\"\\n']\n",
      "['\"male\"', '\"group B\"', '\"associate\\'s degree\"', '\"standard\"', '\"none\"', '\"48\"', '\"43\"', '\"45\"\\n']\n",
      "['\"female\"', '\"group E\"', '\"bachelor\\'s degree\"', '\"free/reduced\"', '\"completed\"', '\"92\"', '\"100\"', '\"100\"\\n']\n",
      "['\"female\"', '\"group D\"', '\"master\\'s degree\"', '\"free/reduced\"', '\"completed\"', '\"61\"', '\"71\"', '\"78\"\\n']\n",
      "['\"male\"', '\"group B\"', '\"high school\"', '\"free/reduced\"', '\"none\"', '\"63\"', '\"48\"', '\"47\"\\n']\n",
      "['\"male\"', '\"group D\"', '\"bachelor\\'s degree\"', '\"free/reduced\"', '\"none\"', '\"68\"', '\"68\"', '\"67\"\\n']\n",
      "['\"male\"', '\"group B\"', '\"some college\"', '\"standard\"', '\"completed\"', '\"71\"', '\"75\"', '\"70\"\\n']\n",
      "['\"male\"', '\"group A\"', '\"bachelor\\'s degree\"', '\"standard\"', '\"none\"', '\"91\"', '\"96\"', '\"92\"\\n']\n",
      "['\"female\"', '\"group C\"', '\"some college\"', '\"standard\"', '\"none\"', '\"53\"', '\"62\"', '\"56\"\\n']\n",
      "['\"female\"', '\"group C\"', '\"high school\"', '\"free/reduced\"', '\"completed\"', '\"50\"', '\"66\"', '\"64\"\\n']\n",
      "['\"female\"', '\"group E\"', '\"high school\"', '\"standard\"', '\"none\"', '\"74\"', '\"81\"', '\"71\"\\n']\n",
      "['\"male\"', '\"group A\"', '\"associate\\'s degree\"', '\"free/reduced\"', '\"completed\"', '\"40\"', '\"55\"', '\"53\"\\n']\n",
      "['\"male\"', '\"group A\"', '\"some college\"', '\"standard\"', '\"completed\"', '\"61\"', '\"51\"', '\"52\"\\n']\n",
      "['\"female\"', '\"group B\"', '\"high school\"', '\"standard\"', '\"none\"', '\"81\"', '\"91\"', '\"89\"\\n']\n",
      "['\"female\"', '\"group B\"', '\"some college\"', '\"free/reduced\"', '\"completed\"', '\"48\"', '\"56\"', '\"58\"\\n']\n",
      "['\"female\"', '\"group D\"', '\"master\\'s degree\"', '\"standard\"', '\"none\"', '\"53\"', '\"61\"', '\"68\"\\n']\n",
      "['\"female\"', '\"group D\"', '\"some high school\"', '\"standard\"', '\"none\"', '\"81\"', '\"97\"', '\"96\"\\n']\n",
      "['\"female\"', '\"group E\"', '\"some high school\"', '\"standard\"', '\"none\"', '\"77\"', '\"79\"', '\"80\"\\n']\n",
      "['\"female\"', '\"group D\"', '\"bachelor\\'s degree\"', '\"free/reduced\"', '\"none\"', '\"63\"', '\"73\"', '\"78\"\\n']\n",
      "['\"female\"', '\"group D\"', '\"associate\\'s degree\"', '\"standard\"', '\"completed\"', '\"73\"', '\"75\"', '\"80\"\\n']\n",
      "['\"female\"', '\"group D\"', '\"some college\"', '\"standard\"', '\"none\"', '\"69\"', '\"77\"', '\"77\"\\n']\n",
      "['\"female\"', '\"group C\"', '\"associate\\'s degree\"', '\"standard\"', '\"none\"', '\"65\"', '\"76\"', '\"76\"\\n']\n",
      "['\"female\"', '\"group A\"', '\"high school\"', '\"standard\"', '\"none\"', '\"55\"', '\"73\"', '\"73\"\\n']\n",
      "['\"female\"', '\"group C\"', '\"bachelor\\'s degree\"', '\"free/reduced\"', '\"none\"', '\"44\"', '\"63\"', '\"62\"\\n']\n",
      "['\"female\"', '\"group C\"', '\"some college\"', '\"standard\"', '\"none\"', '\"54\"', '\"64\"', '\"65\"\\n']\n",
      "['\"female\"', '\"group A\"', '\"some high school\"', '\"standard\"', '\"none\"', '\"48\"', '\"66\"', '\"65\"\\n']\n",
      "['\"male\"', '\"group C\"', '\"some college\"', '\"free/reduced\"', '\"none\"', '\"58\"', '\"57\"', '\"54\"\\n']\n",
      "['\"male\"', '\"group A\"', '\"some high school\"', '\"standard\"', '\"none\"', '\"71\"', '\"62\"', '\"50\"\\n']\n",
      "['\"male\"', '\"group E\"', '\"bachelor\\'s degree\"', '\"standard\"', '\"none\"', '\"68\"', '\"68\"', '\"64\"\\n']\n",
      "['\"female\"', '\"group E\"', '\"high school\"', '\"standard\"', '\"none\"', '\"74\"', '\"76\"', '\"73\"\\n']\n",
      "['\"female\"', '\"group C\"', '\"bachelor\\'s degree\"', '\"standard\"', '\"completed\"', '\"92\"', '\"100\"', '\"99\"\\n']\n",
      "['\"female\"', '\"group C\"', '\"bachelor\\'s degree\"', '\"standard\"', '\"completed\"', '\"56\"', '\"79\"', '\"72\"\\n']\n",
      "['\"male\"', '\"group B\"', '\"high school\"', '\"free/reduced\"', '\"none\"', '\"30\"', '\"24\"', '\"15\"\\n']\n",
      "['\"male\"', '\"group A\"', '\"some high school\"', '\"standard\"', '\"none\"', '\"53\"', '\"54\"', '\"48\"\\n']\n",
      "['\"female\"', '\"group D\"', '\"high school\"', '\"standard\"', '\"none\"', '\"69\"', '\"77\"', '\"73\"\\n']\n",
      "['\"female\"', '\"group D\"', '\"some high school\"', '\"standard\"', '\"none\"', '\"65\"', '\"82\"', '\"81\"\\n']\n",
      "['\"female\"', '\"group D\"', '\"master\\'s degree\"', '\"standard\"', '\"none\"', '\"54\"', '\"60\"', '\"63\"\\n']\n",
      "['\"female\"', '\"group C\"', '\"high school\"', '\"standard\"', '\"none\"', '\"29\"', '\"29\"', '\"30\"\\n']\n",
      "['\"female\"', '\"group E\"', '\"some college\"', '\"standard\"', '\"none\"', '\"76\"', '\"78\"', '\"80\"\\n']\n",
      "['\"male\"', '\"group D\"', '\"high school\"', '\"free/reduced\"', '\"none\"', '\"60\"', '\"57\"', '\"51\"\\n']\n",
      "['\"male\"', '\"group D\"', '\"master\\'s degree\"', '\"free/reduced\"', '\"completed\"', '\"84\"', '\"89\"', '\"90\"\\n']\n",
      "['\"male\"', '\"group C\"', '\"some high school\"', '\"standard\"', '\"none\"', '\"75\"', '\"72\"', '\"62\"\\n']\n",
      "['\"female\"', '\"group C\"', '\"associate\\'s degree\"', '\"standard\"', '\"none\"', '\"85\"', '\"84\"', '\"82\"\\n']\n",
      "['\"female\"', '\"group C\"', '\"master\\'s degree\"', '\"free/reduced\"', '\"none\"', '\"40\"', '\"58\"', '\"54\"\\n']\n",
      "['\"female\"', '\"group E\"', '\"some college\"', '\"standard\"', '\"none\"', '\"61\"', '\"64\"', '\"62\"\\n']\n",
      "['\"female\"', '\"group B\"', '\"associate\\'s degree\"', '\"standard\"', '\"none\"', '\"58\"', '\"63\"', '\"65\"\\n']\n",
      "['\"male\"', '\"group D\"', '\"some college\"', '\"free/reduced\"', '\"completed\"', '\"69\"', '\"60\"', '\"63\"\\n']\n",
      "['\"female\"', '\"group C\"', '\"some college\"', '\"standard\"', '\"none\"', '\"58\"', '\"59\"', '\"66\"\\n']\n",
      "['\"male\"', '\"group C\"', '\"bachelor\\'s degree\"', '\"standard\"', '\"completed\"', '\"94\"', '\"90\"', '\"91\"\\n']\n",
      "['\"female\"', '\"group C\"', '\"associate\\'s degree\"', '\"standard\"', '\"none\"', '\"65\"', '\"77\"', '\"74\"\\n']\n",
      "['\"female\"', '\"group A\"', '\"associate\\'s degree\"', '\"standard\"', '\"none\"', '\"82\"', '\"93\"', '\"93\"\\n']\n",
      "['\"female\"', '\"group C\"', '\"high school\"', '\"standard\"', '\"none\"', '\"60\"', '\"68\"', '\"72\"\\n']\n",
      "['\"female\"', '\"group E\"', '\"bachelor\\'s degree\"', '\"standard\"', '\"none\"', '\"37\"', '\"45\"', '\"38\"\\n']\n",
      "['\"male\"', '\"group D\"', '\"bachelor\\'s degree\"', '\"standard\"', '\"none\"', '\"88\"', '\"78\"', '\"83\"\\n']\n",
      "['\"male\"', '\"group D\"', '\"master\\'s degree\"', '\"standard\"', '\"none\"', '\"95\"', '\"81\"', '\"84\"\\n']\n",
      "['\"male\"', '\"group C\"', '\"associate\\'s degree\"', '\"free/reduced\"', '\"completed\"', '\"65\"', '\"73\"', '\"68\"\\n']\n",
      "['\"female\"', '\"group C\"', '\"high school\"', '\"free/reduced\"', '\"none\"', '\"35\"', '\"61\"', '\"54\"\\n']\n",
      "['\"male\"', '\"group B\"', '\"bachelor\\'s degree\"', '\"free/reduced\"', '\"none\"', '\"62\"', '\"63\"', '\"56\"\\n']\n",
      "['\"male\"', '\"group C\"', '\"high school\"', '\"free/reduced\"', '\"completed\"', '\"58\"', '\"51\"', '\"52\"\\n']\n",
      "['\"male\"', '\"group A\"', '\"some college\"', '\"standard\"', '\"completed\"', '\"100\"', '\"96\"', '\"86\"\\n']\n",
      "['\"female\"', '\"group E\"', '\"bachelor\\'s degree\"', '\"free/reduced\"', '\"none\"', '\"61\"', '\"58\"', '\"62\"\\n']\n",
      "['\"male\"', '\"group D\"', '\"some college\"', '\"standard\"', '\"completed\"', '\"100\"', '\"97\"', '\"99\"\\n']\n",
      "['\"male\"', '\"group B\"', '\"associate\\'s degree\"', '\"free/reduced\"', '\"completed\"', '\"69\"', '\"70\"', '\"63\"\\n']\n",
      "['\"male\"', '\"group D\"', '\"associate\\'s degree\"', '\"standard\"', '\"none\"', '\"61\"', '\"48\"', '\"46\"\\n']\n",
      "['\"male\"', '\"group D\"', '\"some college\"', '\"free/reduced\"', '\"none\"', '\"49\"', '\"57\"', '\"46\"\\n']\n",
      "['\"female\"', '\"group C\"', '\"some high school\"', '\"standard\"', '\"completed\"', '\"44\"', '\"51\"', '\"55\"\\n']\n",
      "['\"male\"', '\"group D\"', '\"some college\"', '\"standard\"', '\"none\"', '\"67\"', '\"64\"', '\"70\"\\n']\n",
      "['\"male\"', '\"group B\"', '\"high school\"', '\"standard\"', '\"none\"', '\"79\"', '\"60\"', '\"65\"\\n']\n",
      "['\"female\"', '\"group B\"', '\"bachelor\\'s degree\"', '\"standard\"', '\"completed\"', '\"66\"', '\"74\"', '\"81\"\\n']\n",
      "['\"female\"', '\"group C\"', '\"high school\"', '\"standard\"', '\"none\"', '\"75\"', '\"88\"', '\"85\"\\n']\n",
      "['\"male\"', '\"group D\"', '\"some high school\"', '\"standard\"', '\"none\"', '\"84\"', '\"84\"', '\"80\"\\n']\n",
      "['\"male\"', '\"group A\"', '\"high school\"', '\"standard\"', '\"none\"', '\"71\"', '\"74\"', '\"64\"\\n']\n",
      "['\"female\"', '\"group B\"', '\"high school\"', '\"free/reduced\"', '\"completed\"', '\"67\"', '\"80\"', '\"81\"\\n']\n",
      "['\"female\"', '\"group D\"', '\"some high school\"', '\"standard\"', '\"completed\"', '\"80\"', '\"92\"', '\"88\"\\n']\n",
      "['\"male\"', '\"group E\"', '\"some college\"', '\"standard\"', '\"none\"', '\"86\"', '\"76\"', '\"74\"\\n']\n",
      "['\"female\"', '\"group D\"', '\"associate\\'s degree\"', '\"standard\"', '\"none\"', '\"76\"', '\"74\"', '\"73\"\\n']\n",
      "['\"male\"', '\"group D\"', '\"high school\"', '\"standard\"', '\"none\"', '\"41\"', '\"52\"', '\"51\"\\n']\n",
      "['\"female\"', '\"group D\"', '\"associate\\'s degree\"', '\"free/reduced\"', '\"completed\"', '\"74\"', '\"88\"', '\"90\"\\n']\n",
      "['\"female\"', '\"group B\"', '\"some high school\"', '\"free/reduced\"', '\"none\"', '\"72\"', '\"81\"', '\"79\"\\n']\n",
      "['\"female\"', '\"group E\"', '\"high school\"', '\"standard\"', '\"completed\"', '\"74\"', '\"79\"', '\"80\"\\n']\n",
      "['\"male\"', '\"group B\"', '\"high school\"', '\"standard\"', '\"none\"', '\"70\"', '\"65\"', '\"60\"\\n']\n",
      "['\"female\"', '\"group B\"', '\"bachelor\\'s degree\"', '\"standard\"', '\"completed\"', '\"65\"', '\"81\"', '\"81\"\\n']\n",
      "['\"female\"', '\"group D\"', '\"associate\\'s degree\"', '\"standard\"', '\"none\"', '\"59\"', '\"70\"', '\"65\"\\n']\n",
      "['\"female\"', '\"group E\"', '\"high school\"', '\"free/reduced\"', '\"none\"', '\"64\"', '\"62\"', '\"68\"\\n']\n",
      "['\"female\"', '\"group B\"', '\"high school\"', '\"standard\"', '\"none\"', '\"50\"', '\"53\"', '\"55\"\\n']\n",
      "['\"female\"', '\"group D\"', '\"some college\"', '\"standard\"', '\"completed\"', '\"69\"', '\"79\"', '\"81\"\\n']\n",
      "['\"male\"', '\"group C\"', '\"some high school\"', '\"free/reduced\"', '\"completed\"', '\"51\"', '\"56\"', '\"53\"\\n']\n",
      "['\"female\"', '\"group A\"', '\"high school\"', '\"standard\"', '\"completed\"', '\"68\"', '\"80\"', '\"76\"\\n']\n",
      "['\"female\"', '\"group D\"', '\"some college\"', '\"standard\"', '\"completed\"', '\"85\"', '\"86\"', '\"98\"\\n']\n",
      "['\"female\"', '\"group A\"', '\"associate\\'s degree\"', '\"standard\"', '\"completed\"', '\"65\"', '\"70\"', '\"74\"\\n']\n",
      "['\"female\"', '\"group B\"', '\"some high school\"', '\"standard\"', '\"none\"', '\"73\"', '\"79\"', '\"79\"\\n']\n",
      "['\"female\"', '\"group B\"', '\"some college\"', '\"standard\"', '\"none\"', '\"62\"', '\"67\"', '\"67\"\\n']\n",
      "['\"male\"', '\"group C\"', '\"associate\\'s degree\"', '\"free/reduced\"', '\"none\"', '\"77\"', '\"67\"', '\"64\"\\n']\n",
      "['\"male\"', '\"group D\"', '\"some high school\"', '\"standard\"', '\"none\"', '\"69\"', '\"66\"', '\"61\"\\n']\n",
      "['\"female\"', '\"group D\"', '\"associate\\'s degree\"', '\"free/reduced\"', '\"none\"', '\"43\"', '\"60\"', '\"58\"\\n']\n",
      "['\"male\"', '\"group D\"', '\"associate\\'s degree\"', '\"standard\"', '\"none\"', '\"90\"', '\"87\"', '\"85\"\\n']\n",
      "['\"male\"', '\"group C\"', '\"some college\"', '\"free/reduced\"', '\"none\"', '\"74\"', '\"77\"', '\"73\"\\n']\n",
      "['\"male\"', '\"group C\"', '\"some high school\"', '\"standard\"', '\"none\"', '\"73\"', '\"66\"', '\"63\"\\n']\n",
      "['\"female\"', '\"group D\"', '\"some college\"', '\"free/reduced\"', '\"none\"', '\"55\"', '\"71\"', '\"69\"\\n']\n",
      "['\"female\"', '\"group C\"', '\"high school\"', '\"standard\"', '\"none\"', '\"65\"', '\"69\"', '\"67\"\\n']\n",
      "['\"male\"', '\"group D\"', '\"associate\\'s degree\"', '\"standard\"', '\"none\"', '\"80\"', '\"63\"', '\"63\"\\n']\n",
      "['\"female\"', '\"group C\"', '\"some high school\"', '\"free/reduced\"', '\"completed\"', '\"50\"', '\"60\"', '\"60\"\\n']\n",
      "['\"female\"', '\"group C\"', '\"some college\"', '\"free/reduced\"', '\"completed\"', '\"63\"', '\"73\"', '\"71\"\\n']\n",
      "['\"female\"', '\"group B\"', '\"bachelor\\'s degree\"', '\"free/reduced\"', '\"none\"', '\"77\"', '\"85\"', '\"87\"\\n']\n",
      "['\"male\"', '\"group C\"', '\"some college\"', '\"standard\"', '\"none\"', '\"73\"', '\"74\"', '\"61\"\\n']\n",
      "['\"male\"', '\"group D\"', '\"associate\\'s degree\"', '\"standard\"', '\"completed\"', '\"81\"', '\"72\"', '\"77\"\\n']\n",
      "['\"female\"', '\"group C\"', '\"high school\"', '\"free/reduced\"', '\"none\"', '\"66\"', '\"76\"', '\"68\"\\n']\n",
      "['\"male\"', '\"group D\"', '\"associate\\'s degree\"', '\"free/reduced\"', '\"none\"', '\"52\"', '\"57\"', '\"50\"\\n']\n",
      "['\"female\"', '\"group C\"', '\"some college\"', '\"standard\"', '\"none\"', '\"69\"', '\"78\"', '\"76\"\\n']\n",
      "['\"female\"', '\"group C\"', '\"associate\\'s degree\"', '\"standard\"', '\"completed\"', '\"65\"', '\"84\"', '\"84\"\\n']\n",
      "['\"female\"', '\"group D\"', '\"high school\"', '\"standard\"', '\"completed\"', '\"69\"', '\"77\"', '\"78\"\\n']\n",
      "['\"female\"', '\"group B\"', '\"some college\"', '\"standard\"', '\"completed\"', '\"50\"', '\"64\"', '\"66\"\\n']\n",
      "['\"female\"', '\"group E\"', '\"some college\"', '\"standard\"', '\"completed\"', '\"73\"', '\"78\"', '\"76\"\\n']\n",
      "['\"female\"', '\"group C\"', '\"some high school\"', '\"standard\"', '\"completed\"', '\"70\"', '\"82\"', '\"76\"\\n']\n",
      "['\"male\"', '\"group D\"', '\"associate\\'s degree\"', '\"free/reduced\"', '\"none\"', '\"81\"', '\"75\"', '\"78\"\\n']\n",
      "['\"male\"', '\"group D\"', '\"some college\"', '\"free/reduced\"', '\"none\"', '\"63\"', '\"61\"', '\"60\"\\n']\n",
      "['\"female\"', '\"group D\"', '\"high school\"', '\"standard\"', '\"none\"', '\"67\"', '\"72\"', '\"74\"\\n']\n",
      "['\"male\"', '\"group B\"', '\"high school\"', '\"standard\"', '\"none\"', '\"60\"', '\"68\"', '\"60\"\\n']\n",
      "['\"male\"', '\"group B\"', '\"high school\"', '\"standard\"', '\"none\"', '\"62\"', '\"55\"', '\"54\"\\n']\n",
      "['\"female\"', '\"group C\"', '\"some high school\"', '\"free/reduced\"', '\"completed\"', '\"29\"', '\"40\"', '\"44\"\\n']\n",
      "['\"male\"', '\"group B\"', '\"some college\"', '\"standard\"', '\"completed\"', '\"62\"', '\"66\"', '\"68\"\\n']\n",
      "['\"female\"', '\"group E\"', '\"master\\'s degree\"', '\"standard\"', '\"completed\"', '\"94\"', '\"99\"', '\"100\"\\n']\n",
      "['\"male\"', '\"group E\"', '\"some college\"', '\"standard\"', '\"completed\"', '\"85\"', '\"75\"', '\"68\"\\n']\n",
      "['\"male\"', '\"group D\"', '\"associate\\'s degree\"', '\"free/reduced\"', '\"none\"', '\"77\"', '\"78\"', '\"73\"\\n']\n",
      "['\"male\"', '\"group A\"', '\"high school\"', '\"free/reduced\"', '\"none\"', '\"53\"', '\"58\"', '\"44\"\\n']\n",
      "['\"male\"', '\"group E\"', '\"some college\"', '\"free/reduced\"', '\"none\"', '\"93\"', '\"90\"', '\"83\"\\n']\n",
      "['\"female\"', '\"group C\"', '\"associate\\'s degree\"', '\"standard\"', '\"none\"', '\"49\"', '\"53\"', '\"53\"\\n']\n",
      "['\"female\"', '\"group E\"', '\"associate\\'s degree\"', '\"free/reduced\"', '\"none\"', '\"73\"', '\"76\"', '\"78\"\\n']\n",
      "['\"female\"', '\"group C\"', '\"bachelor\\'s degree\"', '\"free/reduced\"', '\"completed\"', '\"66\"', '\"74\"', '\"81\"\\n']\n",
      "['\"female\"', '\"group D\"', '\"associate\\'s degree\"', '\"standard\"', '\"none\"', '\"77\"', '\"77\"', '\"73\"\\n']\n",
      "['\"female\"', '\"group C\"', '\"some high school\"', '\"standard\"', '\"none\"', '\"49\"', '\"63\"', '\"56\"\\n']\n",
      "['\"female\"', '\"group D\"', '\"some college\"', '\"free/reduced\"', '\"none\"', '\"79\"', '\"89\"', '\"86\"\\n']\n",
      "['\"female\"', '\"group C\"', '\"associate\\'s degree\"', '\"standard\"', '\"completed\"', '\"75\"', '\"82\"', '\"90\"\\n']\n",
      "['\"female\"', '\"group A\"', '\"bachelor\\'s degree\"', '\"standard\"', '\"none\"', '\"59\"', '\"72\"', '\"70\"\\n']\n",
      "['\"female\"', '\"group D\"', '\"associate\\'s degree\"', '\"standard\"', '\"completed\"', '\"57\"', '\"78\"', '\"79\"\\n']\n",
      "['\"male\"', '\"group C\"', '\"high school\"', '\"free/reduced\"', '\"none\"', '\"66\"', '\"66\"', '\"59\"\\n']\n",
      "['\"female\"', '\"group E\"', '\"bachelor\\'s degree\"', '\"standard\"', '\"completed\"', '\"79\"', '\"81\"', '\"82\"\\n']\n",
      "['\"female\"', '\"group B\"', '\"some high school\"', '\"standard\"', '\"none\"', '\"57\"', '\"67\"', '\"72\"\\n']\n",
      "['\"male\"', '\"group A\"', '\"bachelor\\'s degree\"', '\"standard\"', '\"completed\"', '\"87\"', '\"84\"', '\"87\"\\n']\n",
      "['\"female\"', '\"group D\"', '\"some college\"', '\"standard\"', '\"none\"', '\"63\"', '\"64\"', '\"67\"\\n']\n",
      "['\"female\"', '\"group B\"', '\"some high school\"', '\"free/reduced\"', '\"completed\"', '\"59\"', '\"63\"', '\"64\"\\n']\n",
      "['\"male\"', '\"group A\"', '\"bachelor\\'s degree\"', '\"free/reduced\"', '\"none\"', '\"62\"', '\"72\"', '\"65\"\\n']\n",
      "['\"male\"', '\"group D\"', '\"high school\"', '\"standard\"', '\"none\"', '\"46\"', '\"34\"', '\"36\"\\n']\n",
      "['\"male\"', '\"group C\"', '\"some college\"', '\"standard\"', '\"none\"', '\"66\"', '\"59\"', '\"52\"\\n']\n",
      "['\"male\"', '\"group D\"', '\"high school\"', '\"standard\"', '\"none\"', '\"89\"', '\"87\"', '\"79\"\\n']\n",
      "['\"female\"', '\"group D\"', '\"associate\\'s degree\"', '\"free/reduced\"', '\"completed\"', '\"42\"', '\"61\"', '\"58\"\\n']\n",
      "['\"male\"', '\"group C\"', '\"some college\"', '\"standard\"', '\"completed\"', '\"93\"', '\"84\"', '\"90\"\\n']\n",
      "['\"female\"', '\"group E\"', '\"some high school\"', '\"standard\"', '\"completed\"', '\"80\"', '\"85\"', '\"85\"\\n']\n",
      "['\"female\"', '\"group D\"', '\"some college\"', '\"standard\"', '\"none\"', '\"98\"', '\"100\"', '\"99\"\\n']\n",
      "['\"male\"', '\"group D\"', '\"master\\'s degree\"', '\"standard\"', '\"none\"', '\"81\"', '\"81\"', '\"84\"\\n']\n",
      "['\"female\"', '\"group B\"', '\"some high school\"', '\"standard\"', '\"completed\"', '\"60\"', '\"70\"', '\"74\"\\n']\n",
      "['\"female\"', '\"group B\"', '\"associate\\'s degree\"', '\"free/reduced\"', '\"completed\"', '\"76\"', '\"94\"', '\"87\"\\n']\n",
      "['\"male\"', '\"group C\"', '\"associate\\'s degree\"', '\"standard\"', '\"completed\"', '\"73\"', '\"78\"', '\"72\"\\n']\n",
      "['\"female\"', '\"group C\"', '\"associate\\'s degree\"', '\"standard\"', '\"completed\"', '\"96\"', '\"96\"', '\"99\"\\n']\n",
      "['\"female\"', '\"group C\"', '\"high school\"', '\"standard\"', '\"none\"', '\"76\"', '\"76\"', '\"74\"\\n']\n",
      "['\"male\"', '\"group E\"', '\"associate\\'s degree\"', '\"free/reduced\"', '\"completed\"', '\"91\"', '\"73\"', '\"80\"\\n']\n",
      "['\"female\"', '\"group C\"', '\"some college\"', '\"free/reduced\"', '\"none\"', '\"62\"', '\"72\"', '\"70\"\\n']\n",
      "['\"male\"', '\"group D\"', '\"some high school\"', '\"free/reduced\"', '\"completed\"', '\"55\"', '\"59\"', '\"59\"\\n']\n",
      "['\"female\"', '\"group B\"', '\"some high school\"', '\"free/reduced\"', '\"completed\"', '\"74\"', '\"90\"', '\"88\"\\n']\n",
      "['\"male\"', '\"group C\"', '\"high school\"', '\"standard\"', '\"none\"', '\"50\"', '\"48\"', '\"42\"\\n']\n",
      "['\"male\"', '\"group B\"', '\"some college\"', '\"standard\"', '\"none\"', '\"47\"', '\"43\"', '\"41\"\\n']\n",
      "['\"male\"', '\"group E\"', '\"some college\"', '\"standard\"', '\"completed\"', '\"81\"', '\"74\"', '\"71\"\\n']\n",
      "['\"female\"', '\"group E\"', '\"associate\\'s degree\"', '\"standard\"', '\"completed\"', '\"65\"', '\"75\"', '\"77\"\\n']\n",
      "['\"male\"', '\"group E\"', '\"some high school\"', '\"standard\"', '\"completed\"', '\"68\"', '\"51\"', '\"57\"\\n']\n",
      "['\"female\"', '\"group D\"', '\"high school\"', '\"free/reduced\"', '\"none\"', '\"73\"', '\"92\"', '\"84\"\\n']\n",
      "['\"male\"', '\"group C\"', '\"some college\"', '\"standard\"', '\"none\"', '\"53\"', '\"39\"', '\"37\"\\n']\n",
      "['\"female\"', '\"group B\"', '\"associate\\'s degree\"', '\"free/reduced\"', '\"completed\"', '\"68\"', '\"77\"', '\"80\"\\n']\n",
      "['\"male\"', '\"group A\"', '\"some high school\"', '\"free/reduced\"', '\"none\"', '\"55\"', '\"46\"', '\"43\"\\n']\n",
      "['\"female\"', '\"group C\"', '\"some college\"', '\"standard\"', '\"completed\"', '\"87\"', '\"89\"', '\"94\"\\n']\n",
      "['\"male\"', '\"group D\"', '\"some high school\"', '\"standard\"', '\"none\"', '\"55\"', '\"47\"', '\"44\"\\n']\n",
      "['\"female\"', '\"group E\"', '\"some college\"', '\"free/reduced\"', '\"none\"', '\"53\"', '\"58\"', '\"57\"\\n']\n",
      "['\"male\"', '\"group C\"', '\"master\\'s degree\"', '\"standard\"', '\"none\"', '\"67\"', '\"57\"', '\"59\"\\n']\n",
      "['\"male\"', '\"group C\"', '\"associate\\'s degree\"', '\"standard\"', '\"none\"', '\"92\"', '\"79\"', '\"84\"\\n']\n",
      "['\"female\"', '\"group B\"', '\"some college\"', '\"free/reduced\"', '\"completed\"', '\"53\"', '\"66\"', '\"73\"\\n']\n",
      "['\"male\"', '\"group D\"', '\"associate\\'s degree\"', '\"standard\"', '\"none\"', '\"81\"', '\"71\"', '\"73\"\\n']\n",
      "['\"male\"', '\"group C\"', '\"high school\"', '\"free/reduced\"', '\"none\"', '\"61\"', '\"60\"', '\"55\"\\n']\n",
      "['\"male\"', '\"group D\"', '\"bachelor\\'s degree\"', '\"standard\"', '\"none\"', '\"80\"', '\"73\"', '\"72\"\\n']\n",
      "['\"female\"', '\"group A\"', '\"associate\\'s degree\"', '\"free/reduced\"', '\"none\"', '\"37\"', '\"57\"', '\"56\"\\n']\n",
      "['\"female\"', '\"group C\"', '\"high school\"', '\"standard\"', '\"none\"', '\"81\"', '\"84\"', '\"82\"\\n']\n",
      "['\"female\"', '\"group C\"', '\"associate\\'s degree\"', '\"standard\"', '\"completed\"', '\"59\"', '\"73\"', '\"72\"\\n']\n",
      "['\"male\"', '\"group B\"', '\"some college\"', '\"free/reduced\"', '\"none\"', '\"55\"', '\"55\"', '\"47\"\\n']\n",
      "['\"male\"', '\"group D\"', '\"associate\\'s degree\"', '\"standard\"', '\"none\"', '\"72\"', '\"79\"', '\"74\"\\n']\n",
      "['\"male\"', '\"group D\"', '\"high school\"', '\"standard\"', '\"none\"', '\"69\"', '\"75\"', '\"71\"\\n']\n",
      "['\"male\"', '\"group C\"', '\"some college\"', '\"standard\"', '\"none\"', '\"69\"', '\"64\"', '\"68\"\\n']\n",
      "['\"female\"', '\"group C\"', '\"bachelor\\'s degree\"', '\"free/reduced\"', '\"none\"', '\"50\"', '\"60\"', '\"59\"\\n']\n",
      "['\"male\"', '\"group B\"', '\"some college\"', '\"standard\"', '\"completed\"', '\"87\"', '\"84\"', '\"86\"\\n']\n",
      "['\"male\"', '\"group D\"', '\"some high school\"', '\"standard\"', '\"completed\"', '\"71\"', '\"69\"', '\"68\"\\n']\n",
      "['\"male\"', '\"group E\"', '\"some college\"', '\"standard\"', '\"none\"', '\"68\"', '\"72\"', '\"65\"\\n']\n",
      "['\"male\"', '\"group C\"', '\"master\\'s degree\"', '\"free/reduced\"', '\"completed\"', '\"79\"', '\"77\"', '\"75\"\\n']\n",
      "['\"female\"', '\"group C\"', '\"some high school\"', '\"standard\"', '\"completed\"', '\"77\"', '\"90\"', '\"85\"\\n']\n",
      "['\"male\"', '\"group C\"', '\"associate\\'s degree\"', '\"free/reduced\"', '\"none\"', '\"58\"', '\"55\"', '\"53\"\\n']\n",
      "['\"female\"', '\"group E\"', '\"associate\\'s degree\"', '\"standard\"', '\"none\"', '\"84\"', '\"95\"', '\"92\"\\n']\n",
      "['\"male\"', '\"group D\"', '\"some college\"', '\"standard\"', '\"none\"', '\"55\"', '\"58\"', '\"52\"\\n']\n",
      "['\"male\"', '\"group E\"', '\"bachelor\\'s degree\"', '\"free/reduced\"', '\"completed\"', '\"70\"', '\"68\"', '\"72\"\\n']\n",
      "['\"female\"', '\"group D\"', '\"some college\"', '\"free/reduced\"', '\"completed\"', '\"52\"', '\"59\"', '\"65\"\\n']\n",
      "['\"male\"', '\"group B\"', '\"some college\"', '\"standard\"', '\"completed\"', '\"69\"', '\"77\"', '\"77\"\\n']\n",
      "['\"female\"', '\"group C\"', '\"high school\"', '\"free/reduced\"', '\"none\"', '\"53\"', '\"72\"', '\"64\"\\n']\n",
      "['\"female\"', '\"group D\"', '\"some high school\"', '\"standard\"', '\"none\"', '\"48\"', '\"58\"', '\"54\"\\n']\n",
      "['\"male\"', '\"group D\"', '\"some high school\"', '\"standard\"', '\"completed\"', '\"78\"', '\"81\"', '\"86\"\\n']\n",
      "['\"female\"', '\"group B\"', '\"high school\"', '\"standard\"', '\"none\"', '\"62\"', '\"62\"', '\"63\"\\n']\n",
      "['\"male\"', '\"group D\"', '\"some college\"', '\"standard\"', '\"none\"', '\"60\"', '\"63\"', '\"59\"\\n']\n",
      "['\"female\"', '\"group B\"', '\"high school\"', '\"standard\"', '\"none\"', '\"74\"', '\"72\"', '\"72\"\\n']\n",
      "['\"female\"', '\"group C\"', '\"high school\"', '\"standard\"', '\"completed\"', '\"58\"', '\"75\"', '\"77\"\\n']\n",
      "['\"male\"', '\"group B\"', '\"high school\"', '\"standard\"', '\"completed\"', '\"76\"', '\"62\"', '\"60\"\\n']\n",
      "['\"female\"', '\"group D\"', '\"some high school\"', '\"standard\"', '\"none\"', '\"68\"', '\"71\"', '\"75\"\\n']\n",
      "['\"male\"', '\"group A\"', '\"some college\"', '\"free/reduced\"', '\"none\"', '\"58\"', '\"60\"', '\"57\"\\n']\n",
      "['\"male\"', '\"group B\"', '\"high school\"', '\"standard\"', '\"none\"', '\"52\"', '\"48\"', '\"49\"\\n']\n",
      "['\"male\"', '\"group D\"', '\"bachelor\\'s degree\"', '\"standard\"', '\"none\"', '\"75\"', '\"73\"', '\"74\"\\n']\n",
      "['\"female\"', '\"group B\"', '\"some high school\"', '\"free/reduced\"', '\"completed\"', '\"52\"', '\"67\"', '\"72\"\\n']\n",
      "['\"female\"', '\"group C\"', '\"bachelor\\'s degree\"', '\"free/reduced\"', '\"none\"', '\"62\"', '\"78\"', '\"79\"\\n']\n",
      "['\"male\"', '\"group B\"', '\"some college\"', '\"standard\"', '\"none\"', '\"66\"', '\"65\"', '\"60\"\\n']\n",
      "['\"female\"', '\"group B\"', '\"some high school\"', '\"free/reduced\"', '\"none\"', '\"49\"', '\"58\"', '\"55\"\\n']\n",
      "['\"female\"', '\"group B\"', '\"high school\"', '\"standard\"', '\"none\"', '\"66\"', '\"72\"', '\"70\"\\n']\n",
      "['\"female\"', '\"group C\"', '\"some college\"', '\"free/reduced\"', '\"none\"', '\"35\"', '\"44\"', '\"43\"\\n']\n",
      "['\"female\"', '\"group A\"', '\"some college\"', '\"standard\"', '\"completed\"', '\"72\"', '\"79\"', '\"82\"\\n']\n",
      "['\"male\"', '\"group E\"', '\"associate\\'s degree\"', '\"standard\"', '\"completed\"', '\"94\"', '\"85\"', '\"82\"\\n']\n",
      "['\"female\"', '\"group D\"', '\"associate\\'s degree\"', '\"free/reduced\"', '\"none\"', '\"46\"', '\"56\"', '\"57\"\\n']\n",
      "['\"female\"', '\"group B\"', '\"master\\'s degree\"', '\"standard\"', '\"none\"', '\"77\"', '\"90\"', '\"84\"\\n']\n",
      "['\"female\"', '\"group B\"', '\"high school\"', '\"free/reduced\"', '\"completed\"', '\"76\"', '\"85\"', '\"82\"\\n']\n",
      "['\"female\"', '\"group C\"', '\"associate\\'s degree\"', '\"standard\"', '\"completed\"', '\"52\"', '\"59\"', '\"62\"\\n']\n",
      "['\"male\"', '\"group C\"', '\"bachelor\\'s degree\"', '\"standard\"', '\"completed\"', '\"91\"', '\"81\"', '\"79\"\\n']\n",
      "['\"female\"', '\"group B\"', '\"some high school\"', '\"standard\"', '\"completed\"', '\"32\"', '\"51\"', '\"44\"\\n']\n",
      "['\"female\"', '\"group E\"', '\"some high school\"', '\"free/reduced\"', '\"none\"', '\"72\"', '\"79\"', '\"77\"\\n']\n",
      "['\"female\"', '\"group B\"', '\"some college\"', '\"standard\"', '\"none\"', '\"19\"', '\"38\"', '\"32\"\\n']\n",
      "['\"male\"', '\"group C\"', '\"associate\\'s degree\"', '\"free/reduced\"', '\"none\"', '\"68\"', '\"65\"', '\"61\"\\n']\n",
      "['\"female\"', '\"group C\"', '\"master\\'s degree\"', '\"free/reduced\"', '\"none\"', '\"52\"', '\"65\"', '\"61\"\\n']\n",
      "['\"female\"', '\"group B\"', '\"high school\"', '\"standard\"', '\"none\"', '\"48\"', '\"62\"', '\"60\"\\n']\n",
      "['\"female\"', '\"group D\"', '\"some college\"', '\"free/reduced\"', '\"none\"', '\"60\"', '\"66\"', '\"70\"\\n']\n",
      "['\"male\"', '\"group D\"', '\"high school\"', '\"free/reduced\"', '\"none\"', '\"66\"', '\"74\"', '\"69\"\\n']\n",
      "['\"male\"', '\"group E\"', '\"some high school\"', '\"standard\"', '\"completed\"', '\"89\"', '\"84\"', '\"77\"\\n']\n",
      "['\"female\"', '\"group B\"', '\"high school\"', '\"standard\"', '\"none\"', '\"42\"', '\"52\"', '\"51\"\\n']\n",
      "['\"female\"', '\"group E\"', '\"associate\\'s degree\"', '\"free/reduced\"', '\"completed\"', '\"57\"', '\"68\"', '\"73\"\\n']\n",
      "['\"male\"', '\"group D\"', '\"high school\"', '\"standard\"', '\"none\"', '\"70\"', '\"70\"', '\"70\"\\n']\n",
      "['\"female\"', '\"group E\"', '\"associate\\'s degree\"', '\"free/reduced\"', '\"none\"', '\"70\"', '\"84\"', '\"81\"\\n']\n",
      "['\"male\"', '\"group E\"', '\"some college\"', '\"standard\"', '\"none\"', '\"69\"', '\"60\"', '\"54\"\\n']\n",
      "['\"female\"', '\"group C\"', '\"associate\\'s degree\"', '\"standard\"', '\"none\"', '\"52\"', '\"55\"', '\"57\"\\n']\n",
      "['\"male\"', '\"group C\"', '\"some high school\"', '\"standard\"', '\"completed\"', '\"67\"', '\"73\"', '\"68\"\\n']\n",
      "['\"male\"', '\"group C\"', '\"some high school\"', '\"standard\"', '\"completed\"', '\"76\"', '\"80\"', '\"73\"\\n']\n",
      "['\"female\"', '\"group E\"', '\"associate\\'s degree\"', '\"standard\"', '\"none\"', '\"87\"', '\"94\"', '\"95\"\\n']\n",
      "['\"female\"', '\"group B\"', '\"some college\"', '\"standard\"', '\"none\"', '\"82\"', '\"85\"', '\"87\"\\n']\n",
      "['\"female\"', '\"group C\"', '\"some college\"', '\"standard\"', '\"none\"', '\"73\"', '\"76\"', '\"78\"\\n']\n",
      "['\"male\"', '\"group A\"', '\"some college\"', '\"free/reduced\"', '\"none\"', '\"75\"', '\"81\"', '\"74\"\\n']\n",
      "['\"female\"', '\"group D\"', '\"some college\"', '\"free/reduced\"', '\"none\"', '\"64\"', '\"74\"', '\"75\"\\n']\n",
      "['\"female\"', '\"group E\"', '\"high school\"', '\"free/reduced\"', '\"none\"', '\"41\"', '\"45\"', '\"40\"\\n']\n",
      "['\"male\"', '\"group C\"', '\"high school\"', '\"standard\"', '\"none\"', '\"90\"', '\"75\"', '\"69\"\\n']\n",
      "['\"male\"', '\"group B\"', '\"bachelor\\'s degree\"', '\"standard\"', '\"none\"', '\"59\"', '\"54\"', '\"51\"\\n']\n",
      "['\"male\"', '\"group A\"', '\"some high school\"', '\"standard\"', '\"none\"', '\"51\"', '\"31\"', '\"36\"\\n']\n",
      "['\"male\"', '\"group A\"', '\"high school\"', '\"free/reduced\"', '\"none\"', '\"45\"', '\"47\"', '\"49\"\\n']\n",
      "['\"female\"', '\"group C\"', '\"master\\'s degree\"', '\"standard\"', '\"completed\"', '\"54\"', '\"64\"', '\"67\"\\n']\n",
      "['\"male\"', '\"group E\"', '\"some high school\"', '\"standard\"', '\"completed\"', '\"87\"', '\"84\"', '\"76\"\\n']\n",
      "['\"female\"', '\"group C\"', '\"high school\"', '\"standard\"', '\"none\"', '\"72\"', '\"80\"', '\"83\"\\n']\n",
      "['\"male\"', '\"group B\"', '\"some high school\"', '\"standard\"', '\"completed\"', '\"94\"', '\"86\"', '\"87\"\\n']\n",
      "['\"female\"', '\"group A\"', '\"bachelor\\'s degree\"', '\"standard\"', '\"none\"', '\"45\"', '\"59\"', '\"64\"\\n']\n",
      "['\"male\"', '\"group D\"', '\"bachelor\\'s degree\"', '\"free/reduced\"', '\"completed\"', '\"61\"', '\"70\"', '\"76\"\\n']\n",
      "['\"female\"', '\"group B\"', '\"high school\"', '\"free/reduced\"', '\"none\"', '\"60\"', '\"72\"', '\"68\"\\n']\n",
      "['\"female\"', '\"group C\"', '\"some high school\"', '\"standard\"', '\"none\"', '\"77\"', '\"91\"', '\"88\"\\n']\n",
      "['\"female\"', '\"group A\"', '\"some high school\"', '\"standard\"', '\"completed\"', '\"85\"', '\"90\"', '\"92\"\\n']\n",
      "['\"female\"', '\"group D\"', '\"bachelor\\'s degree\"', '\"free/reduced\"', '\"none\"', '\"78\"', '\"90\"', '\"93\"\\n']\n",
      "['\"male\"', '\"group E\"', '\"some college\"', '\"free/reduced\"', '\"completed\"', '\"49\"', '\"52\"', '\"51\"\\n']\n",
      "['\"female\"', '\"group B\"', '\"high school\"', '\"free/reduced\"', '\"none\"', '\"71\"', '\"87\"', '\"82\"\\n']\n",
      "['\"female\"', '\"group C\"', '\"some high school\"', '\"free/reduced\"', '\"none\"', '\"48\"', '\"58\"', '\"52\"\\n']\n",
      "['\"male\"', '\"group C\"', '\"high school\"', '\"standard\"', '\"none\"', '\"62\"', '\"67\"', '\"58\"\\n']\n",
      "['\"female\"', '\"group C\"', '\"associate\\'s degree\"', '\"free/reduced\"', '\"completed\"', '\"56\"', '\"68\"', '\"70\"\\n']\n",
      "['\"female\"', '\"group C\"', '\"some high school\"', '\"standard\"', '\"none\"', '\"65\"', '\"69\"', '\"76\"\\n']\n",
      "['\"female\"', '\"group D\"', '\"some high school\"', '\"free/reduced\"', '\"completed\"', '\"69\"', '\"86\"', '\"81\"\\n']\n",
      "['\"male\"', '\"group B\"', '\"some high school\"', '\"standard\"', '\"none\"', '\"68\"', '\"54\"', '\"53\"\\n']\n",
      "['\"female\"', '\"group A\"', '\"some college\"', '\"free/reduced\"', '\"none\"', '\"61\"', '\"60\"', '\"57\"\\n']\n",
      "['\"female\"', '\"group C\"', '\"bachelor\\'s degree\"', '\"free/reduced\"', '\"completed\"', '\"74\"', '\"86\"', '\"89\"\\n']\n",
      "['\"male\"', '\"group A\"', '\"bachelor\\'s degree\"', '\"standard\"', '\"none\"', '\"64\"', '\"60\"', '\"58\"\\n']\n",
      "['\"female\"', '\"group B\"', '\"high school\"', '\"standard\"', '\"completed\"', '\"77\"', '\"82\"', '\"89\"\\n']\n",
      "['\"male\"', '\"group B\"', '\"some college\"', '\"standard\"', '\"none\"', '\"58\"', '\"50\"', '\"45\"\\n']\n",
      "['\"female\"', '\"group C\"', '\"high school\"', '\"standard\"', '\"completed\"', '\"60\"', '\"64\"', '\"74\"\\n']\n",
      "['\"male\"', '\"group E\"', '\"high school\"', '\"standard\"', '\"none\"', '\"73\"', '\"64\"', '\"57\"\\n']\n",
      "['\"female\"', '\"group A\"', '\"high school\"', '\"standard\"', '\"completed\"', '\"75\"', '\"82\"', '\"79\"\\n']\n",
      "['\"male\"', '\"group B\"', '\"associate\\'s degree\"', '\"free/reduced\"', '\"completed\"', '\"58\"', '\"57\"', '\"53\"\\n']\n",
      "['\"female\"', '\"group C\"', '\"associate\\'s degree\"', '\"standard\"', '\"none\"', '\"66\"', '\"77\"', '\"73\"\\n']\n",
      "['\"female\"', '\"group D\"', '\"high school\"', '\"free/reduced\"', '\"none\"', '\"39\"', '\"52\"', '\"46\"\\n']\n",
      "['\"male\"', '\"group C\"', '\"some high school\"', '\"standard\"', '\"none\"', '\"64\"', '\"58\"', '\"51\"\\n']\n",
      "['\"female\"', '\"group B\"', '\"high school\"', '\"free/reduced\"', '\"completed\"', '\"23\"', '\"44\"', '\"36\"\\n']\n",
      "['\"male\"', '\"group B\"', '\"some college\"', '\"free/reduced\"', '\"completed\"', '\"74\"', '\"77\"', '\"76\"\\n']\n",
      "['\"female\"', '\"group D\"', '\"some high school\"', '\"free/reduced\"', '\"completed\"', '\"40\"', '\"65\"', '\"64\"\\n']\n",
      "['\"male\"', '\"group E\"', '\"master\\'s degree\"', '\"standard\"', '\"none\"', '\"90\"', '\"85\"', '\"84\"\\n']\n",
      "['\"male\"', '\"group C\"', '\"master\\'s degree\"', '\"standard\"', '\"completed\"', '\"91\"', '\"85\"', '\"85\"\\n']\n",
      "['\"male\"', '\"group D\"', '\"high school\"', '\"standard\"', '\"none\"', '\"64\"', '\"54\"', '\"50\"\\n']\n",
      "['\"female\"', '\"group C\"', '\"high school\"', '\"standard\"', '\"none\"', '\"59\"', '\"72\"', '\"68\"\\n']\n",
      "['\"male\"', '\"group D\"', '\"associate\\'s degree\"', '\"standard\"', '\"none\"', '\"80\"', '\"75\"', '\"69\"\\n']\n",
      "['\"male\"', '\"group C\"', '\"master\\'s degree\"', '\"standard\"', '\"none\"', '\"71\"', '\"67\"', '\"67\"\\n']\n",
      "['\"female\"', '\"group A\"', '\"high school\"', '\"standard\"', '\"none\"', '\"61\"', '\"68\"', '\"63\"\\n']\n",
      "['\"female\"', '\"group E\"', '\"some college\"', '\"standard\"', '\"none\"', '\"87\"', '\"85\"', '\"93\"\\n']\n",
      "['\"male\"', '\"group E\"', '\"some high school\"', '\"standard\"', '\"none\"', '\"82\"', '\"67\"', '\"61\"\\n']\n",
      "['\"male\"', '\"group C\"', '\"some high school\"', '\"standard\"', '\"none\"', '\"62\"', '\"64\"', '\"55\"\\n']\n",
      "['\"female\"', '\"group B\"', '\"bachelor\\'s degree\"', '\"standard\"', '\"none\"', '\"97\"', '\"97\"', '\"96\"\\n']\n",
      "['\"male\"', '\"group B\"', '\"some college\"', '\"free/reduced\"', '\"none\"', '\"75\"', '\"68\"', '\"65\"\\n']\n",
      "['\"female\"', '\"group C\"', '\"bachelor\\'s degree\"', '\"standard\"', '\"none\"', '\"65\"', '\"79\"', '\"81\"\\n']\n",
      "['\"male\"', '\"group B\"', '\"high school\"', '\"standard\"', '\"completed\"', '\"52\"', '\"49\"', '\"46\"\\n']\n",
      "['\"male\"', '\"group C\"', '\"associate\\'s degree\"', '\"free/reduced\"', '\"none\"', '\"87\"', '\"73\"', '\"72\"\\n']\n",
      "['\"female\"', '\"group C\"', '\"associate\\'s degree\"', '\"standard\"', '\"none\"', '\"53\"', '\"62\"', '\"53\"\\n']\n",
      "['\"female\"', '\"group E\"', '\"master\\'s degree\"', '\"free/reduced\"', '\"none\"', '\"81\"', '\"86\"', '\"87\"\\n']\n",
      "['\"male\"', '\"group D\"', '\"bachelor\\'s degree\"', '\"free/reduced\"', '\"completed\"', '\"39\"', '\"42\"', '\"38\"\\n']\n",
      "['\"female\"', '\"group C\"', '\"some college\"', '\"standard\"', '\"completed\"', '\"71\"', '\"71\"', '\"80\"\\n']\n",
      "['\"male\"', '\"group C\"', '\"associate\\'s degree\"', '\"standard\"', '\"none\"', '\"97\"', '\"93\"', '\"91\"\\n']\n",
      "['\"male\"', '\"group D\"', '\"some college\"', '\"standard\"', '\"completed\"', '\"82\"', '\"82\"', '\"88\"\\n']\n",
      "['\"male\"', '\"group C\"', '\"high school\"', '\"free/reduced\"', '\"none\"', '\"59\"', '\"53\"', '\"52\"\\n']\n",
      "['\"male\"', '\"group B\"', '\"associate\\'s degree\"', '\"standard\"', '\"none\"', '\"61\"', '\"42\"', '\"41\"\\n']\n",
      "['\"male\"', '\"group E\"', '\"associate\\'s degree\"', '\"free/reduced\"', '\"completed\"', '\"78\"', '\"74\"', '\"72\"\\n']\n",
      "['\"male\"', '\"group C\"', '\"associate\\'s degree\"', '\"free/reduced\"', '\"none\"', '\"49\"', '\"51\"', '\"51\"\\n']\n",
      "['\"male\"', '\"group B\"', '\"high school\"', '\"standard\"', '\"none\"', '\"59\"', '\"58\"', '\"47\"\\n']\n",
      "['\"female\"', '\"group C\"', '\"some college\"', '\"standard\"', '\"completed\"', '\"70\"', '\"72\"', '\"76\"\\n']\n",
      "['\"male\"', '\"group B\"', '\"associate\\'s degree\"', '\"standard\"', '\"completed\"', '\"82\"', '\"84\"', '\"78\"\\n']\n",
      "['\"male\"', '\"group E\"', '\"associate\\'s degree\"', '\"free/reduced\"', '\"none\"', '\"90\"', '\"90\"', '\"82\"\\n']\n",
      "['\"female\"', '\"group C\"', '\"bachelor\\'s degree\"', '\"free/reduced\"', '\"none\"', '\"43\"', '\"62\"', '\"61\"\\n']\n",
      "['\"male\"', '\"group C\"', '\"some college\"', '\"free/reduced\"', '\"none\"', '\"80\"', '\"64\"', '\"66\"\\n']\n",
      "['\"male\"', '\"group D\"', '\"some college\"', '\"standard\"', '\"none\"', '\"81\"', '\"82\"', '\"84\"\\n']\n",
      "['\"male\"', '\"group C\"', '\"some high school\"', '\"standard\"', '\"none\"', '\"57\"', '\"61\"', '\"54\"\\n']\n",
      "['\"female\"', '\"group D\"', '\"some high school\"', '\"standard\"', '\"none\"', '\"59\"', '\"72\"', '\"80\"\\n']\n",
      "['\"female\"', '\"group D\"', '\"associate\\'s degree\"', '\"standard\"', '\"none\"', '\"64\"', '\"76\"', '\"74\"\\n']\n",
      "['\"male\"', '\"group C\"', '\"bachelor\\'s degree\"', '\"standard\"', '\"completed\"', '\"63\"', '\"64\"', '\"66\"\\n']\n",
      "['\"female\"', '\"group E\"', '\"bachelor\\'s degree\"', '\"standard\"', '\"completed\"', '\"71\"', '\"70\"', '\"70\"\\n']\n",
      "['\"female\"', '\"group B\"', '\"high school\"', '\"free/reduced\"', '\"none\"', '\"64\"', '\"73\"', '\"71\"\\n']\n",
      "['\"male\"', '\"group D\"', '\"bachelor\\'s degree\"', '\"free/reduced\"', '\"none\"', '\"55\"', '\"46\"', '\"44\"\\n']\n",
      "['\"female\"', '\"group E\"', '\"associate\\'s degree\"', '\"standard\"', '\"none\"', '\"51\"', '\"51\"', '\"54\"\\n']\n",
      "['\"female\"', '\"group C\"', '\"associate\\'s degree\"', '\"standard\"', '\"completed\"', '\"62\"', '\"76\"', '\"80\"\\n']\n",
      "['\"female\"', '\"group E\"', '\"associate\\'s degree\"', '\"standard\"', '\"completed\"', '\"93\"', '\"100\"', '\"95\"\\n']\n",
      "['\"male\"', '\"group C\"', '\"high school\"', '\"free/reduced\"', '\"none\"', '\"54\"', '\"72\"', '\"59\"\\n']\n",
      "['\"female\"', '\"group D\"', '\"some college\"', '\"free/reduced\"', '\"none\"', '\"69\"', '\"65\"', '\"74\"\\n']\n",
      "['\"male\"', '\"group D\"', '\"high school\"', '\"free/reduced\"', '\"none\"', '\"44\"', '\"51\"', '\"48\"\\n']\n",
      "['\"female\"', '\"group E\"', '\"some college\"', '\"standard\"', '\"completed\"', '\"86\"', '\"85\"', '\"91\"\\n']\n",
      "['\"female\"', '\"group E\"', '\"associate\\'s degree\"', '\"standard\"', '\"none\"', '\"85\"', '\"92\"', '\"85\"\\n']\n",
      "['\"female\"', '\"group A\"', '\"master\\'s degree\"', '\"free/reduced\"', '\"none\"', '\"50\"', '\"67\"', '\"73\"\\n']\n",
      "['\"male\"', '\"group D\"', '\"some high school\"', '\"standard\"', '\"completed\"', '\"88\"', '\"74\"', '\"75\"\\n']\n",
      "['\"female\"', '\"group E\"', '\"associate\\'s degree\"', '\"standard\"', '\"none\"', '\"59\"', '\"62\"', '\"69\"\\n']\n",
      "['\"female\"', '\"group E\"', '\"some high school\"', '\"free/reduced\"', '\"none\"', '\"32\"', '\"34\"', '\"38\"\\n']\n",
      "['\"male\"', '\"group B\"', '\"high school\"', '\"free/reduced\"', '\"none\"', '\"36\"', '\"29\"', '\"27\"\\n']\n",
      "['\"female\"', '\"group B\"', '\"some high school\"', '\"free/reduced\"', '\"completed\"', '\"63\"', '\"78\"', '\"79\"\\n']\n",
      "['\"male\"', '\"group D\"', '\"associate\\'s degree\"', '\"standard\"', '\"completed\"', '\"67\"', '\"54\"', '\"63\"\\n']\n",
      "['\"female\"', '\"group D\"', '\"some high school\"', '\"standard\"', '\"completed\"', '\"65\"', '\"78\"', '\"82\"\\n']\n",
      "['\"male\"', '\"group D\"', '\"master\\'s degree\"', '\"standard\"', '\"none\"', '\"85\"', '\"84\"', '\"89\"\\n']\n",
      "['\"female\"', '\"group C\"', '\"master\\'s degree\"', '\"standard\"', '\"none\"', '\"73\"', '\"78\"', '\"74\"\\n']\n",
      "['\"female\"', '\"group A\"', '\"high school\"', '\"free/reduced\"', '\"completed\"', '\"34\"', '\"48\"', '\"41\"\\n']\n",
      "['\"female\"', '\"group D\"', '\"bachelor\\'s degree\"', '\"free/reduced\"', '\"completed\"', '\"93\"', '\"100\"', '\"100\"\\n']\n",
      "['\"female\"', '\"group D\"', '\"some high school\"', '\"free/reduced\"', '\"none\"', '\"67\"', '\"84\"', '\"84\"\\n']\n",
      "['\"male\"', '\"group D\"', '\"some college\"', '\"standard\"', '\"none\"', '\"88\"', '\"77\"', '\"77\"\\n']\n",
      "['\"male\"', '\"group B\"', '\"high school\"', '\"standard\"', '\"none\"', '\"57\"', '\"48\"', '\"51\"\\n']\n",
      "['\"female\"', '\"group D\"', '\"some college\"', '\"standard\"', '\"completed\"', '\"79\"', '\"84\"', '\"91\"\\n']\n",
      "['\"female\"', '\"group C\"', '\"bachelor\\'s degree\"', '\"free/reduced\"', '\"none\"', '\"67\"', '\"75\"', '\"72\"\\n']\n",
      "['\"male\"', '\"group E\"', '\"bachelor\\'s degree\"', '\"standard\"', '\"completed\"', '\"70\"', '\"64\"', '\"70\"\\n']\n",
      "['\"male\"', '\"group D\"', '\"bachelor\\'s degree\"', '\"free/reduced\"', '\"none\"', '\"50\"', '\"42\"', '\"48\"\\n']\n",
      "['\"female\"', '\"group A\"', '\"some college\"', '\"standard\"', '\"none\"', '\"69\"', '\"84\"', '\"82\"\\n']\n",
      "['\"female\"', '\"group C\"', '\"bachelor\\'s degree\"', '\"standard\"', '\"completed\"', '\"52\"', '\"61\"', '\"66\"\\n']\n",
      "['\"female\"', '\"group C\"', '\"bachelor\\'s degree\"', '\"free/reduced\"', '\"completed\"', '\"47\"', '\"62\"', '\"66\"\\n']\n",
      "['\"female\"', '\"group B\"', '\"associate\\'s degree\"', '\"free/reduced\"', '\"none\"', '\"46\"', '\"61\"', '\"55\"\\n']\n",
      "['\"female\"', '\"group E\"', '\"some college\"', '\"standard\"', '\"none\"', '\"68\"', '\"70\"', '\"66\"\\n']\n",
      "['\"male\"', '\"group E\"', '\"bachelor\\'s degree\"', '\"standard\"', '\"completed\"', '\"100\"', '\"100\"', '\"100\"\\n']\n",
      "['\"female\"', '\"group C\"', '\"high school\"', '\"standard\"', '\"none\"', '\"44\"', '\"61\"', '\"52\"\\n']\n",
      "['\"female\"', '\"group C\"', '\"associate\\'s degree\"', '\"standard\"', '\"completed\"', '\"57\"', '\"77\"', '\"80\"\\n']\n",
      "['\"male\"', '\"group B\"', '\"some college\"', '\"standard\"', '\"completed\"', '\"91\"', '\"96\"', '\"91\"\\n']\n",
      "['\"male\"', '\"group D\"', '\"high school\"', '\"free/reduced\"', '\"none\"', '\"69\"', '\"70\"', '\"67\"\\n']\n",
      "['\"female\"', '\"group C\"', '\"high school\"', '\"free/reduced\"', '\"none\"', '\"35\"', '\"53\"', '\"46\"\\n']\n",
      "['\"male\"', '\"group D\"', '\"high school\"', '\"standard\"', '\"none\"', '\"72\"', '\"66\"', '\"66\"\\n']\n",
      "['\"female\"', '\"group B\"', '\"associate\\'s degree\"', '\"free/reduced\"', '\"none\"', '\"54\"', '\"65\"', '\"65\"\\n']\n",
      "['\"male\"', '\"group D\"', '\"high school\"', '\"free/reduced\"', '\"none\"', '\"74\"', '\"70\"', '\"69\"\\n']\n",
      "['\"male\"', '\"group E\"', '\"some high school\"', '\"standard\"', '\"completed\"', '\"74\"', '\"64\"', '\"60\"\\n']\n",
      "['\"male\"', '\"group E\"', '\"associate\\'s degree\"', '\"free/reduced\"', '\"none\"', '\"64\"', '\"56\"', '\"52\"\\n']\n",
      "['\"female\"', '\"group D\"', '\"high school\"', '\"free/reduced\"', '\"completed\"', '\"65\"', '\"61\"', '\"71\"\\n']\n",
      "['\"male\"', '\"group E\"', '\"associate\\'s degree\"', '\"free/reduced\"', '\"completed\"', '\"46\"', '\"43\"', '\"44\"\\n']\n",
      "['\"female\"', '\"group C\"', '\"some high school\"', '\"free/reduced\"', '\"none\"', '\"48\"', '\"56\"', '\"51\"\\n']\n",
      "['\"male\"', '\"group C\"', '\"some college\"', '\"free/reduced\"', '\"completed\"', '\"67\"', '\"74\"', '\"70\"\\n']\n",
      "['\"male\"', '\"group D\"', '\"some college\"', '\"free/reduced\"', '\"none\"', '\"62\"', '\"57\"', '\"62\"\\n']\n",
      "['\"male\"', '\"group D\"', '\"associate\\'s degree\"', '\"free/reduced\"', '\"completed\"', '\"61\"', '\"71\"', '\"73\"\\n']\n",
      "['\"male\"', '\"group C\"', '\"bachelor\\'s degree\"', '\"free/reduced\"', '\"completed\"', '\"70\"', '\"75\"', '\"74\"\\n']\n",
      "['\"male\"', '\"group C\"', '\"associate\\'s degree\"', '\"standard\"', '\"completed\"', '\"98\"', '\"87\"', '\"90\"\\n']\n",
      "['\"male\"', '\"group D\"', '\"some college\"', '\"free/reduced\"', '\"none\"', '\"70\"', '\"63\"', '\"58\"\\n']\n",
      "['\"male\"', '\"group A\"', '\"associate\\'s degree\"', '\"standard\"', '\"none\"', '\"67\"', '\"57\"', '\"53\"\\n']\n",
      "['\"female\"', '\"group E\"', '\"high school\"', '\"free/reduced\"', '\"none\"', '\"57\"', '\"58\"', '\"57\"\\n']\n",
      "['\"male\"', '\"group D\"', '\"some college\"', '\"standard\"', '\"completed\"', '\"85\"', '\"81\"', '\"85\"\\n']\n",
      "['\"male\"', '\"group D\"', '\"some high school\"', '\"standard\"', '\"completed\"', '\"77\"', '\"68\"', '\"69\"\\n']\n",
      "['\"male\"', '\"group C\"', '\"master\\'s degree\"', '\"free/reduced\"', '\"completed\"', '\"72\"', '\"66\"', '\"72\"\\n']\n",
      "['\"female\"', '\"group D\"', '\"master\\'s degree\"', '\"standard\"', '\"none\"', '\"78\"', '\"91\"', '\"96\"\\n']\n",
      "['\"male\"', '\"group C\"', '\"high school\"', '\"standard\"', '\"none\"', '\"81\"', '\"66\"', '\"64\"\\n']\n",
      "['\"male\"', '\"group A\"', '\"some high school\"', '\"free/reduced\"', '\"completed\"', '\"61\"', '\"62\"', '\"61\"\\n']\n",
      "['\"female\"', '\"group B\"', '\"high school\"', '\"standard\"', '\"none\"', '\"58\"', '\"68\"', '\"61\"\\n']\n",
      "['\"female\"', '\"group C\"', '\"associate\\'s degree\"', '\"standard\"', '\"none\"', '\"54\"', '\"61\"', '\"58\"\\n']\n",
      "['\"male\"', '\"group B\"', '\"high school\"', '\"standard\"', '\"none\"', '\"82\"', '\"82\"', '\"80\"\\n']\n",
      "['\"female\"', '\"group D\"', '\"some college\"', '\"free/reduced\"', '\"none\"', '\"49\"', '\"58\"', '\"60\"\\n']\n",
      "['\"male\"', '\"group B\"', '\"some high school\"', '\"free/reduced\"', '\"completed\"', '\"49\"', '\"50\"', '\"52\"\\n']\n",
      "['\"female\"', '\"group E\"', '\"high school\"', '\"free/reduced\"', '\"completed\"', '\"57\"', '\"75\"', '\"73\"\\n']\n",
      "['\"male\"', '\"group E\"', '\"high school\"', '\"standard\"', '\"none\"', '\"94\"', '\"73\"', '\"71\"\\n']\n",
      "['\"female\"', '\"group D\"', '\"some college\"', '\"standard\"', '\"completed\"', '\"75\"', '\"77\"', '\"83\"\\n']\n",
      "['\"female\"', '\"group E\"', '\"some high school\"', '\"free/reduced\"', '\"none\"', '\"74\"', '\"74\"', '\"72\"\\n']\n",
      "['\"male\"', '\"group C\"', '\"high school\"', '\"standard\"', '\"completed\"', '\"58\"', '\"52\"', '\"54\"\\n']\n",
      "['\"female\"', '\"group C\"', '\"some college\"', '\"standard\"', '\"none\"', '\"62\"', '\"69\"', '\"69\"\\n']\n",
      "['\"male\"', '\"group E\"', '\"associate\\'s degree\"', '\"standard\"', '\"none\"', '\"72\"', '\"57\"', '\"62\"\\n']\n",
      "['\"male\"', '\"group C\"', '\"some college\"', '\"standard\"', '\"none\"', '\"84\"', '\"87\"', '\"81\"\\n']\n",
      "['\"female\"', '\"group D\"', '\"master\\'s degree\"', '\"standard\"', '\"none\"', '\"92\"', '\"100\"', '\"100\"\\n']\n",
      "['\"female\"', '\"group D\"', '\"high school\"', '\"standard\"', '\"none\"', '\"45\"', '\"63\"', '\"59\"\\n']\n",
      "['\"male\"', '\"group C\"', '\"high school\"', '\"standard\"', '\"none\"', '\"75\"', '\"81\"', '\"71\"\\n']\n",
      "['\"female\"', '\"group A\"', '\"some college\"', '\"standard\"', '\"none\"', '\"56\"', '\"58\"', '\"64\"\\n']\n",
      "['\"female\"', '\"group D\"', '\"some high school\"', '\"free/reduced\"', '\"none\"', '\"48\"', '\"54\"', '\"53\"\\n']\n",
      "['\"female\"', '\"group E\"', '\"associate\\'s degree\"', '\"standard\"', '\"none\"', '\"100\"', '\"100\"', '\"100\"\\n']\n",
      "['\"female\"', '\"group C\"', '\"some high school\"', '\"free/reduced\"', '\"completed\"', '\"65\"', '\"76\"', '\"75\"\\n']\n",
      "['\"male\"', '\"group D\"', '\"some college\"', '\"standard\"', '\"none\"', '\"72\"', '\"57\"', '\"58\"\\n']\n",
      "['\"female\"', '\"group D\"', '\"some college\"', '\"standard\"', '\"none\"', '\"62\"', '\"70\"', '\"72\"\\n']\n",
      "['\"male\"', '\"group A\"', '\"some high school\"', '\"standard\"', '\"completed\"', '\"66\"', '\"68\"', '\"64\"\\n']\n",
      "['\"male\"', '\"group C\"', '\"some college\"', '\"standard\"', '\"none\"', '\"63\"', '\"63\"', '\"60\"\\n']\n",
      "['\"female\"', '\"group E\"', '\"associate\\'s degree\"', '\"standard\"', '\"none\"', '\"68\"', '\"76\"', '\"67\"\\n']\n",
      "['\"female\"', '\"group B\"', '\"bachelor\\'s degree\"', '\"standard\"', '\"none\"', '\"75\"', '\"84\"', '\"80\"\\n']\n",
      "['\"female\"', '\"group D\"', '\"bachelor\\'s degree\"', '\"standard\"', '\"none\"', '\"89\"', '\"100\"', '\"100\"\\n']\n",
      "['\"male\"', '\"group C\"', '\"some high school\"', '\"standard\"', '\"completed\"', '\"78\"', '\"72\"', '\"69\"\\n']\n",
      "['\"female\"', '\"group A\"', '\"high school\"', '\"free/reduced\"', '\"completed\"', '\"53\"', '\"50\"', '\"60\"\\n']\n",
      "['\"female\"', '\"group D\"', '\"some college\"', '\"free/reduced\"', '\"none\"', '\"49\"', '\"65\"', '\"61\"\\n']\n",
      "['\"female\"', '\"group A\"', '\"some college\"', '\"standard\"', '\"none\"', '\"54\"', '\"63\"', '\"67\"\\n']\n",
      "['\"female\"', '\"group C\"', '\"some college\"', '\"standard\"', '\"completed\"', '\"64\"', '\"82\"', '\"77\"\\n']\n",
      "['\"male\"', '\"group B\"', '\"some college\"', '\"free/reduced\"', '\"completed\"', '\"60\"', '\"62\"', '\"60\"\\n']\n",
      "['\"male\"', '\"group C\"', '\"associate\\'s degree\"', '\"standard\"', '\"none\"', '\"62\"', '\"65\"', '\"58\"\\n']\n",
      "['\"male\"', '\"group D\"', '\"high school\"', '\"standard\"', '\"completed\"', '\"55\"', '\"41\"', '\"48\"\\n']\n",
      "['\"female\"', '\"group C\"', '\"associate\\'s degree\"', '\"standard\"', '\"none\"', '\"91\"', '\"95\"', '\"94\"\\n']\n",
      "['\"female\"', '\"group B\"', '\"high school\"', '\"free/reduced\"', '\"none\"', '\"8\"', '\"24\"', '\"23\"\\n']\n",
      "['\"male\"', '\"group D\"', '\"some high school\"', '\"standard\"', '\"none\"', '\"81\"', '\"78\"', '\"78\"\\n']\n",
      "['\"male\"', '\"group B\"', '\"some high school\"', '\"standard\"', '\"completed\"', '\"79\"', '\"85\"', '\"86\"\\n']\n",
      "['\"female\"', '\"group A\"', '\"some college\"', '\"standard\"', '\"completed\"', '\"78\"', '\"87\"', '\"91\"\\n']\n",
      "['\"female\"', '\"group C\"', '\"some high school\"', '\"standard\"', '\"none\"', '\"74\"', '\"75\"', '\"82\"\\n']\n",
      "['\"male\"', '\"group A\"', '\"high school\"', '\"standard\"', '\"none\"', '\"57\"', '\"51\"', '\"54\"\\n']\n",
      "['\"female\"', '\"group C\"', '\"associate\\'s degree\"', '\"standard\"', '\"none\"', '\"40\"', '\"59\"', '\"51\"\\n']\n",
      "['\"male\"', '\"group E\"', '\"some high school\"', '\"standard\"', '\"completed\"', '\"81\"', '\"75\"', '\"76\"\\n']\n",
      "['\"female\"', '\"group A\"', '\"some high school\"', '\"free/reduced\"', '\"none\"', '\"44\"', '\"45\"', '\"45\"\\n']\n",
      "['\"female\"', '\"group D\"', '\"some college\"', '\"free/reduced\"', '\"completed\"', '\"67\"', '\"86\"', '\"83\"\\n']\n",
      "['\"male\"', '\"group E\"', '\"high school\"', '\"free/reduced\"', '\"completed\"', '\"86\"', '\"81\"', '\"75\"\\n']\n",
      "['\"female\"', '\"group B\"', '\"some high school\"', '\"standard\"', '\"completed\"', '\"65\"', '\"82\"', '\"78\"\\n']\n",
      "['\"female\"', '\"group D\"', '\"associate\\'s degree\"', '\"free/reduced\"', '\"none\"', '\"55\"', '\"76\"', '\"76\"\\n']\n",
      "['\"female\"', '\"group D\"', '\"bachelor\\'s degree\"', '\"free/reduced\"', '\"none\"', '\"62\"', '\"72\"', '\"74\"\\n']\n",
      "['\"male\"', '\"group A\"', '\"high school\"', '\"standard\"', '\"none\"', '\"63\"', '\"63\"', '\"62\"\\n']\n",
      "['\"female\"', '\"group E\"', '\"master\\'s degree\"', '\"standard\"', '\"completed\"', '\"88\"', '\"99\"', '\"95\"\\n']\n",
      "['\"male\"', '\"group C\"', '\"high school\"', '\"free/reduced\"', '\"none\"', '\"62\"', '\"55\"', '\"55\"\\n']\n",
      "['\"female\"', '\"group C\"', '\"high school\"', '\"free/reduced\"', '\"completed\"', '\"59\"', '\"71\"', '\"65\"\\n']\n",
      "['\"female\"', '\"group D\"', '\"some college\"', '\"standard\"', '\"completed\"', '\"68\"', '\"78\"', '\"77\"\\n']\n",
      "['\"female\"', '\"group D\"', '\"some college\"', '\"free/reduced\"', '\"none\"', '\"77\"', '\"86\"', '\"86\"\\n']\n",
      "7\n"
     ]
    }
   ],
   "source": [
    "f = open('StudentsPerformance.csv')\n",
    "listep=[]\n",
    "for line in f:\n",
    "    print(line.split(',')[:][0:])\n",
    "    listep.append(line.split(',')[2][1:-1])      \n",
    "f.close()\n",
    "import collections\n",
    "c = collections.Counter()\n",
    "for category in listep:\n",
    "    c[category] += 1\n",
    "print (len(c.keys()))\n",
    "#print(listep)"
   ]
  },
  {
   "cell_type": "code",
   "execution_count": 98,
   "metadata": {},
   "outputs": [
    {
     "name": "stdout",
     "output_type": "stream",
     "text": [
      "5\n"
     ]
    }
   ],
   "source": [
    "f = open('StudentsPerformance.csv')\n",
    "listep=[]\n",
    "for line in f:\n",
    "    #print(line.split(',')[3][1:-1])\n",
    "    if line.split(',')[1][1:-1] == 'race/ethnicity':\n",
    "        continue\n",
    "    listep.append(line.split(',')[1][1:-1])      \n",
    "f.close()\n",
    "import collections\n",
    "c = collections.Counter()\n",
    "for category in listep:\n",
    "    c[category] += 1\n",
    "print (len(c.keys()))\n",
    "\n"
   ]
  },
  {
   "cell_type": "code",
   "execution_count": 174,
   "metadata": {},
   "outputs": [
    {
     "name": "stdout",
     "output_type": "stream",
     "text": [
      "writing score\"\n",
      "74\"\n",
      "88\"\n",
      "93\"\n",
      "44\"\n",
      "75\"\n",
      "78\"\n",
      "92\"\n",
      "39\"\n",
      "67\"\n",
      "50\"\n",
      "52\"\n",
      "43\"\n",
      "73\"\n",
      "70\"\n",
      "58\"\n",
      "78\"\n",
      "86\"\n",
      "28\"\n",
      "46\"\n",
      "61\"\n",
      "63\"\n",
      "70\"\n",
      "53\"\n",
      "73\"\n",
      "80\"\n",
      "72\"\n",
      "55\"\n",
      "75\"\n",
      "65\"\n",
      "75\"\n",
      "74\"\n",
      "61\"\n",
      "65\"\n",
      "38\"\n",
      "82\"\n",
      "79\"\n",
      "83\"\n",
      "59\"\n",
      "88\"\n",
      "57\"\n",
      "54\"\n",
      "68\"\n",
      "65\"\n",
      "66\"\n",
      "54\"\n",
      "57\"\n",
      "62\"\n",
      "76\"\n",
      "76\"\n",
      "82\"\n",
      "48\"\n",
      "68\"\n",
      "42\"\n",
      "75\"\n",
      "87\"\n",
      "43\"\n",
      "86\"\n",
      "49\"\n",
      "58\"\n",
      "10\"\n",
      "72\"\n",
      "34\"\n",
      "55\"\n",
      "71\"\n",
      "59\"\n",
      "61\"\n",
      "37\"\n",
      "74\"\n",
      "56\"\n",
      "57\"\n",
      "73\"\n",
      "63\"\n",
      "48\"\n",
      "56\"\n",
      "41\"\n",
      "38\"\n",
      "22\"\n",
      "81\"\n",
      "72\"\n",
      "68\"\n",
      "50\"\n",
      "45\"\n",
      "54\"\n",
      "63\"\n",
      "34\"\n",
      "82\"\n",
      "88\"\n",
      "74\"\n",
      "67\"\n",
      "82\"\n",
      "74\"\n",
      "36\"\n",
      "71\"\n",
      "50\"\n",
      "92\"\n",
      "82\"\n",
      "62\"\n",
      "70\"\n",
      "62\"\n",
      "62\"\n",
      "67\"\n",
      "74\"\n",
      "89\"\n",
      "47\"\n",
      "90\"\n",
      "72\"\n",
      "100\"\n",
      "64\"\n",
      "70\"\n",
      "72\"\n",
      "98\"\n",
      "49\"\n",
      "47\"\n",
      "54\"\n",
      "100\"\n",
      "74\"\n",
      "82\"\n",
      "79\"\n",
      "61\"\n",
      "65\"\n",
      "89\"\n",
      "92\"\n",
      "93\"\n",
      "56\"\n",
      "73\"\n",
      "86\"\n",
      "67\"\n",
      "74\"\n",
      "74\"\n",
      "51\"\n",
      "82\"\n",
      "40\"\n",
      "70\"\n",
      "84\"\n",
      "75\"\n",
      "48\"\n",
      "41\"\n",
      "56\"\n",
      "67\"\n",
      "69\"\n",
      "71\"\n",
      "64\"\n",
      "54\"\n",
      "47\"\n",
      "78\"\n",
      "33\"\n",
      "75\"\n",
      "66\"\n",
      "81\"\n",
      "93\"\n",
      "69\"\n",
      "68\"\n",
      "66\"\n",
      "47\"\n",
      "61\"\n",
      "88\"\n",
      "78\"\n",
      "60\"\n",
      "87\"\n",
      "64\"\n",
      "74\"\n",
      "85\"\n",
      "52\"\n",
      "49\"\n",
      "91\"\n",
      "100\"\n",
      "51\"\n",
      "78\"\n",
      "78\"\n",
      "70\"\n",
      "74\"\n",
      "78\"\n",
      "81\"\n",
      "70\"\n",
      "54\"\n",
      "87\"\n",
      "58\"\n",
      "77\"\n",
      "62\"\n",
      "100\"\n",
      "75\"\n",
      "66\"\n",
      "47\"\n",
      "70\"\n",
      "49\"\n",
      "65\"\n",
      "65\"\n",
      "68\"\n",
      "45\"\n",
      "87\"\n",
      "69\"\n",
      "79\"\n",
      "66\"\n",
      "62\"\n",
      "85\"\n",
      "52\"\n",
      "65\"\n",
      "51\"\n",
      "55\"\n",
      "76\"\n",
      "86\"\n",
      "77\"\n",
      "69\"\n",
      "68\"\n",
      "42\"\n",
      "78\"\n",
      "62\"\n",
      "76\"\n",
      "76\"\n",
      "66\"\n",
      "79\"\n",
      "27\"\n",
      "60\"\n",
      "56\"\n",
      "81\"\n",
      "75\"\n",
      "88\"\n",
      "39\"\n",
      "70\"\n",
      "56\"\n",
      "74\"\n",
      "73\"\n",
      "62\"\n",
      "75\"\n",
      "73\"\n",
      "54\"\n",
      "71\"\n",
      "54\"\n",
      "64\"\n",
      "94\"\n",
      "66\"\n",
      "42\"\n",
      "83\"\n",
      "78\"\n",
      "84\"\n",
      "77\"\n",
      "67\"\n",
      "74\"\n",
      "51\"\n",
      "80\"\n",
      "66\"\n",
      "83\"\n",
      "55\"\n",
      "43\"\n",
      "69\"\n",
      "71\"\n",
      "74\"\n",
      "68\"\n",
      "62\"\n",
      "53\"\n",
      "49\"\n",
      "83\"\n",
      "70\"\n",
      "72\"\n",
      "52\"\n",
      "70\"\n",
      "68\"\n",
      "77\"\n",
      "78\"\n",
      "81\"\n",
      "77\"\n",
      "78\"\n",
      "51\"\n",
      "90\"\n",
      "68\"\n",
      "41\"\n",
      "81\"\n",
      "77\"\n",
      "95\"\n",
      "70\"\n",
      "61\"\n",
      "42\"\n",
      "58\"\n",
      "71\"\n",
      "76\"\n",
      "73\"\n",
      "93\"\n",
      "75\"\n",
      "80\"\n",
      "57\"\n",
      "42\"\n",
      "46\"\n",
      "84\"\n",
      "78\"\n",
      "46\"\n",
      "82\"\n",
      "88\"\n",
      "82\"\n",
      "76\"\n",
      "77\"\n",
      "68\"\n",
      "70\"\n",
      "57\"\n",
      "75\"\n",
      "80\"\n",
      "60\"\n",
      "43\"\n",
      "68\"\n",
      "50\"\n",
      "75\"\n",
      "81\"\n",
      "52\"\n",
      "81\"\n",
      "64\"\n",
      "83\"\n",
      "69\"\n",
      "81\"\n",
      "44\"\n",
      "67\"\n",
      "52\"\n",
      "80\"\n",
      "57\"\n",
      "68\"\n",
      "69\"\n",
      "75\"\n",
      "65\"\n",
      "91\"\n",
      "78\"\n",
      "69\"\n",
      "63\"\n",
      "84\"\n",
      "79\"\n",
      "80\"\n",
      "53\"\n",
      "43\"\n",
      "94\"\n",
      "62\"\n",
      "19\"\n",
      "77\"\n",
      "51\"\n",
      "61\"\n",
      "35\"\n",
      "53\"\n",
      "81\"\n",
      "95\"\n",
      "66\"\n",
      "69\"\n",
      "43\"\n",
      "27\"\n",
      "60\"\n",
      "52\"\n",
      "63\"\n",
      "74\"\n",
      "67\"\n",
      "67\"\n",
      "75\"\n",
      "57\"\n",
      "95\"\n",
      "66\"\n",
      "76\"\n",
      "69\"\n",
      "52\"\n",
      "80\"\n",
      "57\"\n",
      "70\"\n",
      "70\"\n",
      "61\"\n",
      "69\"\n",
      "61\"\n",
      "89\"\n",
      "59\"\n",
      "78\"\n",
      "58\"\n",
      "32\"\n",
      "58\"\n",
      "60\"\n",
      "53\"\n",
      "61\"\n",
      "58\"\n",
      "85\"\n",
      "71\"\n",
      "70\"\n",
      "72\"\n",
      "96\"\n",
      "73\"\n",
      "41\"\n",
      "82\"\n",
      "100\"\n",
      "77\"\n",
      "62\"\n",
      "83\"\n",
      "95\"\n",
      "71\"\n",
      "45\"\n",
      "43\"\n",
      "75\"\n",
      "70\"\n",
      "67\"\n",
      "64\"\n",
      "75\"\n",
      "59\"\n",
      "77\"\n",
      "67\"\n",
      "56\"\n",
      "77\"\n",
      "41\"\n",
      "63\"\n",
      "95\"\n",
      "57\"\n",
      "54\"\n",
      "67\"\n",
      "43\"\n",
      "55\"\n",
      "100\"\n",
      "62\"\n",
      "68\"\n",
      "63\"\n",
      "77\"\n",
      "56\"\n",
      "85\"\n",
      "74\"\n",
      "78\"\n",
      "60\"\n",
      "67\"\n",
      "79\"\n",
      "69\"\n",
      "68\"\n",
      "67\"\n",
      "62\"\n",
      "54\"\n",
      "93\"\n",
      "64\"\n",
      "67\"\n",
      "80\"\n",
      "34\"\n",
      "62\"\n",
      "86\"\n",
      "65\"\n",
      "53\"\n",
      "54\"\n",
      "59\"\n",
      "70\"\n",
      "55\"\n",
      "50\"\n",
      "66\"\n",
      "53\"\n",
      "64\"\n",
      "73\"\n",
      "51\"\n",
      "82\"\n",
      "79\"\n",
      "80\"\n",
      "69\"\n",
      "76\"\n",
      "73\"\n",
      "77\"\n",
      "60\"\n",
      "80\"\n",
      "42\"\n",
      "72\"\n",
      "85\"\n",
      "97\"\n",
      "74\"\n",
      "49\"\n",
      "62\"\n",
      "47\"\n",
      "89\"\n",
      "48\"\n",
      "100\"\n",
      "68\"\n",
      "55\"\n",
      "45\"\n",
      "76\"\n",
      "91\"\n",
      "62\"\n",
      "91\"\n",
      "38\"\n",
      "65\"\n",
      "85\"\n",
      "76\"\n",
      "90\"\n",
      "74\"\n",
      "84\"\n",
      "61\"\n",
      "91\"\n",
      "83\"\n",
      "66\"\n",
      "72\"\n",
      "70\"\n",
      "67\"\n",
      "68\"\n",
      "56\"\n",
      "61\"\n",
      "46\"\n",
      "54\"\n",
      "71\"\n",
      "56\"\n",
      "74\"\n",
      "57\"\n",
      "82\"\n",
      "76\"\n",
      "70\"\n",
      "90\"\n",
      "90\"\n",
      "68\"\n",
      "66\"\n",
      "52\"\n",
      "76\"\n",
      "68\"\n",
      "72\"\n",
      "82\"\n",
      "92\"\n",
      "54\"\n",
      "92\"\n",
      "54\"\n",
      "80\"\n",
      "66\"\n",
      "54\"\n",
      "77\"\n",
      "87\"\n",
      "73\"\n",
      "43\"\n",
      "52\"\n",
      "62\"\n",
      "94\"\n",
      "85\"\n",
      "84\"\n",
      "73\"\n",
      "78\"\n",
      "79\"\n",
      "52\"\n",
      "84\"\n",
      "57\"\n",
      "50\"\n",
      "49\"\n",
      "59\"\n",
      "60\"\n",
      "43\"\n",
      "47\"\n",
      "70\"\n",
      "73\"\n",
      "53\"\n",
      "58\"\n",
      "94\"\n",
      "68\"\n",
      "83\"\n",
      "58\"\n",
      "62\"\n",
      "71\"\n",
      "86\"\n",
      "68\"\n",
      "80\"\n",
      "79\"\n",
      "89\"\n",
      "66\"\n",
      "80\"\n",
      "97\"\n",
      "64\"\n",
      "64\"\n",
      "69\"\n",
      "65\"\n",
      "88\"\n",
      "50\"\n",
      "64\"\n",
      "40\"\n",
      "33\"\n",
      "79\"\n",
      "66\"\n",
      "70\"\n",
      "62\"\n",
      "79\"\n",
      "74\"\n",
      "92\"\n",
      "80\"\n",
      "46\"\n",
      "45\"\n",
      "100\"\n",
      "78\"\n",
      "47\"\n",
      "67\"\n",
      "70\"\n",
      "92\"\n",
      "56\"\n",
      "64\"\n",
      "71\"\n",
      "53\"\n",
      "52\"\n",
      "89\"\n",
      "58\"\n",
      "68\"\n",
      "96\"\n",
      "80\"\n",
      "78\"\n",
      "80\"\n",
      "77\"\n",
      "76\"\n",
      "73\"\n",
      "62\"\n",
      "65\"\n",
      "65\"\n",
      "54\"\n",
      "50\"\n",
      "64\"\n",
      "73\"\n",
      "99\"\n",
      "72\"\n",
      "15\"\n",
      "48\"\n",
      "73\"\n",
      "81\"\n",
      "63\"\n",
      "30\"\n",
      "80\"\n",
      "51\"\n",
      "90\"\n",
      "62\"\n",
      "82\"\n",
      "54\"\n",
      "62\"\n",
      "65\"\n",
      "63\"\n",
      "66\"\n",
      "91\"\n",
      "74\"\n",
      "93\"\n",
      "72\"\n",
      "38\"\n",
      "83\"\n",
      "84\"\n",
      "68\"\n",
      "54\"\n",
      "56\"\n",
      "52\"\n",
      "86\"\n",
      "62\"\n",
      "99\"\n",
      "63\"\n",
      "46\"\n",
      "46\"\n",
      "55\"\n",
      "70\"\n",
      "65\"\n",
      "81\"\n",
      "85\"\n",
      "80\"\n",
      "64\"\n",
      "81\"\n",
      "88\"\n",
      "74\"\n",
      "73\"\n",
      "51\"\n",
      "90\"\n",
      "79\"\n",
      "80\"\n",
      "60\"\n",
      "81\"\n",
      "65\"\n",
      "68\"\n",
      "55\"\n",
      "81\"\n",
      "53\"\n",
      "76\"\n",
      "98\"\n",
      "74\"\n",
      "79\"\n",
      "67\"\n",
      "64\"\n",
      "61\"\n",
      "58\"\n",
      "85\"\n",
      "73\"\n",
      "63\"\n",
      "69\"\n",
      "67\"\n",
      "63\"\n",
      "60\"\n",
      "71\"\n",
      "87\"\n",
      "61\"\n",
      "77\"\n",
      "68\"\n",
      "50\"\n",
      "76\"\n",
      "84\"\n",
      "78\"\n",
      "66\"\n",
      "76\"\n",
      "76\"\n",
      "78\"\n",
      "60\"\n",
      "74\"\n",
      "60\"\n",
      "54\"\n",
      "44\"\n",
      "68\"\n",
      "100\"\n",
      "68\"\n",
      "73\"\n",
      "44\"\n",
      "83\"\n",
      "53\"\n",
      "78\"\n",
      "81\"\n",
      "73\"\n",
      "56\"\n",
      "86\"\n",
      "90\"\n",
      "70\"\n",
      "79\"\n",
      "59\"\n",
      "82\"\n",
      "72\"\n",
      "87\"\n",
      "67\"\n",
      "64\"\n",
      "65\"\n",
      "36\"\n",
      "52\"\n",
      "79\"\n",
      "58\"\n",
      "90\"\n",
      "85\"\n",
      "99\"\n",
      "84\"\n",
      "74\"\n",
      "87\"\n",
      "72\"\n",
      "99\"\n",
      "74\"\n",
      "80\"\n",
      "70\"\n",
      "59\"\n",
      "88\"\n",
      "42\"\n",
      "41\"\n",
      "71\"\n",
      "77\"\n",
      "57\"\n",
      "84\"\n",
      "37\"\n",
      "80\"\n",
      "43\"\n",
      "94\"\n",
      "44\"\n",
      "57\"\n",
      "59\"\n",
      "84\"\n",
      "73\"\n",
      "73\"\n",
      "55\"\n",
      "72\"\n",
      "56\"\n",
      "82\"\n",
      "72\"\n",
      "47\"\n",
      "74\"\n",
      "71\"\n",
      "68\"\n",
      "59\"\n",
      "86\"\n",
      "68\"\n",
      "65\"\n",
      "75\"\n",
      "85\"\n",
      "53\"\n",
      "92\"\n",
      "52\"\n",
      "72\"\n",
      "65\"\n",
      "77\"\n",
      "64\"\n",
      "54\"\n",
      "86\"\n",
      "63\"\n",
      "59\"\n",
      "72\"\n",
      "77\"\n",
      "60\"\n",
      "75\"\n",
      "57\"\n",
      "49\"\n",
      "74\"\n",
      "72\"\n",
      "79\"\n",
      "60\"\n",
      "55\"\n",
      "70\"\n",
      "43\"\n",
      "82\"\n",
      "82\"\n",
      "57\"\n",
      "84\"\n",
      "82\"\n",
      "62\"\n",
      "79\"\n",
      "44\"\n",
      "77\"\n",
      "32\"\n",
      "61\"\n",
      "61\"\n",
      "60\"\n",
      "70\"\n",
      "69\"\n",
      "77\"\n",
      "51\"\n",
      "73\"\n",
      "70\"\n",
      "81\"\n",
      "54\"\n",
      "57\"\n",
      "68\"\n",
      "73\"\n",
      "95\"\n",
      "87\"\n",
      "78\"\n",
      "74\"\n",
      "75\"\n",
      "40\"\n",
      "69\"\n",
      "51\"\n",
      "36\"\n",
      "49\"\n",
      "67\"\n",
      "76\"\n",
      "83\"\n",
      "87\"\n",
      "64\"\n",
      "76\"\n",
      "68\"\n",
      "88\"\n",
      "92\"\n",
      "93\"\n",
      "51\"\n",
      "82\"\n",
      "52\"\n",
      "58\"\n",
      "70\"\n",
      "76\"\n",
      "81\"\n",
      "53\"\n",
      "57\"\n",
      "89\"\n",
      "58\"\n",
      "89\"\n",
      "45\"\n",
      "74\"\n",
      "57\"\n",
      "79\"\n",
      "53\"\n",
      "73\"\n",
      "46\"\n",
      "51\"\n",
      "36\"\n",
      "76\"\n",
      "64\"\n",
      "84\"\n",
      "85\"\n",
      "50\"\n",
      "68\"\n",
      "69\"\n",
      "67\"\n",
      "63\"\n",
      "93\"\n",
      "61\"\n",
      "55\"\n",
      "96\"\n",
      "65\"\n",
      "81\"\n",
      "46\"\n",
      "72\"\n",
      "53\"\n",
      "87\"\n",
      "38\"\n",
      "80\"\n",
      "91\"\n",
      "88\"\n",
      "52\"\n",
      "41\"\n",
      "72\"\n",
      "51\"\n",
      "47\"\n",
      "76\"\n",
      "78\"\n",
      "82\"\n",
      "61\"\n",
      "66\"\n",
      "84\"\n",
      "54\"\n",
      "80\"\n",
      "74\"\n",
      "66\"\n",
      "70\"\n",
      "71\"\n",
      "44\"\n",
      "54\"\n",
      "80\"\n",
      "95\"\n",
      "59\"\n",
      "74\"\n",
      "48\"\n",
      "91\"\n",
      "85\"\n",
      "73\"\n",
      "75\"\n",
      "69\"\n",
      "38\"\n",
      "27\"\n",
      "79\"\n",
      "63\"\n",
      "82\"\n",
      "89\"\n",
      "74\"\n",
      "41\"\n",
      "100\"\n",
      "84\"\n",
      "77\"\n",
      "51\"\n",
      "91\"\n",
      "72\"\n",
      "70\"\n",
      "48\"\n",
      "82\"\n",
      "66\"\n",
      "66\"\n",
      "55\"\n",
      "66\"\n",
      "100\"\n",
      "52\"\n",
      "80\"\n",
      "91\"\n",
      "67\"\n",
      "46\"\n",
      "66\"\n",
      "65\"\n",
      "69\"\n",
      "60\"\n",
      "52\"\n",
      "71\"\n",
      "44\"\n",
      "51\"\n",
      "70\"\n",
      "62\"\n",
      "73\"\n",
      "74\"\n",
      "90\"\n",
      "58\"\n",
      "53\"\n",
      "57\"\n",
      "85\"\n",
      "69\"\n",
      "72\"\n",
      "96\"\n",
      "64\"\n",
      "61\"\n",
      "61\"\n",
      "58\"\n",
      "80\"\n",
      "60\"\n",
      "52\"\n",
      "73\"\n",
      "71\"\n",
      "83\"\n",
      "72\"\n",
      "54\"\n",
      "69\"\n",
      "62\"\n",
      "81\"\n",
      "100\"\n",
      "59\"\n",
      "71\"\n",
      "64\"\n",
      "53\"\n",
      "100\"\n",
      "75\"\n",
      "58\"\n",
      "72\"\n",
      "64\"\n",
      "60\"\n",
      "67\"\n",
      "80\"\n",
      "100\"\n",
      "69\"\n",
      "60\"\n",
      "61\"\n",
      "67\"\n",
      "77\"\n",
      "60\"\n",
      "58\"\n",
      "48\"\n",
      "94\"\n",
      "23\"\n",
      "78\"\n",
      "86\"\n",
      "91\"\n",
      "82\"\n",
      "54\"\n",
      "51\"\n",
      "76\"\n",
      "45\"\n",
      "83\"\n",
      "75\"\n",
      "78\"\n",
      "76\"\n",
      "74\"\n",
      "62\"\n",
      "95\"\n",
      "55\"\n",
      "65\"\n",
      "77\"\n",
      "86\"\n"
     ]
    }
   ],
   "source": [
    "f = open('StudentsPerformance.csv')\n",
    "listep=[]\n",
    "for line in f:\n",
    "    print(line.split(',')[-1][1:-1])\n",
    "    \n",
    "f.close()"
   ]
  },
  {
   "cell_type": "code",
   "execution_count": 170,
   "metadata": {},
   "outputs": [
    {
     "name": "stdout",
     "output_type": "stream",
     "text": [
      "Средний бал 72.60810810810811\n",
      "Сколько знает выше среднего 0.249\n"
     ]
    }
   ],
   "source": [
    "math = []\n",
    "\n",
    "f = open('StudentsPerformance.csv')\n",
    "\n",
    "for line in f:\n",
    "    info = line.split(',')\n",
    "    if info[0] == '\"gender\"':\n",
    "        continue\n",
    "    else:\n",
    "        if info[0][1:-1] == 'male':\n",
    "            continue\n",
    "        mark = int(info[-2][1:-1])\n",
    "        math.append(mark)\n",
    "#print(math)\n",
    "math_avg = sum(math)/len(math)\n",
    "print('Средний бал',math_avg)\n",
    "above_avg = 0\n",
    "for mark in math:\n",
    "    if mark < math_avg:\n",
    "        above_avg += 1\n",
    "print('Сколько знает выше среднего',above_avg / 1000)"
   ]
  },
  {
   "cell_type": "code",
   "execution_count": 314,
   "metadata": {},
   "outputs": [
    {
     "name": "stdout",
     "output_type": "stream",
     "text": [
      "[['female', 'group B', \"bachelor's degree\", 'standard', 'none', 72, 72, 74], ['female', 'group C', 'some college', 'standard', 'completed', 69, 90, 88], ['female', 'group B', \"master's degree\", 'standard', 'none', 90, 95, 93], ['male', 'group A', \"associate's degree\", 'free/reduced', 'none', 47, 57, 44], ['male', 'group C', 'some college', 'standard', 'none', 76, 78, 75], ['female', 'group B', \"associate's degree\", 'standard', 'none', 71, 83, 78], ['female', 'group B', 'some college', 'standard', 'completed', 88, 95, 92], ['male', 'group B', 'some college', 'free/reduced', 'none', 40, 43, 39], ['male', 'group D', 'high school', 'free/reduced', 'completed', 64, 64, 67], ['female', 'group B', 'high school', 'free/reduced', 'none', 38, 60, 50], ['male', 'group C', \"associate's degree\", 'standard', 'none', 58, 54, 52], ['male', 'group D', \"associate's degree\", 'standard', 'none', 40, 52, 43], ['female', 'group B', 'high school', 'standard', 'none', 65, 81, 73], ['male', 'group A', 'some college', 'standard', 'completed', 78, 72, 70], ['female', 'group A', \"master's degree\", 'standard', 'none', 50, 53, 58], ['female', 'group C', 'some high school', 'standard', 'none', 69, 75, 78], ['male', 'group C', 'high school', 'standard', 'none', 88, 89, 86], ['female', 'group B', 'some high school', 'free/reduced', 'none', 18, 32, 28], ['male', 'group C', \"master's degree\", 'free/reduced', 'completed', 46, 42, 46], ['female', 'group C', \"associate's degree\", 'free/reduced', 'none', 54, 58, 61], ['male', 'group D', 'high school', 'standard', 'none', 66, 69, 63], ['female', 'group B', 'some college', 'free/reduced', 'completed', 65, 75, 70], ['male', 'group D', 'some college', 'standard', 'none', 44, 54, 53], ['female', 'group C', 'some high school', 'standard', 'none', 69, 73, 73], ['male', 'group D', \"bachelor's degree\", 'free/reduced', 'completed', 74, 71, 80], ['male', 'group A', \"master's degree\", 'free/reduced', 'none', 73, 74, 72], ['male', 'group B', 'some college', 'standard', 'none', 69, 54, 55], ['female', 'group C', \"bachelor's degree\", 'standard', 'none', 67, 69, 75], ['male', 'group C', 'high school', 'standard', 'none', 70, 70, 65], ['female', 'group D', \"master's degree\", 'standard', 'none', 62, 70, 75], ['female', 'group D', 'some college', 'standard', 'none', 69, 74, 74], ['female', 'group B', 'some college', 'standard', 'none', 63, 65, 61], ['female', 'group E', \"master's degree\", 'free/reduced', 'none', 56, 72, 65], ['male', 'group D', 'some college', 'standard', 'none', 40, 42, 38], ['male', 'group E', 'some college', 'standard', 'none', 97, 87, 82], ['male', 'group E', \"associate's degree\", 'standard', 'completed', 81, 81, 79], ['female', 'group D', \"associate's degree\", 'standard', 'none', 74, 81, 83], ['female', 'group D', 'some high school', 'free/reduced', 'none', 50, 64, 59], ['female', 'group D', \"associate's degree\", 'free/reduced', 'completed', 75, 90, 88], ['male', 'group B', \"associate's degree\", 'free/reduced', 'none', 57, 56, 57], ['male', 'group C', \"associate's degree\", 'free/reduced', 'none', 55, 61, 54], ['female', 'group C', \"associate's degree\", 'standard', 'none', 58, 73, 68], ['female', 'group B', \"associate's degree\", 'standard', 'none', 53, 58, 65], ['male', 'group B', 'some college', 'free/reduced', 'completed', 59, 65, 66], ['female', 'group E', \"associate's degree\", 'free/reduced', 'none', 50, 56, 54], ['male', 'group B', \"associate's degree\", 'standard', 'none', 65, 54, 57], ['female', 'group A', \"associate's degree\", 'standard', 'completed', 55, 65, 62], ['female', 'group C', 'high school', 'standard', 'none', 66, 71, 76], ['female', 'group D', \"associate's degree\", 'free/reduced', 'completed', 57, 74, 76], ['male', 'group C', 'high school', 'standard', 'completed', 82, 84, 82], ['male', 'group E', 'some college', 'standard', 'none', 53, 55, 48], ['male', 'group E', \"associate's degree\", 'free/reduced', 'completed', 77, 69, 68], ['male', 'group C', 'some college', 'standard', 'none', 53, 44, 42], ['male', 'group D', 'high school', 'standard', 'none', 88, 78, 75], ['female', 'group C', 'some high school', 'free/reduced', 'completed', 71, 84, 87], ['female', 'group C', 'high school', 'free/reduced', 'none', 33, 41, 43], ['female', 'group E', \"associate's degree\", 'standard', 'completed', 82, 85, 86], ['male', 'group D', \"associate's degree\", 'standard', 'none', 52, 55, 49], ['male', 'group D', 'some college', 'standard', 'completed', 58, 59, 58], ['female', 'group C', 'some high school', 'free/reduced', 'none', 0, 17, 10], ['male', 'group E', \"bachelor's degree\", 'free/reduced', 'completed', 79, 74, 72], ['male', 'group A', 'some high school', 'free/reduced', 'none', 39, 39, 34], ['male', 'group A', \"associate's degree\", 'free/reduced', 'none', 62, 61, 55], ['female', 'group C', \"associate's degree\", 'standard', 'none', 69, 80, 71], ['female', 'group D', 'some high school', 'standard', 'none', 59, 58, 59], ['male', 'group B', 'some high school', 'standard', 'none', 67, 64, 61], ['male', 'group D', 'some high school', 'free/reduced', 'none', 45, 37, 37], ['female', 'group C', 'some college', 'standard', 'none', 60, 72, 74], ['male', 'group B', \"associate's degree\", 'free/reduced', 'none', 61, 58, 56], ['female', 'group C', \"associate's degree\", 'standard', 'none', 39, 64, 57], ['female', 'group D', 'some college', 'free/reduced', 'completed', 58, 63, 73], ['male', 'group D', 'some college', 'standard', 'completed', 63, 55, 63], ['female', 'group A', \"associate's degree\", 'free/reduced', 'none', 41, 51, 48], ['male', 'group C', 'some high school', 'free/reduced', 'none', 61, 57, 56], ['male', 'group C', 'some high school', 'standard', 'none', 49, 49, 41], ['male', 'group B', \"associate's degree\", 'free/reduced', 'none', 44, 41, 38], ['male', 'group E', 'some high school', 'standard', 'none', 30, 26, 22], ['male', 'group A', \"bachelor's degree\", 'standard', 'completed', 80, 78, 81], ['female', 'group D', 'some high school', 'standard', 'completed', 61, 74, 72], ['female', 'group E', \"master's degree\", 'standard', 'none', 62, 68, 68], ['female', 'group B', \"associate's degree\", 'standard', 'none', 47, 49, 50], ['male', 'group B', 'high school', 'free/reduced', 'none', 49, 45, 45], ['male', 'group A', 'some college', 'free/reduced', 'completed', 50, 47, 54], ['male', 'group E', \"associate's degree\", 'standard', 'none', 72, 64, 63], ['male', 'group D', 'high school', 'free/reduced', 'none', 42, 39, 34], ['female', 'group C', 'some college', 'standard', 'none', 73, 80, 82], ['female', 'group C', 'some college', 'free/reduced', 'none', 76, 83, 88], ['female', 'group D', \"associate's degree\", 'standard', 'none', 71, 71, 74], ['female', 'group A', 'some college', 'standard', 'none', 58, 70, 67], ['female', 'group D', 'some high school', 'standard', 'none', 73, 86, 82], ['female', 'group C', \"bachelor's degree\", 'standard', 'none', 65, 72, 74], ['male', 'group C', 'high school', 'free/reduced', 'none', 27, 34, 36], ['male', 'group C', 'high school', 'standard', 'none', 71, 79, 71], ['male', 'group C', \"associate's degree\", 'free/reduced', 'completed', 43, 45, 50], ['female', 'group B', 'some college', 'standard', 'none', 79, 86, 92], ['male', 'group C', \"associate's degree\", 'free/reduced', 'completed', 78, 81, 82], ['male', 'group B', 'some high school', 'standard', 'completed', 65, 66, 62], ['female', 'group E', 'some college', 'standard', 'completed', 63, 72, 70], ['female', 'group D', 'some college', 'free/reduced', 'none', 58, 67, 62], ['female', 'group D', \"bachelor's degree\", 'standard', 'none', 65, 67, 62], ['male', 'group B', 'some college', 'standard', 'none', 79, 67, 67], ['male', 'group D', \"bachelor's degree\", 'standard', 'completed', 68, 74, 74], ['female', 'group D', \"associate's degree\", 'standard', 'none', 85, 91, 89], ['male', 'group B', 'high school', 'standard', 'completed', 60, 44, 47], ['male', 'group C', 'some college', 'standard', 'completed', 98, 86, 90], ['female', 'group C', 'some college', 'standard', 'none', 58, 67, 72], ['female', 'group D', \"master's degree\", 'standard', 'none', 87, 100, 100], ['male', 'group E', \"associate's degree\", 'standard', 'completed', 66, 63, 64], ['female', 'group B', \"associate's degree\", 'free/reduced', 'none', 52, 76, 70], ['female', 'group B', 'some high school', 'standard', 'none', 70, 64, 72], ['female', 'group D', \"associate's degree\", 'free/reduced', 'completed', 77, 89, 98], ['male', 'group C', 'high school', 'standard', 'none', 62, 55, 49], ['male', 'group A', \"associate's degree\", 'standard', 'none', 54, 53, 47], ['female', 'group D', 'some college', 'standard', 'none', 51, 58, 54], ['female', 'group E', \"bachelor's degree\", 'standard', 'completed', 99, 100, 100], ['male', 'group C', 'high school', 'standard', 'none', 84, 77, 74], ['female', 'group B', \"bachelor's degree\", 'free/reduced', 'none', 75, 85, 82], ['female', 'group D', \"bachelor's degree\", 'standard', 'none', 78, 82, 79], ['female', 'group D', 'some high school', 'standard', 'none', 51, 63, 61], ['female', 'group C', 'some college', 'standard', 'none', 55, 69, 65], ['female', 'group C', \"bachelor's degree\", 'standard', 'completed', 79, 92, 89], ['male', 'group B', \"associate's degree\", 'standard', 'completed', 91, 89, 92], ['female', 'group C', 'some college', 'standard', 'completed', 88, 93, 93], ['male', 'group D', 'high school', 'free/reduced', 'none', 63, 57, 56], ['male', 'group E', 'some college', 'standard', 'none', 83, 80, 73], ['female', 'group B', 'high school', 'standard', 'none', 87, 95, 86], ['male', 'group B', 'some high school', 'standard', 'none', 72, 68, 67], ['male', 'group D', 'some college', 'standard', 'completed', 65, 77, 74], ['male', 'group D', \"master's degree\", 'standard', 'none', 82, 82, 74], ['female', 'group A', \"bachelor's degree\", 'standard', 'none', 51, 49, 51], ['male', 'group D', \"master's degree\", 'standard', 'none', 89, 84, 82], ['male', 'group C', 'some high school', 'free/reduced', 'completed', 53, 37, 40], ['male', 'group E', 'some college', 'free/reduced', 'completed', 87, 74, 70], ['female', 'group C', 'some college', 'standard', 'completed', 75, 81, 84], ['male', 'group D', \"bachelor's degree\", 'free/reduced', 'completed', 74, 79, 75], ['male', 'group C', \"bachelor's degree\", 'standard', 'none', 58, 55, 48], ['male', 'group B', 'some high school', 'standard', 'completed', 51, 54, 41], ['male', 'group E', 'high school', 'standard', 'none', 70, 55, 56], ['female', 'group C', \"associate's degree\", 'standard', 'none', 59, 66, 67], ['male', 'group D', 'some college', 'standard', 'completed', 71, 61, 69], ['female', 'group D', 'some high school', 'standard', 'none', 76, 72, 71], ['female', 'group C', 'some college', 'free/reduced', 'none', 59, 62, 64], ['female', 'group E', 'some college', 'free/reduced', 'completed', 42, 55, 54], ['male', 'group A', 'high school', 'standard', 'none', 57, 43, 47], ['male', 'group D', 'some college', 'standard', 'none', 88, 73, 78], ['female', 'group C', 'some college', 'free/reduced', 'none', 22, 39, 33], ['male', 'group B', 'some high school', 'standard', 'none', 88, 84, 75], ['male', 'group C', \"associate's degree\", 'free/reduced', 'none', 73, 68, 66], ['female', 'group D', \"bachelor's degree\", 'standard', 'completed', 68, 75, 81], ['male', 'group E', \"associate's degree\", 'free/reduced', 'completed', 100, 100, 93], ['male', 'group A', 'some high school', 'standard', 'completed', 62, 67, 69], ['male', 'group A', \"bachelor's degree\", 'standard', 'none', 77, 67, 68], ['female', 'group B', \"associate's degree\", 'standard', 'completed', 59, 70, 66], ['male', 'group D', \"bachelor's degree\", 'standard', 'none', 54, 49, 47], ['male', 'group D', 'some high school', 'standard', 'none', 62, 67, 61], ['female', 'group C', 'some college', 'standard', 'completed', 70, 89, 88], ['female', 'group E', 'high school', 'free/reduced', 'completed', 66, 74, 78], ['male', 'group B', 'some college', 'free/reduced', 'none', 60, 60, 60], ['female', 'group B', \"associate's degree\", 'standard', 'completed', 61, 86, 87], ['male', 'group D', \"associate's degree\", 'free/reduced', 'none', 66, 62, 64], ['male', 'group B', \"associate's degree\", 'free/reduced', 'completed', 82, 78, 74], ['female', 'group E', 'some college', 'free/reduced', 'completed', 75, 88, 85], ['male', 'group B', \"master's degree\", 'free/reduced', 'none', 49, 53, 52], ['male', 'group C', 'high school', 'standard', 'none', 52, 53, 49], ['female', 'group E', \"master's degree\", 'standard', 'none', 81, 92, 91], ['female', 'group C', \"bachelor's degree\", 'standard', 'completed', 96, 100, 100], ['male', 'group C', 'high school', 'free/reduced', 'completed', 53, 51, 51], ['female', 'group B', \"master's degree\", 'free/reduced', 'completed', 58, 76, 78], ['female', 'group B', 'high school', 'standard', 'completed', 68, 83, 78], ['female', 'group C', 'some college', 'free/reduced', 'completed', 67, 75, 70], ['male', 'group A', 'high school', 'standard', 'completed', 72, 73, 74], ['male', 'group E', 'some high school', 'standard', 'none', 94, 88, 78], ['female', 'group D', 'some college', 'standard', 'none', 79, 86, 81], ['female', 'group C', \"associate's degree\", 'standard', 'none', 63, 67, 70], ['female', 'group C', \"bachelor's degree\", 'free/reduced', 'completed', 43, 51, 54], ['female', 'group C', \"master's degree\", 'standard', 'completed', 81, 91, 87], ['female', 'group B', 'high school', 'free/reduced', 'completed', 46, 54, 58], ['female', 'group C', \"associate's degree\", 'standard', 'completed', 71, 77, 77], ['female', 'group B', \"master's degree\", 'free/reduced', 'completed', 52, 70, 62], ['female', 'group D', 'some high school', 'standard', 'completed', 97, 100, 100], ['male', 'group C', \"master's degree\", 'free/reduced', 'completed', 62, 68, 75], ['female', 'group C', 'some college', 'free/reduced', 'none', 46, 64, 66], ['female', 'group E', 'high school', 'standard', 'none', 50, 50, 47], ['female', 'group D', \"associate's degree\", 'standard', 'none', 65, 69, 70], ['male', 'group C', 'some high school', 'free/reduced', 'completed', 45, 52, 49], ['male', 'group C', \"associate's degree\", 'free/reduced', 'completed', 65, 67, 65], ['male', 'group E', 'high school', 'standard', 'none', 80, 76, 65], ['male', 'group D', 'some high school', 'standard', 'completed', 62, 66, 68], ['male', 'group B', 'some high school', 'free/reduced', 'none', 48, 52, 45], ['female', 'group C', \"bachelor's degree\", 'standard', 'none', 77, 88, 87], ['female', 'group E', \"associate's degree\", 'standard', 'none', 66, 65, 69], ['male', 'group D', 'some college', 'standard', 'completed', 76, 83, 79], ['female', 'group B', 'some high school', 'standard', 'none', 62, 64, 66], ['male', 'group D', 'some college', 'standard', 'completed', 77, 62, 62], ['female', 'group C', \"master's degree\", 'standard', 'completed', 69, 84, 85], ['male', 'group D', \"associate's degree\", 'standard', 'none', 61, 55, 52], ['male', 'group C', 'some high school', 'free/reduced', 'completed', 59, 69, 65], ['male', 'group E', 'high school', 'free/reduced', 'none', 55, 56, 51], ['female', 'group B', 'some college', 'free/reduced', 'none', 45, 53, 55], ['female', 'group B', \"bachelor's degree\", 'free/reduced', 'none', 78, 79, 76], ['female', 'group C', \"associate's degree\", 'standard', 'completed', 67, 84, 86], ['female', 'group D', 'some college', 'free/reduced', 'none', 65, 81, 77], ['male', 'group C', \"associate's degree\", 'standard', 'none', 69, 77, 69], ['female', 'group B', \"associate's degree\", 'standard', 'none', 57, 69, 68], ['male', 'group C', 'some college', 'standard', 'none', 59, 41, 42], ['male', 'group D', 'some high school', 'standard', 'completed', 74, 71, 78], ['male', 'group E', \"bachelor's degree\", 'standard', 'none', 82, 62, 62], ['male', 'group E', 'high school', 'standard', 'completed', 81, 80, 76], ['female', 'group B', 'some college', 'free/reduced', 'none', 74, 81, 76], ['female', 'group B', 'some college', 'free/reduced', 'none', 58, 61, 66], ['male', 'group D', 'some high school', 'free/reduced', 'completed', 80, 79, 79], ['male', 'group C', 'some college', 'free/reduced', 'none', 35, 28, 27], ['female', 'group C', 'high school', 'free/reduced', 'none', 42, 62, 60], ['male', 'group C', \"associate's degree\", 'free/reduced', 'completed', 60, 51, 56], ['male', 'group E', 'high school', 'standard', 'completed', 87, 91, 81], ['male', 'group B', 'some high school', 'standard', 'completed', 84, 83, 75], ['female', 'group E', \"associate's degree\", 'free/reduced', 'completed', 83, 86, 88], ['female', 'group C', 'high school', 'free/reduced', 'none', 34, 42, 39], ['male', 'group B', 'high school', 'free/reduced', 'none', 66, 77, 70], ['male', 'group B', 'some high school', 'standard', 'completed', 61, 56, 56], ['female', 'group D', 'high school', 'standard', 'completed', 56, 68, 74], ['male', 'group B', \"associate's degree\", 'standard', 'none', 87, 85, 73], ['female', 'group C', 'some high school', 'free/reduced', 'none', 55, 65, 62], ['male', 'group D', 'some high school', 'standard', 'none', 86, 80, 75], ['female', 'group B', \"associate's degree\", 'standard', 'completed', 52, 66, 73], ['female', 'group E', \"master's degree\", 'free/reduced', 'none', 45, 56, 54], ['female', 'group C', 'some college', 'standard', 'none', 72, 72, 71], ['male', 'group D', 'high school', 'standard', 'none', 57, 50, 54], ['male', 'group A', 'some high school', 'free/reduced', 'none', 68, 72, 64], ['female', 'group C', 'some college', 'standard', 'completed', 88, 95, 94], ['male', 'group D', 'some college', 'standard', 'none', 76, 64, 66], ['male', 'group C', \"associate's degree\", 'standard', 'none', 46, 43, 42], ['female', 'group B', \"bachelor's degree\", 'standard', 'none', 67, 86, 83], ['male', 'group E', 'some high school', 'standard', 'none', 92, 87, 78], ['male', 'group C', \"bachelor's degree\", 'standard', 'completed', 83, 82, 84], ['male', 'group D', \"associate's degree\", 'standard', 'none', 80, 75, 77], ['male', 'group D', \"bachelor's degree\", 'free/reduced', 'none', 63, 66, 67], ['female', 'group D', 'some high school', 'standard', 'completed', 64, 60, 74], ['male', 'group B', 'some college', 'standard', 'none', 54, 52, 51], ['male', 'group C', \"associate's degree\", 'standard', 'none', 84, 80, 80], ['male', 'group D', 'high school', 'free/reduced', 'completed', 73, 68, 66], ['female', 'group E', \"bachelor's degree\", 'standard', 'none', 80, 83, 83], ['female', 'group D', 'high school', 'standard', 'none', 56, 52, 55], ['male', 'group E', 'some college', 'standard', 'none', 59, 51, 43], ['male', 'group D', 'some high school', 'standard', 'none', 75, 74, 69], ['male', 'group C', \"associate's degree\", 'standard', 'none', 85, 76, 71], ['male', 'group E', \"associate's degree\", 'standard', 'none', 89, 76, 74], ['female', 'group B', 'high school', 'standard', 'completed', 58, 70, 68], ['female', 'group B', 'high school', 'standard', 'none', 65, 64, 62], ['male', 'group C', 'high school', 'standard', 'none', 68, 60, 53], ['male', 'group A', 'some high school', 'standard', 'completed', 47, 49, 49], ['female', 'group D', 'some college', 'free/reduced', 'none', 71, 83, 83], ['female', 'group B', 'some high school', 'standard', 'completed', 60, 70, 70], ['male', 'group D', \"master's degree\", 'standard', 'none', 80, 80, 72], ['male', 'group D', 'high school', 'standard', 'none', 54, 52, 52], ['female', 'group E', 'some college', 'standard', 'none', 62, 73, 70], ['female', 'group C', \"associate's degree\", 'free/reduced', 'none', 64, 73, 68], ['male', 'group C', \"associate's degree\", 'standard', 'completed', 78, 77, 77], ['female', 'group B', 'some college', 'standard', 'none', 70, 75, 78], ['female', 'group C', \"master's degree\", 'free/reduced', 'completed', 65, 81, 81], ['female', 'group C', 'some high school', 'free/reduced', 'completed', 64, 79, 77], ['male', 'group C', 'some college', 'standard', 'completed', 79, 79, 78], ['female', 'group C', 'some high school', 'free/reduced', 'none', 44, 50, 51], ['female', 'group E', 'high school', 'standard', 'none', 99, 93, 90], ['male', 'group D', 'high school', 'standard', 'none', 76, 73, 68], ['male', 'group D', 'some high school', 'free/reduced', 'none', 59, 42, 41], ['female', 'group C', \"bachelor's degree\", 'standard', 'none', 63, 75, 81], ['female', 'group D', 'high school', 'standard', 'none', 69, 72, 77], ['female', 'group D', \"associate's degree\", 'standard', 'completed', 88, 92, 95], ['female', 'group E', 'some college', 'free/reduced', 'none', 71, 76, 70], ['male', 'group C', \"bachelor's degree\", 'standard', 'none', 69, 63, 61], ['male', 'group C', 'some college', 'standard', 'none', 58, 49, 42], ['female', 'group D', \"associate's degree\", 'free/reduced', 'none', 47, 53, 58], ['female', 'group D', 'some college', 'standard', 'none', 65, 70, 71], ['male', 'group B', 'some college', 'standard', 'completed', 88, 85, 76], ['male', 'group C', \"bachelor's degree\", 'standard', 'none', 83, 78, 73], ['female', 'group C', 'some high school', 'standard', 'completed', 85, 92, 93], ['female', 'group E', 'high school', 'standard', 'completed', 59, 63, 75], ['female', 'group C', 'some high school', 'free/reduced', 'none', 65, 86, 80], ['male', 'group B', \"bachelor's degree\", 'free/reduced', 'none', 73, 56, 57], ['male', 'group D', 'high school', 'standard', 'none', 53, 52, 42], ['male', 'group D', 'high school', 'standard', 'none', 45, 48, 46], ['female', 'group D', \"bachelor's degree\", 'free/reduced', 'none', 73, 79, 84], ['female', 'group D', 'some college', 'free/reduced', 'completed', 70, 78, 78], ['female', 'group B', 'some high school', 'standard', 'none', 37, 46, 46], ['male', 'group B', \"associate's degree\", 'standard', 'completed', 81, 82, 82], ['male', 'group E', \"associate's degree\", 'standard', 'completed', 97, 82, 88], ['female', 'group B', 'some high school', 'standard', 'none', 67, 89, 82], ['male', 'group B', \"bachelor's degree\", 'free/reduced', 'none', 88, 75, 76], ['male', 'group E', 'some high school', 'standard', 'completed', 77, 76, 77], ['male', 'group C', \"associate's degree\", 'standard', 'none', 76, 70, 68], ['male', 'group D', 'some high school', 'standard', 'none', 86, 73, 70], ['male', 'group C', 'some high school', 'standard', 'completed', 63, 60, 57], ['female', 'group E', \"bachelor's degree\", 'standard', 'none', 65, 73, 75], ['male', 'group D', 'high school', 'free/reduced', 'completed', 78, 77, 80], ['male', 'group B', \"associate's degree\", 'free/reduced', 'none', 67, 62, 60], ['male', 'group A', 'some high school', 'standard', 'completed', 46, 41, 43], ['male', 'group E', \"associate's degree\", 'standard', 'completed', 71, 74, 68], ['male', 'group C', 'high school', 'free/reduced', 'completed', 40, 46, 50], ['male', 'group D', \"associate's degree\", 'free/reduced', 'none', 90, 87, 75], ['male', 'group A', 'some college', 'free/reduced', 'completed', 81, 78, 81], ['male', 'group D', 'some high school', 'free/reduced', 'none', 56, 54, 52], ['female', 'group C', \"associate's degree\", 'standard', 'completed', 67, 84, 81], ['male', 'group B', \"associate's degree\", 'standard', 'none', 80, 76, 64], ['female', 'group C', \"associate's degree\", 'standard', 'completed', 74, 75, 83], ['male', 'group A', 'some college', 'standard', 'none', 69, 67, 69], ['male', 'group E', 'some college', 'standard', 'completed', 99, 87, 81], ['male', 'group C', 'some high school', 'standard', 'none', 51, 52, 44], ['female', 'group B', \"associate's degree\", 'free/reduced', 'none', 53, 71, 67], ['female', 'group D', 'high school', 'free/reduced', 'none', 49, 57, 52], ['female', 'group B', \"associate's degree\", 'standard', 'none', 73, 76, 80], ['male', 'group B', \"bachelor's degree\", 'standard', 'none', 66, 60, 57], ['male', 'group D', \"bachelor's degree\", 'standard', 'completed', 67, 61, 68], ['female', 'group C', \"associate's degree\", 'free/reduced', 'completed', 68, 67, 69], ['female', 'group C', \"bachelor's degree\", 'standard', 'completed', 59, 64, 75], ['male', 'group C', 'high school', 'standard', 'none', 71, 66, 65], ['female', 'group D', \"master's degree\", 'standard', 'completed', 77, 82, 91], ['male', 'group C', \"associate's degree\", 'standard', 'none', 83, 72, 78], ['male', 'group B', \"bachelor's degree\", 'standard', 'none', 63, 71, 69], ['female', 'group D', \"associate's degree\", 'free/reduced', 'none', 56, 65, 63], ['female', 'group C', 'high school', 'free/reduced', 'completed', 67, 79, 84], ['female', 'group E', 'high school', 'standard', 'none', 75, 86, 79], ['female', 'group C', 'some college', 'standard', 'none', 71, 81, 80], ['female', 'group C', 'some high school', 'free/reduced', 'none', 43, 53, 53], ['female', 'group C', 'high school', 'free/reduced', 'none', 41, 46, 43], ['female', 'group C', 'some college', 'standard', 'none', 82, 90, 94], ['male', 'group C', 'some college', 'standard', 'none', 61, 61, 62], ['male', 'group A', 'some college', 'free/reduced', 'none', 28, 23, 19], ['male', 'group C', \"associate's degree\", 'standard', 'completed', 82, 75, 77], ['female', 'group B', 'some high school', 'standard', 'none', 41, 55, 51], ['male', 'group C', 'high school', 'standard', 'none', 71, 60, 61], ['male', 'group C', \"associate's degree\", 'standard', 'none', 47, 37, 35], ['male', 'group E', \"associate's degree\", 'standard', 'completed', 62, 56, 53], ['male', 'group B', \"associate's degree\", 'standard', 'none', 90, 78, 81], ['female', 'group C', \"bachelor's degree\", 'standard', 'none', 83, 93, 95], ['female', 'group B', 'some college', 'free/reduced', 'none', 61, 68, 66], ['male', 'group D', 'some high school', 'standard', 'completed', 76, 70, 69], ['male', 'group C', \"associate's degree\", 'standard', 'none', 49, 51, 43], ['female', 'group B', 'some high school', 'free/reduced', 'none', 24, 38, 27], ['female', 'group D', 'some high school', 'free/reduced', 'completed', 35, 55, 60], ['male', 'group C', 'high school', 'free/reduced', 'none', 58, 61, 52], ['female', 'group C', 'high school', 'standard', 'none', 61, 73, 63], ['female', 'group B', 'high school', 'standard', 'completed', 69, 76, 74], ['male', 'group D', \"associate's degree\", 'standard', 'completed', 67, 72, 67], ['male', 'group D', 'some college', 'standard', 'none', 79, 73, 67], ['female', 'group C', 'high school', 'standard', 'none', 72, 80, 75], ['male', 'group B', 'some college', 'standard', 'none', 62, 61, 57], ['female', 'group C', \"bachelor's degree\", 'standard', 'completed', 77, 94, 95], ['male', 'group D', 'high school', 'free/reduced', 'none', 75, 74, 66], ['male', 'group E', \"associate's degree\", 'standard', 'none', 87, 74, 76], ['female', 'group B', \"bachelor's degree\", 'standard', 'none', 52, 65, 69], ['male', 'group E', 'some college', 'standard', 'none', 66, 57, 52], ['female', 'group C', 'some college', 'standard', 'completed', 63, 78, 80], ['female', 'group C', \"associate's degree\", 'standard', 'none', 46, 58, 57], ['female', 'group C', 'some college', 'standard', 'none', 59, 71, 70], ['female', 'group B', \"bachelor's degree\", 'standard', 'none', 61, 72, 70], ['male', 'group A', \"associate's degree\", 'standard', 'none', 63, 61, 61], ['female', 'group C', 'some college', 'free/reduced', 'completed', 42, 66, 69], ['male', 'group D', 'some college', 'free/reduced', 'none', 59, 62, 61], ['female', 'group D', 'some college', 'standard', 'none', 80, 90, 89], ['female', 'group B', 'high school', 'standard', 'none', 58, 62, 59], ['male', 'group B', 'some high school', 'standard', 'completed', 85, 84, 78], ['female', 'group C', 'some college', 'standard', 'none', 52, 58, 58], ['female', 'group D', 'some high school', 'free/reduced', 'none', 27, 34, 32], ['male', 'group C', 'some college', 'standard', 'none', 59, 60, 58], ['male', 'group A', \"bachelor's degree\", 'free/reduced', 'completed', 49, 58, 60], ['male', 'group C', 'high school', 'standard', 'completed', 69, 58, 53], ['male', 'group C', \"bachelor's degree\", 'free/reduced', 'none', 61, 66, 61], ['female', 'group A', 'some high school', 'free/reduced', 'none', 44, 64, 58], ['female', 'group D', 'some high school', 'standard', 'none', 73, 84, 85], ['male', 'group E', 'some college', 'standard', 'none', 84, 77, 71], ['female', 'group C', 'some college', 'free/reduced', 'completed', 45, 73, 70], ['male', 'group D', 'some high school', 'standard', 'none', 74, 74, 72], ['female', 'group D', 'some college', 'standard', 'completed', 82, 97, 96], ['female', 'group D', \"bachelor's degree\", 'standard', 'none', 59, 70, 73], ['male', 'group E', \"associate's degree\", 'free/reduced', 'none', 46, 43, 41], ['female', 'group D', 'some high school', 'standard', 'none', 80, 90, 82], ['female', 'group D', \"master's degree\", 'free/reduced', 'completed', 85, 95, 100], ['female', 'group A', 'some high school', 'standard', 'none', 71, 83, 77], ['male', 'group A', \"bachelor's degree\", 'standard', 'none', 66, 64, 62], ['female', 'group B', \"associate's degree\", 'standard', 'none', 80, 86, 83], ['male', 'group C', \"associate's degree\", 'standard', 'completed', 87, 100, 95], ['male', 'group C', \"master's degree\", 'free/reduced', 'none', 79, 81, 71], ['female', 'group E', 'some high school', 'free/reduced', 'none', 38, 49, 45], ['female', 'group A', 'some high school', 'free/reduced', 'none', 38, 43, 43], ['female', 'group E', 'some college', 'standard', 'none', 67, 76, 75], ['female', 'group E', \"bachelor's degree\", 'standard', 'none', 64, 73, 70], ['female', 'group C', \"associate's degree\", 'free/reduced', 'none', 57, 78, 67], ['female', 'group D', 'high school', 'standard', 'none', 62, 64, 64], ['male', 'group D', \"master's degree\", 'standard', 'none', 73, 70, 75], ['male', 'group E', 'some high school', 'free/reduced', 'completed', 73, 67, 59], ['female', 'group D', 'some college', 'standard', 'none', 77, 68, 77], ['male', 'group E', 'some college', 'standard', 'none', 76, 67, 67], ['male', 'group C', \"associate's degree\", 'standard', 'completed', 57, 54, 56], ['female', 'group C', 'some high school', 'standard', 'completed', 65, 74, 77], ['male', 'group A', 'high school', 'free/reduced', 'none', 48, 45, 41], ['female', 'group B', 'high school', 'free/reduced', 'none', 50, 67, 63], ['female', 'group C', \"associate's degree\", 'standard', 'none', 85, 89, 95], ['male', 'group B', 'some high school', 'standard', 'none', 74, 63, 57], ['male', 'group D', 'some high school', 'standard', 'none', 60, 59, 54], ['female', 'group C', 'some high school', 'standard', 'completed', 59, 54, 67], ['male', 'group A', 'some college', 'standard', 'none', 53, 43, 43], ['female', 'group A', 'some college', 'free/reduced', 'none', 49, 65, 55], ['female', 'group D', 'high school', 'standard', 'completed', 88, 99, 100], ['female', 'group C', 'high school', 'standard', 'none', 54, 59, 62], ['female', 'group C', 'some high school', 'standard', 'none', 63, 73, 68], ['male', 'group B', \"associate's degree\", 'standard', 'completed', 65, 65, 63], ['female', 'group B', \"associate's degree\", 'standard', 'none', 82, 80, 77], ['female', 'group D', 'high school', 'free/reduced', 'completed', 52, 57, 56], ['male', 'group D', \"associate's degree\", 'standard', 'completed', 87, 84, 85], ['female', 'group D', \"master's degree\", 'standard', 'completed', 70, 71, 74], ['male', 'group E', 'some college', 'standard', 'completed', 84, 83, 78], ['male', 'group D', \"associate's degree\", 'standard', 'none', 71, 66, 60], ['male', 'group B', 'some high school', 'standard', 'completed', 63, 67, 67], ['female', 'group C', \"bachelor's degree\", 'free/reduced', 'completed', 51, 72, 79], ['male', 'group E', 'high school', 'standard', 'none', 84, 73, 69], ['male', 'group C', \"bachelor's degree\", 'standard', 'completed', 71, 74, 68], ['male', 'group C', \"associate's degree\", 'standard', 'none', 74, 73, 67], ['male', 'group D', 'some college', 'standard', 'none', 68, 59, 62], ['male', 'group E', 'high school', 'free/reduced', 'completed', 57, 56, 54], ['female', 'group C', \"associate's degree\", 'free/reduced', 'completed', 82, 93, 93], ['female', 'group D', 'high school', 'standard', 'completed', 57, 58, 64], ['female', 'group D', \"master's degree\", 'free/reduced', 'completed', 47, 58, 67], ['female', 'group A', 'some high school', 'standard', 'completed', 59, 85, 80], ['male', 'group B', 'some college', 'free/reduced', 'none', 41, 39, 34], ['female', 'group C', 'some college', 'free/reduced', 'none', 62, 67, 62], ['male', 'group C', \"bachelor's degree\", 'standard', 'none', 86, 83, 86], ['male', 'group C', 'some high school', 'free/reduced', 'none', 69, 71, 65], ['male', 'group A', 'some high school', 'free/reduced', 'none', 65, 59, 53], ['male', 'group C', 'some high school', 'free/reduced', 'none', 68, 63, 54], ['male', 'group C', \"associate's degree\", 'free/reduced', 'none', 64, 66, 59], ['female', 'group C', 'high school', 'standard', 'none', 61, 72, 70], ['male', 'group C', 'high school', 'standard', 'none', 61, 56, 55], ['female', 'group A', 'some high school', 'free/reduced', 'none', 47, 59, 50], ['male', 'group C', 'some high school', 'standard', 'none', 73, 66, 66], ['male', 'group C', 'some college', 'free/reduced', 'completed', 50, 48, 53], ['male', 'group D', \"associate's degree\", 'standard', 'none', 75, 68, 64], ['male', 'group D', \"associate's degree\", 'free/reduced', 'none', 75, 66, 73], ['male', 'group C', 'high school', 'standard', 'none', 70, 56, 51], ['male', 'group D', 'some high school', 'standard', 'completed', 89, 88, 82], ['female', 'group C', 'some college', 'standard', 'completed', 67, 81, 79], ['female', 'group D', 'high school', 'standard', 'none', 78, 81, 80], ['female', 'group A', 'some high school', 'free/reduced', 'none', 59, 73, 69], ['female', 'group B', \"associate's degree\", 'standard', 'none', 73, 83, 76], ['male', 'group A', 'some high school', 'free/reduced', 'none', 79, 82, 73], ['female', 'group C', 'some high school', 'standard', 'completed', 67, 74, 77], ['male', 'group D', 'some college', 'free/reduced', 'none', 69, 66, 60], ['male', 'group C', 'high school', 'standard', 'completed', 86, 81, 80], ['male', 'group B', 'high school', 'standard', 'none', 47, 46, 42], ['male', 'group B', \"associate's degree\", 'standard', 'none', 81, 73, 72], ['female', 'group C', 'some college', 'free/reduced', 'completed', 64, 85, 85], ['female', 'group E', 'some college', 'standard', 'none', 100, 92, 97], ['female', 'group C', \"associate's degree\", 'free/reduced', 'none', 65, 77, 74], ['male', 'group C', 'some college', 'free/reduced', 'none', 65, 58, 49], ['female', 'group C', \"associate's degree\", 'free/reduced', 'none', 53, 61, 62], ['male', 'group C', \"bachelor's degree\", 'free/reduced', 'none', 37, 56, 47], ['female', 'group D', \"bachelor's degree\", 'standard', 'none', 79, 89, 89], ['male', 'group D', \"associate's degree\", 'free/reduced', 'none', 53, 54, 48], ['female', 'group E', \"bachelor's degree\", 'standard', 'none', 100, 100, 100], ['male', 'group B', 'high school', 'standard', 'completed', 72, 65, 68], ['male', 'group C', \"bachelor's degree\", 'free/reduced', 'none', 53, 58, 55], ['male', 'group B', 'some college', 'free/reduced', 'none', 54, 54, 45], ['female', 'group E', 'some college', 'standard', 'none', 71, 70, 76], ['female', 'group C', 'some college', 'free/reduced', 'none', 77, 90, 91], ['male', 'group A', \"bachelor's degree\", 'standard', 'completed', 75, 58, 62], ['female', 'group C', 'some college', 'standard', 'none', 84, 87, 91], ['female', 'group D', \"associate's degree\", 'free/reduced', 'none', 26, 31, 38], ['male', 'group A', 'high school', 'free/reduced', 'completed', 72, 67, 65], ['female', 'group A', 'high school', 'free/reduced', 'completed', 77, 88, 85], ['male', 'group C', 'some college', 'standard', 'none', 91, 74, 76], ['female', 'group C', \"associate's degree\", 'standard', 'completed', 83, 85, 90], ['female', 'group C', 'high school', 'standard', 'none', 63, 69, 74], ['female', 'group C', \"associate's degree\", 'standard', 'completed', 68, 86, 84], ['female', 'group D', 'some high school', 'standard', 'none', 59, 67, 61], ['female', 'group B', \"associate's degree\", 'standard', 'completed', 90, 90, 91], ['female', 'group D', \"bachelor's degree\", 'standard', 'completed', 71, 76, 83], ['male', 'group E', \"bachelor's degree\", 'standard', 'completed', 76, 62, 66], ['male', 'group D', \"associate's degree\", 'standard', 'none', 80, 68, 72], ['female', 'group D', \"master's degree\", 'standard', 'none', 55, 64, 70], ['male', 'group E', \"associate's degree\", 'standard', 'none', 76, 71, 67], ['male', 'group B', 'high school', 'standard', 'completed', 73, 71, 68], ['female', 'group D', \"associate's degree\", 'free/reduced', 'none', 52, 59, 56], ['male', 'group C', 'some college', 'free/reduced', 'none', 68, 68, 61], ['male', 'group A', 'high school', 'standard', 'none', 59, 52, 46], ['female', 'group B', \"associate's degree\", 'standard', 'none', 49, 52, 54], ['male', 'group C', 'high school', 'standard', 'none', 70, 74, 71], ['male', 'group D', 'some college', 'free/reduced', 'none', 61, 47, 56], ['female', 'group C', \"associate's degree\", 'free/reduced', 'none', 60, 75, 74], ['male', 'group B', 'some high school', 'standard', 'completed', 64, 53, 57], ['male', 'group A', \"associate's degree\", 'free/reduced', 'completed', 79, 82, 82], ['female', 'group A', \"associate's degree\", 'free/reduced', 'none', 65, 85, 76], ['female', 'group C', \"associate's degree\", 'standard', 'none', 64, 64, 70], ['female', 'group C', 'some college', 'standard', 'none', 83, 83, 90], ['female', 'group C', \"bachelor's degree\", 'standard', 'none', 81, 88, 90], ['female', 'group B', 'high school', 'standard', 'none', 54, 64, 68], ['male', 'group D', 'high school', 'standard', 'completed', 68, 64, 66], ['female', 'group C', 'some college', 'standard', 'none', 54, 48, 52], ['female', 'group D', 'some college', 'free/reduced', 'completed', 59, 78, 76], ['female', 'group B', 'some high school', 'standard', 'none', 66, 69, 68], ['male', 'group E', 'some college', 'standard', 'none', 76, 71, 72], ['female', 'group D', \"master's degree\", 'standard', 'none', 74, 79, 82], ['female', 'group B', \"associate's degree\", 'standard', 'completed', 94, 87, 92], ['male', 'group C', 'some college', 'free/reduced', 'none', 63, 61, 54], ['female', 'group E', \"associate's degree\", 'standard', 'completed', 95, 89, 92], ['female', 'group D', \"master's degree\", 'free/reduced', 'none', 40, 59, 54], ['female', 'group B', 'some high school', 'standard', 'none', 82, 82, 80], ['male', 'group A', 'high school', 'standard', 'none', 68, 70, 66], ['male', 'group B', \"bachelor's degree\", 'free/reduced', 'none', 55, 59, 54], ['male', 'group C', \"master's degree\", 'standard', 'none', 79, 78, 77], ['female', 'group C', \"bachelor's degree\", 'standard', 'none', 86, 92, 87], ['male', 'group D', 'some college', 'standard', 'none', 76, 71, 73], ['male', 'group A', 'some high school', 'standard', 'none', 64, 50, 43], ['male', 'group D', 'some high school', 'free/reduced', 'none', 62, 49, 52], ['female', 'group B', 'some high school', 'standard', 'completed', 54, 61, 62], ['female', 'group B', \"master's degree\", 'free/reduced', 'completed', 77, 97, 94], ['female', 'group C', 'some high school', 'standard', 'completed', 76, 87, 85], ['female', 'group D', 'some college', 'standard', 'none', 74, 89, 84], ['female', 'group E', 'some college', 'standard', 'completed', 66, 74, 73], ['female', 'group D', 'some high school', 'standard', 'completed', 66, 78, 78], ['female', 'group B', 'high school', 'free/reduced', 'completed', 67, 78, 79], ['male', 'group D', 'some college', 'standard', 'none', 71, 49, 52], ['female', 'group C', \"associate's degree\", 'standard', 'none', 91, 86, 84], ['male', 'group D', \"bachelor's degree\", 'standard', 'none', 69, 58, 57], ['male', 'group C', \"master's degree\", 'free/reduced', 'none', 54, 59, 50], ['male', 'group C', 'high school', 'standard', 'completed', 53, 52, 49], ['male', 'group E', 'some college', 'standard', 'none', 68, 60, 59], ['male', 'group C', 'some high school', 'free/reduced', 'completed', 56, 61, 60], ['female', 'group C', 'high school', 'free/reduced', 'none', 36, 53, 43], ['female', 'group D', \"bachelor's degree\", 'free/reduced', 'none', 29, 41, 47], ['female', 'group C', \"associate's degree\", 'standard', 'none', 62, 74, 70], ['female', 'group C', \"associate's degree\", 'standard', 'completed', 68, 67, 73], ['female', 'group C', 'some high school', 'standard', 'none', 47, 54, 53], ['male', 'group E', \"associate's degree\", 'standard', 'completed', 62, 61, 58], ['female', 'group E', \"associate's degree\", 'standard', 'completed', 79, 88, 94], ['male', 'group B', 'high school', 'standard', 'completed', 73, 69, 68], ['female', 'group C', \"bachelor's degree\", 'free/reduced', 'completed', 66, 83, 83], ['male', 'group C', \"associate's degree\", 'standard', 'completed', 51, 60, 58], ['female', 'group D', 'high school', 'standard', 'none', 51, 66, 62], ['male', 'group E', \"bachelor's degree\", 'standard', 'completed', 85, 66, 71], ['male', 'group A', \"associate's degree\", 'standard', 'completed', 97, 92, 86], ['male', 'group C', 'high school', 'standard', 'completed', 75, 69, 68], ['male', 'group D', \"associate's degree\", 'free/reduced', 'completed', 79, 82, 80], ['female', 'group C', \"associate's degree\", 'standard', 'none', 81, 77, 79], ['female', 'group D', \"associate's degree\", 'standard', 'none', 82, 95, 89], ['female', 'group D', \"master's degree\", 'standard', 'none', 64, 63, 66], ['male', 'group E', 'some high school', 'free/reduced', 'completed', 78, 83, 80], ['female', 'group A', 'some high school', 'standard', 'completed', 92, 100, 97], ['male', 'group C', 'high school', 'standard', 'completed', 72, 67, 64], ['female', 'group C', 'high school', 'free/reduced', 'none', 62, 67, 64], ['male', 'group C', \"master's degree\", 'standard', 'none', 79, 72, 69], ['male', 'group C', 'some high school', 'free/reduced', 'none', 79, 76, 65], ['male', 'group B', \"bachelor's degree\", 'free/reduced', 'completed', 87, 90, 88], ['female', 'group B', \"associate's degree\", 'standard', 'none', 40, 48, 50], ['male', 'group D', 'some college', 'free/reduced', 'none', 77, 62, 64], ['male', 'group E', \"associate's degree\", 'standard', 'none', 53, 45, 40], ['female', 'group C', 'some college', 'free/reduced', 'none', 32, 39, 33], ['female', 'group C', \"associate's degree\", 'standard', 'completed', 55, 72, 79], ['male', 'group C', \"master's degree\", 'free/reduced', 'none', 61, 67, 66], ['female', 'group B', \"associate's degree\", 'free/reduced', 'none', 53, 70, 70], ['male', 'group D', 'some high school', 'standard', 'none', 73, 66, 62], ['female', 'group D', 'some college', 'standard', 'completed', 74, 75, 79], ['female', 'group C', 'some college', 'standard', 'none', 63, 74, 74], ['male', 'group C', \"bachelor's degree\", 'standard', 'completed', 96, 90, 92], ['female', 'group D', 'some college', 'free/reduced', 'completed', 63, 80, 80], ['male', 'group B', \"bachelor's degree\", 'free/reduced', 'none', 48, 51, 46], ['male', 'group B', \"associate's degree\", 'standard', 'none', 48, 43, 45], ['female', 'group E', \"bachelor's degree\", 'free/reduced', 'completed', 92, 100, 100], ['female', 'group D', \"master's degree\", 'free/reduced', 'completed', 61, 71, 78], ['male', 'group B', 'high school', 'free/reduced', 'none', 63, 48, 47], ['male', 'group D', \"bachelor's degree\", 'free/reduced', 'none', 68, 68, 67], ['male', 'group B', 'some college', 'standard', 'completed', 71, 75, 70], ['male', 'group A', \"bachelor's degree\", 'standard', 'none', 91, 96, 92], ['female', 'group C', 'some college', 'standard', 'none', 53, 62, 56], ['female', 'group C', 'high school', 'free/reduced', 'completed', 50, 66, 64], ['female', 'group E', 'high school', 'standard', 'none', 74, 81, 71], ['male', 'group A', \"associate's degree\", 'free/reduced', 'completed', 40, 55, 53], ['male', 'group A', 'some college', 'standard', 'completed', 61, 51, 52], ['female', 'group B', 'high school', 'standard', 'none', 81, 91, 89], ['female', 'group B', 'some college', 'free/reduced', 'completed', 48, 56, 58], ['female', 'group D', \"master's degree\", 'standard', 'none', 53, 61, 68], ['female', 'group D', 'some high school', 'standard', 'none', 81, 97, 96], ['female', 'group E', 'some high school', 'standard', 'none', 77, 79, 80], ['female', 'group D', \"bachelor's degree\", 'free/reduced', 'none', 63, 73, 78], ['female', 'group D', \"associate's degree\", 'standard', 'completed', 73, 75, 80], ['female', 'group D', 'some college', 'standard', 'none', 69, 77, 77], ['female', 'group C', \"associate's degree\", 'standard', 'none', 65, 76, 76], ['female', 'group A', 'high school', 'standard', 'none', 55, 73, 73], ['female', 'group C', \"bachelor's degree\", 'free/reduced', 'none', 44, 63, 62], ['female', 'group C', 'some college', 'standard', 'none', 54, 64, 65], ['female', 'group A', 'some high school', 'standard', 'none', 48, 66, 65], ['male', 'group C', 'some college', 'free/reduced', 'none', 58, 57, 54], ['male', 'group A', 'some high school', 'standard', 'none', 71, 62, 50], ['male', 'group E', \"bachelor's degree\", 'standard', 'none', 68, 68, 64], ['female', 'group E', 'high school', 'standard', 'none', 74, 76, 73], ['female', 'group C', \"bachelor's degree\", 'standard', 'completed', 92, 100, 99], ['female', 'group C', \"bachelor's degree\", 'standard', 'completed', 56, 79, 72], ['male', 'group B', 'high school', 'free/reduced', 'none', 30, 24, 15], ['male', 'group A', 'some high school', 'standard', 'none', 53, 54, 48], ['female', 'group D', 'high school', 'standard', 'none', 69, 77, 73], ['female', 'group D', 'some high school', 'standard', 'none', 65, 82, 81], ['female', 'group D', \"master's degree\", 'standard', 'none', 54, 60, 63], ['female', 'group C', 'high school', 'standard', 'none', 29, 29, 30], ['female', 'group E', 'some college', 'standard', 'none', 76, 78, 80], ['male', 'group D', 'high school', 'free/reduced', 'none', 60, 57, 51], ['male', 'group D', \"master's degree\", 'free/reduced', 'completed', 84, 89, 90], ['male', 'group C', 'some high school', 'standard', 'none', 75, 72, 62], ['female', 'group C', \"associate's degree\", 'standard', 'none', 85, 84, 82], ['female', 'group C', \"master's degree\", 'free/reduced', 'none', 40, 58, 54], ['female', 'group E', 'some college', 'standard', 'none', 61, 64, 62], ['female', 'group B', \"associate's degree\", 'standard', 'none', 58, 63, 65], ['male', 'group D', 'some college', 'free/reduced', 'completed', 69, 60, 63], ['female', 'group C', 'some college', 'standard', 'none', 58, 59, 66], ['male', 'group C', \"bachelor's degree\", 'standard', 'completed', 94, 90, 91], ['female', 'group C', \"associate's degree\", 'standard', 'none', 65, 77, 74], ['female', 'group A', \"associate's degree\", 'standard', 'none', 82, 93, 93], ['female', 'group C', 'high school', 'standard', 'none', 60, 68, 72], ['female', 'group E', \"bachelor's degree\", 'standard', 'none', 37, 45, 38], ['male', 'group D', \"bachelor's degree\", 'standard', 'none', 88, 78, 83], ['male', 'group D', \"master's degree\", 'standard', 'none', 95, 81, 84], ['male', 'group C', \"associate's degree\", 'free/reduced', 'completed', 65, 73, 68], ['female', 'group C', 'high school', 'free/reduced', 'none', 35, 61, 54], ['male', 'group B', \"bachelor's degree\", 'free/reduced', 'none', 62, 63, 56], ['male', 'group C', 'high school', 'free/reduced', 'completed', 58, 51, 52], ['male', 'group A', 'some college', 'standard', 'completed', 100, 96, 86], ['female', 'group E', \"bachelor's degree\", 'free/reduced', 'none', 61, 58, 62], ['male', 'group D', 'some college', 'standard', 'completed', 100, 97, 99], ['male', 'group B', \"associate's degree\", 'free/reduced', 'completed', 69, 70, 63], ['male', 'group D', \"associate's degree\", 'standard', 'none', 61, 48, 46], ['male', 'group D', 'some college', 'free/reduced', 'none', 49, 57, 46], ['female', 'group C', 'some high school', 'standard', 'completed', 44, 51, 55], ['male', 'group D', 'some college', 'standard', 'none', 67, 64, 70], ['male', 'group B', 'high school', 'standard', 'none', 79, 60, 65], ['female', 'group B', \"bachelor's degree\", 'standard', 'completed', 66, 74, 81], ['female', 'group C', 'high school', 'standard', 'none', 75, 88, 85], ['male', 'group D', 'some high school', 'standard', 'none', 84, 84, 80], ['male', 'group A', 'high school', 'standard', 'none', 71, 74, 64], ['female', 'group B', 'high school', 'free/reduced', 'completed', 67, 80, 81], ['female', 'group D', 'some high school', 'standard', 'completed', 80, 92, 88], ['male', 'group E', 'some college', 'standard', 'none', 86, 76, 74], ['female', 'group D', \"associate's degree\", 'standard', 'none', 76, 74, 73], ['male', 'group D', 'high school', 'standard', 'none', 41, 52, 51], ['female', 'group D', \"associate's degree\", 'free/reduced', 'completed', 74, 88, 90], ['female', 'group B', 'some high school', 'free/reduced', 'none', 72, 81, 79], ['female', 'group E', 'high school', 'standard', 'completed', 74, 79, 80], ['male', 'group B', 'high school', 'standard', 'none', 70, 65, 60], ['female', 'group B', \"bachelor's degree\", 'standard', 'completed', 65, 81, 81], ['female', 'group D', \"associate's degree\", 'standard', 'none', 59, 70, 65], ['female', 'group E', 'high school', 'free/reduced', 'none', 64, 62, 68], ['female', 'group B', 'high school', 'standard', 'none', 50, 53, 55], ['female', 'group D', 'some college', 'standard', 'completed', 69, 79, 81], ['male', 'group C', 'some high school', 'free/reduced', 'completed', 51, 56, 53], ['female', 'group A', 'high school', 'standard', 'completed', 68, 80, 76], ['female', 'group D', 'some college', 'standard', 'completed', 85, 86, 98], ['female', 'group A', \"associate's degree\", 'standard', 'completed', 65, 70, 74], ['female', 'group B', 'some high school', 'standard', 'none', 73, 79, 79], ['female', 'group B', 'some college', 'standard', 'none', 62, 67, 67], ['male', 'group C', \"associate's degree\", 'free/reduced', 'none', 77, 67, 64], ['male', 'group D', 'some high school', 'standard', 'none', 69, 66, 61], ['female', 'group D', \"associate's degree\", 'free/reduced', 'none', 43, 60, 58], ['male', 'group D', \"associate's degree\", 'standard', 'none', 90, 87, 85], ['male', 'group C', 'some college', 'free/reduced', 'none', 74, 77, 73], ['male', 'group C', 'some high school', 'standard', 'none', 73, 66, 63], ['female', 'group D', 'some college', 'free/reduced', 'none', 55, 71, 69], ['female', 'group C', 'high school', 'standard', 'none', 65, 69, 67], ['male', 'group D', \"associate's degree\", 'standard', 'none', 80, 63, 63], ['female', 'group C', 'some high school', 'free/reduced', 'completed', 50, 60, 60], ['female', 'group C', 'some college', 'free/reduced', 'completed', 63, 73, 71], ['female', 'group B', \"bachelor's degree\", 'free/reduced', 'none', 77, 85, 87], ['male', 'group C', 'some college', 'standard', 'none', 73, 74, 61], ['male', 'group D', \"associate's degree\", 'standard', 'completed', 81, 72, 77], ['female', 'group C', 'high school', 'free/reduced', 'none', 66, 76, 68], ['male', 'group D', \"associate's degree\", 'free/reduced', 'none', 52, 57, 50], ['female', 'group C', 'some college', 'standard', 'none', 69, 78, 76], ['female', 'group C', \"associate's degree\", 'standard', 'completed', 65, 84, 84], ['female', 'group D', 'high school', 'standard', 'completed', 69, 77, 78], ['female', 'group B', 'some college', 'standard', 'completed', 50, 64, 66], ['female', 'group E', 'some college', 'standard', 'completed', 73, 78, 76], ['female', 'group C', 'some high school', 'standard', 'completed', 70, 82, 76], ['male', 'group D', \"associate's degree\", 'free/reduced', 'none', 81, 75, 78], ['male', 'group D', 'some college', 'free/reduced', 'none', 63, 61, 60], ['female', 'group D', 'high school', 'standard', 'none', 67, 72, 74], ['male', 'group B', 'high school', 'standard', 'none', 60, 68, 60], ['male', 'group B', 'high school', 'standard', 'none', 62, 55, 54], ['female', 'group C', 'some high school', 'free/reduced', 'completed', 29, 40, 44], ['male', 'group B', 'some college', 'standard', 'completed', 62, 66, 68], ['female', 'group E', \"master's degree\", 'standard', 'completed', 94, 99, 100], ['male', 'group E', 'some college', 'standard', 'completed', 85, 75, 68], ['male', 'group D', \"associate's degree\", 'free/reduced', 'none', 77, 78, 73], ['male', 'group A', 'high school', 'free/reduced', 'none', 53, 58, 44], ['male', 'group E', 'some college', 'free/reduced', 'none', 93, 90, 83], ['female', 'group C', \"associate's degree\", 'standard', 'none', 49, 53, 53], ['female', 'group E', \"associate's degree\", 'free/reduced', 'none', 73, 76, 78], ['female', 'group C', \"bachelor's degree\", 'free/reduced', 'completed', 66, 74, 81], ['female', 'group D', \"associate's degree\", 'standard', 'none', 77, 77, 73], ['female', 'group C', 'some high school', 'standard', 'none', 49, 63, 56], ['female', 'group D', 'some college', 'free/reduced', 'none', 79, 89, 86], ['female', 'group C', \"associate's degree\", 'standard', 'completed', 75, 82, 90], ['female', 'group A', \"bachelor's degree\", 'standard', 'none', 59, 72, 70], ['female', 'group D', \"associate's degree\", 'standard', 'completed', 57, 78, 79], ['male', 'group C', 'high school', 'free/reduced', 'none', 66, 66, 59], ['female', 'group E', \"bachelor's degree\", 'standard', 'completed', 79, 81, 82], ['female', 'group B', 'some high school', 'standard', 'none', 57, 67, 72], ['male', 'group A', \"bachelor's degree\", 'standard', 'completed', 87, 84, 87], ['female', 'group D', 'some college', 'standard', 'none', 63, 64, 67], ['female', 'group B', 'some high school', 'free/reduced', 'completed', 59, 63, 64], ['male', 'group A', \"bachelor's degree\", 'free/reduced', 'none', 62, 72, 65], ['male', 'group D', 'high school', 'standard', 'none', 46, 34, 36], ['male', 'group C', 'some college', 'standard', 'none', 66, 59, 52], ['male', 'group D', 'high school', 'standard', 'none', 89, 87, 79], ['female', 'group D', \"associate's degree\", 'free/reduced', 'completed', 42, 61, 58], ['male', 'group C', 'some college', 'standard', 'completed', 93, 84, 90], ['female', 'group E', 'some high school', 'standard', 'completed', 80, 85, 85], ['female', 'group D', 'some college', 'standard', 'none', 98, 100, 99], ['male', 'group D', \"master's degree\", 'standard', 'none', 81, 81, 84], ['female', 'group B', 'some high school', 'standard', 'completed', 60, 70, 74], ['female', 'group B', \"associate's degree\", 'free/reduced', 'completed', 76, 94, 87], ['male', 'group C', \"associate's degree\", 'standard', 'completed', 73, 78, 72], ['female', 'group C', \"associate's degree\", 'standard', 'completed', 96, 96, 99], ['female', 'group C', 'high school', 'standard', 'none', 76, 76, 74], ['male', 'group E', \"associate's degree\", 'free/reduced', 'completed', 91, 73, 80], ['female', 'group C', 'some college', 'free/reduced', 'none', 62, 72, 70], ['male', 'group D', 'some high school', 'free/reduced', 'completed', 55, 59, 59], ['female', 'group B', 'some high school', 'free/reduced', 'completed', 74, 90, 88], ['male', 'group C', 'high school', 'standard', 'none', 50, 48, 42], ['male', 'group B', 'some college', 'standard', 'none', 47, 43, 41], ['male', 'group E', 'some college', 'standard', 'completed', 81, 74, 71], ['female', 'group E', \"associate's degree\", 'standard', 'completed', 65, 75, 77], ['male', 'group E', 'some high school', 'standard', 'completed', 68, 51, 57], ['female', 'group D', 'high school', 'free/reduced', 'none', 73, 92, 84], ['male', 'group C', 'some college', 'standard', 'none', 53, 39, 37], ['female', 'group B', \"associate's degree\", 'free/reduced', 'completed', 68, 77, 80], ['male', 'group A', 'some high school', 'free/reduced', 'none', 55, 46, 43], ['female', 'group C', 'some college', 'standard', 'completed', 87, 89, 94], ['male', 'group D', 'some high school', 'standard', 'none', 55, 47, 44], ['female', 'group E', 'some college', 'free/reduced', 'none', 53, 58, 57], ['male', 'group C', \"master's degree\", 'standard', 'none', 67, 57, 59], ['male', 'group C', \"associate's degree\", 'standard', 'none', 92, 79, 84], ['female', 'group B', 'some college', 'free/reduced', 'completed', 53, 66, 73], ['male', 'group D', \"associate's degree\", 'standard', 'none', 81, 71, 73], ['male', 'group C', 'high school', 'free/reduced', 'none', 61, 60, 55], ['male', 'group D', \"bachelor's degree\", 'standard', 'none', 80, 73, 72], ['female', 'group A', \"associate's degree\", 'free/reduced', 'none', 37, 57, 56], ['female', 'group C', 'high school', 'standard', 'none', 81, 84, 82], ['female', 'group C', \"associate's degree\", 'standard', 'completed', 59, 73, 72], ['male', 'group B', 'some college', 'free/reduced', 'none', 55, 55, 47], ['male', 'group D', \"associate's degree\", 'standard', 'none', 72, 79, 74], ['male', 'group D', 'high school', 'standard', 'none', 69, 75, 71], ['male', 'group C', 'some college', 'standard', 'none', 69, 64, 68], ['female', 'group C', \"bachelor's degree\", 'free/reduced', 'none', 50, 60, 59], ['male', 'group B', 'some college', 'standard', 'completed', 87, 84, 86], ['male', 'group D', 'some high school', 'standard', 'completed', 71, 69, 68], ['male', 'group E', 'some college', 'standard', 'none', 68, 72, 65], ['male', 'group C', \"master's degree\", 'free/reduced', 'completed', 79, 77, 75], ['female', 'group C', 'some high school', 'standard', 'completed', 77, 90, 85], ['male', 'group C', \"associate's degree\", 'free/reduced', 'none', 58, 55, 53], ['female', 'group E', \"associate's degree\", 'standard', 'none', 84, 95, 92], ['male', 'group D', 'some college', 'standard', 'none', 55, 58, 52], ['male', 'group E', \"bachelor's degree\", 'free/reduced', 'completed', 70, 68, 72], ['female', 'group D', 'some college', 'free/reduced', 'completed', 52, 59, 65], ['male', 'group B', 'some college', 'standard', 'completed', 69, 77, 77], ['female', 'group C', 'high school', 'free/reduced', 'none', 53, 72, 64], ['female', 'group D', 'some high school', 'standard', 'none', 48, 58, 54], ['male', 'group D', 'some high school', 'standard', 'completed', 78, 81, 86], ['female', 'group B', 'high school', 'standard', 'none', 62, 62, 63], ['male', 'group D', 'some college', 'standard', 'none', 60, 63, 59], ['female', 'group B', 'high school', 'standard', 'none', 74, 72, 72], ['female', 'group C', 'high school', 'standard', 'completed', 58, 75, 77], ['male', 'group B', 'high school', 'standard', 'completed', 76, 62, 60], ['female', 'group D', 'some high school', 'standard', 'none', 68, 71, 75], ['male', 'group A', 'some college', 'free/reduced', 'none', 58, 60, 57], ['male', 'group B', 'high school', 'standard', 'none', 52, 48, 49], ['male', 'group D', \"bachelor's degree\", 'standard', 'none', 75, 73, 74], ['female', 'group B', 'some high school', 'free/reduced', 'completed', 52, 67, 72], ['female', 'group C', \"bachelor's degree\", 'free/reduced', 'none', 62, 78, 79], ['male', 'group B', 'some college', 'standard', 'none', 66, 65, 60], ['female', 'group B', 'some high school', 'free/reduced', 'none', 49, 58, 55], ['female', 'group B', 'high school', 'standard', 'none', 66, 72, 70], ['female', 'group C', 'some college', 'free/reduced', 'none', 35, 44, 43], ['female', 'group A', 'some college', 'standard', 'completed', 72, 79, 82], ['male', 'group E', \"associate's degree\", 'standard', 'completed', 94, 85, 82], ['female', 'group D', \"associate's degree\", 'free/reduced', 'none', 46, 56, 57], ['female', 'group B', \"master's degree\", 'standard', 'none', 77, 90, 84], ['female', 'group B', 'high school', 'free/reduced', 'completed', 76, 85, 82], ['female', 'group C', \"associate's degree\", 'standard', 'completed', 52, 59, 62], ['male', 'group C', \"bachelor's degree\", 'standard', 'completed', 91, 81, 79], ['female', 'group B', 'some high school', 'standard', 'completed', 32, 51, 44], ['female', 'group E', 'some high school', 'free/reduced', 'none', 72, 79, 77], ['female', 'group B', 'some college', 'standard', 'none', 19, 38, 32], ['male', 'group C', \"associate's degree\", 'free/reduced', 'none', 68, 65, 61], ['female', 'group C', \"master's degree\", 'free/reduced', 'none', 52, 65, 61], ['female', 'group B', 'high school', 'standard', 'none', 48, 62, 60], ['female', 'group D', 'some college', 'free/reduced', 'none', 60, 66, 70], ['male', 'group D', 'high school', 'free/reduced', 'none', 66, 74, 69], ['male', 'group E', 'some high school', 'standard', 'completed', 89, 84, 77], ['female', 'group B', 'high school', 'standard', 'none', 42, 52, 51], ['female', 'group E', \"associate's degree\", 'free/reduced', 'completed', 57, 68, 73], ['male', 'group D', 'high school', 'standard', 'none', 70, 70, 70], ['female', 'group E', \"associate's degree\", 'free/reduced', 'none', 70, 84, 81], ['male', 'group E', 'some college', 'standard', 'none', 69, 60, 54], ['female', 'group C', \"associate's degree\", 'standard', 'none', 52, 55, 57], ['male', 'group C', 'some high school', 'standard', 'completed', 67, 73, 68], ['male', 'group C', 'some high school', 'standard', 'completed', 76, 80, 73], ['female', 'group E', \"associate's degree\", 'standard', 'none', 87, 94, 95], ['female', 'group B', 'some college', 'standard', 'none', 82, 85, 87], ['female', 'group C', 'some college', 'standard', 'none', 73, 76, 78], ['male', 'group A', 'some college', 'free/reduced', 'none', 75, 81, 74], ['female', 'group D', 'some college', 'free/reduced', 'none', 64, 74, 75], ['female', 'group E', 'high school', 'free/reduced', 'none', 41, 45, 40], ['male', 'group C', 'high school', 'standard', 'none', 90, 75, 69], ['male', 'group B', \"bachelor's degree\", 'standard', 'none', 59, 54, 51], ['male', 'group A', 'some high school', 'standard', 'none', 51, 31, 36], ['male', 'group A', 'high school', 'free/reduced', 'none', 45, 47, 49], ['female', 'group C', \"master's degree\", 'standard', 'completed', 54, 64, 67], ['male', 'group E', 'some high school', 'standard', 'completed', 87, 84, 76], ['female', 'group C', 'high school', 'standard', 'none', 72, 80, 83], ['male', 'group B', 'some high school', 'standard', 'completed', 94, 86, 87], ['female', 'group A', \"bachelor's degree\", 'standard', 'none', 45, 59, 64], ['male', 'group D', \"bachelor's degree\", 'free/reduced', 'completed', 61, 70, 76], ['female', 'group B', 'high school', 'free/reduced', 'none', 60, 72, 68], ['female', 'group C', 'some high school', 'standard', 'none', 77, 91, 88], ['female', 'group A', 'some high school', 'standard', 'completed', 85, 90, 92], ['female', 'group D', \"bachelor's degree\", 'free/reduced', 'none', 78, 90, 93], ['male', 'group E', 'some college', 'free/reduced', 'completed', 49, 52, 51], ['female', 'group B', 'high school', 'free/reduced', 'none', 71, 87, 82], ['female', 'group C', 'some high school', 'free/reduced', 'none', 48, 58, 52], ['male', 'group C', 'high school', 'standard', 'none', 62, 67, 58], ['female', 'group C', \"associate's degree\", 'free/reduced', 'completed', 56, 68, 70], ['female', 'group C', 'some high school', 'standard', 'none', 65, 69, 76], ['female', 'group D', 'some high school', 'free/reduced', 'completed', 69, 86, 81], ['male', 'group B', 'some high school', 'standard', 'none', 68, 54, 53], ['female', 'group A', 'some college', 'free/reduced', 'none', 61, 60, 57], ['female', 'group C', \"bachelor's degree\", 'free/reduced', 'completed', 74, 86, 89], ['male', 'group A', \"bachelor's degree\", 'standard', 'none', 64, 60, 58], ['female', 'group B', 'high school', 'standard', 'completed', 77, 82, 89], ['male', 'group B', 'some college', 'standard', 'none', 58, 50, 45], ['female', 'group C', 'high school', 'standard', 'completed', 60, 64, 74], ['male', 'group E', 'high school', 'standard', 'none', 73, 64, 57], ['female', 'group A', 'high school', 'standard', 'completed', 75, 82, 79], ['male', 'group B', \"associate's degree\", 'free/reduced', 'completed', 58, 57, 53], ['female', 'group C', \"associate's degree\", 'standard', 'none', 66, 77, 73], ['female', 'group D', 'high school', 'free/reduced', 'none', 39, 52, 46], ['male', 'group C', 'some high school', 'standard', 'none', 64, 58, 51], ['female', 'group B', 'high school', 'free/reduced', 'completed', 23, 44, 36], ['male', 'group B', 'some college', 'free/reduced', 'completed', 74, 77, 76], ['female', 'group D', 'some high school', 'free/reduced', 'completed', 40, 65, 64], ['male', 'group E', \"master's degree\", 'standard', 'none', 90, 85, 84], ['male', 'group C', \"master's degree\", 'standard', 'completed', 91, 85, 85], ['male', 'group D', 'high school', 'standard', 'none', 64, 54, 50], ['female', 'group C', 'high school', 'standard', 'none', 59, 72, 68], ['male', 'group D', \"associate's degree\", 'standard', 'none', 80, 75, 69], ['male', 'group C', \"master's degree\", 'standard', 'none', 71, 67, 67], ['female', 'group A', 'high school', 'standard', 'none', 61, 68, 63], ['female', 'group E', 'some college', 'standard', 'none', 87, 85, 93], ['male', 'group E', 'some high school', 'standard', 'none', 82, 67, 61], ['male', 'group C', 'some high school', 'standard', 'none', 62, 64, 55], ['female', 'group B', \"bachelor's degree\", 'standard', 'none', 97, 97, 96], ['male', 'group B', 'some college', 'free/reduced', 'none', 75, 68, 65], ['female', 'group C', \"bachelor's degree\", 'standard', 'none', 65, 79, 81], ['male', 'group B', 'high school', 'standard', 'completed', 52, 49, 46], ['male', 'group C', \"associate's degree\", 'free/reduced', 'none', 87, 73, 72], ['female', 'group C', \"associate's degree\", 'standard', 'none', 53, 62, 53], ['female', 'group E', \"master's degree\", 'free/reduced', 'none', 81, 86, 87], ['male', 'group D', \"bachelor's degree\", 'free/reduced', 'completed', 39, 42, 38], ['female', 'group C', 'some college', 'standard', 'completed', 71, 71, 80], ['male', 'group C', \"associate's degree\", 'standard', 'none', 97, 93, 91], ['male', 'group D', 'some college', 'standard', 'completed', 82, 82, 88], ['male', 'group C', 'high school', 'free/reduced', 'none', 59, 53, 52], ['male', 'group B', \"associate's degree\", 'standard', 'none', 61, 42, 41], ['male', 'group E', \"associate's degree\", 'free/reduced', 'completed', 78, 74, 72], ['male', 'group C', \"associate's degree\", 'free/reduced', 'none', 49, 51, 51], ['male', 'group B', 'high school', 'standard', 'none', 59, 58, 47], ['female', 'group C', 'some college', 'standard', 'completed', 70, 72, 76], ['male', 'group B', \"associate's degree\", 'standard', 'completed', 82, 84, 78], ['male', 'group E', \"associate's degree\", 'free/reduced', 'none', 90, 90, 82], ['female', 'group C', \"bachelor's degree\", 'free/reduced', 'none', 43, 62, 61], ['male', 'group C', 'some college', 'free/reduced', 'none', 80, 64, 66], ['male', 'group D', 'some college', 'standard', 'none', 81, 82, 84], ['male', 'group C', 'some high school', 'standard', 'none', 57, 61, 54], ['female', 'group D', 'some high school', 'standard', 'none', 59, 72, 80], ['female', 'group D', \"associate's degree\", 'standard', 'none', 64, 76, 74], ['male', 'group C', \"bachelor's degree\", 'standard', 'completed', 63, 64, 66], ['female', 'group E', \"bachelor's degree\", 'standard', 'completed', 71, 70, 70], ['female', 'group B', 'high school', 'free/reduced', 'none', 64, 73, 71], ['male', 'group D', \"bachelor's degree\", 'free/reduced', 'none', 55, 46, 44], ['female', 'group E', \"associate's degree\", 'standard', 'none', 51, 51, 54], ['female', 'group C', \"associate's degree\", 'standard', 'completed', 62, 76, 80], ['female', 'group E', \"associate's degree\", 'standard', 'completed', 93, 100, 95], ['male', 'group C', 'high school', 'free/reduced', 'none', 54, 72, 59], ['female', 'group D', 'some college', 'free/reduced', 'none', 69, 65, 74], ['male', 'group D', 'high school', 'free/reduced', 'none', 44, 51, 48], ['female', 'group E', 'some college', 'standard', 'completed', 86, 85, 91], ['female', 'group E', \"associate's degree\", 'standard', 'none', 85, 92, 85], ['female', 'group A', \"master's degree\", 'free/reduced', 'none', 50, 67, 73], ['male', 'group D', 'some high school', 'standard', 'completed', 88, 74, 75], ['female', 'group E', \"associate's degree\", 'standard', 'none', 59, 62, 69], ['female', 'group E', 'some high school', 'free/reduced', 'none', 32, 34, 38], ['male', 'group B', 'high school', 'free/reduced', 'none', 36, 29, 27], ['female', 'group B', 'some high school', 'free/reduced', 'completed', 63, 78, 79], ['male', 'group D', \"associate's degree\", 'standard', 'completed', 67, 54, 63], ['female', 'group D', 'some high school', 'standard', 'completed', 65, 78, 82], ['male', 'group D', \"master's degree\", 'standard', 'none', 85, 84, 89], ['female', 'group C', \"master's degree\", 'standard', 'none', 73, 78, 74], ['female', 'group A', 'high school', 'free/reduced', 'completed', 34, 48, 41], ['female', 'group D', \"bachelor's degree\", 'free/reduced', 'completed', 93, 100, 100], ['female', 'group D', 'some high school', 'free/reduced', 'none', 67, 84, 84], ['male', 'group D', 'some college', 'standard', 'none', 88, 77, 77], ['male', 'group B', 'high school', 'standard', 'none', 57, 48, 51], ['female', 'group D', 'some college', 'standard', 'completed', 79, 84, 91], ['female', 'group C', \"bachelor's degree\", 'free/reduced', 'none', 67, 75, 72], ['male', 'group E', \"bachelor's degree\", 'standard', 'completed', 70, 64, 70], ['male', 'group D', \"bachelor's degree\", 'free/reduced', 'none', 50, 42, 48], ['female', 'group A', 'some college', 'standard', 'none', 69, 84, 82], ['female', 'group C', \"bachelor's degree\", 'standard', 'completed', 52, 61, 66], ['female', 'group C', \"bachelor's degree\", 'free/reduced', 'completed', 47, 62, 66], ['female', 'group B', \"associate's degree\", 'free/reduced', 'none', 46, 61, 55], ['female', 'group E', 'some college', 'standard', 'none', 68, 70, 66], ['male', 'group E', \"bachelor's degree\", 'standard', 'completed', 100, 100, 100], ['female', 'group C', 'high school', 'standard', 'none', 44, 61, 52], ['female', 'group C', \"associate's degree\", 'standard', 'completed', 57, 77, 80], ['male', 'group B', 'some college', 'standard', 'completed', 91, 96, 91], ['male', 'group D', 'high school', 'free/reduced', 'none', 69, 70, 67], ['female', 'group C', 'high school', 'free/reduced', 'none', 35, 53, 46], ['male', 'group D', 'high school', 'standard', 'none', 72, 66, 66], ['female', 'group B', \"associate's degree\", 'free/reduced', 'none', 54, 65, 65], ['male', 'group D', 'high school', 'free/reduced', 'none', 74, 70, 69], ['male', 'group E', 'some high school', 'standard', 'completed', 74, 64, 60], ['male', 'group E', \"associate's degree\", 'free/reduced', 'none', 64, 56, 52], ['female', 'group D', 'high school', 'free/reduced', 'completed', 65, 61, 71], ['male', 'group E', \"associate's degree\", 'free/reduced', 'completed', 46, 43, 44], ['female', 'group C', 'some high school', 'free/reduced', 'none', 48, 56, 51], ['male', 'group C', 'some college', 'free/reduced', 'completed', 67, 74, 70], ['male', 'group D', 'some college', 'free/reduced', 'none', 62, 57, 62], ['male', 'group D', \"associate's degree\", 'free/reduced', 'completed', 61, 71, 73], ['male', 'group C', \"bachelor's degree\", 'free/reduced', 'completed', 70, 75, 74], ['male', 'group C', \"associate's degree\", 'standard', 'completed', 98, 87, 90], ['male', 'group D', 'some college', 'free/reduced', 'none', 70, 63, 58], ['male', 'group A', \"associate's degree\", 'standard', 'none', 67, 57, 53], ['female', 'group E', 'high school', 'free/reduced', 'none', 57, 58, 57], ['male', 'group D', 'some college', 'standard', 'completed', 85, 81, 85], ['male', 'group D', 'some high school', 'standard', 'completed', 77, 68, 69], ['male', 'group C', \"master's degree\", 'free/reduced', 'completed', 72, 66, 72], ['female', 'group D', \"master's degree\", 'standard', 'none', 78, 91, 96], ['male', 'group C', 'high school', 'standard', 'none', 81, 66, 64], ['male', 'group A', 'some high school', 'free/reduced', 'completed', 61, 62, 61], ['female', 'group B', 'high school', 'standard', 'none', 58, 68, 61], ['female', 'group C', \"associate's degree\", 'standard', 'none', 54, 61, 58], ['male', 'group B', 'high school', 'standard', 'none', 82, 82, 80], ['female', 'group D', 'some college', 'free/reduced', 'none', 49, 58, 60], ['male', 'group B', 'some high school', 'free/reduced', 'completed', 49, 50, 52], ['female', 'group E', 'high school', 'free/reduced', 'completed', 57, 75, 73], ['male', 'group E', 'high school', 'standard', 'none', 94, 73, 71], ['female', 'group D', 'some college', 'standard', 'completed', 75, 77, 83], ['female', 'group E', 'some high school', 'free/reduced', 'none', 74, 74, 72], ['male', 'group C', 'high school', 'standard', 'completed', 58, 52, 54], ['female', 'group C', 'some college', 'standard', 'none', 62, 69, 69], ['male', 'group E', \"associate's degree\", 'standard', 'none', 72, 57, 62], ['male', 'group C', 'some college', 'standard', 'none', 84, 87, 81], ['female', 'group D', \"master's degree\", 'standard', 'none', 92, 100, 100], ['female', 'group D', 'high school', 'standard', 'none', 45, 63, 59], ['male', 'group C', 'high school', 'standard', 'none', 75, 81, 71], ['female', 'group A', 'some college', 'standard', 'none', 56, 58, 64], ['female', 'group D', 'some high school', 'free/reduced', 'none', 48, 54, 53], ['female', 'group E', \"associate's degree\", 'standard', 'none', 100, 100, 100], ['female', 'group C', 'some high school', 'free/reduced', 'completed', 65, 76, 75], ['male', 'group D', 'some college', 'standard', 'none', 72, 57, 58], ['female', 'group D', 'some college', 'standard', 'none', 62, 70, 72], ['male', 'group A', 'some high school', 'standard', 'completed', 66, 68, 64], ['male', 'group C', 'some college', 'standard', 'none', 63, 63, 60], ['female', 'group E', \"associate's degree\", 'standard', 'none', 68, 76, 67], ['female', 'group B', \"bachelor's degree\", 'standard', 'none', 75, 84, 80], ['female', 'group D', \"bachelor's degree\", 'standard', 'none', 89, 100, 100], ['male', 'group C', 'some high school', 'standard', 'completed', 78, 72, 69], ['female', 'group A', 'high school', 'free/reduced', 'completed', 53, 50, 60], ['female', 'group D', 'some college', 'free/reduced', 'none', 49, 65, 61], ['female', 'group A', 'some college', 'standard', 'none', 54, 63, 67], ['female', 'group C', 'some college', 'standard', 'completed', 64, 82, 77], ['male', 'group B', 'some college', 'free/reduced', 'completed', 60, 62, 60], ['male', 'group C', \"associate's degree\", 'standard', 'none', 62, 65, 58], ['male', 'group D', 'high school', 'standard', 'completed', 55, 41, 48], ['female', 'group C', \"associate's degree\", 'standard', 'none', 91, 95, 94], ['female', 'group B', 'high school', 'free/reduced', 'none', 8, 24, 23], ['male', 'group D', 'some high school', 'standard', 'none', 81, 78, 78], ['male', 'group B', 'some high school', 'standard', 'completed', 79, 85, 86], ['female', 'group A', 'some college', 'standard', 'completed', 78, 87, 91], ['female', 'group C', 'some high school', 'standard', 'none', 74, 75, 82], ['male', 'group A', 'high school', 'standard', 'none', 57, 51, 54], ['female', 'group C', \"associate's degree\", 'standard', 'none', 40, 59, 51], ['male', 'group E', 'some high school', 'standard', 'completed', 81, 75, 76], ['female', 'group A', 'some high school', 'free/reduced', 'none', 44, 45, 45], ['female', 'group D', 'some college', 'free/reduced', 'completed', 67, 86, 83], ['male', 'group E', 'high school', 'free/reduced', 'completed', 86, 81, 75], ['female', 'group B', 'some high school', 'standard', 'completed', 65, 82, 78], ['female', 'group D', \"associate's degree\", 'free/reduced', 'none', 55, 76, 76], ['female', 'group D', \"bachelor's degree\", 'free/reduced', 'none', 62, 72, 74], ['male', 'group A', 'high school', 'standard', 'none', 63, 63, 62], ['female', 'group E', \"master's degree\", 'standard', 'completed', 88, 99, 95], ['male', 'group C', 'high school', 'free/reduced', 'none', 62, 55, 55], ['female', 'group C', 'high school', 'free/reduced', 'completed', 59, 71, 65], ['female', 'group D', 'some college', 'standard', 'completed', 68, 78, 77], ['female', 'group D', 'some college', 'free/reduced', 'none', 77, 86, 86]]\n"
     ]
    }
   ],
   "source": [
    "import re\n",
    "pattern = re.compile('\\d+')\n",
    "\n",
    "exams = []\n",
    "\n",
    "f = open('StudentsPerformance.csv')\n",
    "\n",
    "for line in f:\n",
    "    info = line.split(',')\n",
    "    if info[0] == '\"gender\"':\n",
    "        continue\n",
    "    else:\n",
    "        new_line = []\n",
    "        for item in info:\n",
    "            if pattern.search(item) != None:\n",
    "                new_line.append(int(pattern.search(item)[0]))\n",
    "            else:\n",
    "                new_line.append(item[1:-1])\n",
    "        exams.append(new_line)\n",
    "print(exams)"
   ]
  },
  {
   "cell_type": "code",
   "execution_count": 197,
   "metadata": {},
   "outputs": [
    {
     "name": "stdout",
     "output_type": "stream",
     "text": [
      "оценка выше 90 у 68 учеников\n",
      "Средний бал 6.479\n",
      "Сколько знает выше среднего 0.0\n"
     ]
    }
   ],
   "source": [
    "math = []\n",
    "above90=0\n",
    "\n",
    "f = open('StudentsPerformance.csv')\n",
    "\n",
    "for line in f:\n",
    "    info = line.split(',')\n",
    "    if info[0] == '\"gender\"':\n",
    "        continue\n",
    "    else:\n",
    "        #print(info[-1][1:-2])\n",
    "        mark = int(info[-1][1:-2])\n",
    "        if mark>90 and :\n",
    "            math.append(mark)\n",
    "print('оценка выше 90 у',len(math),'учеников')\n",
    "#math_avg = sum(math)/len(math)\n",
    "print('Средний бал',math_avg)\n",
    "above_avg = 0\n",
    "for mark in math:\n",
    "    if mark < math_avg:\n",
    "        above_avg += 1\n",
    "print('Сколько знает выше среднего',above_avg / 1000)"
   ]
  },
  {
   "cell_type": "code",
   "execution_count": 217,
   "metadata": {},
   "outputs": [
    {
     "name": "stdout",
     "output_type": "stream",
     "text": [
      "оценка выше 90 у 68 учеников\n",
      "86.76470588235294\n",
      "Средний бал 6.479\n",
      "Сколько знает выше среднего 0.0\n"
     ]
    }
   ],
   "source": [
    "math = []\n",
    "above90=0\n",
    "counter=0\n",
    "\n",
    "f = open('StudentsPerformance.csv')\n",
    "\n",
    "for line in f:\n",
    "    info = line.split(',')\n",
    "    #print(info[1])\n",
    "    if info[0] == '\"gender\"':\n",
    "        continue\n",
    "    else:\n",
    "        #print(info[-1][1:-2])\n",
    "        mark = int(info[-1][1:-2])\n",
    "        if mark>90:\n",
    "            math.append(mark)\n",
    "            if info[3][1:-1] == 'standard':\n",
    "                counter+=1\n",
    "                #print(info[3][1:-1])\n",
    "            \n",
    "print('оценка выше 90 у',len(math),'учеников')\n",
    "print(counter/len(math)*100)\n",
    "#math_avg = sum(math)/len(math)\n",
    "print('Средний бал',math_avg)\n",
    "above_avg = 0\n",
    "for mark in math:\n",
    "    if mark < math_avg:\n",
    "        above_avg += 1\n",
    "print('Сколько знает выше среднего',above_avg / 1000)"
   ]
  },
  {
   "cell_type": "code",
   "execution_count": 231,
   "metadata": {},
   "outputs": [
    {
     "name": "stdout",
     "output_type": "stream",
     "text": [
      "{'group B': 190, 'group C': 319, 'group A': 89, 'group D': 262, 'group E': 140}\n"
     ]
    }
   ],
   "source": [
    "students = {}\n",
    "\n",
    "f = open('StudentsPerformance.csv')\n",
    "\n",
    "for line in f:\n",
    "    info = line.split(',')\n",
    "    if info[0] == '\"gender\"':\n",
    "        continue\n",
    "    else:\n",
    "        ethnicity = info[1][1:-1]\n",
    "        parents = info[2][1:-1] \n",
    "        if ethnicity in students:\n",
    "            students[ethnicity] += 1\n",
    "        else:\n",
    "            students[ethnicity] = 1\n",
    "print(students)"
   ]
  },
  {
   "cell_type": "code",
   "execution_count": 258,
   "metadata": {},
   "outputs": [
    {
     "name": "stdout",
     "output_type": "stream",
     "text": [
      "174\n"
     ]
    }
   ],
   "source": [
    "students = {}\n",
    "\n",
    "f = open('StudentsPerformance.csv')\n",
    "\n",
    "for line in f:\n",
    "    info = line.split(',')\n",
    "    if info[0] == '\"gender\"':\n",
    "        continue\n",
    "    else:\n",
    "        gender = info[0][1:-1]\n",
    "        ethnicity = info[1][1:-1]\n",
    "        parents = info[2][1:-1]\n",
    "        lunch = info[3][1:-1]\n",
    "        course = info[-4][1:-1]\n",
    "        if gender in students:\n",
    "            if course in students[gender]:\n",
    "                students[gender][course] += 1\n",
    "            else:\n",
    "                students[gender][course] = 1\n",
    "        else:\n",
    "            students[gender] = {}\n",
    "            students[gender][course] = 1  \n",
    "print(students['male']['completed'])"
   ]
  },
  {
   "cell_type": "code",
   "execution_count": 267,
   "metadata": {},
   "outputs": [
    {
     "name": "stdout",
     "output_type": "stream",
     "text": [
      "117\n"
     ]
    }
   ],
   "source": [
    "students = {}\n",
    "\n",
    "f = open('StudentsPerformance.csv')\n",
    "\n",
    "for line in f:\n",
    "    info = line.split(',')\n",
    "    if info[0] == '\"gender\"':\n",
    "        continue\n",
    "    else:\n",
    "        gender = info[0][1:-1]\n",
    "        ethnicity = info[1][1:-1]\n",
    "        parents = info[2][1:-1]\n",
    "        lunch = info[3][1:-1]\n",
    "        course = info[-4][1:-1]\n",
    "        if ethnicity in students:\n",
    "            if course in students[ethnicity]:\n",
    "                students[ethnicity][course] += 1\n",
    "            else:\n",
    "                students[ethnicity][course] = 1\n",
    "        else:\n",
    "            students[ethnicity] = {}\n",
    "            students[ethnicity][course] = 1  \n",
    "print(students['group C']['completed'])"
   ]
  },
  {
   "cell_type": "code",
   "execution_count": 276,
   "metadata": {},
   "outputs": [
    {
     "name": "stdout",
     "output_type": "stream",
     "text": [
      "{'male': 2, 'female': 2}\n"
     ]
    }
   ],
   "source": [
    "students = {}\n",
    "\n",
    "f = open('StudentsPerformance.csv')\n",
    "\n",
    "for line in f:\n",
    "    info = line.split(',')\n",
    "    if info[0] == '\"gender\"':\n",
    "        continue\n",
    "    else:\n",
    "        gender = info[0][1:-1]\n",
    "        ethnicity = info[1][1:-1]\n",
    "        parents = info[2][1:-1]\n",
    "        lunch = info[3][1:-1]\n",
    "        course = info[-4][1:-1]\n",
    "        match = int(info[5][1:-1])\n",
    "        if(parents ==\"master's degree\" and match >90):\n",
    "            if gender in students:\n",
    "              #  if parents in students[gender]:\n",
    "                students[gender] += 1\n",
    "              #  else:\n",
    "              #      students[gender][parents] = 1\n",
    "            else:\n",
    "                students[gender] = 1\n",
    "                #students[gender][parents] = 1  \n",
    "print(students)"
   ]
  },
  {
   "cell_type": "code",
   "execution_count": 285,
   "metadata": {},
   "outputs": [
    {
     "name": "stdout",
     "output_type": "stream",
     "text": [
      "!тевирп\n"
     ]
    }
   ],
   "source": [
    "string = 'привет!'\n",
    "#for i range len(string)+1:\n",
    "#    print(i)\n",
    "print(string[::-1])\n"
   ]
  },
  {
   "cell_type": "code",
   "execution_count": 296,
   "metadata": {},
   "outputs": [
    {
     "name": "stdout",
     "output_type": "stream",
     "text": [
      "['2x2=4']\n"
     ]
    }
   ],
   "source": [
    "import re\n",
    "pattern = re.compile('\\d\\w\\d\\W\\d')\n",
    "secret = pattern.findall('2x2=4')\n",
    "print(secret)"
   ]
  },
  {
   "cell_type": "code",
   "execution_count": 317,
   "metadata": {},
   "outputs": [
    {
     "name": "stdout",
     "output_type": "stream",
     "text": [
      "Средний бал 97.85714285714286\n"
     ]
    }
   ],
   "source": [
    "math = []\n",
    "above90=0\n",
    "\n",
    "f = open('StudentsPerformance.csv')\n",
    "\n",
    "for line in f:\n",
    "    info = line.split(',')\n",
    "    if info[0] == '\"gender\"':\n",
    "        continue\n",
    "    else:\n",
    "        #print(info[6][1:-1])\n",
    "        reading = int(info[6][1:-1])\n",
    "        match = int(info[5][1:-1])\n",
    "        gender = info[0][1:-1]\n",
    "        if match == 100:\n",
    "            math.append(reading)\n",
    "#print('оценка выше 90 у',len(math),'учеников')\n",
    "math_avg = sum(math)/len(math)\n",
    "print('Средний бал',math_avg)\n",
    "above_avg = 0\n",
    "\n",
    "#for mark in math:\n",
    "#    if mark < math_avg:\n",
    "#        above_avg += 1\n",
    "#print('Сколько знает выше среднего',above_avg / 1000)"
   ]
  },
  {
   "cell_type": "code",
   "execution_count": 337,
   "metadata": {},
   "outputs": [
    {
     "name": "stdout",
     "output_type": "stream",
     "text": [
      "free/reduced\n",
      "free/reduced\n",
      "free/reduced\n",
      "free/reduced\n",
      "free/reduced\n",
      "free/reduced\n",
      "free/reduced\n",
      "free/reduced\n",
      "free/reduced\n",
      "free/reduced\n",
      "free/reduced\n",
      "free/reduced\n",
      "free/reduced\n",
      "free/reduced\n",
      "free/reduced\n",
      "free/reduced\n",
      "free/reduced\n",
      "free/reduced\n",
      "free/reduced\n",
      "free/reduced\n",
      "free/reduced\n",
      "free/reduced\n",
      "free/reduced\n",
      "free/reduced\n",
      "free/reduced\n",
      "free/reduced\n",
      "free/reduced\n",
      "free/reduced\n",
      "free/reduced\n",
      "free/reduced\n",
      "free/reduced\n",
      "free/reduced\n",
      "free/reduced\n",
      "free/reduced\n",
      "free/reduced\n",
      "free/reduced\n",
      "free/reduced\n",
      "free/reduced\n",
      "free/reduced\n",
      "free/reduced\n",
      "free/reduced\n",
      "free/reduced\n",
      "free/reduced\n",
      "free/reduced\n",
      "free/reduced\n",
      "free/reduced\n",
      "free/reduced\n",
      "free/reduced\n",
      "free/reduced\n",
      "free/reduced\n",
      "free/reduced\n",
      "free/reduced\n",
      "free/reduced\n",
      "free/reduced\n",
      "free/reduced\n",
      "free/reduced\n",
      "free/reduced\n",
      "free/reduced\n",
      "free/reduced\n",
      "free/reduced\n",
      "free/reduced\n",
      "free/reduced\n",
      "free/reduced\n",
      "free/reduced\n",
      "free/reduced\n",
      "free/reduced\n",
      "free/reduced\n",
      "free/reduced\n",
      "free/reduced\n",
      "free/reduced\n",
      "free/reduced\n",
      "free/reduced\n",
      "free/reduced\n",
      "free/reduced\n",
      "free/reduced\n",
      "free/reduced\n",
      "free/reduced\n",
      "free/reduced\n",
      "free/reduced\n",
      "free/reduced\n",
      "free/reduced\n",
      "free/reduced\n",
      "free/reduced\n",
      "free/reduced\n",
      "free/reduced\n",
      "free/reduced\n",
      "free/reduced\n",
      "free/reduced\n",
      "free/reduced\n",
      "free/reduced\n",
      "free/reduced\n",
      "free/reduced\n",
      "free/reduced\n",
      "free/reduced\n",
      "free/reduced\n",
      "free/reduced\n",
      "free/reduced\n",
      "free/reduced\n",
      "free/reduced\n",
      "free/reduced\n",
      "free/reduced\n",
      "free/reduced\n",
      "free/reduced\n",
      "free/reduced\n",
      "free/reduced\n",
      "free/reduced\n",
      "free/reduced\n",
      "free/reduced\n",
      "free/reduced\n",
      "free/reduced\n",
      "free/reduced\n",
      "free/reduced\n",
      "free/reduced\n",
      "free/reduced\n",
      "free/reduced\n",
      "free/reduced\n",
      "free/reduced\n",
      "free/reduced\n",
      "free/reduced\n",
      "free/reduced\n",
      "free/reduced\n",
      "free/reduced\n",
      "free/reduced\n",
      "free/reduced\n",
      "free/reduced\n",
      "free/reduced\n",
      "free/reduced\n",
      "free/reduced\n",
      "free/reduced\n",
      "free/reduced\n",
      "free/reduced\n",
      "free/reduced\n",
      "free/reduced\n",
      "free/reduced\n",
      "free/reduced\n",
      "free/reduced\n",
      "free/reduced\n",
      "free/reduced\n",
      "free/reduced\n",
      "free/reduced\n",
      "free/reduced\n",
      "free/reduced\n",
      "free/reduced\n",
      "free/reduced\n",
      "free/reduced\n",
      "free/reduced\n",
      "free/reduced\n",
      "free/reduced\n",
      "free/reduced\n",
      "free/reduced\n",
      "free/reduced\n",
      "free/reduced\n",
      "free/reduced\n",
      "free/reduced\n",
      "free/reduced\n",
      "free/reduced\n",
      "free/reduced\n",
      "free/reduced\n",
      "free/reduced\n",
      "free/reduced\n",
      "free/reduced\n",
      "free/reduced\n",
      "free/reduced\n",
      "free/reduced\n",
      "free/reduced\n",
      "free/reduced\n",
      "free/reduced\n",
      "free/reduced\n",
      "free/reduced\n",
      "free/reduced\n",
      "free/reduced\n",
      "free/reduced\n",
      "free/reduced\n",
      "free/reduced\n",
      "free/reduced\n",
      "free/reduced\n",
      "free/reduced\n",
      "free/reduced\n",
      "free/reduced\n",
      "free/reduced\n",
      "free/reduced\n",
      "free/reduced\n",
      "free/reduced\n",
      "free/reduced\n",
      "free/reduced\n",
      "free/reduced\n",
      "free/reduced\n",
      "free/reduced\n",
      "free/reduced\n",
      "free/reduced\n",
      "free/reduced\n",
      "free/reduced\n",
      "free/reduced\n",
      "free/reduced\n",
      "free/reduced\n",
      "free/reduced\n",
      "free/reduced\n",
      "free/reduced\n",
      "free/reduced\n",
      "free/reduced\n",
      "free/reduced\n",
      "free/reduced\n",
      "free/reduced\n",
      "free/reduced\n",
      "free/reduced\n",
      "free/reduced\n",
      "free/reduced\n",
      "free/reduced\n",
      "free/reduced\n",
      "free/reduced\n",
      "free/reduced\n",
      "free/reduced\n",
      "free/reduced\n",
      "free/reduced\n",
      "free/reduced\n",
      "free/reduced\n",
      "free/reduced\n",
      "free/reduced\n",
      "free/reduced\n",
      "free/reduced\n",
      "free/reduced\n",
      "free/reduced\n",
      "free/reduced\n",
      "free/reduced\n",
      "free/reduced\n",
      "free/reduced\n",
      "free/reduced\n",
      "free/reduced\n",
      "free/reduced\n",
      "free/reduced\n",
      "free/reduced\n",
      "free/reduced\n",
      "free/reduced\n",
      "free/reduced\n",
      "free/reduced\n",
      "free/reduced\n",
      "free/reduced\n",
      "free/reduced\n",
      "free/reduced\n",
      "free/reduced\n",
      "free/reduced\n",
      "free/reduced\n",
      "free/reduced\n",
      "free/reduced\n",
      "free/reduced\n",
      "free/reduced\n",
      "free/reduced\n",
      "free/reduced\n",
      "free/reduced\n",
      "free/reduced\n",
      "free/reduced\n",
      "free/reduced\n",
      "free/reduced\n",
      "free/reduced\n",
      "free/reduced\n",
      "free/reduced\n",
      "free/reduced\n",
      "free/reduced\n",
      "free/reduced\n",
      "free/reduced\n",
      "free/reduced\n",
      "free/reduced\n",
      "free/reduced\n",
      "free/reduced\n",
      "free/reduced\n",
      "free/reduced\n",
      "free/reduced\n",
      "free/reduced\n",
      "free/reduced\n",
      "free/reduced\n",
      "free/reduced\n",
      "free/reduced\n",
      "free/reduced\n",
      "free/reduced\n",
      "free/reduced\n",
      "free/reduced\n",
      "free/reduced\n",
      "free/reduced\n",
      "free/reduced\n",
      "free/reduced\n",
      "free/reduced\n",
      "free/reduced\n",
      "free/reduced\n",
      "free/reduced\n",
      "free/reduced\n",
      "free/reduced\n",
      "free/reduced\n",
      "free/reduced\n",
      "free/reduced\n",
      "free/reduced\n",
      "free/reduced\n",
      "free/reduced\n",
      "free/reduced\n",
      "free/reduced\n",
      "free/reduced\n",
      "free/reduced\n",
      "free/reduced\n",
      "free/reduced\n",
      "free/reduced\n",
      "free/reduced\n",
      "free/reduced\n",
      "free/reduced\n",
      "free/reduced\n",
      "free/reduced\n",
      "free/reduced\n",
      "free/reduced\n",
      "free/reduced\n",
      "free/reduced\n",
      "free/reduced\n",
      "free/reduced\n",
      "free/reduced\n",
      "free/reduced\n",
      "free/reduced\n",
      "free/reduced\n",
      "free/reduced\n",
      "free/reduced\n",
      "free/reduced\n",
      "free/reduced\n",
      "free/reduced\n",
      "free/reduced\n",
      "free/reduced\n",
      "free/reduced\n",
      "free/reduced\n",
      "free/reduced\n",
      "free/reduced\n",
      "free/reduced\n",
      "free/reduced\n",
      "free/reduced\n",
      "free/reduced\n",
      "free/reduced\n",
      "free/reduced\n",
      "free/reduced\n",
      "free/reduced\n",
      "free/reduced\n",
      "free/reduced\n",
      "free/reduced\n",
      "free/reduced\n",
      "free/reduced\n",
      "free/reduced\n",
      "free/reduced\n",
      "free/reduced\n",
      "free/reduced\n",
      "free/reduced\n",
      "free/reduced\n",
      "free/reduced\n",
      "free/reduced\n",
      "free/reduced\n",
      "free/reduced\n",
      "free/reduced\n",
      "free/reduced\n",
      "free/reduced\n",
      "free/reduced\n",
      "free/reduced\n",
      "free/reduced\n",
      "free/reduced\n",
      "Средний бал 63.02253521126761\n"
     ]
    }
   ],
   "source": [
    "math = []\n",
    "above90=0\n",
    "\n",
    "f = open('StudentsPerformance.csv')\n",
    "\n",
    "for line in f:\n",
    "    info = line.split(',')\n",
    "    if info[0] == '\"gender\"':\n",
    "        continue\n",
    "    else:\n",
    "        #print(info[6][1:-1])\n",
    "        reading = int(info[6][1:-1])\n",
    "        match = int(info[5][1:-1])\n",
    "        gender = info[0][1:-1]\n",
    "        writh = int(info[7][1:-2])\n",
    "        lunch = info[3][1:-1]\n",
    "        #print(lunch)\n",
    "        if lunch == 'free/reduced':\n",
    "            math.append(writh)\n",
    "            print(lunch)\n",
    "#print('оценка выше 90 у',len(math),'учеников')\n",
    "#print(math)\n",
    "math_avg = sum(math)/len(math)\n",
    "print('Средний бал',math_avg)\n",
    "#above_avg = 0\n",
    "\n",
    "#for mark in math:\n",
    "#    if mark < math_avg:\n",
    "#        above_avg += 1\n",
    "#print('Сколько знает выше среднего',above_avg / 1000)"
   ]
  },
  {
   "cell_type": "code",
   "execution_count": 345,
   "metadata": {},
   "outputs": [
    {
     "data": {
      "text/plain": [
       "<reversed at 0x23c75bfac48>"
      ]
     },
     "execution_count": 345,
     "metadata": {},
     "output_type": "execute_result"
    }
   ],
   "source": [
    "string='привет!'\n",
    "reversed('12345')"
   ]
  },
  {
   "cell_type": "code",
   "execution_count": 347,
   "metadata": {},
   "outputs": [
    {
     "name": "stdout",
     "output_type": "stream",
     "text": [
      "115\n"
     ]
    }
   ],
   "source": [
    "# Дополните аргументы и код функции\n",
    "def sum_2(x, y):\n",
    "    result = x+y\n",
    "    return result\n",
    "\n",
    "# Передайте аргументы 42 и 73 в функцию\n",
    "print(sum_2(42, 73))"
   ]
  },
  {
   "cell_type": "code",
   "execution_count": 351,
   "metadata": {},
   "outputs": [
    {
     "name": "stdout",
     "output_type": "stream",
     "text": [
      "3\n"
     ]
    }
   ],
   "source": [
    "def get_median(i):\n",
    "    i.sort()\n",
    "    if len(i)%2==1:\n",
    "        return i[int(len(i)//2)]\n",
    "    else:\n",
    "        return(i[len(i)//2-1]+i[len(i)//2])/2\n",
    "print(get_median([5,2,1,3,4]))"
   ]
  },
  {
   "cell_type": "code",
   "execution_count": 375,
   "metadata": {},
   "outputs": [
    {
     "name": "stdout",
     "output_type": "stream",
     "text": [
      "3\n",
      "7.5\n"
     ]
    }
   ],
   "source": [
    "i=[1, 3, 5, 10, 12, 98]\n",
    "med=0\n",
    "i.sort()\n",
    "if len(i)%2==1:\n",
    "    med= i[int(len(i)//2)]\n",
    "    #print(len(i)//2)\n",
    "else:\n",
    "    med=(i[len(i)//2-1]+i[len(i)//2])/2\n",
    "    print(len(i)//2)\n",
    "print(med)"
   ]
  },
  {
   "cell_type": "code",
   "execution_count": 498,
   "metadata": {},
   "outputs": [
    {
     "name": "stdout",
     "output_type": "stream",
     "text": [
      "[12, 30, 45]\n",
      "29.0\n"
     ]
    }
   ],
   "source": [
    "user_db = [{'orders': 12}, {'orders': 30}, {'orders': 45}]\n",
    "\n",
    "# перепишите эту часть\n",
    "print([l['orders'] for l in user_db])\n",
    "\n",
    "order_sum = sum([user['orders'] for user in user_db])\n",
    "\n",
    "orders_per_user = order_sum/len(user_db)\n",
    "print(orders_per_user)"
   ]
  },
  {
   "cell_type": "code",
   "execution_count": 391,
   "metadata": {},
   "outputs": [
    {
     "name": "stdout",
     "output_type": "stream",
     "text": [
      "29.0\n"
     ]
    }
   ],
   "source": [
    "user_db = [{'orders': 12}, {'orders': 30}, {'orders': 45}]\n",
    "\n",
    "\n",
    "def avg_orders(orders):\n",
    "    order_sum = sum([user['orders'] for user in user_db])\n",
    "    return order_sum/len(user_db)\n",
    "\n",
    "\n",
    "print(avg_orders(user_db))"
   ]
  },
  {
   "cell_type": "code",
   "execution_count": 421,
   "metadata": {},
   "outputs": [
    {
     "name": "stdout",
     "output_type": "stream",
     "text": [
      "87\n"
     ]
    }
   ],
   "source": [
    "user_db = [{'orders': 12}, {'orders': 30}, {'orders': 45}]\n",
    "lap=[]\n",
    "for user in user_db:\n",
    "    lap.append(user['orders'])\n",
    "print(sum(lap))\n"
   ]
  },
  {
   "cell_type": "code",
   "execution_count": 458,
   "metadata": {},
   "outputs": [
    {
     "ename": "TypeError",
     "evalue": "unsupported operand type(s) for /: 'int' and 'NoneType'",
     "output_type": "error",
     "traceback": [
      "\u001b[1;31m---------------------------------------------------------------------------\u001b[0m",
      "\u001b[1;31mTypeError\u001b[0m                                 Traceback (most recent call last)",
      "\u001b[1;32m<ipython-input-458-3198ba60a5b8>\u001b[0m in \u001b[0;36m<module>\u001b[1;34m\u001b[0m\n\u001b[0;32m     10\u001b[0m     \u001b[1;32mreturn\u001b[0m \u001b[1;34m'€'\u001b[0m \u001b[1;33m+\u001b[0m \u001b[0mstr\u001b[0m\u001b[1;33m(\u001b[0m\u001b[0mrounded\u001b[0m\u001b[1;33m)\u001b[0m\u001b[1;33m\u001b[0m\u001b[1;33m\u001b[0m\u001b[0m\n\u001b[0;32m     11\u001b[0m \u001b[1;33m\u001b[0m\u001b[0m\n\u001b[1;32m---> 12\u001b[1;33m \u001b[0mprint\u001b[0m\u001b[1;33m(\u001b[0m\u001b[0mto_euro\u001b[0m\u001b[1;33m(\u001b[0m\u001b[1;36m1\u001b[0m\u001b[1;33m)\u001b[0m\u001b[1;33m)\u001b[0m\u001b[1;33m\u001b[0m\u001b[1;33m\u001b[0m\u001b[0m\n\u001b[0m\u001b[0;32m     13\u001b[0m \u001b[1;33m\u001b[0m\u001b[0m\n",
      "\u001b[1;32m<ipython-input-458-3198ba60a5b8>\u001b[0m in \u001b[0;36mto_euro\u001b[1;34m(price)\u001b[0m\n\u001b[0;32m      6\u001b[0m \u001b[1;32mdef\u001b[0m \u001b[0mto_euro\u001b[0m\u001b[1;33m(\u001b[0m\u001b[0mprice\u001b[0m\u001b[1;33m)\u001b[0m\u001b[1;33m:\u001b[0m\u001b[1;33m\u001b[0m\u001b[1;33m\u001b[0m\u001b[0m\n\u001b[0;32m      7\u001b[0m     \u001b[0mexchange_rate\u001b[0m \u001b[1;33m=\u001b[0m \u001b[0mget_euro_rate\u001b[0m\u001b[1;33m(\u001b[0m\u001b[1;33m)\u001b[0m\u001b[1;33m\u001b[0m\u001b[1;33m\u001b[0m\u001b[0m\n\u001b[1;32m----> 8\u001b[1;33m     \u001b[0mrounded\u001b[0m \u001b[1;33m=\u001b[0m \u001b[0mround\u001b[0m\u001b[1;33m(\u001b[0m\u001b[0mprice\u001b[0m\u001b[1;33m/\u001b[0m\u001b[0mexchange_rate\u001b[0m\u001b[1;33m,\u001b[0m \u001b[1;36m2\u001b[0m\u001b[1;33m)\u001b[0m\u001b[1;33m\u001b[0m\u001b[1;33m\u001b[0m\u001b[0m\n\u001b[0m\u001b[0;32m      9\u001b[0m     \u001b[0mprint\u001b[0m\u001b[1;33m(\u001b[0m\u001b[0mexchange_rate\u001b[0m\u001b[1;33m)\u001b[0m\u001b[1;33m\u001b[0m\u001b[1;33m\u001b[0m\u001b[0m\n\u001b[0;32m     10\u001b[0m     \u001b[1;32mreturn\u001b[0m \u001b[1;34m'€'\u001b[0m \u001b[1;33m+\u001b[0m \u001b[0mstr\u001b[0m\u001b[1;33m(\u001b[0m\u001b[0mrounded\u001b[0m\u001b[1;33m)\u001b[0m\u001b[1;33m\u001b[0m\u001b[1;33m\u001b[0m\u001b[0m\n",
      "\u001b[1;31mTypeError\u001b[0m: unsupported operand type(s) for /: 'int' and 'NoneType'"
     ]
    }
   ],
   "source": [
    "# добавьте функцию get_euro_rate\n",
    "def get_euro_rate():\n",
    "    from random import random\n",
    "    random()*20+65\n",
    "\n",
    "def to_euro(price):  \n",
    "    exchange_rate = get_euro_rate(price)\n",
    "    rounded = round(price/exchange_rate, 2) \n",
    "    print(exchange_rate)\n",
    "    return '€' + str(rounded)  \n",
    "\n",
    "print(to_euro(1))\n",
    "\n"
   ]
  },
  {
   "cell_type": "code",
   "execution_count": 459,
   "metadata": {},
   "outputs": [
    {
     "name": "stdout",
     "output_type": "stream",
     "text": [
      "6.701374973669207\n"
     ]
    }
   ],
   "source": [
    "from random import random\n",
    "print(random()*20)"
   ]
  },
  {
   "cell_type": "code",
   "execution_count": 483,
   "metadata": {},
   "outputs": [
    {
     "name": "stdout",
     "output_type": "stream",
     "text": [
      "36\n"
     ]
    }
   ],
   "source": [
    "all_the = sum\n",
    "magic = range\n",
    "print(all_the(magic(9)))"
   ]
  },
  {
   "cell_type": "code",
   "execution_count": 487,
   "metadata": {},
   "outputs": [
    {
     "data": {
      "text/plain": [
       "73"
      ]
     },
     "execution_count": 487,
     "metadata": {},
     "output_type": "execute_result"
    }
   ],
   "source": [
    "list(map(abs, [10,  -1, 42, -73]))[3]"
   ]
  },
  {
   "cell_type": "code",
   "execution_count": 499,
   "metadata": {},
   "outputs": [
    {
     "name": "stdout",
     "output_type": "stream",
     "text": [
      "Hello\n"
     ]
    }
   ],
   "source": [
    "# Определим функцию, которая печатает \"привет\"  \n",
    "def say_hello():  \n",
    "    print(\"Hello\")  \n",
    "  \n",
    "# Мы можем положить её в другую переменную  \n",
    "greetings = say_hello  \n",
    "  \n",
    "# И она сработает так же, как исходная say_hello  \n",
    "say_hello()"
   ]
  },
  {
   "cell_type": "code",
   "execution_count": 511,
   "metadata": {},
   "outputs": [
    {
     "name": "stdout",
     "output_type": "stream",
     "text": [
      "21\n",
      "10\n"
     ]
    }
   ],
   "source": [
    "all_the = sum\n",
    "magic = range\n",
    "print(sum(magic(7)))\n",
    "print(all_the(magic(5)))"
   ]
  },
  {
   "cell_type": "code",
   "execution_count": 521,
   "metadata": {},
   "outputs": [
    {
     "name": "stdout",
     "output_type": "stream",
     "text": [
      "<class 'list'>\n",
      "<class 'map'>\n"
     ]
    },
    {
     "data": {
      "text/plain": [
       "['Mr. Boris', 'Mr. Ivan', 'Mr. Bob']"
      ]
     },
     "execution_count": 521,
     "metadata": {},
     "output_type": "execute_result"
    }
   ],
   "source": [
    "# => Определим функцию polite_name, которая делает вежливым одно имя \n",
    "def polite_name(name):  \n",
    "    return 'Mr. ' + name   \n",
    "  \n",
    "guests = ['Boris', \"Ivan\", \"Bob\"]\n",
    "print(type(guests))\n",
    "guest_iterator = map(polite_name, guests)  # здесь мы применили polite_name к каждому имени  \n",
    "print(type(guest_iterator))\n",
    "list(guest_iterator)  # вывoд  "
   ]
  },
  {
   "cell_type": "code",
   "execution_count": 529,
   "metadata": {},
   "outputs": [
    {
     "name": "stdout",
     "output_type": "stream",
     "text": [
      "[3, 3, 4, 2, 3]\n"
     ]
    }
   ],
   "source": [
    "word_sizes = map(len, [\"all\", \"you\", \"need\", \"is\", \"map\"])\n",
    "print(list(word_sizes))"
   ]
  },
  {
   "cell_type": "code",
   "execution_count": 534,
   "metadata": {},
   "outputs": [
    {
     "name": "stdout",
     "output_type": "stream",
     "text": [
      "[-14, -10, -3, -2, 5, 24]\n"
     ]
    }
   ],
   "source": [
    "values = [4, 8, 15, 16, 23, 42]\n",
    "mean = 18\n",
    "\n",
    "result = list(map(lambda num: num-mean, values))\n",
    "print(result)"
   ]
  },
  {
   "cell_type": "code",
   "execution_count": 537,
   "metadata": {},
   "outputs": [
    {
     "name": "stdout",
     "output_type": "stream",
     "text": [
      "[23, 42]\n"
     ]
    }
   ],
   "source": [
    "values = [4, 8, 15, 16, 23, 42]\n",
    "mean = 18\n",
    "\n",
    "result = list(filter(lambda x: x>mean, values))\n",
    "print(result)"
   ]
  },
  {
   "cell_type": "code",
   "execution_count": 539,
   "metadata": {},
   "outputs": [
    {
     "name": "stdout",
     "output_type": "stream",
     "text": [
      "[1, 4, 9]\n"
     ]
    }
   ],
   "source": [
    "print([x**2 for x in [1, 2, 3]])  "
   ]
  },
  {
   "cell_type": "code",
   "execution_count": 574,
   "metadata": {},
   "outputs": [],
   "source": [
    "num=[10, 20, 30]\n",
    "\n",
    "def norm(numbers, mean=0):\n",
    "    ret = [int((numb-mean)/std) for nubm in numbers]\n",
    "    return ret\n",
    "\n",
    "    "
   ]
  },
  {
   "cell_type": "code",
   "execution_count": 578,
   "metadata": {},
   "outputs": [
    {
     "data": {
      "text/plain": [
       "6"
      ]
     },
     "execution_count": 578,
     "metadata": {},
     "output_type": "execute_result"
    }
   ],
   "source": [
    "def sum_args(*args):\n",
    "    sum=0\n",
    "    for i in args:\n",
    "        sum += i\n",
    "    return sum\n",
    "sum_args(1, 2, 3)"
   ]
  },
  {
   "cell_type": "code",
   "execution_count": 580,
   "metadata": {},
   "outputs": [
    {
     "name": "stdout",
     "output_type": "stream",
     "text": [
      "verbose mode\n"
     ]
    }
   ],
   "source": [
    "def show_keys(**kwargs):\n",
    "    print(' '.join(kwargs.keys()))\n",
    "\n",
    "show_keys(verbose=True, mode='constant')"
   ]
  },
  {
   "cell_type": "code",
   "execution_count": 596,
   "metadata": {},
   "outputs": [
    {
     "name": "stdout",
     "output_type": "stream",
     "text": [
      "п\n"
     ]
    }
   ],
   "source": [
    "strok = ('привет леха')\n",
    "strok.split(\" \")\n",
    "print(strok[0])"
   ]
  },
  {
   "cell_type": "code",
   "execution_count": 648,
   "metadata": {},
   "outputs": [
    {
     "name": "stdout",
     "output_type": "stream",
     "text": [
      "i\n"
     ]
    }
   ],
   "source": [
    "words = [\"sofa\", \"suitcase\", \"valise\", \"picture\", \"basket\", \"carton\", \"doggie\"]\n",
    "res = list(map(lambda w: sorted(w)[3], words))[1]\n",
    "print(res)"
   ]
  },
  {
   "cell_type": "code",
   "execution_count": 1,
   "metadata": {},
   "outputs": [
    {
     "data": {
      "text/plain": [
       "1          Январь\n",
       "2         Февраль\n",
       "Nhtnbq       Март\n",
       "4          Апрель\n",
       "dtype: object"
      ]
     },
     "metadata": {},
     "output_type": "display_data"
    },
    {
     "data": {
      "text/plain": [
       "Nhtnbq      Март\n",
       "4         Апрель\n",
       "dtype: object"
      ]
     },
     "execution_count": 1,
     "metadata": {},
     "output_type": "execute_result"
    }
   ],
   "source": [
    "import pandas as pd\n",
    "\n",
    "data = pd.Series([\"Январь\", \"Февраль\", \"Март\", \"Апрель\"],\n",
    "                 index = ['1', \"2\", \"Nhtnbq\", \"4\"])\n",
    "display(data)\n",
    "data.iloc[[2, 3]]\n",
    "#data[['1', \"3\"]]\n"
   ]
  },
  {
   "cell_type": "code",
   "execution_count": 55,
   "metadata": {},
   "outputs": [
    {
     "name": "stdout",
     "output_type": "stream",
     "text": [
      "tt1449283 63\n",
      "tt0283426 72\n",
      "tt0121164 77\n",
      "tt0443536 80\n",
      "tt0299172 76\n"
     ]
    }
   ],
   "source": [
    "f = open('data.csv')\n",
    "tt = ['tt0299172','tt0283426','tt1449283', 'tt0121164', 'tt0443536']\n",
    "aver =[]\n",
    "for line in f:\n",
    "    info = line.split(',')\n",
    "    for line2 in tt:\n",
    "        #print(line2)\n",
    "        if info[0] == line2:\n",
    "            print(info[0], info[-7])\n",
    "            \n",
    "    #print(info[-7])\n",
    "    #type(info)\n",
    "f.close()"
   ]
  },
  {
   "cell_type": "code",
   "execution_count": 20,
   "metadata": {},
   "outputs": [
    {
     "name": "stdout",
     "output_type": "stream",
     "text": [
      "tt2488496 2068178225\n",
      "tt2820852 1506249360\n",
      "tt2293640 1156730962\n",
      "tt0499549 2781505847\n",
      "tt0848228 1519557910\n"
     ]
    }
   ],
   "source": [
    "f = open('data.csv')\n",
    "tt = ['tt0848228','tt2293640','tt2488496', 'tt2820852', 'tt0499549']\n",
    "aver =[]\n",
    "for line in f:\n",
    "    info = line.split(',')\n",
    "    for line2 in tt:\n",
    "        #print(line2)\n",
    "        if info[0] == line2:\n",
    "            print(info[0], info[3])\n",
    "            \n",
    "    #print(line.split(',')[-7])\n",
    "    #aver.append(line.split(',')[-7])\n",
    "\n",
    "#print(aver)\n",
    "f.close()"
   ]
  },
  {
   "cell_type": "code",
   "execution_count": 117,
   "metadata": {},
   "outputs": [
    {
     "ename": "IndentationError",
     "evalue": "unexpected indent (<ipython-input-117-aa4c6642f239>, line 11)",
     "output_type": "error",
     "traceback": [
      "\u001b[1;36m  File \u001b[1;32m\"<ipython-input-117-aa4c6642f239>\"\u001b[1;36m, line \u001b[1;32m11\u001b[0m\n\u001b[1;33m    if info[0] == line2:\u001b[0m\n\u001b[1;37m    ^\u001b[0m\n\u001b[1;31mIndentationError\u001b[0m\u001b[1;31m:\u001b[0m unexpected indent\n"
     ]
    }
   ],
   "source": [
    "f = open('data.csv')\n",
    "tt = ['tt0134983','tt1032751','tt0424095', 'tt0180052', 'tt1210819']\n",
    "aver =[]\n",
    "budg = int()\n",
    "rev=int()\n",
    "cnt = int()\n",
    "for line in f:\n",
    "    info = line.split(',')\n",
    "    #or line2 in tt:\n",
    "        #print(line2)\n",
    "        if info[0] == line2:\n",
    "            rev = int(info[3])\n",
    "            budg = int(info[2])\n",
    "            print(info[0])\n",
    "            print(rev-budg)          \n",
    "    #print(line.split(',')[-7])\n",
    "    #aver.append(line.split(',')[-7])\n",
    "\n",
    "#print(aver)\n",
    "f.close()"
   ]
  },
  {
   "cell_type": "code",
   "execution_count": 42,
   "metadata": {},
   "outputs": [
    {
     "name": "stdout",
     "output_type": "stream",
     "text": [
      "1478\n"
     ]
    }
   ],
   "source": [
    "f = open('data.csv')\n",
    "tt = ['tt0134983','tt1032751','tt0424095', 'tt0180052', 'tt1210819']\n",
    "aver =[]\n",
    "budg = int()\n",
    "rev=int()\n",
    "cnt = int()\n",
    "for line in f:\n",
    "    info = line.split(',')\n",
    "    #for line2 in tt:\n",
    "        #print(line2)\n",
    "    if info[0] == 'imdb_id':\n",
    "        continue\n",
    "    \n",
    "    #print(info[3])\n",
    "    elif int(info[3])> int(info[2]) :\n",
    "        cnt+=1\n",
    "           # rev = int(info[3])\n",
    "           # budg = int(info[2])\n",
    "           # print(info[0])\n",
    "            #print(rev-budg)          \n",
    "    #print(line.split(',')[-7])\n",
    "    #aver.append(line.split(',')[-7])\n",
    "\n",
    "print(cnt)\n",
    "f.close()"
   ]
  },
  {
   "cell_type": "code",
   "execution_count": 77,
   "metadata": {},
   "outputs": [
    {
     "name": "stdout",
     "output_type": "stream",
     "text": [
      "tt0468569 1001921825\n",
      "tt0371746 585174222\n",
      "tt0441773 631744560\n",
      "tt0795421 609841637\n",
      "tt0479952 603900354\n",
      "0\n"
     ]
    }
   ],
   "source": [
    "f = open('data.csv')\n",
    "tt = ['tt0479952','tt0371746','tt0441773', 'tt0468569', 'tt0795421']\n",
    "\n",
    "import re\n",
    "#pattern = re.compile('\\d*/\\d*/2018')\n",
    "pattern = re.compile('\\..*/..*/2018*')\n",
    "\n",
    "aver =[]\n",
    "budg = int()\n",
    "rev=int()\n",
    "cnt = int()\n",
    "for line in f:\n",
    "    info = line.split(',')\n",
    "    #for line2 in tt:\n",
    "        #print(line2)\n",
    "    \n",
    "    info2=info[-4].split('/')\n",
    "    if info2[-1] == '2008':\n",
    "        #print(info[3])\n",
    "        for line2 in tt:\n",
    "            #print(line2)\n",
    "            if info[0] == line2:\n",
    "                print(info[0], info[3])\n",
    "        \n",
    "        \n",
    "    \n",
    "    \n",
    "    #if pattern.search(info[-4]) != None:\n",
    "    #    print(info[0])\n",
    "    #else:\n",
    "    #    print('не найдено')\n",
    "    \n",
    "    \n",
    "    \n",
    "    #if info[0] != 'imdb_id':\n",
    "    #    continue\n",
    "    \n",
    "    #print(info[3])\n",
    "    #elif int(info[3])> int(info[2]) :\n",
    "    #    cnt+=1\n",
    "           # rev = int(info[3])\n",
    "           # budg = int(info[2])\n",
    "           # print(info[0])\n",
    "            #print(rev-budg)          \n",
    "    #print(line.split(',')[-7])\n",
    "    #aver.append(line.split(',')[-7])\n",
    "\n",
    "print(cnt)\n",
    "f.close()"
   ]
  },
  {
   "cell_type": "code",
   "execution_count": 92,
   "metadata": {},
   "outputs": [
    {
     "name": "stdout",
     "output_type": "stream",
     "text": [
      "tt1837709 -29199769\n",
      "tt1374992 -51893525\n",
      "tt1656186 -32893443\n",
      "tt1210819 -165710090\n",
      "tt1235522 -36298836\n",
      "0\n"
     ]
    }
   ],
   "source": [
    "f = open('data.csv')\n",
    "tt = ['tt1837709','tt1656186','tt1235522', 'tt1374992', 'tt1210819']\n",
    "\n",
    "import re\n",
    "#pattern = re.compile('\\d*/\\d*/2018')\n",
    "pattern = re.compile('\\..*/..*/2018*')\n",
    "\n",
    "aver =[]\n",
    "budg = int()\n",
    "rev=int()\n",
    "cnt = int()\n",
    "info2=int()\n",
    "for line in f:\n",
    "    info = line.split(',')\n",
    "    #for line2 in tt:\n",
    "        #print(line2)\n",
    "    \n",
    "    info2=info[-4].split('/')\n",
    "    \n",
    "    if info2[-1] == '2012' or info2[-1] == '2013' or info2[-1] == '2014':\n",
    "        #print(info[3])\n",
    "        for line2 in tt:\n",
    "            #print(line2)\n",
    "            if info[0] == line2:\n",
    "                rev = int(info[3])\n",
    "                budg = int(info[2])\n",
    "                print(info[0], rev-budg)\n",
    "                #print(rev-budg)\n",
    "                #print(info[0], info[3]-info[2])\n",
    "        \n",
    "        \n",
    "    \n",
    "    \n",
    "    #if pattern.search(info[-4]) != None:\n",
    "    #    print(info[0])\n",
    "    #else:\n",
    "    #    print('не найдено')\n",
    "    \n",
    "    \n",
    "    \n",
    "    #if info[0] != 'imdb_id':\n",
    "    #    continue\n",
    "    \n",
    "    #print(info[3])\n",
    "    #elif int(info[3])> int(info[2]) :\n",
    "    #    cnt+=1\n",
    "           # rev = int(info[3])\n",
    "           # budg = int(info[2])\n",
    "           # print(info[0])\n",
    "            #print(rev-budg)          \n",
    "    #print(line.split(',')[-7])\n",
    "    #aver.append(line.split(',')[-7])\n",
    "\n",
    "print(cnt)\n",
    "f.close()"
   ]
  },
  {
   "cell_type": "code",
   "execution_count": 125,
   "metadata": {},
   "outputs": [
    {
     "ename": "TypeError",
     "evalue": "'int' object is not subscriptable",
     "output_type": "error",
     "traceback": [
      "\u001b[1;31m---------------------------------------------------------------------------\u001b[0m",
      "\u001b[1;31mTypeError\u001b[0m                                 Traceback (most recent call last)",
      "\u001b[1;32m<ipython-input-125-31c2228b333d>\u001b[0m in \u001b[0;36m<module>\u001b[1;34m\u001b[0m\n\u001b[0;32m     30\u001b[0m \u001b[0mc\u001b[0m \u001b[1;33m=\u001b[0m \u001b[0mcollections\u001b[0m\u001b[1;33m.\u001b[0m\u001b[0mCounter\u001b[0m\u001b[1;33m(\u001b[0m\u001b[1;33m)\u001b[0m\u001b[1;33m\u001b[0m\u001b[1;33m\u001b[0m\u001b[0m\n\u001b[0;32m     31\u001b[0m \u001b[1;32mfor\u001b[0m \u001b[0mcategory\u001b[0m \u001b[1;32min\u001b[0m \u001b[0mftst\u001b[0m\u001b[1;33m:\u001b[0m\u001b[1;33m\u001b[0m\u001b[1;33m\u001b[0m\u001b[0m\n\u001b[1;32m---> 32\u001b[1;33m     \u001b[0mc\u001b[0m\u001b[1;33m[\u001b[0m\u001b[0mcategory\u001b[0m\u001b[1;33m]\u001b[0m\u001b[1;33m[\u001b[0m\u001b[0minfo\u001b[0m\u001b[1;33m[\u001b[0m\u001b[1;36m0\u001b[0m\u001b[1;33m]\u001b[0m\u001b[1;33m]\u001b[0m \u001b[1;33m+=\u001b[0m \u001b[1;36m1\u001b[0m\u001b[1;33m\u001b[0m\u001b[1;33m\u001b[0m\u001b[0m\n\u001b[0m\u001b[0;32m     33\u001b[0m \u001b[0mprint\u001b[0m \u001b[1;33m(\u001b[0m\u001b[0mc\u001b[0m\u001b[1;33m)\u001b[0m\u001b[1;33m\u001b[0m\u001b[1;33m\u001b[0m\u001b[0m\n\u001b[0;32m     34\u001b[0m \u001b[1;33m\u001b[0m\u001b[0m\n",
      "\u001b[1;31mTypeError\u001b[0m: 'int' object is not subscriptable"
     ]
    }
   ],
   "source": [
    "f = open('data.csv')\n",
    "tt = ['tt1837709','tt1656186','tt1235522', 'tt1374992', 'tt1210819']\n",
    "\n",
    "import re\n",
    "#pattern = re.compile('\\d*/\\d*/2018')\n",
    "pattern = re.compile('\\..*/..*/2018*')\n",
    "\n",
    "aver =[]\n",
    "ftst=[]\n",
    "budg = int()\n",
    "rev=int()\n",
    "cnt = int()\n",
    "info2=int()\n",
    "for line in f:\n",
    "    info = line.split(',')\n",
    "    #for line2 in tt:\n",
    "        #print(line2)\n",
    "    if info[0] =='imdb_id':\n",
    "        continue\n",
    "    rev = int(info[3])\n",
    "    budg = int(info[2])\n",
    "    if (rev-budg)>=0:\n",
    "        \n",
    "        info2=info[6].split('|')\n",
    "    #ftst.append(info2)\n",
    "        for i in info2[0:]:\n",
    "            ftst.append(i)\n",
    "#rint(ftst)\n",
    "import collections\n",
    "c = collections.Counter()\n",
    "for category in ftst:\n",
    "    c[category]+= 1\n",
    "print (c)      \n",
    "    \n",
    "    \n",
    "   # if info2[-1] == '2012' or info2[-1] == '2013' or info2[-1] == '2014':\n",
    "     #   #print(info[3])\n",
    "     #   for line2 in tt:\n",
    "            #print(line2)\n",
    "      #      if info[0] == line2:\n",
    "        #        rev = int(info[3])\n",
    "        #        budg = int(info[2])\n",
    "        #        print(info[0], rev-budg)\n",
    "                #print(rev-budg)\n",
    "                #print(info[0], info[3]-info[2])\n",
    "     \n",
    "    #if pattern.search(info[-4]) != None:\n",
    "    #    print(info[0])\n",
    "    #else:\n",
    "    #    print('не найдено')\n",
    "    \n",
    "    #if info[0] != 'imdb_id':\n",
    "    #    continue\n",
    "   \n",
    "    #print(info[3])\n",
    "    #elif int(info[3])> int(info[2]) :\n",
    "    #    cnt+=1\n",
    "           # rev = int(info[3])\n",
    "           # budg = int(info[2])\n",
    "           # print(info[0])\n",
    "            #print(rev-budg)          \n",
    "    #print(line.split(',')[-7])\n",
    "    #aver.append(line.split(',')[-7])\n",
    "\n",
    "#rint(cnt)\n",
    "f.close()"
   ]
  },
  {
   "cell_type": "code",
   "execution_count": 291,
   "metadata": {},
   "outputs": [
    {
     "name": "stdout",
     "output_type": "stream",
     "text": [
      "Counter({'Warner Bros.': 12, 'Universal Pictures': 10, 'Twentieth Century Fox Film Corporation': 8, 'Paramount Pictures': 7, 'Columbia Pictures': 7, 'TSG Entertainment': 6, 'Legendary Pictures': 5, 'New Line Cinema': 5, 'RatPac-Dune Entertainment': 5, 'Blumhouse Productions': 5, 'Village Roadshow Pictures': 4, 'Regency Enterprises': 4, 'Walt Disney Pictures': 4, 'Studio Babelsberg': 4, 'Working Title Films': 4, 'Metro-Goldwyn-Mayer (MGM)': 4, 'Dentsu': 3, 'Summit Entertainment': 3, 'Media Rights Capital': 3, 'Scott Free Productions': 3, 'Film4': 3, 'Lionsgate': 3, 'Sony Pictures Entertainment (SPE)': 3, 'Fox 2000 Pictures': 3, 'Cross Creek Pictures': 3, 'Moving Picture Company (MPC)': 3, 'LStar Capital': 3, 'Amblin Entertainment': 2, 'Fuji Television Network': 2, 'NeoReel': 2, 'Bad Robot': 2, 'Original Film': 2, 'One Race Films': 2, 'Anonymous Content': 2, 'New Regency Pictures': 2, 'Skydance Productions': 2, 'Pixar Animation Studios': 2, 'Walt Disney Studios Motion Pictures': 2, 'Happy Madison Productions': 2, 'Marvel Studios': 2, 'Double Feature Films': 2, 'Canal+': 2, 'EuropaCorp': 2, 'Genre Films': 2, 'StudioCanal': 2, 'Escape Artists': 2, 'Marv Films': 2, 'Participant Media': 2, 'Temple Hill Entertainment': 2, 'A24': 2, 'Vertigo Entertainment': 2, 'Davis Entertainment': 2, 'Free State Pictures': 2, 'Feigco Entertainment': 2, 'Imagine Entertainment': 2, 'Entertainment One': 2, 'Sony Pictures': 2, 'Good Universe': 2, 'Groundswell Productions': 2, 'CBS Films': 2, 'Gary Sanchez Productions': 2, 'IM Global': 2, 'Screen Gems': 2, 'BBC Films': 2, 'Route One Films': 2, 'Universal Studios': 1, 'Kennedy Miller Productions': 1, 'Mandeville Films': 1, 'Red Wagon Entertainment': 1, 'Lucasfilm': 1, 'Truenorth Productions': 1, 'Appian Way': 1, 'CatchPlay': 1, 'Mid Atlantic Films': 1, 'International Traders': 1, 'Illumination Entertainment': 1, 'Danjaq': 1, 'B24': 1, 'Dune Entertainment': 1, 'Anarchos Productions': 1, 'DNA Films': 1, 'Universal Pictures International (UPI)': 1, 'Prime Focus': 1, 'Revolution Sun Studios': 1, 'The Weinstein Company': 1, 'FilmColony': 1, 'M6 Films': 1, 'CinГѓВ©+': 1, 'Beagle Pug Films': 1, 'Allison Shearmur Productions': 1, 'Color Force': 1, 'Babieka': 1, 'A113': 1, 'Riche-Ludwig Productions': 1, 'Flynn Picture Company': 1, 'Focus Features': 1, 'Trigger Street Productions': 1, 'Michael De Luca Productions': 1, 'Plan B Entertainment': 1, 'China Movie Channel': 1, 'TC Productions': 1, 'Fuzzy Door Productions': 1, 'Cloudy Productions': 1, 'Open Road Films': 1, 'Rocklin / Faust': 1, 'Entertainment One Features': 1, 'Gotham Group': 1, 'Alpha Core': 1, 'Gold Circle Films': 1, 'Brownstone Productions': 1, 'DreamWorks SKG': 1, 'Marc Platt Productions': 1, 'Scholastic Entertainment': 1, 'Element Pictures': 1, 'No Trace Camping': 1, 'Duperele Films': 1, 'Buena Vista': 1, 'Energy Entertainment': 1, 'Wildgaze Films': 1, 'Irish Film Board': 1, 'Item 7': 1, 'Parallel Film Productions': 1, 'Cube Vision': 1, 'Broken Chair Flickz': 1, 'Atmosphere Entertainment MM': 1, 'Goldmann Pictures': 1, 'Wigram Productions': 1, 'Lakeshore Entertainment': 1, 'Sidney Kimmel Entertainment': 1, 'Sierra/Affinity': 1, 'Bazelevs Production': 1, 'Versus Pictures': 1, 'DreamWorks Animation': 1, 'Killer Films': 1, 'Number 9 Films': 1, 'Waverly Films': 1, 'Walden Media': 1, 'Alcon Entertainment': 1, 'DMG Entertainment': 1, 'Ehman Productions': 1, 'PeaPie Films': 1, '3 Arts Entertainment': 1, 'Endgame Entertainment': 1, 'Ram Bergman Productions': 1, 'Mad Chance': 1, 'OddLot Entertainment': 1, 'Huayi Brothers Media': 1, 'Pretty Pictures': 1, 'ArtГѓВ©mis Productions': 1, 'Le Tax Shelter du Gouvernement FГѓВ©dГѓВ©ral de Belgique': 1, 'Taxshelter. be': 1, 'Forward Pass': 1, 'Thunder Road Pictures': 1, 'Black Label Media': 1, 'Marvel Entertainment': 1, 'Constantin Film.': 1, 'Chernin Entertainment': 1, 'Kramer & Sigman Films': 1, 'Zaftig Films': 1, 'Fox International Productions': 1, 'Infinite Frameworks Studios': 1, 'Spring Creek Productions': 1, 'Roth Films': 1, 'K. JAM Media': 1, 'Chartoff-Winkler Productions': 1, 'Apatow Productions': 1, 'Moonlighting Films': 1, 'Raindog Films': 1, 'Anton Capital Entertainment (ACE)': 1, 'Berlanti Productions': 1, 'Blue Sky Studios': 1, 'Twentieth Century Fox Animation': 1, 'The Cantillon Company': 1, 'The Shuman Company': 1, 'Point Grey Pictures': 1, 'Sony Pictures Animation': 1, 'TriStar Pictures': 1, 'Sony Pictures Entertainment': 1, 'ImageMovers': 1, 'BenderSpink': 1, 'David Dobkin Productions': 1, 'Ghost House Pictures': 1, 'Worldview Entertainment': 1, 'Blue-Tongue Films': 1, 'STX Entertainment': 1, 'Ahimsa Films': 1, 'Red Granite Pictures': 1, 'Onyx Films': 1, 'Orange Studios': 1, 'CityMation': 1, 'On Entertainment': 1, 'Zippcast Films': 1, 'Amazon Studios': 1, 'Film Art Media': 1, 'Apollo Media': 1, 'Wonderland Sound and Vision': 1, 'Vast Entertainment': 1, 'Alliance Films': 1, 'Automatik Entertainment': 1, 'Sony Pictures Releasing': 1, 'Sony Pictures Home Entertainment': 1, 'Closest to the Hole Productions': 1, 'Miramax Films': 1, 'Blinding Edge Pictures': 1, 'Infinitum Nihil': 1, 'Head Gear Films': 1, 'Bold Films': 1, 'Living Films': 1, 'Brothers Dowdle Productions': 1, 'Origin Pictures': 1, 'Little Stranger': 1, 'MTV Films': 1, 'Platinum Dunes': 1, 'Insurge Pictures': 1, 'Iron Horse Entertainment (II)': 1, 'Inimitable Pictures': 1, 'ShivHans Pictures': 1, 'Ingenious Media': 1, 'Gran Via Productions': 1, 'Nickelodeon Movies': 1, 'Nickelodeon Animation Studios': 1, 'United Plankton Pictures': 1, 'Disruption Entertainment': 1, 'Sunswept Entertainment': 1, 'Silver Pictures': 1, 'TF1 Films Production': 1, 'Instituto de la CinematografГѓВ\\xada y de las Artes Audiovisuales (ICAA)': 1, 'Pacific Standard': 1, 'TriStar Productions': 1, 'Columbia TriStar': 1, 'Clinica Estetico': 1, 'Scott Rudin Productions': 1, 'Ruby Films': 1, 'PathГѓВ©': 1, 'Metanoia Films': 1, 'Vinyl Films': 1, 'RatPac Entertainment': 1, 'Smokehouse Pictures': 1, 'Shangri-La Entertainment': 1, 'QED International': 1, 'Dune Films': 1, 'Venture Forth': 1, 'Wildwood Enterprises': 1, 'Treehouse Pictures': 1, 'Hasbro Studios': 1, 'Allspark Pictures': 1})\n"
     ]
    }
   ],
   "source": [
    "f = open('data.csv')\n",
    "tt = ['tt1837709','tt1656186','tt1235522', 'tt1374992', 'tt1210819']\n",
    "\n",
    "import re\n",
    "#pattern = re.compile('\\d*/\\d*/2018')\n",
    "pattern = re.compile('\\..*/..*/2018*')\n",
    "\n",
    "aver =[]\n",
    "ftst=[]\n",
    "budg = int()\n",
    "rev=int()\n",
    "cnt = int()\n",
    "info2=int()\n",
    "for line in f:\n",
    "    info = line.split(',')\n",
    "    #for line2 in tt:\n",
    "        #print(line2)\n",
    "    \n",
    "    year=info[-4].split('/')\n",
    "    if year[-1] == '2015':\n",
    "        info2=info[-5].split('|')\n",
    "    #ftst.append(info2)\n",
    "        for i in info2[0:]:\n",
    "            ftst.append(i)\n",
    "#rint(ftst)\n",
    "import collections\n",
    "c = collections.Counter()\n",
    "for category in ftst:\n",
    "    c[category] += 1\n",
    "print (c)      \n",
    "    \n",
    "    \n",
    "   # if info2[-1] == '2012' or info2[-1] == '2013' or info2[-1] == '2014':\n",
    "     #   #print(info[3])\n",
    "     #   for line2 in tt:\n",
    "            #print(line2)\n",
    "      #      if info[0] == line2:\n",
    "        #        rev = int(info[3])\n",
    "        #        budg = int(info[2])\n",
    "        #        print(info[0], rev-budg)\n",
    "                #print(rev-budg)\n",
    "                #print(info[0], info[3]-info[2])\n",
    "     \n",
    "    #if pattern.search(info[-4]) != None:\n",
    "    #    print(info[0])\n",
    "    #else:\n",
    "    #    print('не найдено')\n",
    "    \n",
    "    #if info[0] != 'imdb_id':\n",
    "    #    continue\n",
    "   \n",
    "    #print(info[3])\n",
    "    #elif int(info[3])> int(info[2]) :\n",
    "    #    cnt+=1\n",
    "           # rev = int(info[3])\n",
    "           # budg = int(info[2])\n",
    "           # print(info[0])\n",
    "            #print(rev-budg)          \n",
    "    #print(line.split(',')[-7])\n",
    "    #aver.append(line.split(',')[-7])\n",
    "\n",
    "#rint(cnt)\n",
    "f.close()"
   ]
  },
  {
   "cell_type": "code",
   "execution_count": 179,
   "metadata": {},
   "outputs": [
    {
     "name": "stdout",
     "output_type": "stream",
     "text": [
      "Johnny Depp\n",
      "Johnny Depp\n",
      "Johnny Depp\n",
      "Johnny Depp\n",
      "Johnny Depp\n",
      "Johnny Depp\n",
      "Johnny Depp\n",
      "Johnny Depp\n",
      "Johnny Depp\n",
      "Johnny Depp\n",
      "Johnny Depp\n",
      "Johnny Depp\n",
      "Emma Watson\n",
      "Johnny Depp\n",
      "Orlando Bloom\n",
      "Johnny Depp\n",
      "Orlando Bloom\n",
      "Johnny Depp\n",
      "Johnny Depp\n",
      "Johnny Depp\n",
      "Johnny Depp\n",
      "Johnny Depp\n",
      "{'Emma Watson': 4145732, 'Johnny Depp': 3620159345, 'Michelle Rodriguez': 0, 'Orlando Bloom': 76678047, 'Rupert Grint': 0}\n"
     ]
    }
   ],
   "source": [
    "f = open('data.csv')\n",
    "tt = ['Steven Spielberg','James Cameron','Christopher Nolan', 'David Yates', 'Peter Jackson']\n",
    "\n",
    "dir_dict={\n",
    "    'Emma Watson':0,\n",
    "    'Johnny Depp':0,\n",
    "    'Michelle Rodriguez':0,\n",
    "    'Orlando Bloom':0,\n",
    "    'Rupert Grint':0   \n",
    "}\n",
    "\n",
    "import re\n",
    "pattern = re.compile('\\..*/..*/2018*')\n",
    "\n",
    "prib = int()\n",
    "budg = int()\n",
    "rev=int()\n",
    "cnt = int()\n",
    "info2=str()\n",
    "for line in f:\n",
    "    info = line.split(',')\n",
    "    if info[0] =='imdb_id':\n",
    "        continue\n",
    "    prib = int(info[3])-int(info[2])\n",
    "    info2=info[5].split('|')\n",
    "    #print(info2[0])\n",
    "    for x in dir_dict:\n",
    "        if x == info2[0]:\n",
    "            print(info2[0])\n",
    "            dir_dict[info2[0]] = dir_dict[info2[0]]+prib\n",
    "        #else:\n",
    "        #    print(info2)\n",
    "print(dir_dict)\n",
    "f.close()"
   ]
  },
  {
   "cell_type": "code",
   "execution_count": 245,
   "metadata": {},
   "outputs": [
    {
     "name": "stdout",
     "output_type": "stream",
     "text": [
      "{'Warner Bros': 1691168351, 'Universal Pictures': 3830713235, 'Columbia Pictures': 1976582589, 'Paramount Pictures': 1918582400, 'Lucasfilm': 2068178225}\n"
     ]
    }
   ],
   "source": [
    "f = open('data.csv')\n",
    "tt = ['Steven Spielberg','James Cameron','Christopher Nolan', 'David Yates', 'Peter Jackson']\n",
    "\n",
    "dir_dict={\n",
    "    'Warner Bros':0,\n",
    "    'Universal Pictures':0,\n",
    "    'Columbia Pictures':0,\n",
    "    'Paramount Pictures':0,\n",
    "    'Lucasfilm':0   \n",
    "}\n",
    "\n",
    "import re\n",
    "pattern = re.compile('\\..*/..*/2018*')\n",
    "\n",
    "prib = int()\n",
    "budg = int()\n",
    "rev=int()\n",
    "cnt = int()\n",
    "info2=str()\n",
    "for line in f:\n",
    "    info = line.split(',')\n",
    "    if info[0] =='imdb_id':\n",
    "        continue\n",
    "    #year=info[-4].split('/')\n",
    "    #if year[-1] == '2012':\n",
    "    prib = int(info[3])#-int(info[2])\n",
    "    info2=info[-6].split('|')\n",
    "    #if 'Comedy' in info2:\n",
    "        #print(info2)\n",
    "        #print(info2[0])\n",
    "    year=info[-4].split('/')\n",
    "    if year[-1] == '2015':\n",
    "        for x in dir_dict:\n",
    "            #print(x)\n",
    "            if x in info[-5]:\n",
    "                #print(x)\n",
    "                #print(info2[0], info[0])\n",
    "                dir_dict[x] = dir_dict[x]+prib\n",
    "            #else:\n",
    "            #    print(info2)\n",
    "print(dir_dict)\n",
    "f.close()"
   ]
  },
  {
   "cell_type": "code",
   "execution_count": null,
   "metadata": {},
   "outputs": [],
   "source": [
    "f = open('data.csv')\n",
    "tt = ['1','2008','2012', '2002', '2015']\n",
    "\n",
    "dir_dict={\n",
    "    '1':0,\n",
    "    '2008':0,\n",
    "    '2012':0,\n",
    "    '2002':0,\n",
    "    '2015':0   \n",
    "}\n",
    "\n",
    "import re\n",
    "pattern = re.compile('\\..*/..*/2018*')\n",
    "\n",
    "prib = int()\n",
    "budg = int()\n",
    "rev=int()\n",
    "cnt = int()\n",
    "info2=str()\n",
    "\n",
    "for line in f:\n",
    "    info = line.split(',')\n",
    "    if info[0] =='imdb_id':\n",
    "        continue\n",
    "    year=info[-4].split('/')\n",
    "    #print(year)\n",
    "    #print(year[-3])\n",
    "    ftst.append(year[0])\n",
    "    print(ftst)\n",
    "import collections\n",
    "c = collections.Counter()\n",
    "for category in ftst:\n",
    "    c[category] += 1\n",
    "#print(c) \n",
    "#print(c.values())\n",
    "#print(dir_dict)\n",
    "f.close()"
   ]
  },
  {
   "cell_type": "code",
   "execution_count": null,
   "metadata": {},
   "outputs": [],
   "source": []
  }
 ],
 "metadata": {
  "kernelspec": {
   "display_name": "Python 3",
   "language": "python",
   "name": "python3"
  },
  "language_info": {
   "codemirror_mode": {
    "name": "ipython",
    "version": 3
   },
   "file_extension": ".py",
   "mimetype": "text/x-python",
   "name": "python",
   "nbconvert_exporter": "python",
   "pygments_lexer": "ipython3",
   "version": "3.7.6"
  }
 },
 "nbformat": 4,
 "nbformat_minor": 2
}
